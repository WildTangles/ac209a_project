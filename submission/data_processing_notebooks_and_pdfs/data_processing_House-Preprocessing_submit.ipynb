{
 "cells": [
  {
   "cell_type": "markdown",
   "metadata": {},
   "source": [
    "# Data Processing: House Preprocessing\n",
    "*Group 42: Manish Vuyyuru, Victor Sheng, Elise Penn, Yajaira Gonzalez*\n",
    "\n",
    "Processes the FEC data. Needs access to the files available on the team GitHub folder, which are too large and numerous to upload here. "
   ]
  },
  {
   "cell_type": "code",
   "execution_count": null,
   "metadata": {
    "scrolled": true
   },
   "outputs": [],
   "source": [
    "import pandas as pd\n",
    "import numpy as np\n",
    "from functions import houseFunctions as hfunc\n",
    "import pickle\n",
    "\n",
    "pd.set_option('display.max_rows', 500)\n",
    "pd.set_option('display.max_columns', 500)\n",
    "pd.set_option('display.width', 1000)"
   ]
  },
  {
   "cell_type": "code",
   "execution_count": 2,
   "metadata": {},
   "outputs": [],
   "source": [
    "houseResFile = \"Datasets/fec/1976-2016-house.csv\""
   ]
  },
  {
   "cell_type": "code",
   "execution_count": 3,
   "metadata": {
    "scrolled": false
   },
   "outputs": [],
   "source": [
    "winners_df, winners2_df  = hfunc.load_data(houseResFile, minYear=2002)\n",
    "winners_df, winners2_df = hfunc.clean_index(winners_df), hfunc.clean_index(winners2_df)\n",
    "#data = hfunc.fetch_trimmed_data(winners_df, winners2_df, minYear=2004)"
   ]
  },
  {
   "cell_type": "code",
   "execution_count": 4,
   "metadata": {},
   "outputs": [],
   "source": [
    "#data.head()"
   ]
  },
  {
   "cell_type": "code",
   "execution_count": 5,
   "metadata": {},
   "outputs": [],
   "source": [
    "#set(data['year'].values)"
   ]
  },
  {
   "cell_type": "code",
   "execution_count": 6,
   "metadata": {},
   "outputs": [
    {
     "data": {
      "text/html": [
       "<div>\n",
       "<style scoped>\n",
       "    .dataframe tbody tr th:only-of-type {\n",
       "        vertical-align: middle;\n",
       "    }\n",
       "\n",
       "    .dataframe tbody tr th {\n",
       "        vertical-align: top;\n",
       "    }\n",
       "\n",
       "    .dataframe thead th {\n",
       "        text-align: right;\n",
       "    }\n",
       "</style>\n",
       "<table border=\"1\" class=\"dataframe\">\n",
       "  <thead>\n",
       "    <tr style=\"text-align: right;\">\n",
       "      <th></th>\n",
       "      <th>location</th>\n",
       "      <th>representative</th>\n",
       "      <th>results</th>\n",
       "      <th>candidates</th>\n",
       "    </tr>\n",
       "  </thead>\n",
       "  <tbody>\n",
       "    <tr>\n",
       "      <th>0</th>\n",
       "      <td>Alabama 1</td>\n",
       "      <td>Bradley Byrne</td>\n",
       "      <td>Incumbent re-elected.</td>\n",
       "      <td>√ Bradley Byrne (Republican) 63.3%[64]</td>\n",
       "    </tr>\n",
       "    <tr>\n",
       "      <th>2</th>\n",
       "      <td>Alabama 2</td>\n",
       "      <td>Martha Roby</td>\n",
       "      <td>Incumbent re-elected.</td>\n",
       "      <td>√ Martha Roby (Republican) 61.5%[64]</td>\n",
       "    </tr>\n",
       "    <tr>\n",
       "      <th>4</th>\n",
       "      <td>Alabama 3</td>\n",
       "      <td>Mike Rogers</td>\n",
       "      <td>Incumbent re-elected.</td>\n",
       "      <td>√ Mike Rogers (Republican) 63.8%[64]</td>\n",
       "    </tr>\n",
       "    <tr>\n",
       "      <th>6</th>\n",
       "      <td>Alabama 4</td>\n",
       "      <td>Robert Aderholt</td>\n",
       "      <td>Incumbent re-elected.</td>\n",
       "      <td>√ Robert Aderholt (Republican) 79.9%[64]</td>\n",
       "    </tr>\n",
       "    <tr>\n",
       "      <th>8</th>\n",
       "      <td>Alabama 5</td>\n",
       "      <td>Mo Brooks</td>\n",
       "      <td>Incumbent re-elected.</td>\n",
       "      <td>√ Mo Brooks (Republican) 61.1%[64]</td>\n",
       "    </tr>\n",
       "  </tbody>\n",
       "</table>\n",
       "</div>"
      ],
      "text/plain": [
       "    location   representative                results                                candidates\n",
       "0  Alabama 1    Bradley Byrne  Incumbent re-elected.    √ Bradley Byrne (Republican) 63.3%[64]\n",
       "2  Alabama 2      Martha Roby  Incumbent re-elected.      √ Martha Roby (Republican) 61.5%[64]\n",
       "4  Alabama 3      Mike Rogers  Incumbent re-elected.      √ Mike Rogers (Republican) 63.8%[64]\n",
       "6  Alabama 4  Robert Aderholt  Incumbent re-elected.  √ Robert Aderholt (Republican) 79.9%[64]\n",
       "8  Alabama 5        Mo Brooks  Incumbent re-elected.        √ Mo Brooks (Republican) 61.1%[64]"
      ]
     },
     "execution_count": 6,
     "metadata": {},
     "output_type": "execute_result"
    }
   ],
   "source": [
    "houseResFile = \"Datasets/fec/2018wiki-12072018.csv\"\n",
    "wiki2018 = pd.read_csv(houseResFile, header=None)\n",
    "wiki2018.columns = ['location', 'PVI', 'representative', 'party', 'first_elected', 'results', 'candidates']\n",
    "wiki2018 = wiki2018[['location', 'representative', 'results', 'candidates']]\n",
    "wiki2018['location'] = wiki2018['location'].str.strip()\n",
    "\n",
    "wiki2018_clean = pd.DataFrame()\n",
    "wiki2018_tmp = wiki2018.copy()\n",
    "wiki2018_tmp['location'] = wiki2018_tmp['location'].fillna(method='ffill', inplace=False)\n",
    "for key, shard in wiki2018_tmp.groupby(['location']):\n",
    "    shard = shard.dropna(axis=0, subset=['candidates'])\n",
    "    shard = shard[shard['candidates'].str.contains('√')]\n",
    "    wiki2018_clean = wiki2018_clean.append(shard)\n",
    "wiki2018 = wiki2018_clean\n",
    "wiki2018_clean.head()"
   ]
  },
  {
   "cell_type": "code",
   "execution_count": 7,
   "metadata": {},
   "outputs": [
    {
     "data": {
      "text/html": [
       "<div>\n",
       "<style scoped>\n",
       "    .dataframe tbody tr th:only-of-type {\n",
       "        vertical-align: middle;\n",
       "    }\n",
       "\n",
       "    .dataframe tbody tr th {\n",
       "        vertical-align: top;\n",
       "    }\n",
       "\n",
       "    .dataframe thead th {\n",
       "        text-align: right;\n",
       "    }\n",
       "</style>\n",
       "<table border=\"1\" class=\"dataframe\">\n",
       "  <thead>\n",
       "    <tr style=\"text-align: right;\">\n",
       "      <th></th>\n",
       "      <th>location</th>\n",
       "      <th>representative</th>\n",
       "      <th>results</th>\n",
       "      <th>candidates</th>\n",
       "    </tr>\n",
       "  </thead>\n",
       "  <tbody>\n",
       "    <tr>\n",
       "      <th>1124</th>\n",
       "      <td>Washington 1</td>\n",
       "      <td>NaN</td>\n",
       "      <td>NaN</td>\n",
       "      <td>√ Suzan DelBene (Democratic)[208]</td>\n",
       "    </tr>\n",
       "    <tr>\n",
       "      <th>1143</th>\n",
       "      <td>Washington 10</td>\n",
       "      <td>NaN</td>\n",
       "      <td>NaN</td>\n",
       "      <td>√ Denny Heck (Democratic)[208]</td>\n",
       "    </tr>\n",
       "    <tr>\n",
       "      <th>1125</th>\n",
       "      <td>Washington 2</td>\n",
       "      <td>Rick Larsen</td>\n",
       "      <td>Incumbent re-elected.</td>\n",
       "      <td>√ Rick Larsen (Democratic)[208]</td>\n",
       "    </tr>\n",
       "    <tr>\n",
       "      <th>1127</th>\n",
       "      <td>Washington 3</td>\n",
       "      <td>Jaime Herrera Beutler</td>\n",
       "      <td>Incumbent re-elected.</td>\n",
       "      <td>√ Jaime Herrera Beutler (Republican)[208]</td>\n",
       "    </tr>\n",
       "    <tr>\n",
       "      <th>1130</th>\n",
       "      <td>Washington 4</td>\n",
       "      <td>NaN</td>\n",
       "      <td>NaN</td>\n",
       "      <td>√ Dan Newhouse (Republican)[208]</td>\n",
       "    </tr>\n",
       "    <tr>\n",
       "      <th>1132</th>\n",
       "      <td>Washington 5</td>\n",
       "      <td>NaN</td>\n",
       "      <td>NaN</td>\n",
       "      <td>√ Cathy McMorris Rodgers (Republican)[208]</td>\n",
       "    </tr>\n",
       "    <tr>\n",
       "      <th>1134</th>\n",
       "      <td>Washington 6</td>\n",
       "      <td>NaN</td>\n",
       "      <td>NaN</td>\n",
       "      <td>√ Derek Kilmer (Democratic)[208]</td>\n",
       "    </tr>\n",
       "    <tr>\n",
       "      <th>1135</th>\n",
       "      <td>Washington 7</td>\n",
       "      <td>Pramila Jayapal</td>\n",
       "      <td>Incumbent re-elected.</td>\n",
       "      <td>√ Pramila Jayapal (Democratic) 83.4%[208]</td>\n",
       "    </tr>\n",
       "    <tr>\n",
       "      <th>1138</th>\n",
       "      <td>Washington 8</td>\n",
       "      <td>NaN</td>\n",
       "      <td>New member elected.</td>\n",
       "      <td>√ Kim Schrier (Democratic)[208][209]</td>\n",
       "    </tr>\n",
       "    <tr>\n",
       "      <th>1140</th>\n",
       "      <td>Washington 9</td>\n",
       "      <td>Adam Smith</td>\n",
       "      <td>Incumbent re-elected.</td>\n",
       "      <td>√ Adam Smith (Democratic)[208]</td>\n",
       "    </tr>\n",
       "  </tbody>\n",
       "</table>\n",
       "</div>"
      ],
      "text/plain": [
       "           location         representative                results                                  candidates\n",
       "1124   Washington 1                    NaN                    NaN           √ Suzan DelBene (Democratic)[208]\n",
       "1143  Washington 10                    NaN                    NaN              √ Denny Heck (Democratic)[208]\n",
       "1125   Washington 2            Rick Larsen  Incumbent re-elected.             √ Rick Larsen (Democratic)[208]\n",
       "1127   Washington 3  Jaime Herrera Beutler  Incumbent re-elected.   √ Jaime Herrera Beutler (Republican)[208]\n",
       "1130   Washington 4                    NaN                    NaN            √ Dan Newhouse (Republican)[208]\n",
       "1132   Washington 5                    NaN                    NaN  √ Cathy McMorris Rodgers (Republican)[208]\n",
       "1134   Washington 6                    NaN                    NaN            √ Derek Kilmer (Democratic)[208]\n",
       "1135   Washington 7        Pramila Jayapal  Incumbent re-elected.   √ Pramila Jayapal (Democratic) 83.4%[208]\n",
       "1138   Washington 8                    NaN    New member elected.        √ Kim Schrier (Democratic)[208][209]\n",
       "1140   Washington 9             Adam Smith  Incumbent re-elected.              √ Adam Smith (Democratic)[208]"
      ]
     },
     "execution_count": 7,
     "metadata": {},
     "output_type": "execute_result"
    }
   ],
   "source": [
    "wiki2018[wiki2018['location'].str.contains('Washington')]"
   ]
  },
  {
   "cell_type": "code",
   "execution_count": 8,
   "metadata": {},
   "outputs": [],
   "source": [
    "state_names = np.array(['ALABAMA', 'ALASKA', 'ARIZONA', 'ARKANSAS',\n",
    "'CALIFORNIA',\n",
    "               'COLORADO', 'CONNECTICUT', 'DELAWARE', 'FLORIDA', 'GEORGIA',\n",
    "               'HAWAII', 'IDAHO', 'ILLINOIS', 'INDIANA', 'IOWA', 'KANSAS',\n",
    "               'KENTUCKY', 'LOUISIANA', 'MAINE', 'MARYLAND', 'MASSACHUSETTS',\n",
    "               'MICHIGAN', 'MINNESOTA', 'MISSISSIPPI', 'MISSOURI', 'MONTANA',\n",
    "               'NEBRASKA', 'NEVADA', 'NEW HAMPSHIRE', 'NEW JERSEY',\n",
    "'NEW MEXICO',\n",
    "               'NEW YORK', 'NORTH CAROLINA', 'NORTH DAKOTA', 'OHIO',\n",
    "'OKLAHOMA',\n",
    "               'OREGON', 'PENNSYLVANIA', 'RHODE ISLAND', 'SOUTH CAROLINA',\n",
    "               'SOUTH DAKOTA', 'TENNESSEE', 'TEXAS', 'UTAH', 'VERMONT',\n",
    "               'VIRGINIA', 'WASHINGTON', 'WEST VIRGINIA', 'WISCONSIN',\n",
    "'WYOMING'])\n",
    "\n",
    "state_abbrs = np.array(['AL','AK','AZ','AR','CA','CO','CT','DE','FL','GA','HI','ID','IL',\n",
    "              'IN','IA','KS','KY','LA','ME','MD','MA','MI','MN','MS','MO','MT',\n",
    "              'NE','NV','NH','NJ','NM','NY','NC','ND','OH','OK','OR','PA','RI',\n",
    "              'SC','SD','TN','TX','UT','VT','VA','WA','WV','WI','WY'])"
   ]
  },
  {
   "cell_type": "code",
   "execution_count": 9,
   "metadata": {},
   "outputs": [
    {
     "data": {
      "text/plain": [
       "(Index(['representative', 'results', 'candidates', 'district', 'state', 'year', 'party', 'candidatevotes', 'totalvotes', 'candidate'], dtype='object'),\n",
       " (434, 10))"
      ]
     },
     "execution_count": 9,
     "metadata": {},
     "output_type": "execute_result"
    }
   ],
   "source": [
    "def clean_location(row):\n",
    "    index_0_string = 'at-large'\n",
    "    if row['location'][-len(index_0_string):] == index_0_string:\n",
    "        row['district'] = 1\n",
    "        row['state'] = row['location'][:-len(index_0_string)].strip()\n",
    "    else:\n",
    "        index = None\n",
    "        for cursor, char in enumerate(row['location'][::-1]):\n",
    "            if not char.isnumeric():\n",
    "                index = cursor\n",
    "        row['district'] = row['location'][index-1:].strip()\n",
    "        row['state'] = row['location'][:index-1].strip()\n",
    "\n",
    "    row['state'] = state_abbrs[np.where(state_names == row['state'].upper())][0]\n",
    "    row['year'] = 2018\n",
    "    row['party'] = row['candidates'][row['candidates'].find('(')+1:row['candidates'].find(')')]\n",
    "    \n",
    "    row['candidatevotes'] = None\n",
    "    row['totalvotes'] = None\n",
    "    row['candidate'] = None\n",
    "    \n",
    "    return row\n",
    "wiki2018 = wiki2018.apply(clean_location, axis=1).drop('location', axis=1)\n",
    "wiki2018.columns, wiki2018.shape"
   ]
  },
  {
   "cell_type": "code",
   "execution_count": 19,
   "metadata": {},
   "outputs": [
    {
     "data": {
      "text/plain": [
       "True"
      ]
     },
     "execution_count": 19,
     "metadata": {},
     "output_type": "execute_result"
    }
   ],
   "source": [
    "wiki2018['candidate'].isnull().values.any()"
   ]
  },
  {
   "cell_type": "code",
   "execution_count": null,
   "metadata": {},
   "outputs": [],
   "source": [
    "wiki2018 = hfunc.clean_index(wiki2018, clean_before_build=False)"
   ]
  },
  {
   "cell_type": "code",
   "execution_count": null,
   "metadata": {},
   "outputs": [],
   "source": [
    "hfunc.fetch_index(winners_df, wiki2018, save=True, load=False)"
   ]
  },
  {
   "cell_type": "code",
   "execution_count": null,
   "metadata": {},
   "outputs": [],
   "source": [
    "winners_df.columns"
   ]
  },
  {
   "cell_type": "code",
   "execution_count": null,
   "metadata": {},
   "outputs": [],
   "source": [
    "wiki2018.columns, wiki2018.dtypes"
   ]
  },
  {
   "cell_type": "code",
   "execution_count": null,
   "metadata": {},
   "outputs": [],
   "source": [
    "wiki2018['party'] = wiki2018['party'].str.lower()\n",
    "wiki2018.loc[wiki2018['party'] == 'democratic', 'party'] = 'democrat'"
   ]
  },
  {
   "cell_type": "code",
   "execution_count": null,
   "metadata": {},
   "outputs": [],
   "source": [
    "common_cols = ['candidate', 'candidatevotes', 'district', 'party', 'state', 'totalvotes', 'year']\n",
    "winners_df = pd.concat([winners_df, wiki2018[common_cols]])\n",
    "winners2_df = pd.concat([winners2_df, wiki2018[common_cols]])\n",
    "\n",
    "data = hfunc.fetch_trimmed_data(winners_df, winners2_df, minYear=2004)"
   ]
  },
  {
   "cell_type": "code",
   "execution_count": null,
   "metadata": {},
   "outputs": [],
   "source": [
    "winners_df.dtypes"
   ]
  },
  {
   "cell_type": "code",
   "execution_count": null,
   "metadata": {},
   "outputs": [],
   "source": [
    "data.head()"
   ]
  },
  {
   "cell_type": "code",
   "execution_count": null,
   "metadata": {},
   "outputs": [],
   "source": [
    "data[(data.isnull().any(axis=1)) & (~data['year'] == 2018)]"
   ]
  },
  {
   "cell_type": "code",
   "execution_count": null,
   "metadata": {},
   "outputs": [],
   "source": [
    "pickle.dump(data, open('Datasets/data_FEC_NATIONALPOLL_2004_2018.p', 'wb'))\n",
    "data.to_csv('Datasets/data_FEC_NATIONALPOLL_2004_2018.csv')"
   ]
  },
  {
   "cell_type": "code",
   "execution_count": null,
   "metadata": {},
   "outputs": [],
   "source": [
    "set(data['year'].values)"
   ]
  },
  {
   "cell_type": "code",
   "execution_count": null,
   "metadata": {},
   "outputs": [],
   "source": [
    "import pandas as pd\n",
    "import numpy as np\n",
    "from functions import houseFunctions as hfunc\n",
    "import pickle\n",
    "dataset = pickle.load(open('Datasets/data.p', 'rb'))"
   ]
  },
  {
   "cell_type": "code",
   "execution_count": null,
   "metadata": {},
   "outputs": [],
   "source": [
    "dataset = dataset.loc[:,['dem_win', 'dem_win_prev', 'margin_signed_minus_prev', 'national_poll', 'year']]\n",
    "dataset.columns"
   ]
  },
  {
   "cell_type": "code",
   "execution_count": null,
   "metadata": {},
   "outputs": [],
   "source": [
    "# %reset"
   ]
  },
  {
   "cell_type": "code",
   "execution_count": null,
   "metadata": {},
   "outputs": [],
   "source": [
    "subset2018 = dataset[dataset['year'] == 2018]\n",
    "np.sum(subset2018['dem_win'] != subset2018['dem_win_prev']), np.sum(subset2018['dem_win']), np.sum(subset2018['dem_win_prev'])"
   ]
  },
  {
   "cell_type": "code",
   "execution_count": null,
   "metadata": {},
   "outputs": [],
   "source": []
  }
 ],
 "metadata": {
  "kernelspec": {
   "display_name": "APCOMP 209",
   "language": "python",
   "name": "cs209"
  },
  "language_info": {
   "codemirror_mode": {
    "name": "ipython",
    "version": 3
   },
   "file_extension": ".py",
   "mimetype": "text/x-python",
   "name": "python",
   "nbconvert_exporter": "python",
   "pygments_lexer": "ipython3",
   "version": "3.6.7"
  }
 },
 "nbformat": 4,
 "nbformat_minor": 2
}
