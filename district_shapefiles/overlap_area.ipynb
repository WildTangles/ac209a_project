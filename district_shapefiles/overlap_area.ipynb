{
 "cells": [
  {
   "cell_type": "code",
   "execution_count": 1,
   "metadata": {},
   "outputs": [],
   "source": [
    "import numpy as np\n",
    "import pickle\n",
    "import cartopy.io.shapereader as shpreader\n",
    "from cartopy.feature import ShapelyFeature\n",
    "from shapely.prepared import prep\n",
    "import matplotlib.pyplot as plt\n",
    "import cartopy.crs as ccrs\n",
    "import pandas as pd"
   ]
  },
  {
   "cell_type": "code",
   "execution_count": 2,
   "metadata": {},
   "outputs": [],
   "source": [
    "# some useful arrays to translate between naming conventions\n",
    "\n",
    "election_year_list = np.array([1992, 1994, 1996, 1998, 2000, 2002, 2004, 2006, 2008, 2010, 2012, \n",
    "                                   2014, 2016, 2018])\n",
    "congress_ID_list = np.array([103, 104, 105, 106, 107, 108, 109, 110, 111, 112, 113, 114, 115, 116])\n",
    "\n",
    "state_names = np.array(['ALABAMA', 'ALASKA', 'ARIZONA', 'ARKANSAS', 'CALIFORNIA', \n",
    "               'COLORADO', 'CONNECTICUT', 'DELAWARE', 'FLORIDA', 'GEORGIA', \n",
    "               'HAWAII', 'IDAHO', 'ILLINOIS', 'INDIANA', 'IOWA', 'KANSAS', \n",
    "               'KENTUCKY', 'LOUISIANA', 'MAINE', 'MARYLAND', 'MASSACHUSETTS', \n",
    "               'MICHIGAN', 'MINNESOTA', 'MISSISSIPPI', 'MISSOURI', 'MONTANA', \n",
    "               'NEBRASKA', 'NEVADA', 'NEW HAMPSHIRE', 'NEW JERSEY', 'NEW MEXICO', \n",
    "               'NEW YORK', 'NORTH CAROLINA', 'NORTH DAKOTA', 'OHIO', 'OKLAHOMA', \n",
    "               'OREGON', 'PENNSYLVANIA', 'RHODE ISLAND', 'SOUTH CAROLINA', \n",
    "               'SOUTH DAKOTA', 'TENNESSEE', 'TEXAS', 'UTAH', 'VERMONT', \n",
    "               'VIRGINIA', 'WASHINGTON', 'WEST VIRGINIA', 'WISCONSIN', 'WYOMING'])\n",
    "\n",
    "state_abbrs = np.array(['AL','AK','AZ','AR','CA','CO','CT','DE','FL','GA','HI','ID','IL',\n",
    "              'IN','IA','KS','KY','LA','ME','MD','MA','MI','MN','MS','MO','MT',\n",
    "              'NE','NV','NH','NJ','NM','NY','NC','ND','OH','OK','OR','PA','RI',\n",
    "              'SC','SD','TN','TX','UT','VT','VA','WA','WV','WI','WY'])"
   ]
  },
  {
   "cell_type": "code",
   "execution_count": 3,
   "metadata": {},
   "outputs": [],
   "source": [
    "# The proj.4 string:\n",
    "# +proj=longlat +ellps=GRS80 +towgs84=0,0,0,0,0,0,0 +no_defs"
   ]
  },
  {
   "cell_type": "code",
   "execution_count": 4,
   "metadata": {},
   "outputs": [],
   "source": [
    "year = 2014\n",
    "congress_ID = '114'\n",
    "shpfilename = 'districtShapes-{0}/districts{0}.shp'.format(congress_ID)"
   ]
  },
  {
   "cell_type": "code",
   "execution_count": 5,
   "metadata": {},
   "outputs": [],
   "source": [
    "def read_shapefiles(election_years,verbose=True):\n",
    "    # read in the standard dictionary \n",
    "    # todo: need a way to generalize the directory path\n",
    "    district_df = pickle.load(open('/Users/Elise/Desktop/ac209_final_project/ac209a_project/Datasets/master_index.p','rb'))\n",
    "    district_df['shape'] = [np.nan]*district_df.shape[0] # make a blank column\n",
    "    district_df['shape'] = district_df['shape'].astype(object) # reassign to object so it can hold shapely stuff\n",
    "\n",
    "    for election_year in election_years:\n",
    "        # convert election year to \"Nth Congress\" \n",
    "        congress_ID = congress_ID_list[election_year_list==election_year][0]\n",
    "\n",
    "        # read in the shapefile (must be named 'districtsN.shp' in a folder titled 'districtShapesN')\n",
    "        shpfilename = 'districtShapes-{0}/districts{0}.shp'.format(congress_ID)\n",
    "        reader = shpreader.Reader(shpfilename) \n",
    "        districts = reader.records() # get full records\n",
    "        geometries = reader.geometries() # get just the shape\n",
    "\n",
    "        # put the shapefiles into the standard dictionary\n",
    "        for record in reader.records(): # loop over districts\n",
    "            attr = record.attributes # dictionary of information about the district\n",
    "            poly = record.geometry # coordinates of the district as a shapely polygon\n",
    "\n",
    "            # get the index of the districts\n",
    "            if any(state_names==attr['STATENAME'].upper()): # filter out districts that aren't in states\n",
    "                ST = state_abbrs[state_names==attr['STATENAME'].upper()][0]\n",
    "            else: # pretty much just Washington, DC\n",
    "                print('{} is not a state.'.format(attr['STATENAME'].upper()))\n",
    "                continue\n",
    "            id_int = int(attr['DISTRICT'])\n",
    "            if id_int == 0: # todo: do we want to change this back? Looks like 0 for at-large districts is the convention. \n",
    "                id_int = 1\n",
    "            ID = '{0:02d}'.format(id_int)\n",
    "            ind = '{}_{}_{}'.format(ST, ID, election_year)\n",
    "            if verbose:\n",
    "                print('{} was read in.'.format(ind))\n",
    "            # put the polygon in the dictionary\n",
    "            district_df.at[ind,'shape'] = poly\n",
    "    \n",
    "    return district_df"
   ]
  },
  {
   "cell_type": "code",
   "execution_count": 6,
   "metadata": {},
   "outputs": [
    {
     "name": "stdout",
     "output_type": "stream",
     "text": [
      "DISTRICT OF COLUMBIA is not a state.\n",
      "DISTRICT OF COLUMBIA is not a state.\n",
      "DISTRICT OF COLUMBIA is not a state.\n"
     ]
    }
   ],
   "source": [
    "district_df = read_shapefiles([2010,2012,2014], verbose=False)"
   ]
  },
  {
   "cell_type": "code",
   "execution_count": 7,
   "metadata": {},
   "outputs": [],
   "source": [
    "# find if a district has changed between last year and this year\n",
    "def check_if_districts_changed(this_year, district_df, threshold_for_change=0.1):\n",
    "    # loop over states so you only have to compare districts in-state\n",
    "    # otherwise, comparing each district to 434 other districts would be super slow\n",
    "    for ST in state_abbrs: \n",
    "        prev_year = this_year-2\n",
    "        # get the relevant districts\n",
    "        districts = district_df.loc[np.logical_and(district_df['state']==ST,\n",
    "                                                 district_df['year']==this_year)]\n",
    "        districts_prev = district_df.loc[np.logical_and(district_df['state']==ST,\n",
    "                                                 district_df['year']==prev_year)]\n",
    "        # loop over districts in your current year\n",
    "        for ind,district in districts.iterrows():\n",
    "            # find previous year's district\n",
    "            district_prev = districts_prev.loc[districts_prev['district']==district['district']]\n",
    "            ind_prev = district_prev.index\n",
    "\n",
    "            # determine whether district is new or borders have changed\n",
    "            if ind_prev.shape[0]==0: # if the district didn't exist last year\n",
    "                # then this district is new this year\n",
    "                district_df.loc['border_change',ind] = 'new'\n",
    "            else: \n",
    "                # check if the borders have changed\n",
    "                shape_prev = district_prev['shape'].values[0]\n",
    "                shape = district['shape']\n",
    "\n",
    "                # check if shapes intersect with themselves\n",
    "                if not (shape.is_valid and shape_prev.is_valid): \n",
    "                    # if they do, use buffer to correct this\n",
    "                    print('The following polygons intersected with themselves. Attempting to buffer shape...')\n",
    "                    if not shape.is_valid:\n",
    "                        print(ind)\n",
    "                        shape = shape.buffer(0)\n",
    "                    if not shape_prev.is_valid:\n",
    "                        print(ind_prev)\n",
    "                        shape_prev = shape_prev.buffer(0)\n",
    "\n",
    "                # calculate overlap percent\n",
    "                area = shape.area # area of this district\n",
    "                area_prev = shape_prev.area\n",
    "                overlap_area = shape.intersection(shape_prev).area # area of overlap between shape and shape_prev\n",
    "                frac_overlap = overlap_area/np.max([area,area_prev]) # fractional overlap between new and old district\n",
    "                # divide by the larger of the old or new district\n",
    "                \n",
    "                if (1.-frac_overlap) < threshold_for_change: \n",
    "                    # then district has not changed\n",
    "                    district_df.loc[ind,'border_change'] = 'same'\n",
    "                else:\n",
    "                    # district has changed\n",
    "                    district_df.loc[ind,'border_change'] = 'changed'\n",
    "                    print(ind)\n",
    "                    print(frac_overlap)\n",
    "                    \n",
    "    return district_df"
   ]
  },
  {
   "cell_type": "code",
   "execution_count": 8,
   "metadata": {},
   "outputs": [],
   "source": [
    "this_year = 2014\n",
    "#district_df = check_if_districts_changed(this_year, district_df, threshold_for_change=0.1)"
   ]
  },
  {
   "cell_type": "code",
   "execution_count": null,
   "metadata": {},
   "outputs": [],
   "source": [
    "# compute overlap percent between this district and last year's districts\n",
    "this_year = 2012\n",
    "district_df['overlap_frac'] = [np.nan]*district_df.shape[0] # make a blank column\n",
    "district_df['overlap_frac'] = district_df['overlap_frac'].astype(object) # convert to object \n",
    "\n",
    "# loop over states so you only have to compare districts in-state\n",
    "# otherwise, comparing each district to 434 other districts would be super slow\n",
    "for ST in state_abbrs: \n",
    "    prev_year = this_year-2\n",
    "    # get the relevant districts\n",
    "    districts = district_df.loc[np.logical_and(district_df['state']==ST,\n",
    "                                             district_df['year']==this_year)]\n",
    "    districts_prev = district_df.loc[np.logical_and(district_df['state']==ST,\n",
    "                                             district_df['year']==prev_year)]\n",
    "        \n",
    "    for ind,district in districts.iterrows(): # loop over districts in your current year\n",
    "        overlap_dict = {}\n",
    "        for ind_prev,district_prev in districts_prev.iterrows(): # loop over districts in previous year\n",
    "            shape_prev = district_prev['shape']\n",
    "            shape = district['shape']\n",
    "            \n",
    "            # check if shapes intersect with themselves\n",
    "            if not (shape.is_valid and shape_prev.is_valid): \n",
    "                # if they do, use buffer to correct this\n",
    "                print('The following polygons intersected with themselves. Attempting to buffer shape...')\n",
    "                if not shape.is_valid:\n",
    "                    print(ind)\n",
    "                    shape = shape.buffer(0)\n",
    "                if not shape_prev.is_valid:\n",
    "                    print(ind_prev)\n",
    "                    shape_prev = shape_prev.buffer(0)\n",
    "            \n",
    "            # calculate frac overlap\n",
    "            area = shape.area # area of this district\n",
    "            area_prev = shape_prev.area\n",
    "            overlap_area = shape.intersection(shape_prev).area # area of overlap between shape and shape_prev\n",
    "            frac_overlap = overlap_area/area # fractional overlap between new and old district\n",
    "            \n",
    "            if frac_overlap > 0.:\n",
    "                overlap_dict[ind_prev] = frac_overlap\n",
    "\n",
    "        print(ind)\n",
    "        print(overlap_dict)\n",
    "        district_df.at[ind, 'overlap_frac'] = overlap_dict"
   ]
  },
  {
   "cell_type": "code",
   "execution_count": null,
   "metadata": {},
   "outputs": [],
   "source": [
    "# read shapefile\n",
    "reader = shpreader.Reader(shpfilename) \n",
    "districts = reader.records() # get full records\n",
    "geometries = reader.geometries() # get just the shape\n",
    "\n",
    "district_df = pickle.load(open('/Users/Elise/Desktop/ac209_final_project/ac209a_project/Datasets/master_index.p','rb'))\n",
    "district_df['shape'] = [np.nan]*district_df.shape[0] # make a blank column\n",
    "district_df['shape'] = district_df['shape'].astype(object) # reassign to object so it can hold shapely stuff\n",
    "\n",
    "record = next(districts) # the record has both shape and geometry\n",
    "district_geo = next(geometries) # get next shape"
   ]
  },
  {
   "cell_type": "code",
   "execution_count": null,
   "metadata": {},
   "outputs": [],
   "source": [
    "for record in reader.records():\n",
    "    attr = record.attributes\n",
    "    poly = record.geometry\n",
    "    if any(state_names==attr['STATENAME'].upper()): # don't index DC\n",
    "        ST = state_abbrs[state_names==attr['STATENAME'].upper()][0]\n",
    "    else: \n",
    "        print('{} is not a state.'.format(attr['STATENAME'].upper()))\n",
    "        continue\n",
    "    id_int = int(attr['DISTRICT'])\n",
    "    if id_int ==0:\n",
    "        id_int = 1\n",
    "    ID = '{0:02d}'.format(id_int)\n",
    "    ind = '{}_{}_{}'.format(ST, ID, year)\n",
    "    print(ind)\n",
    "        \n",
    "    district_df.at[ind,'shape'] = poly"
   ]
  },
  {
   "cell_type": "code",
   "execution_count": null,
   "metadata": {},
   "outputs": [],
   "source": [
    "print(district_df[district_df['year']==2014])"
   ]
  },
  {
   "cell_type": "code",
   "execution_count": null,
   "metadata": {},
   "outputs": [],
   "source": [
    "record.geometry # record has geometry\n",
    "record.attributes # record has attributes\n",
    "# STATENAME, DISTRICT, STARTCONG, ENDCONG may be useful\n",
    "# Will want to correlate STARTCONG, ENDCONG to year"
   ]
  },
  {
   "cell_type": "code",
   "execution_count": null,
   "metadata": {},
   "outputs": [],
   "source": [
    "# testing a plot\n",
    "shape_feature = ShapelyFeature(record.geometry,\n",
    "                                ccrs.PlateCarree(), edgecolor='black')\n",
    "ax = plt.axes(projection=ccrs.PlateCarree())\n",
    "ax.coastlines()\n",
    "ax.set_xlim((-125, -67))\n",
    "ax.set_ylim((24,50))\n",
    "ax.add_feature(shape_feature, facecolor='blue')\n",
    "plt.show()"
   ]
  },
  {
   "cell_type": "code",
   "execution_count": null,
   "metadata": {},
   "outputs": [],
   "source": []
  },
  {
   "cell_type": "code",
   "execution_count": null,
   "metadata": {},
   "outputs": [],
   "source": []
  }
 ],
 "metadata": {
  "kernelspec": {
   "display_name": "APCOMP 209",
   "language": "python",
   "name": "cs209"
  },
  "language_info": {
   "codemirror_mode": {
    "name": "ipython",
    "version": 3
   },
   "file_extension": ".py",
   "mimetype": "text/x-python",
   "name": "python",
   "nbconvert_exporter": "python",
   "pygments_lexer": "ipython3",
   "version": "3.6.7"
  }
 },
 "nbformat": 4,
 "nbformat_minor": 2
}
