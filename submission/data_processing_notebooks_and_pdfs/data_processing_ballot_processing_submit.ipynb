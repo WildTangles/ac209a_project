{
 "cells": [
  {
   "cell_type": "markdown",
   "metadata": {},
   "source": [
    "# Data Processing: Ballot Processing\n",
    "*Group 42: Elise Penn, Manish Vuyyuru, Victor Sheng, Yajaira Gonzalez*\n",
    "\n",
    "Processes general congressional ballot data for input into our model. Needs access to the files available on the team GitHub folder, which are too large and numerous to upload here. "
   ]
  },
  {
   "cell_type": "code",
   "execution_count": null,
   "metadata": {},
   "outputs": [],
   "source": [
    "import pandas as pd\n",
    "import datetime\n",
    "import numpy as np\n",
    "import pickle"
   ]
  },
  {
   "cell_type": "code",
   "execution_count": null,
   "metadata": {},
   "outputs": [],
   "source": [
    "def drop_rows(df, column, value):\n",
    "    ''' Drop a row where 'value' is in 'column'. Only grabs first item.\n",
    "    arguments:\n",
    "        df -- dataframe to modify\n",
    "        column --  the column you want to search\n",
    "        value -- if you find this value in the column, drop the row\n",
    "    returns:\n",
    "        dataframe without specified rows\n",
    "    '''\n",
    "    try:\n",
    "        new_df = df.drop(df[column][df[column]==value].index[0])\n",
    "    except IndexError:\n",
    "        new_df = df\n",
    "    return new_df"
   ]
  },
  {
   "cell_type": "code",
   "execution_count": null,
   "metadata": {},
   "outputs": [],
   "source": [
    "def get_election_day(year):\n",
    "    ''' Get the date of election day in a given year\n",
    "    arguments:\n",
    "        year -- year as int\n",
    "    retuns:\n",
    "        datetime object of election day. '''\n",
    "    if year%2 == 1: \n",
    "        raise ValueError('No election in even years.')\n",
    "    # possible days = Nov. 2 - Nov. 8\n",
    "    possible_days = [datetime.datetime(year, 11, d) for d in range(2,9)]\n",
    "    for day in possible_days:\n",
    "        if day.weekday()==1: # return if it's a Tuesday\n",
    "            return day "
   ]
  },
  {
   "cell_type": "code",
   "execution_count": null,
   "metadata": {},
   "outputs": [],
   "source": [
    "def get_mean_spread(year,n_days_before_election):\n",
    "    ''' Cleans data and converts each file into mean spread of all the polls\n",
    "    N days before the election\n",
    "    arguments: \n",
    "        year -- (int) the year you want to pull poll data from\n",
    "                there must be a file with the name \n",
    "                'Datasets/YYYY_generic_congressional_vote.csv'\n",
    "        n_days_before_election --  (int) maximum number of days before an \n",
    "                                    election a poll should end to be included \n",
    "                                    in your estimate\n",
    "    returns:\n",
    "        mean of the spread N days before the election in that year (float)\n",
    "        '''\n",
    "    # read in data file \n",
    "    ballot_df = pd.read_csv('Datasets/'+str(year)+'_generic_congressional_vote.csv')\n",
    "    \n",
    "    # Data Cleaning\n",
    "    ballot_df = drop_rows(ballot_df, 'Poll', 'Final Results')\n",
    "    ballot_df = drop_rows(ballot_df, 'Poll', 'RCP Average')\n",
    "\n",
    "    election_day = get_election_day(year)\n",
    "\n",
    "    # make spread standardized around 0\n",
    "    if year >= 2014: # they changed their column names after 2014\n",
    "        ballot_df['Spread'] = ballot_df['Democrats (D)'] - ballot_df['Republicans (R)']\n",
    "    else:\n",
    "        ballot_df['Spread'] = ballot_df['Democrats'] - ballot_df['Republicans']\n",
    "\n",
    "    spread = []\n",
    "    for index, row in ballot_df.iterrows():\n",
    "        # clean up the date format\n",
    "        dates = row['Date'].split('-')\n",
    "        start = datetime.datetime.strptime(str(year)+'/'+dates[0].strip(),'%Y/%m/%d')\n",
    "        #end = datetime.datetime.strptime(str(year)+'/'+dates[1].strip(),'%Y/%m/%d')\n",
    "\n",
    "        # take all the polls which started less than 4 weeks ago\n",
    "        if (start - election_day).days <= n_days_before_election:\n",
    "            spread.append(row['Spread'])\n",
    "\n",
    "    # find the mean of the spread over the last 4 weeks\n",
    "    return np.mean(spread)"
   ]
  },
  {
   "cell_type": "code",
   "execution_count": null,
   "metadata": {},
   "outputs": [],
   "source": [
    "def format_national_polls(years, n_days_before_election=28):\n",
    "    ''' Format generic congressional vote into a dataframe with indices\n",
    "        of AA_00_0000 (state abbr., district, year). For example, WI_04_2016.\n",
    "        There must be a file named 'Datasets/YYYY_generic_congressional_vote.csv'\n",
    "        for each year you want to process data. \n",
    "    inputs:\n",
    "         years -- (list) list of years you want to put in the dataframe\n",
    "         n_days_before_election -- (int) maximum number of days before an \n",
    "                                    election a poll should end to be included \n",
    "                                    in your estimate\n",
    "    returns: \n",
    "        None. \n",
    "        For each year, the mean of the spread N days before the election in that year is \n",
    "        calculated. Then we throw it into all the districts for that year.\n",
    "        Dumps a dataframe with the proper indexing into 'Datasets/national_poll.p'''\n",
    "    \n",
    "    formatted_poll_df = pickle.load(open('Datasets/master_index.p','rb'))\n",
    "    formatted_poll_df['national_poll'] = np.nan # add new column to the df\n",
    "    for year in years:\n",
    "        spread = get_mean_spread(year,n_days_before_election)\n",
    "        formatted_poll_df.loc[formatted_poll_df['year']==year, 'national_poll'] = spread\n",
    "    pickle.dump(formatted_poll_df, open('Datasets/national_poll.p','wb'))"
   ]
  },
  {
   "cell_type": "code",
   "execution_count": null,
   "metadata": {},
   "outputs": [],
   "source": [
    "# make the clean data file \n",
    "years = [2002,2004,2006,2008,2010,2012,2014,2016,2018]\n",
    "format_national_polls(years, n_days_before_election=28)"
   ]
  },
  {
   "cell_type": "code",
   "execution_count": null,
   "metadata": {},
   "outputs": [],
   "source": [
    "# test the clean data file\n",
    "pickle.load(open('Datasets/national_poll.p','rb'))"
   ]
  },
  {
   "cell_type": "code",
   "execution_count": null,
   "metadata": {},
   "outputs": [],
   "source": []
  }
 ],
 "metadata": {
  "kernelspec": {
   "display_name": "APCOMP 209",
   "language": "python",
   "name": "cs209"
  },
  "language_info": {
   "codemirror_mode": {
    "name": "ipython",
    "version": 3
   },
   "file_extension": ".py",
   "mimetype": "text/x-python",
   "name": "python",
   "nbconvert_exporter": "python",
   "pygments_lexer": "ipython3",
   "version": "3.6.7"
  }
 },
 "nbformat": 4,
 "nbformat_minor": 2
}
