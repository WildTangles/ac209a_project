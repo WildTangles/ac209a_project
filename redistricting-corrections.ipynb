{
 "cells": [
  {
   "cell_type": "code",
   "execution_count": 1,
   "metadata": {},
   "outputs": [],
   "source": [
    "import pandas as pd\n",
    "import pickle\n",
    "import shapely"
   ]
  },
  {
   "cell_type": "code",
   "execution_count": 91,
   "metadata": {},
   "outputs": [
    {
     "data": {
      "text/plain": [
       "(2126, 42)"
      ]
     },
     "execution_count": 91,
     "metadata": {},
     "output_type": "execute_result"
    }
   ],
   "source": [
    "#to_correct = 'Datasets/data_FEC_NATIONALPOLL_2004_2018.p'\n",
    "to_correct = 'Datasets/data_FEC_NATIONALPOLL_DEMOGRAPHICS_2010_2018.p'\n",
    "\n",
    "overlap = pickle.load(open('Datasets/all_overlap_data.p', 'rb'))\n",
    "dataset = pickle.load(open(to_correct, 'rb'))\n",
    "dataset.shape"
   ]
  },
  {
   "cell_type": "code",
   "execution_count": 92,
   "metadata": {},
   "outputs": [
    {
     "data": {
      "text/plain": [
       "(423, 42)"
      ]
     },
     "execution_count": 92,
     "metadata": {},
     "output_type": "execute_result"
    }
   ],
   "source": [
    "dataset[dataset['year'] == 2012].shape"
   ]
  },
  {
   "cell_type": "code",
   "execution_count": 93,
   "metadata": {},
   "outputs": [
    {
     "data": {
      "text/plain": [
       "(1749, 42)"
      ]
     },
     "execution_count": 93,
     "metadata": {},
     "output_type": "execute_result"
    }
   ],
   "source": [
    "#drop redistricted districts\n",
    "new_dataset_name = to_correct[:-2] + '_REDISTRICTDROP.p'\n",
    "border_change = overlap['border_change']\n",
    "border_change = border_change[~border_change.isnull()]\n",
    "border_change = border_change[border_change == 1] #1: border changed, 0: border not changed\n",
    "for cand_index in dataset.index.values:\n",
    "    if cand_index in border_change.index:\n",
    "        dataset = dataset[dataset.index != cand_index]\n",
    "dataset.shape"
   ]
  },
  {
   "cell_type": "code",
   "execution_count": 94,
   "metadata": {},
   "outputs": [
    {
     "data": {
      "text/plain": [
       "(99, 42)"
      ]
     },
     "execution_count": 94,
     "metadata": {},
     "output_type": "execute_result"
    }
   ],
   "source": [
    "dataset[dataset['year'] == 2012].shape"
   ]
  },
  {
   "cell_type": "code",
   "execution_count": 95,
   "metadata": {},
   "outputs": [
    {
     "data": {
      "text/plain": [
       "((1749, 44),\n",
       " Index(['district', 'state', 'year', 'party', 'candidatevotes', 'totalvotes',\n",
       "        'candidate', 'national_poll', 'national_poll_prev',\n",
       "        'national_poll_delta_subtract', 'national_poll_delta_divide',\n",
       "        'previous_party', 'dem_win_margin_prev', 'rep_win_margin_prev',\n",
       "        'margin_signed_minus_prev', 'margin_signed_divide_prev',\n",
       "        'margin_unsigned_minus_prev', 'margin_unsigned_divide_prev',\n",
       "        'dem_win_prev', 'rep_win_prev', 'dem_win', 'rep_win', 'female_pct',\n",
       "        'age18_24_pct', 'age25_34_pct', 'median_age', 'unmarried_partner_pct',\n",
       "        'male_living_alone_pct', 'bachelors_deg_or_higher_pct',\n",
       "        'past_year_births_to_unmarried_women_pct', 'civilian_veteran_pct',\n",
       "        'live_same_house_past_year_pct',\n",
       "        'foreign_born_proportion_from_LatinAmerica',\n",
       "        'speak_other_language_at_home_pct', 'labor_force_unemployed_pct',\n",
       "        'public_transit_commuter_pct', 'no_health_insurance_pct',\n",
       "        'poverty_rate_pct', 'median_housing_value', 'median_household_income',\n",
       "        'food_stamp_benefits_pct', 'foreign_to_native_born_ratio', 'longitude',\n",
       "        'latitude'],\n",
       "       dtype='object'))"
      ]
     },
     "execution_count": 95,
     "metadata": {},
     "output_type": "execute_result"
    }
   ],
   "source": [
    "centroids = overlap['centroid']\n",
    "for cand_index in dataset.index.values:\n",
    "    lon, lat = centroids[centroids.index == cand_index].values[0][0]\n",
    "    dataset.loc[dataset.index == cand_index, 'longitude'] = lon\n",
    "    dataset.loc[dataset.index == cand_index, 'latitude'] = lat\n",
    "dataset.shape, dataset.columns"
   ]
  },
  {
   "cell_type": "code",
   "execution_count": 98,
   "metadata": {},
   "outputs": [
    {
     "data": {
      "text/plain": [
       "False"
      ]
     },
     "execution_count": 98,
     "metadata": {},
     "output_type": "execute_result"
    }
   ],
   "source": [
    "dataset[dataset['year']!=2018].isnull().values.any()"
   ]
  },
  {
   "cell_type": "code",
   "execution_count": 96,
   "metadata": {},
   "outputs": [],
   "source": [
    "pickle.dump(dataset, open(new_dataset_name, 'wb'))"
   ]
  },
  {
   "cell_type": "code",
   "execution_count": null,
   "metadata": {},
   "outputs": [],
   "source": []
  }
 ],
 "metadata": {
  "kernelspec": {
   "display_name": "Python 3",
   "language": "python",
   "name": "python3"
  },
  "language_info": {
   "codemirror_mode": {
    "name": "ipython",
    "version": 3
   },
   "file_extension": ".py",
   "mimetype": "text/x-python",
   "name": "python",
   "nbconvert_exporter": "python",
   "pygments_lexer": "ipython3",
   "version": "3.6.5"
  }
 },
 "nbformat": 4,
 "nbformat_minor": 2
}
