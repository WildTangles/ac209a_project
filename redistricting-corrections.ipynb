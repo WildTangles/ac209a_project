{
 "cells": [
  {
   "cell_type": "code",
   "execution_count": 1,
   "metadata": {},
   "outputs": [],
   "source": [
    "import pandas as pd\n",
    "import pickle\n",
    "import shapely"
   ]
  },
  {
   "cell_type": "markdown",
   "metadata": {},
   "source": [
    "# redistrict drop"
   ]
  },
  {
   "cell_type": "code",
   "execution_count": 34,
   "metadata": {},
   "outputs": [
    {
     "data": {
      "text/plain": [
       "(3431, 42)"
      ]
     },
     "execution_count": 34,
     "metadata": {},
     "output_type": "execute_result"
    }
   ],
   "source": [
    "#to_correct = 'Datasets/data_FEC_NATIONALPOLL_2004_2018.p'\n",
    "to_correct = 'Datasets/data_FEC_NATIONALPOLL_DEMOGRAPHICSIMPUTED_2004_2018.p'\n",
    "\n",
    "overlap = pickle.load(open('Datasets/all_overlap_data.p', 'rb'))\n",
    "dataset = pickle.load(open(to_correct, 'rb'))\n",
    "dataset.shape"
   ]
  },
  {
   "cell_type": "code",
   "execution_count": 35,
   "metadata": {},
   "outputs": [
    {
     "data": {
      "text/plain": [
       "(423, 42)"
      ]
     },
     "execution_count": 35,
     "metadata": {},
     "output_type": "execute_result"
    }
   ],
   "source": [
    "dataset[dataset['year'] == 2012].shape"
   ]
  },
  {
   "cell_type": "code",
   "execution_count": 36,
   "metadata": {},
   "outputs": [
    {
     "data": {
      "text/plain": [
       "(3007, 42)"
      ]
     },
     "execution_count": 36,
     "metadata": {},
     "output_type": "execute_result"
    }
   ],
   "source": [
    "#drop redistricted districts\n",
    "new_dataset_name = to_correct[:-2] + '_REDISTRICTDROP.p'\n",
    "border_change = overlap['border_change']\n",
    "border_change = border_change[~border_change.isnull()]\n",
    "border_change = border_change[border_change == 1] #1: border changed, 0: border not changed\n",
    "for cand_index in dataset.index.values:\n",
    "    if cand_index in border_change.index:\n",
    "        dataset = dataset[dataset.index != cand_index]\n",
    "dataset.shape"
   ]
  },
  {
   "cell_type": "code",
   "execution_count": 37,
   "metadata": {},
   "outputs": [
    {
     "data": {
      "text/plain": [
       "(99, 42)"
      ]
     },
     "execution_count": 37,
     "metadata": {},
     "output_type": "execute_result"
    }
   ],
   "source": [
    "dataset[dataset['year'] == 2012].shape"
   ]
  },
  {
   "cell_type": "code",
   "execution_count": 38,
   "metadata": {},
   "outputs": [
    {
     "data": {
      "text/plain": [
       "((3007, 44),\n",
       " Index(['district', 'state', 'year', 'party', 'candidatevotes', 'totalvotes',\n",
       "        'candidate', 'national_poll', 'national_poll_prev',\n",
       "        'national_poll_delta_subtract', 'national_poll_delta_divide',\n",
       "        'previous_party', 'dem_win_margin_prev', 'rep_win_margin_prev',\n",
       "        'margin_signed_minus_prev', 'margin_signed_divide_prev',\n",
       "        'margin_unsigned_minus_prev', 'margin_unsigned_divide_prev',\n",
       "        'dem_win_prev', 'rep_win_prev', 'dem_win', 'rep_win', 'female_pct',\n",
       "        'age18_24_pct', 'age25_34_pct', 'median_age', 'unmarried_partner_pct',\n",
       "        'male_living_alone_pct', 'bachelors_deg_or_higher_pct',\n",
       "        'past_year_births_to_unmarried_women_pct', 'civilian_veteran_pct',\n",
       "        'live_same_house_past_year_pct',\n",
       "        'foreign_born_proportion_from_LatinAmerica',\n",
       "        'speak_other_language_at_home_pct', 'labor_force_unemployed_pct',\n",
       "        'public_transit_commuter_pct', 'no_health_insurance_pct',\n",
       "        'poverty_rate_pct', 'median_housing_value', 'median_household_income',\n",
       "        'food_stamp_benefits_pct', 'foreign_to_native_born_ratio', 'longitude',\n",
       "        'latitude'],\n",
       "       dtype='object'))"
      ]
     },
     "execution_count": 38,
     "metadata": {},
     "output_type": "execute_result"
    }
   ],
   "source": [
    "centroids = overlap['centroid']\n",
    "for cand_index in dataset.index.values:\n",
    "    lon, lat = centroids[centroids.index == cand_index].values[0][0]\n",
    "    dataset.loc[dataset.index == cand_index, 'longitude'] = lon\n",
    "    dataset.loc[dataset.index == cand_index, 'latitude'] = lat\n",
    "dataset.shape, dataset.columns"
   ]
  },
  {
   "cell_type": "code",
   "execution_count": 39,
   "metadata": {},
   "outputs": [
    {
     "data": {
      "text/plain": [
       "False"
      ]
     },
     "execution_count": 39,
     "metadata": {},
     "output_type": "execute_result"
    }
   ],
   "source": [
    "dataset[dataset['year']!=2018].isnull().values.any()"
   ]
  },
  {
   "cell_type": "code",
   "execution_count": 40,
   "metadata": {},
   "outputs": [],
   "source": [
    "pickle.dump(dataset, open(new_dataset_name, 'wb'))"
   ]
  },
  {
   "cell_type": "code",
   "execution_count": null,
   "metadata": {},
   "outputs": [],
   "source": []
  },
  {
   "cell_type": "code",
   "execution_count": null,
   "metadata": {},
   "outputs": [],
   "source": []
  },
  {
   "cell_type": "markdown",
   "metadata": {},
   "source": [
    "# demographics mix"
   ]
  },
  {
   "cell_type": "code",
   "execution_count": 146,
   "metadata": {},
   "outputs": [
    {
     "data": {
      "text/plain": [
       "(3431, 42)"
      ]
     },
     "execution_count": 146,
     "metadata": {},
     "output_type": "execute_result"
    }
   ],
   "source": [
    "to_correct = 'Datasets/data_FEC_NATIONALPOLL_DEMOGRAPHICSIMPUTED_2004_2018.p'\n",
    "\n",
    "overlap = pickle.load(open('district_shapefiles/all_overlap_data.p', 'rb'))\n",
    "dataset = pickle.load(open(to_correct, 'rb'))\n",
    "dataset.shape"
   ]
  },
  {
   "cell_type": "code",
   "execution_count": 147,
   "metadata": {},
   "outputs": [],
   "source": [
    "pop_map = overlap['population_overlap'] #2014 -> 2012\n",
    "inv_pop_map = overlap['inverse_population_overlap'] #2014 -> 2016"
   ]
  },
  {
   "cell_type": "code",
   "execution_count": 148,
   "metadata": {},
   "outputs": [],
   "source": [
    "d_cols = ['female_pct', 'age18_24_pct', 'age25_34_pct', 'median_age',\n",
    "       'unmarried_partner_pct', 'male_living_alone_pct',\n",
    "       'bachelors_deg_or_higher_pct',\n",
    "       'past_year_births_to_unmarried_women_pct', 'civilian_veteran_pct',\n",
    "       'live_same_house_past_year_pct',\n",
    "       'foreign_born_proportion_from_LatinAmerica',\n",
    "       'speak_other_language_at_home_pct', 'labor_force_unemployed_pct',\n",
    "       'public_transit_commuter_pct', 'no_health_insurance_pct',\n",
    "       'poverty_rate_pct', 'median_housing_value', 'median_household_income',\n",
    "       'food_stamp_benefits_pct', 'foreign_to_native_born_ratio']"
   ]
  },
  {
   "cell_type": "code",
   "execution_count": 149,
   "metadata": {},
   "outputs": [
    {
     "data": {
      "text/plain": [
       "({2004.0, 2006.0, 2008.0, 2010.0, 2012.0, 2014.0, 2016.0, 2018.0}, (3431, 42))"
      ]
     },
     "execution_count": 149,
     "metadata": {},
     "output_type": "execute_result"
    }
   ],
   "source": [
    "set(dataset['year'].values), dataset.shape"
   ]
  },
  {
   "cell_type": "code",
   "execution_count": 150,
   "metadata": {},
   "outputs": [
    {
     "data": {
      "text/html": [
       "<div>\n",
       "<style scoped>\n",
       "    .dataframe tbody tr th:only-of-type {\n",
       "        vertical-align: middle;\n",
       "    }\n",
       "\n",
       "    .dataframe tbody tr th {\n",
       "        vertical-align: top;\n",
       "    }\n",
       "\n",
       "    .dataframe thead th {\n",
       "        text-align: right;\n",
       "    }\n",
       "</style>\n",
       "<table border=\"1\" class=\"dataframe\">\n",
       "  <thead>\n",
       "    <tr style=\"text-align: right;\">\n",
       "      <th></th>\n",
       "      <th>district</th>\n",
       "      <th>state</th>\n",
       "      <th>year</th>\n",
       "      <th>party</th>\n",
       "      <th>candidatevotes</th>\n",
       "      <th>totalvotes</th>\n",
       "      <th>candidate</th>\n",
       "      <th>national_poll</th>\n",
       "      <th>national_poll_prev</th>\n",
       "      <th>national_poll_delta_subtract</th>\n",
       "      <th>...</th>\n",
       "      <th>foreign_born_proportion_from_LatinAmerica</th>\n",
       "      <th>speak_other_language_at_home_pct</th>\n",
       "      <th>labor_force_unemployed_pct</th>\n",
       "      <th>public_transit_commuter_pct</th>\n",
       "      <th>no_health_insurance_pct</th>\n",
       "      <th>poverty_rate_pct</th>\n",
       "      <th>median_housing_value</th>\n",
       "      <th>median_household_income</th>\n",
       "      <th>food_stamp_benefits_pct</th>\n",
       "      <th>foreign_to_native_born_ratio</th>\n",
       "    </tr>\n",
       "  </thead>\n",
       "  <tbody>\n",
       "    <tr>\n",
       "      <th>AK_01_2004</th>\n",
       "      <td>1.0</td>\n",
       "      <td>AK</td>\n",
       "      <td>2004.0</td>\n",
       "      <td>republican</td>\n",
       "      <td>213216</td>\n",
       "      <td>299996</td>\n",
       "      <td>Don Young</td>\n",
       "      <td>3.680556</td>\n",
       "      <td>-0.989011</td>\n",
       "      <td>4.669567</td>\n",
       "      <td>...</td>\n",
       "      <td>19.2</td>\n",
       "      <td>16.5</td>\n",
       "      <td>6.6</td>\n",
       "      <td>1.2</td>\n",
       "      <td>19.9</td>\n",
       "      <td>9.9</td>\n",
       "      <td>241400</td>\n",
       "      <td>64576.0</td>\n",
       "      <td>10.6</td>\n",
       "      <td>0.074201</td>\n",
       "    </tr>\n",
       "    <tr>\n",
       "      <th>AK_01_2006</th>\n",
       "      <td>1.0</td>\n",
       "      <td>AK</td>\n",
       "      <td>2006.0</td>\n",
       "      <td>republican</td>\n",
       "      <td>132743</td>\n",
       "      <td>234645</td>\n",
       "      <td>Don Young</td>\n",
       "      <td>10.736842</td>\n",
       "      <td>3.680556</td>\n",
       "      <td>7.056287</td>\n",
       "      <td>...</td>\n",
       "      <td>19.2</td>\n",
       "      <td>16.5</td>\n",
       "      <td>6.6</td>\n",
       "      <td>1.2</td>\n",
       "      <td>19.9</td>\n",
       "      <td>9.9</td>\n",
       "      <td>241400</td>\n",
       "      <td>64576.0</td>\n",
       "      <td>10.6</td>\n",
       "      <td>0.074201</td>\n",
       "    </tr>\n",
       "    <tr>\n",
       "      <th>AK_01_2008</th>\n",
       "      <td>1.0</td>\n",
       "      <td>AK</td>\n",
       "      <td>2008.0</td>\n",
       "      <td>republican</td>\n",
       "      <td>158939</td>\n",
       "      <td>316978</td>\n",
       "      <td>Don Young</td>\n",
       "      <td>9.824324</td>\n",
       "      <td>10.736842</td>\n",
       "      <td>-0.912518</td>\n",
       "      <td>...</td>\n",
       "      <td>19.2</td>\n",
       "      <td>16.5</td>\n",
       "      <td>6.6</td>\n",
       "      <td>1.2</td>\n",
       "      <td>19.9</td>\n",
       "      <td>9.9</td>\n",
       "      <td>241400</td>\n",
       "      <td>64576.0</td>\n",
       "      <td>10.6</td>\n",
       "      <td>0.074201</td>\n",
       "    </tr>\n",
       "    <tr>\n",
       "      <th>AK_01_2010</th>\n",
       "      <td>1.0</td>\n",
       "      <td>AK</td>\n",
       "      <td>2010.0</td>\n",
       "      <td>republican</td>\n",
       "      <td>175384</td>\n",
       "      <td>254335</td>\n",
       "      <td>Don Young</td>\n",
       "      <td>-2.622642</td>\n",
       "      <td>9.824324</td>\n",
       "      <td>-12.446966</td>\n",
       "      <td>...</td>\n",
       "      <td>19.2</td>\n",
       "      <td>16.5</td>\n",
       "      <td>6.6</td>\n",
       "      <td>1.2</td>\n",
       "      <td>19.9</td>\n",
       "      <td>9.9</td>\n",
       "      <td>241400</td>\n",
       "      <td>64576.0</td>\n",
       "      <td>10.6</td>\n",
       "      <td>0.074201</td>\n",
       "    </tr>\n",
       "    <tr>\n",
       "      <th>AK_01_2012</th>\n",
       "      <td>1.0</td>\n",
       "      <td>AK</td>\n",
       "      <td>2012.0</td>\n",
       "      <td>republican</td>\n",
       "      <td>185296</td>\n",
       "      <td>289804</td>\n",
       "      <td>Don Young</td>\n",
       "      <td>1.988304</td>\n",
       "      <td>-2.622642</td>\n",
       "      <td>4.610946</td>\n",
       "      <td>...</td>\n",
       "      <td>17.0</td>\n",
       "      <td>16.6</td>\n",
       "      <td>5.3</td>\n",
       "      <td>1.6</td>\n",
       "      <td>20.5</td>\n",
       "      <td>10.1</td>\n",
       "      <td>245100</td>\n",
       "      <td>67712.0</td>\n",
       "      <td>11.4</td>\n",
       "      <td>0.077029</td>\n",
       "    </tr>\n",
       "  </tbody>\n",
       "</table>\n",
       "<p>5 rows × 42 columns</p>\n",
       "</div>"
      ],
      "text/plain": [
       "            district state    year       party candidatevotes totalvotes  \\\n",
       "AK_01_2004       1.0    AK  2004.0  republican         213216     299996   \n",
       "AK_01_2006       1.0    AK  2006.0  republican         132743     234645   \n",
       "AK_01_2008       1.0    AK  2008.0  republican         158939     316978   \n",
       "AK_01_2010       1.0    AK  2010.0  republican         175384     254335   \n",
       "AK_01_2012       1.0    AK  2012.0  republican         185296     289804   \n",
       "\n",
       "            candidate  national_poll  national_poll_prev  \\\n",
       "AK_01_2004  Don Young       3.680556           -0.989011   \n",
       "AK_01_2006  Don Young      10.736842            3.680556   \n",
       "AK_01_2008  Don Young       9.824324           10.736842   \n",
       "AK_01_2010  Don Young      -2.622642            9.824324   \n",
       "AK_01_2012  Don Young       1.988304           -2.622642   \n",
       "\n",
       "            national_poll_delta_subtract              ...               \\\n",
       "AK_01_2004                      4.669567              ...                \n",
       "AK_01_2006                      7.056287              ...                \n",
       "AK_01_2008                     -0.912518              ...                \n",
       "AK_01_2010                    -12.446966              ...                \n",
       "AK_01_2012                      4.610946              ...                \n",
       "\n",
       "            foreign_born_proportion_from_LatinAmerica  \\\n",
       "AK_01_2004                                       19.2   \n",
       "AK_01_2006                                       19.2   \n",
       "AK_01_2008                                       19.2   \n",
       "AK_01_2010                                       19.2   \n",
       "AK_01_2012                                       17.0   \n",
       "\n",
       "           speak_other_language_at_home_pct  labor_force_unemployed_pct  \\\n",
       "AK_01_2004                             16.5                         6.6   \n",
       "AK_01_2006                             16.5                         6.6   \n",
       "AK_01_2008                             16.5                         6.6   \n",
       "AK_01_2010                             16.5                         6.6   \n",
       "AK_01_2012                             16.6                         5.3   \n",
       "\n",
       "            public_transit_commuter_pct  no_health_insurance_pct  \\\n",
       "AK_01_2004                          1.2                     19.9   \n",
       "AK_01_2006                          1.2                     19.9   \n",
       "AK_01_2008                          1.2                     19.9   \n",
       "AK_01_2010                          1.2                     19.9   \n",
       "AK_01_2012                          1.6                     20.5   \n",
       "\n",
       "            poverty_rate_pct  median_housing_value  median_household_income  \\\n",
       "AK_01_2004               9.9                241400                  64576.0   \n",
       "AK_01_2006               9.9                241400                  64576.0   \n",
       "AK_01_2008               9.9                241400                  64576.0   \n",
       "AK_01_2010               9.9                241400                  64576.0   \n",
       "AK_01_2012              10.1                245100                  67712.0   \n",
       "\n",
       "            food_stamp_benefits_pct  foreign_to_native_born_ratio  \n",
       "AK_01_2004                     10.6                      0.074201  \n",
       "AK_01_2006                     10.6                      0.074201  \n",
       "AK_01_2008                     10.6                      0.074201  \n",
       "AK_01_2010                     10.6                      0.074201  \n",
       "AK_01_2012                     11.4                      0.077029  \n",
       "\n",
       "[5 rows x 42 columns]"
      ]
     },
     "execution_count": 150,
     "metadata": {},
     "output_type": "execute_result"
    }
   ],
   "source": [
    "dataset.head()"
   ]
  },
  {
   "cell_type": "code",
   "execution_count": 151,
   "metadata": {},
   "outputs": [
    {
     "data": {
      "text/html": [
       "<div>\n",
       "<style scoped>\n",
       "    .dataframe tbody tr th:only-of-type {\n",
       "        vertical-align: middle;\n",
       "    }\n",
       "\n",
       "    .dataframe tbody tr th {\n",
       "        vertical-align: top;\n",
       "    }\n",
       "\n",
       "    .dataframe thead th {\n",
       "        text-align: right;\n",
       "    }\n",
       "</style>\n",
       "<table border=\"1\" class=\"dataframe\">\n",
       "  <thead>\n",
       "    <tr style=\"text-align: right;\">\n",
       "      <th></th>\n",
       "      <th>district</th>\n",
       "      <th>state</th>\n",
       "      <th>year</th>\n",
       "      <th>party</th>\n",
       "      <th>candidatevotes</th>\n",
       "      <th>totalvotes</th>\n",
       "      <th>candidate</th>\n",
       "      <th>national_poll</th>\n",
       "      <th>national_poll_prev</th>\n",
       "      <th>national_poll_delta_subtract</th>\n",
       "      <th>...</th>\n",
       "      <th>foreign_born_proportion_from_LatinAmerica</th>\n",
       "      <th>speak_other_language_at_home_pct</th>\n",
       "      <th>labor_force_unemployed_pct</th>\n",
       "      <th>public_transit_commuter_pct</th>\n",
       "      <th>no_health_insurance_pct</th>\n",
       "      <th>poverty_rate_pct</th>\n",
       "      <th>median_housing_value</th>\n",
       "      <th>median_household_income</th>\n",
       "      <th>food_stamp_benefits_pct</th>\n",
       "      <th>foreign_to_native_born_ratio</th>\n",
       "    </tr>\n",
       "  </thead>\n",
       "  <tbody>\n",
       "    <tr>\n",
       "      <th>MN_04_2018</th>\n",
       "      <td>4.0</td>\n",
       "      <td>MN</td>\n",
       "      <td>2018.0</td>\n",
       "      <td>democrat</td>\n",
       "      <td>None</td>\n",
       "      <td>None</td>\n",
       "      <td>None</td>\n",
       "      <td>7.168919</td>\n",
       "      <td>3.175439</td>\n",
       "      <td>3.99348</td>\n",
       "      <td>...</td>\n",
       "      <td>16.8</td>\n",
       "      <td>20.5</td>\n",
       "      <td>2.8</td>\n",
       "      <td>6.0</td>\n",
       "      <td>4.7</td>\n",
       "      <td>11.7</td>\n",
       "      <td>248000</td>\n",
       "      <td>68684.0</td>\n",
       "      <td>10.2</td>\n",
       "      <td>0.173159</td>\n",
       "    </tr>\n",
       "    <tr>\n",
       "      <th>LA_06_2018</th>\n",
       "      <td>6.0</td>\n",
       "      <td>LA</td>\n",
       "      <td>2018.0</td>\n",
       "      <td>republican</td>\n",
       "      <td>None</td>\n",
       "      <td>None</td>\n",
       "      <td>None</td>\n",
       "      <td>7.168919</td>\n",
       "      <td>3.175439</td>\n",
       "      <td>3.99348</td>\n",
       "      <td>...</td>\n",
       "      <td>47.0</td>\n",
       "      <td>7.6</td>\n",
       "      <td>3.4</td>\n",
       "      <td>0.5</td>\n",
       "      <td>6.8</td>\n",
       "      <td>12.3</td>\n",
       "      <td>189000</td>\n",
       "      <td>62374.0</td>\n",
       "      <td>12.9</td>\n",
       "      <td>0.047121</td>\n",
       "    </tr>\n",
       "    <tr>\n",
       "      <th>KY_03_2018</th>\n",
       "      <td>3.0</td>\n",
       "      <td>KY</td>\n",
       "      <td>2018.0</td>\n",
       "      <td>democrat</td>\n",
       "      <td>None</td>\n",
       "      <td>None</td>\n",
       "      <td>None</td>\n",
       "      <td>7.168919</td>\n",
       "      <td>3.175439</td>\n",
       "      <td>3.99348</td>\n",
       "      <td>...</td>\n",
       "      <td>34.8</td>\n",
       "      <td>10.0</td>\n",
       "      <td>3.8</td>\n",
       "      <td>3.0</td>\n",
       "      <td>5.3</td>\n",
       "      <td>14.0</td>\n",
       "      <td>169700</td>\n",
       "      <td>53677.0</td>\n",
       "      <td>12.5</td>\n",
       "      <td>0.089853</td>\n",
       "    </tr>\n",
       "    <tr>\n",
       "      <th>KY_04_2018</th>\n",
       "      <td>4.0</td>\n",
       "      <td>KY</td>\n",
       "      <td>2018.0</td>\n",
       "      <td>republican</td>\n",
       "      <td>None</td>\n",
       "      <td>None</td>\n",
       "      <td>None</td>\n",
       "      <td>7.168919</td>\n",
       "      <td>3.175439</td>\n",
       "      <td>3.99348</td>\n",
       "      <td>...</td>\n",
       "      <td>36.2</td>\n",
       "      <td>4.9</td>\n",
       "      <td>2.9</td>\n",
       "      <td>0.8</td>\n",
       "      <td>4.6</td>\n",
       "      <td>11.9</td>\n",
       "      <td>172500</td>\n",
       "      <td>62095.0</td>\n",
       "      <td>10.6</td>\n",
       "      <td>0.034157</td>\n",
       "    </tr>\n",
       "    <tr>\n",
       "      <th>KY_05_2018</th>\n",
       "      <td>5.0</td>\n",
       "      <td>KY</td>\n",
       "      <td>2018.0</td>\n",
       "      <td>republican</td>\n",
       "      <td>None</td>\n",
       "      <td>None</td>\n",
       "      <td>None</td>\n",
       "      <td>7.168919</td>\n",
       "      <td>3.175439</td>\n",
       "      <td>3.99348</td>\n",
       "      <td>...</td>\n",
       "      <td>22.1</td>\n",
       "      <td>2.0</td>\n",
       "      <td>3.7</td>\n",
       "      <td>0.3</td>\n",
       "      <td>6.0</td>\n",
       "      <td>29.1</td>\n",
       "      <td>81500</td>\n",
       "      <td>31731.0</td>\n",
       "      <td>24.7</td>\n",
       "      <td>0.006692</td>\n",
       "    </tr>\n",
       "  </tbody>\n",
       "</table>\n",
       "<p>5 rows × 42 columns</p>\n",
       "</div>"
      ],
      "text/plain": [
       "            district state    year       party candidatevotes totalvotes  \\\n",
       "MN_04_2018       4.0    MN  2018.0    democrat           None       None   \n",
       "LA_06_2018       6.0    LA  2018.0  republican           None       None   \n",
       "KY_03_2018       3.0    KY  2018.0    democrat           None       None   \n",
       "KY_04_2018       4.0    KY  2018.0  republican           None       None   \n",
       "KY_05_2018       5.0    KY  2018.0  republican           None       None   \n",
       "\n",
       "           candidate  national_poll  national_poll_prev  \\\n",
       "MN_04_2018      None       7.168919            3.175439   \n",
       "LA_06_2018      None       7.168919            3.175439   \n",
       "KY_03_2018      None       7.168919            3.175439   \n",
       "KY_04_2018      None       7.168919            3.175439   \n",
       "KY_05_2018      None       7.168919            3.175439   \n",
       "\n",
       "            national_poll_delta_subtract              ...               \\\n",
       "MN_04_2018                       3.99348              ...                \n",
       "LA_06_2018                       3.99348              ...                \n",
       "KY_03_2018                       3.99348              ...                \n",
       "KY_04_2018                       3.99348              ...                \n",
       "KY_05_2018                       3.99348              ...                \n",
       "\n",
       "            foreign_born_proportion_from_LatinAmerica  \\\n",
       "MN_04_2018                                       16.8   \n",
       "LA_06_2018                                       47.0   \n",
       "KY_03_2018                                       34.8   \n",
       "KY_04_2018                                       36.2   \n",
       "KY_05_2018                                       22.1   \n",
       "\n",
       "           speak_other_language_at_home_pct  labor_force_unemployed_pct  \\\n",
       "MN_04_2018                             20.5                         2.8   \n",
       "LA_06_2018                              7.6                         3.4   \n",
       "KY_03_2018                             10.0                         3.8   \n",
       "KY_04_2018                              4.9                         2.9   \n",
       "KY_05_2018                              2.0                         3.7   \n",
       "\n",
       "            public_transit_commuter_pct  no_health_insurance_pct  \\\n",
       "MN_04_2018                          6.0                      4.7   \n",
       "LA_06_2018                          0.5                      6.8   \n",
       "KY_03_2018                          3.0                      5.3   \n",
       "KY_04_2018                          0.8                      4.6   \n",
       "KY_05_2018                          0.3                      6.0   \n",
       "\n",
       "            poverty_rate_pct  median_housing_value  median_household_income  \\\n",
       "MN_04_2018              11.7                248000                  68684.0   \n",
       "LA_06_2018              12.3                189000                  62374.0   \n",
       "KY_03_2018              14.0                169700                  53677.0   \n",
       "KY_04_2018              11.9                172500                  62095.0   \n",
       "KY_05_2018              29.1                 81500                  31731.0   \n",
       "\n",
       "            food_stamp_benefits_pct  foreign_to_native_born_ratio  \n",
       "MN_04_2018                     10.2                      0.173159  \n",
       "LA_06_2018                     12.9                      0.047121  \n",
       "KY_03_2018                     12.5                      0.089853  \n",
       "KY_04_2018                     10.6                      0.034157  \n",
       "KY_05_2018                     24.7                      0.006692  \n",
       "\n",
       "[5 rows x 42 columns]"
      ]
     },
     "execution_count": 151,
     "metadata": {},
     "output_type": "execute_result"
    }
   ],
   "source": [
    "dataset = dataset.sort_values('year', ascending=False)\n",
    "dataset.head()"
   ]
  },
  {
   "cell_type": "code",
   "execution_count": 152,
   "metadata": {},
   "outputs": [
    {
     "data": {
      "text/plain": [
       "district                                     float64\n",
       "state                                         object\n",
       "year                                         float64\n",
       "party                                         object\n",
       "candidatevotes                                object\n",
       "totalvotes                                    object\n",
       "candidate                                     object\n",
       "national_poll                                float64\n",
       "national_poll_prev                           float64\n",
       "national_poll_delta_subtract                 float64\n",
       "national_poll_delta_divide                   float64\n",
       "previous_party                                object\n",
       "dem_win_margin_prev                          float64\n",
       "rep_win_margin_prev                          float64\n",
       "margin_signed_minus_prev                     float64\n",
       "margin_signed_divide_prev                    float64\n",
       "margin_unsigned_minus_prev                   float64\n",
       "margin_unsigned_divide_prev                  float64\n",
       "dem_win_prev                                 float64\n",
       "rep_win_prev                                 float64\n",
       "dem_win                                      float64\n",
       "rep_win                                      float64\n",
       "female_pct                                   float64\n",
       "age18_24_pct                                 float64\n",
       "age25_34_pct                                 float64\n",
       "median_age                                   float64\n",
       "unmarried_partner_pct                        float64\n",
       "male_living_alone_pct                        float64\n",
       "bachelors_deg_or_higher_pct                  float64\n",
       "past_year_births_to_unmarried_women_pct       object\n",
       "civilian_veteran_pct                         float64\n",
       "live_same_house_past_year_pct                float64\n",
       "foreign_born_proportion_from_LatinAmerica    float64\n",
       "speak_other_language_at_home_pct             float64\n",
       "labor_force_unemployed_pct                   float64\n",
       "public_transit_commuter_pct                  float64\n",
       "no_health_insurance_pct                      float64\n",
       "poverty_rate_pct                             float64\n",
       "median_housing_value                          object\n",
       "median_household_income                      float64\n",
       "food_stamp_benefits_pct                      float64\n",
       "foreign_to_native_born_ratio                 float64\n",
       "dtype: object"
      ]
     },
     "execution_count": 152,
     "metadata": {},
     "output_type": "execute_result"
    }
   ],
   "source": [
    "dataset.dtypes"
   ]
  },
  {
   "cell_type": "code",
   "execution_count": 153,
   "metadata": {},
   "outputs": [
    {
     "name": "stdout",
     "output_type": "stream",
     "text": [
      "on 2018.0.\n",
      "on 2016.0.\n",
      "on 2014.0.\n",
      "on 2012.0.\n",
      "on 2010.0.\n",
      "on 2008.0.\n",
      "on 2006.0.\n",
      "on 2004.0.\n"
     ]
    }
   ],
   "source": [
    "#fix the demographics\n",
    "dataset_dcorr = dataset.copy()\n",
    "prev_year = 2020\n",
    "for index, row in dataset_dcorr.iterrows():\n",
    "    if row['year'] < prev_year:\n",
    "        prev_year = row['year']\n",
    "        print('on {}.'.format(prev_year))\n",
    "    if row['year'] < 2010:\n",
    "        for d_col in d_cols:\n",
    "            cval = 0\n",
    "            for cindex, cratio in inv_pop_map[index].items():\n",
    "                cval += dataset_dcorr.loc[cindex, d_col] * cratio\n",
    "            dataset_dcorr.loc[index, d_col] = cval"
   ]
  },
  {
   "cell_type": "code",
   "execution_count": 154,
   "metadata": {},
   "outputs": [
    {
     "data": {
      "text/html": [
       "<div>\n",
       "<style scoped>\n",
       "    .dataframe tbody tr th:only-of-type {\n",
       "        vertical-align: middle;\n",
       "    }\n",
       "\n",
       "    .dataframe tbody tr th {\n",
       "        vertical-align: top;\n",
       "    }\n",
       "\n",
       "    .dataframe thead th {\n",
       "        text-align: right;\n",
       "    }\n",
       "</style>\n",
       "<table border=\"1\" class=\"dataframe\">\n",
       "  <thead>\n",
       "    <tr style=\"text-align: right;\">\n",
       "      <th></th>\n",
       "      <th>district</th>\n",
       "      <th>state</th>\n",
       "      <th>year</th>\n",
       "      <th>party</th>\n",
       "      <th>candidatevotes</th>\n",
       "      <th>totalvotes</th>\n",
       "      <th>candidate</th>\n",
       "      <th>national_poll</th>\n",
       "      <th>national_poll_prev</th>\n",
       "      <th>national_poll_delta_subtract</th>\n",
       "      <th>...</th>\n",
       "      <th>foreign_born_proportion_from_LatinAmerica</th>\n",
       "      <th>speak_other_language_at_home_pct</th>\n",
       "      <th>labor_force_unemployed_pct</th>\n",
       "      <th>public_transit_commuter_pct</th>\n",
       "      <th>no_health_insurance_pct</th>\n",
       "      <th>poverty_rate_pct</th>\n",
       "      <th>median_housing_value</th>\n",
       "      <th>median_household_income</th>\n",
       "      <th>food_stamp_benefits_pct</th>\n",
       "      <th>foreign_to_native_born_ratio</th>\n",
       "    </tr>\n",
       "  </thead>\n",
       "  <tbody>\n",
       "    <tr>\n",
       "      <th>GA_09_2004</th>\n",
       "      <td>9.0</td>\n",
       "      <td>GA</td>\n",
       "      <td>2004.0</td>\n",
       "      <td>republican</td>\n",
       "      <td>197869</td>\n",
       "      <td>266331</td>\n",
       "      <td>Charlie Norwood</td>\n",
       "      <td>3.680556</td>\n",
       "      <td>-0.989011</td>\n",
       "      <td>4.669567</td>\n",
       "      <td>...</td>\n",
       "      <td>52.4752</td>\n",
       "      <td>12.6949</td>\n",
       "      <td>6.6495</td>\n",
       "      <td>0.9342</td>\n",
       "      <td>18.7778</td>\n",
       "      <td>17.9226</td>\n",
       "      <td>159650</td>\n",
       "      <td>47032.777</td>\n",
       "      <td>11.8435</td>\n",
       "      <td>0.105604</td>\n",
       "    </tr>\n",
       "  </tbody>\n",
       "</table>\n",
       "<p>1 rows × 42 columns</p>\n",
       "</div>"
      ],
      "text/plain": [
       "            district state    year       party candidatevotes totalvotes  \\\n",
       "GA_09_2004       9.0    GA  2004.0  republican         197869     266331   \n",
       "\n",
       "                  candidate  national_poll  national_poll_prev  \\\n",
       "GA_09_2004  Charlie Norwood       3.680556           -0.989011   \n",
       "\n",
       "            national_poll_delta_subtract              ...               \\\n",
       "GA_09_2004                      4.669567              ...                \n",
       "\n",
       "            foreign_born_proportion_from_LatinAmerica  \\\n",
       "GA_09_2004                                    52.4752   \n",
       "\n",
       "           speak_other_language_at_home_pct  labor_force_unemployed_pct  \\\n",
       "GA_09_2004                          12.6949                      6.6495   \n",
       "\n",
       "            public_transit_commuter_pct  no_health_insurance_pct  \\\n",
       "GA_09_2004                       0.9342                  18.7778   \n",
       "\n",
       "            poverty_rate_pct  median_housing_value  median_household_income  \\\n",
       "GA_09_2004           17.9226                159650                47032.777   \n",
       "\n",
       "            food_stamp_benefits_pct  foreign_to_native_born_ratio  \n",
       "GA_09_2004                  11.8435                      0.105604  \n",
       "\n",
       "[1 rows x 42 columns]"
      ]
     },
     "execution_count": 154,
     "metadata": {},
     "output_type": "execute_result"
    }
   ],
   "source": [
    "test = 'GA_09_2004'\n",
    "dataset_dcorr[dataset_dcorr.index == test]"
   ]
  },
  {
   "cell_type": "code",
   "execution_count": 155,
   "metadata": {},
   "outputs": [
    {
     "data": {
      "text/html": [
       "<div>\n",
       "<style scoped>\n",
       "    .dataframe tbody tr th:only-of-type {\n",
       "        vertical-align: middle;\n",
       "    }\n",
       "\n",
       "    .dataframe tbody tr th {\n",
       "        vertical-align: top;\n",
       "    }\n",
       "\n",
       "    .dataframe thead th {\n",
       "        text-align: right;\n",
       "    }\n",
       "</style>\n",
       "<table border=\"1\" class=\"dataframe\">\n",
       "  <thead>\n",
       "    <tr style=\"text-align: right;\">\n",
       "      <th></th>\n",
       "      <th>district</th>\n",
       "      <th>state</th>\n",
       "      <th>year</th>\n",
       "      <th>party</th>\n",
       "      <th>candidatevotes</th>\n",
       "      <th>totalvotes</th>\n",
       "      <th>candidate</th>\n",
       "      <th>national_poll</th>\n",
       "      <th>national_poll_prev</th>\n",
       "      <th>national_poll_delta_subtract</th>\n",
       "      <th>...</th>\n",
       "      <th>foreign_born_proportion_from_LatinAmerica</th>\n",
       "      <th>speak_other_language_at_home_pct</th>\n",
       "      <th>labor_force_unemployed_pct</th>\n",
       "      <th>public_transit_commuter_pct</th>\n",
       "      <th>no_health_insurance_pct</th>\n",
       "      <th>poverty_rate_pct</th>\n",
       "      <th>median_housing_value</th>\n",
       "      <th>median_household_income</th>\n",
       "      <th>food_stamp_benefits_pct</th>\n",
       "      <th>foreign_to_native_born_ratio</th>\n",
       "    </tr>\n",
       "  </thead>\n",
       "  <tbody>\n",
       "    <tr>\n",
       "      <th>GA_09_2004</th>\n",
       "      <td>9.0</td>\n",
       "      <td>GA</td>\n",
       "      <td>2004.0</td>\n",
       "      <td>republican</td>\n",
       "      <td>197869</td>\n",
       "      <td>266331</td>\n",
       "      <td>Charlie Norwood</td>\n",
       "      <td>3.680556</td>\n",
       "      <td>-0.989011</td>\n",
       "      <td>4.669567</td>\n",
       "      <td>...</td>\n",
       "      <td>72.4</td>\n",
       "      <td>14.7</td>\n",
       "      <td>7.3</td>\n",
       "      <td>0.3</td>\n",
       "      <td>18.6</td>\n",
       "      <td>15.9</td>\n",
       "      <td>163100</td>\n",
       "      <td>45925.0</td>\n",
       "      <td>11.5</td>\n",
       "      <td>0.107734</td>\n",
       "    </tr>\n",
       "  </tbody>\n",
       "</table>\n",
       "<p>1 rows × 42 columns</p>\n",
       "</div>"
      ],
      "text/plain": [
       "            district state    year       party candidatevotes totalvotes  \\\n",
       "GA_09_2004       9.0    GA  2004.0  republican         197869     266331   \n",
       "\n",
       "                  candidate  national_poll  national_poll_prev  \\\n",
       "GA_09_2004  Charlie Norwood       3.680556           -0.989011   \n",
       "\n",
       "            national_poll_delta_subtract              ...               \\\n",
       "GA_09_2004                      4.669567              ...                \n",
       "\n",
       "            foreign_born_proportion_from_LatinAmerica  \\\n",
       "GA_09_2004                                       72.4   \n",
       "\n",
       "           speak_other_language_at_home_pct  labor_force_unemployed_pct  \\\n",
       "GA_09_2004                             14.7                         7.3   \n",
       "\n",
       "            public_transit_commuter_pct  no_health_insurance_pct  \\\n",
       "GA_09_2004                          0.3                     18.6   \n",
       "\n",
       "            poverty_rate_pct  median_housing_value  median_household_income  \\\n",
       "GA_09_2004              15.9                163100                  45925.0   \n",
       "\n",
       "            food_stamp_benefits_pct  foreign_to_native_born_ratio  \n",
       "GA_09_2004                     11.5                      0.107734  \n",
       "\n",
       "[1 rows x 42 columns]"
      ]
     },
     "execution_count": 155,
     "metadata": {},
     "output_type": "execute_result"
    }
   ],
   "source": [
    "dataset[dataset.index == test]"
   ]
  },
  {
   "cell_type": "code",
   "execution_count": 159,
   "metadata": {},
   "outputs": [],
   "source": [
    "pickle.dump(dataset_dcorr, open('Datasets/data_FEC_NATIONALPOLL_DEMOGRAPHICSIMPUTED_DISTRICTMIXED_2004_2018.p', 'wb'))\n",
    "dataset_dcorr.to_csv('Datasets/data_FEC_NATIONALPOLL_DEMOGRAPHICSIMPUTED_DISTRICTMIXED_2004_2018.csv')"
   ]
  },
  {
   "cell_type": "code",
   "execution_count": 156,
   "metadata": {},
   "outputs": [
    {
     "data": {
      "text/plain": [
       "({2004.0, 2006.0, 2008.0, 2010.0, 2012.0, 2014.0, 2016.0, 2018.0}, (3431, 42))"
      ]
     },
     "execution_count": 156,
     "metadata": {},
     "output_type": "execute_result"
    }
   ],
   "source": [
    "set(dataset_dcorr['year'].values), dataset_dcorr.shape"
   ]
  },
  {
   "cell_type": "code",
   "execution_count": 157,
   "metadata": {},
   "outputs": [],
   "source": [
    "# m_cols = ['dem_win_margin_prev', 'rep_win_margin_prev',\n",
    "#         'margin_signed_minus_prev', 'margin_signed_divide_prev',\n",
    "#         'margin_unsigned_minus_prev', 'margin_unsigned_divide_prev']"
   ]
  },
  {
   "cell_type": "code",
   "execution_count": 158,
   "metadata": {},
   "outputs": [
    {
     "ename": "SyntaxError",
     "evalue": "unexpected EOF while parsing (<ipython-input-158-530ac488a403>, line 5)",
     "output_type": "error",
     "traceback": [
      "\u001b[1;36m  File \u001b[1;32m\"<ipython-input-158-530ac488a403>\"\u001b[1;36m, line \u001b[1;32m5\u001b[0m\n\u001b[1;33m    \u001b[0m\n\u001b[1;37m    ^\u001b[0m\n\u001b[1;31mSyntaxError\u001b[0m\u001b[1;31m:\u001b[0m unexpected EOF while parsing\n"
     ]
    }
   ],
   "source": [
    "# #fix margins\n",
    "# dataset_acorr = dataset_dcorr.copy()\n",
    "# prev_year = 2020\n",
    "# for index, row in dataset_dcorr.iterrows():\n",
    "    "
   ]
  },
  {
   "cell_type": "code",
   "execution_count": null,
   "metadata": {},
   "outputs": [],
   "source": []
  }
 ],
 "metadata": {
  "kernelspec": {
   "display_name": "Python 3",
   "language": "python",
   "name": "python3"
  },
  "language_info": {
   "codemirror_mode": {
    "name": "ipython",
    "version": 3
   },
   "file_extension": ".py",
   "mimetype": "text/x-python",
   "name": "python",
   "nbconvert_exporter": "python",
   "pygments_lexer": "ipython3",
   "version": "3.6.5"
  }
 },
 "nbformat": 4,
 "nbformat_minor": 2
}
