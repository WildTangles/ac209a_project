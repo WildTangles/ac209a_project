{
 "cells": [
  {
   "cell_type": "code",
   "execution_count": 1,
   "metadata": {
    "scrolled": true
   },
   "outputs": [],
   "source": [
    "import pandas as pd\n",
    "import numpy as np\n",
    "from functions import houseFunctions as hfunc\n",
    "import pickle"
   ]
  },
  {
   "cell_type": "code",
   "execution_count": 2,
   "metadata": {},
   "outputs": [],
   "source": [
    "houseResFile = \"Datasets/fec/1976-2016-house.csv\""
   ]
  },
  {
   "cell_type": "code",
   "execution_count": 3,
   "metadata": {
    "scrolled": false
   },
   "outputs": [
    {
     "name": "stderr",
     "output_type": "stream",
     "text": [
      "C:\\ProgramData\\Anaconda3\\lib\\site-packages\\pandas\\core\\indexing.py:543: SettingWithCopyWarning: \n",
      "A value is trying to be set on a copy of a slice from a DataFrame.\n",
      "Try using .loc[row_indexer,col_indexer] = value instead\n",
      "\n",
      "See the caveats in the documentation: http://pandas.pydata.org/pandas-docs/stable/indexing.html#indexing-view-versus-copy\n",
      "  self.obj[item] = s\n",
      "C:\\ProgramData\\Anaconda3\\lib\\site-packages\\pandas\\core\\indexing.py:362: SettingWithCopyWarning: \n",
      "A value is trying to be set on a copy of a slice from a DataFrame.\n",
      "Try using .loc[row_indexer,col_indexer] = value instead\n",
      "\n",
      "See the caveats in the documentation: http://pandas.pydata.org/pandas-docs/stable/indexing.html#indexing-view-versus-copy\n",
      "  self.obj[key] = _infer_fill_value(value)\n"
     ]
    }
   ],
   "source": [
    "winners_df, winners2_df  = hfunc.load_data(houseResFile, minYear=2002)\n",
    "winners_df, winners2_df = hfunc.clean_index(winners_df), hfunc.clean_index(winners2_df)\n",
    "data = hfunc.fetch_trimmed_data(winners_df, winners2_df, minYear=2004)"
   ]
  },
  {
   "cell_type": "code",
   "execution_count": 4,
   "metadata": {},
   "outputs": [
    {
     "data": {
      "text/plain": [
       "((3009, 22), (3009, 22))"
      ]
     },
     "execution_count": 4,
     "metadata": {},
     "output_type": "execute_result"
    }
   ],
   "source": [
    "data[pd.isnull(data)].shape, data.shape"
   ]
  },
  {
   "cell_type": "code",
   "execution_count": 5,
   "metadata": {},
   "outputs": [
    {
     "data": {
      "text/plain": [
       "Series([], Name: party, dtype: object)"
      ]
     },
     "execution_count": 5,
     "metadata": {},
     "output_type": "execute_result"
    }
   ],
   "source": [
    "data.loc[pd.isnull(data['party']), 'party']"
   ]
  },
  {
   "cell_type": "code",
   "execution_count": 6,
   "metadata": {},
   "outputs": [
    {
     "data": {
      "text/plain": [
       "({2004, 2006, 2008, 2010, 2012, 2014, 2016},\n",
       " {2002, 2004, 2006, 2008, 2010, 2012, 2014, 2016})"
      ]
     },
     "execution_count": 6,
     "metadata": {},
     "output_type": "execute_result"
    }
   ],
   "source": [
    "set(data['year'].values), set(winners_df['year'].values)"
   ]
  },
  {
   "cell_type": "code",
   "execution_count": 7,
   "metadata": {},
   "outputs": [
    {
     "data": {
      "text/plain": [
       "CO_06_2002    NaN\n",
       "Name: party, dtype: object"
      ]
     },
     "execution_count": 7,
     "metadata": {},
     "output_type": "execute_result"
    }
   ],
   "source": [
    "winners_df.loc[(pd.isnull(winners_df['party'])) & (winners_df['state'] == 'CO') & (winners_df['district'] == 6.0), 'party']"
   ]
  },
  {
   "cell_type": "code",
   "execution_count": 8,
   "metadata": {},
   "outputs": [
    {
     "data": {
      "text/plain": [
       "Index(['district', 'state', 'year', 'party', 'candidatevotes', 'totalvotes',\n",
       "       'candidate', 'national_poll', 'national_poll_prev',\n",
       "       'national_poll_delta_subtract', 'national_poll_delta_divide',\n",
       "       'previous_party', 'dem_win_margin_prev', 'rep_win_margin_prev',\n",
       "       'margin_signed_minus_prev', 'margin_signed_divide_prev',\n",
       "       'margin_unsigned_minus_prev', 'margin_unsigned_divide_prev',\n",
       "       'dem_win_prev', 'rep_win_prev', 'dem_win', 'rep_win'],\n",
       "      dtype='object')"
      ]
     },
     "execution_count": 8,
     "metadata": {},
     "output_type": "execute_result"
    }
   ],
   "source": [
    "data.columns"
   ]
  },
  {
   "cell_type": "code",
   "execution_count": 9,
   "metadata": {
    "scrolled": false
   },
   "outputs": [
    {
     "data": {
      "text/html": [
       "<div>\n",
       "<style scoped>\n",
       "    .dataframe tbody tr th:only-of-type {\n",
       "        vertical-align: middle;\n",
       "    }\n",
       "\n",
       "    .dataframe tbody tr th {\n",
       "        vertical-align: top;\n",
       "    }\n",
       "\n",
       "    .dataframe thead th {\n",
       "        text-align: right;\n",
       "    }\n",
       "</style>\n",
       "<table border=\"1\" class=\"dataframe\">\n",
       "  <thead>\n",
       "    <tr style=\"text-align: right;\">\n",
       "      <th></th>\n",
       "      <th>district</th>\n",
       "      <th>state</th>\n",
       "      <th>year</th>\n",
       "      <th>party</th>\n",
       "      <th>candidatevotes</th>\n",
       "      <th>totalvotes</th>\n",
       "      <th>candidate</th>\n",
       "      <th>national_poll</th>\n",
       "      <th>national_poll_prev</th>\n",
       "      <th>national_poll_delta_subtract</th>\n",
       "      <th>national_poll_delta_divide</th>\n",
       "      <th>previous_party</th>\n",
       "      <th>dem_win_margin_prev</th>\n",
       "      <th>rep_win_margin_prev</th>\n",
       "      <th>margin_signed_minus_prev</th>\n",
       "      <th>margin_signed_divide_prev</th>\n",
       "      <th>margin_unsigned_minus_prev</th>\n",
       "      <th>margin_unsigned_divide_prev</th>\n",
       "      <th>dem_win_prev</th>\n",
       "      <th>rep_win_prev</th>\n",
       "      <th>dem_win</th>\n",
       "      <th>rep_win</th>\n",
       "    </tr>\n",
       "  </thead>\n",
       "  <tbody>\n",
       "  </tbody>\n",
       "</table>\n",
       "</div>"
      ],
      "text/plain": [
       "Empty DataFrame\n",
       "Columns: [district, state, year, party, candidatevotes, totalvotes, candidate, national_poll, national_poll_prev, national_poll_delta_subtract, national_poll_delta_divide, previous_party, dem_win_margin_prev, rep_win_margin_prev, margin_signed_minus_prev, margin_signed_divide_prev, margin_unsigned_minus_prev, margin_unsigned_divide_prev, dem_win_prev, rep_win_prev, dem_win, rep_win]\n",
       "Index: []"
      ]
     },
     "execution_count": 9,
     "metadata": {},
     "output_type": "execute_result"
    }
   ],
   "source": [
    "pd.options.display.max_rows = 999\n",
    "pd.options.display.max_columns = 999\n",
    "data[data.isnull().any(axis=1)]"
   ]
  },
  {
   "cell_type": "code",
   "execution_count": 32,
   "metadata": {},
   "outputs": [
    {
     "data": {
      "text/html": [
       "<div>\n",
       "<style scoped>\n",
       "    .dataframe tbody tr th:only-of-type {\n",
       "        vertical-align: middle;\n",
       "    }\n",
       "\n",
       "    .dataframe tbody tr th {\n",
       "        vertical-align: top;\n",
       "    }\n",
       "\n",
       "    .dataframe thead th {\n",
       "        text-align: right;\n",
       "    }\n",
       "</style>\n",
       "<table border=\"1\" class=\"dataframe\">\n",
       "  <thead>\n",
       "    <tr style=\"text-align: right;\">\n",
       "      <th></th>\n",
       "      <th>district</th>\n",
       "      <th>state</th>\n",
       "      <th>year</th>\n",
       "      <th>party</th>\n",
       "      <th>candidatevotes</th>\n",
       "      <th>totalvotes</th>\n",
       "      <th>candidate</th>\n",
       "      <th>national_poll</th>\n",
       "      <th>national_poll_prev</th>\n",
       "      <th>national_poll_delta_subtract</th>\n",
       "      <th>national_poll_delta_divide</th>\n",
       "      <th>previous_party</th>\n",
       "      <th>dem_win_margin_prev</th>\n",
       "      <th>rep_win_margin_prev</th>\n",
       "      <th>margin_signed_minus_prev</th>\n",
       "      <th>margin_signed_divide_prev</th>\n",
       "      <th>margin_unsigned_minus_prev</th>\n",
       "      <th>margin_unsigned_divide_prev</th>\n",
       "      <th>dem_win_prev</th>\n",
       "      <th>rep_win_prev</th>\n",
       "      <th>dem_win</th>\n",
       "      <th>rep_win</th>\n",
       "    </tr>\n",
       "  </thead>\n",
       "  <tbody>\n",
       "  </tbody>\n",
       "</table>\n",
       "</div>"
      ],
      "text/plain": [
       "Empty DataFrame\n",
       "Columns: [district, state, year, party, candidatevotes, totalvotes, candidate, national_poll, national_poll_prev, national_poll_delta_subtract, national_poll_delta_divide, previous_party, dem_win_margin_prev, rep_win_margin_prev, margin_signed_minus_prev, margin_signed_divide_prev, margin_unsigned_minus_prev, margin_unsigned_divide_prev, dem_win_prev, rep_win_prev, dem_win, rep_win]\n",
       "Index: []"
      ]
     },
     "execution_count": 32,
     "metadata": {},
     "output_type": "execute_result"
    }
   ],
   "source": [
    "data[data.isnull().any(axis=1)]"
   ]
  },
  {
   "cell_type": "code",
   "execution_count": 36,
   "metadata": {},
   "outputs": [
    {
     "data": {
      "text/plain": [
       "False"
      ]
     },
     "execution_count": 36,
     "metadata": {},
     "output_type": "execute_result"
    }
   ],
   "source": [
    "data.isnull().any().any()"
   ]
  },
  {
   "cell_type": "code",
   "execution_count": 10,
   "metadata": {},
   "outputs": [
    {
     "data": {
      "text/html": [
       "<div>\n",
       "<style scoped>\n",
       "    .dataframe tbody tr th:only-of-type {\n",
       "        vertical-align: middle;\n",
       "    }\n",
       "\n",
       "    .dataframe tbody tr th {\n",
       "        vertical-align: top;\n",
       "    }\n",
       "\n",
       "    .dataframe thead th {\n",
       "        text-align: right;\n",
       "    }\n",
       "</style>\n",
       "<table border=\"1\" class=\"dataframe\">\n",
       "  <thead>\n",
       "    <tr style=\"text-align: right;\">\n",
       "      <th></th>\n",
       "      <th>district</th>\n",
       "      <th>state</th>\n",
       "      <th>year</th>\n",
       "      <th>party</th>\n",
       "      <th>candidatevotes</th>\n",
       "      <th>totalvotes</th>\n",
       "      <th>candidate</th>\n",
       "      <th>national_poll</th>\n",
       "      <th>national_poll_prev</th>\n",
       "      <th>national_poll_delta_subtract</th>\n",
       "      <th>national_poll_delta_divide</th>\n",
       "      <th>previous_party</th>\n",
       "      <th>dem_win_margin_prev</th>\n",
       "      <th>rep_win_margin_prev</th>\n",
       "      <th>margin_signed_minus_prev</th>\n",
       "      <th>margin_signed_divide_prev</th>\n",
       "      <th>margin_unsigned_minus_prev</th>\n",
       "      <th>margin_unsigned_divide_prev</th>\n",
       "      <th>dem_win_prev</th>\n",
       "      <th>rep_win_prev</th>\n",
       "      <th>dem_win</th>\n",
       "      <th>rep_win</th>\n",
       "    </tr>\n",
       "  </thead>\n",
       "  <tbody>\n",
       "  </tbody>\n",
       "</table>\n",
       "</div>"
      ],
      "text/plain": [
       "Empty DataFrame\n",
       "Columns: [district, state, year, party, candidatevotes, totalvotes, candidate, national_poll, national_poll_prev, national_poll_delta_subtract, national_poll_delta_divide, previous_party, dem_win_margin_prev, rep_win_margin_prev, margin_signed_minus_prev, margin_signed_divide_prev, margin_unsigned_minus_prev, margin_unsigned_divide_prev, dem_win_prev, rep_win_prev, dem_win, rep_win]\n",
       "Index: []"
      ]
     },
     "execution_count": 10,
     "metadata": {},
     "output_type": "execute_result"
    }
   ],
   "source": [
    "data[(data['party'] != 'republican') & (data['party'] != 'democrat')]"
   ]
  },
  {
   "cell_type": "code",
   "execution_count": 11,
   "metadata": {},
   "outputs": [
    {
     "data": {
      "text/html": [
       "<div>\n",
       "<style scoped>\n",
       "    .dataframe tbody tr th:only-of-type {\n",
       "        vertical-align: middle;\n",
       "    }\n",
       "\n",
       "    .dataframe tbody tr th {\n",
       "        vertical-align: top;\n",
       "    }\n",
       "\n",
       "    .dataframe thead th {\n",
       "        text-align: right;\n",
       "    }\n",
       "</style>\n",
       "<table border=\"1\" class=\"dataframe\">\n",
       "  <thead>\n",
       "    <tr style=\"text-align: right;\">\n",
       "      <th></th>\n",
       "      <th>district</th>\n",
       "      <th>state</th>\n",
       "      <th>year</th>\n",
       "      <th>party</th>\n",
       "      <th>candidatevotes</th>\n",
       "      <th>totalvotes</th>\n",
       "      <th>candidate</th>\n",
       "      <th>national_poll</th>\n",
       "      <th>national_poll_prev</th>\n",
       "      <th>national_poll_delta_subtract</th>\n",
       "      <th>national_poll_delta_divide</th>\n",
       "      <th>previous_party</th>\n",
       "      <th>dem_win_margin_prev</th>\n",
       "      <th>rep_win_margin_prev</th>\n",
       "      <th>margin_signed_minus_prev</th>\n",
       "      <th>margin_signed_divide_prev</th>\n",
       "      <th>margin_unsigned_minus_prev</th>\n",
       "      <th>margin_unsigned_divide_prev</th>\n",
       "      <th>dem_win_prev</th>\n",
       "      <th>rep_win_prev</th>\n",
       "      <th>dem_win</th>\n",
       "      <th>rep_win</th>\n",
       "    </tr>\n",
       "  </thead>\n",
       "  <tbody>\n",
       "  </tbody>\n",
       "</table>\n",
       "</div>"
      ],
      "text/plain": [
       "Empty DataFrame\n",
       "Columns: [district, state, year, party, candidatevotes, totalvotes, candidate, national_poll, national_poll_prev, national_poll_delta_subtract, national_poll_delta_divide, previous_party, dem_win_margin_prev, rep_win_margin_prev, margin_signed_minus_prev, margin_signed_divide_prev, margin_unsigned_minus_prev, margin_unsigned_divide_prev, dem_win_prev, rep_win_prev, dem_win, rep_win]\n",
       "Index: []"
      ]
     },
     "execution_count": 11,
     "metadata": {},
     "output_type": "execute_result"
    }
   ],
   "source": [
    "data[(data['previous_party'] != 'republican') & (data['previous_party'] != 'democrat')]"
   ]
  },
  {
   "cell_type": "code",
   "execution_count": 12,
   "metadata": {},
   "outputs": [
    {
     "data": {
      "text/html": [
       "<div>\n",
       "<style scoped>\n",
       "    .dataframe tbody tr th:only-of-type {\n",
       "        vertical-align: middle;\n",
       "    }\n",
       "\n",
       "    .dataframe tbody tr th {\n",
       "        vertical-align: top;\n",
       "    }\n",
       "\n",
       "    .dataframe thead th {\n",
       "        text-align: right;\n",
       "    }\n",
       "</style>\n",
       "<table border=\"1\" class=\"dataframe\">\n",
       "  <thead>\n",
       "    <tr style=\"text-align: right;\">\n",
       "      <th></th>\n",
       "      <th>candidate</th>\n",
       "      <th>candidatevotes</th>\n",
       "      <th>district</th>\n",
       "      <th>office</th>\n",
       "      <th>party</th>\n",
       "      <th>special</th>\n",
       "      <th>stage</th>\n",
       "      <th>state_cen</th>\n",
       "      <th>state_fips</th>\n",
       "      <th>state_ic</th>\n",
       "      <th>state</th>\n",
       "      <th>totalvotes</th>\n",
       "      <th>version</th>\n",
       "      <th>writein</th>\n",
       "      <th>year</th>\n",
       "    </tr>\n",
       "  </thead>\n",
       "  <tbody>\n",
       "    <tr>\n",
       "      <th>PA_10_2002</th>\n",
       "      <td>Don Sherwood</td>\n",
       "      <td>152017.0</td>\n",
       "      <td>10</td>\n",
       "      <td>US House</td>\n",
       "      <td>republican/democrat</td>\n",
       "      <td>0.0</td>\n",
       "      <td>gen</td>\n",
       "      <td>23.0</td>\n",
       "      <td>42.0</td>\n",
       "      <td>14.0</td>\n",
       "      <td>PA</td>\n",
       "      <td>164159.0</td>\n",
       "      <td>20171005.0</td>\n",
       "      <td>0.0</td>\n",
       "      <td>2002</td>\n",
       "    </tr>\n",
       "  </tbody>\n",
       "</table>\n",
       "</div>"
      ],
      "text/plain": [
       "               candidate  candidatevotes  district    office  \\\n",
       "PA_10_2002  Don Sherwood        152017.0        10  US House   \n",
       "\n",
       "                          party  special stage  state_cen  state_fips  \\\n",
       "PA_10_2002  republican/democrat      0.0   gen       23.0        42.0   \n",
       "\n",
       "            state_ic state  totalvotes     version  writein  year  \n",
       "PA_10_2002      14.0    PA    164159.0  20171005.0      0.0  2002  "
      ]
     },
     "execution_count": 12,
     "metadata": {},
     "output_type": "execute_result"
    }
   ],
   "source": [
    "winners_df[winners_df.index == 'PA_10_2002']"
   ]
  },
  {
   "cell_type": "code",
   "execution_count": 13,
   "metadata": {},
   "outputs": [
    {
     "data": {
      "text/html": [
       "<div>\n",
       "<style scoped>\n",
       "    .dataframe tbody tr th:only-of-type {\n",
       "        vertical-align: middle;\n",
       "    }\n",
       "\n",
       "    .dataframe tbody tr th {\n",
       "        vertical-align: top;\n",
       "    }\n",
       "\n",
       "    .dataframe thead th {\n",
       "        text-align: right;\n",
       "    }\n",
       "</style>\n",
       "<table border=\"1\" class=\"dataframe\">\n",
       "  <thead>\n",
       "    <tr style=\"text-align: right;\">\n",
       "      <th></th>\n",
       "      <th>candidate</th>\n",
       "      <th>candidatevotes</th>\n",
       "      <th>district</th>\n",
       "      <th>office</th>\n",
       "      <th>party</th>\n",
       "      <th>special</th>\n",
       "      <th>stage</th>\n",
       "      <th>state_cen</th>\n",
       "      <th>state_fips</th>\n",
       "      <th>state_ic</th>\n",
       "      <th>state</th>\n",
       "      <th>totalvotes</th>\n",
       "      <th>version</th>\n",
       "      <th>writein</th>\n",
       "      <th>year</th>\n",
       "    </tr>\n",
       "  </thead>\n",
       "  <tbody>\n",
       "    <tr>\n",
       "      <th>SC_01_2002</th>\n",
       "      <td>Henry E. Brown Jr.</td>\n",
       "      <td>127562.0</td>\n",
       "      <td>1</td>\n",
       "      <td>US House</td>\n",
       "      <td>reform</td>\n",
       "      <td>0.0</td>\n",
       "      <td>gen</td>\n",
       "      <td>57.0</td>\n",
       "      <td>45.0</td>\n",
       "      <td>48.0</td>\n",
       "      <td>SC</td>\n",
       "      <td>142425.0</td>\n",
       "      <td>20171005.0</td>\n",
       "      <td>0.0</td>\n",
       "      <td>2002</td>\n",
       "    </tr>\n",
       "  </tbody>\n",
       "</table>\n",
       "</div>"
      ],
      "text/plain": [
       "                     candidate  candidatevotes  district    office   party  \\\n",
       "SC_01_2002  Henry E. Brown Jr.        127562.0         1  US House  reform   \n",
       "\n",
       "            special stage  state_cen  state_fips  state_ic state  totalvotes  \\\n",
       "SC_01_2002      0.0   gen       57.0        45.0      48.0    SC    142425.0   \n",
       "\n",
       "               version  writein  year  \n",
       "SC_01_2002  20171005.0      0.0  2002  "
      ]
     },
     "execution_count": 13,
     "metadata": {},
     "output_type": "execute_result"
    }
   ],
   "source": [
    "winners_df[winners_df['party'] == 'reform']"
   ]
  },
  {
   "cell_type": "code",
   "execution_count": 14,
   "metadata": {},
   "outputs": [
    {
     "data": {
      "text/html": [
       "<div>\n",
       "<style scoped>\n",
       "    .dataframe tbody tr th:only-of-type {\n",
       "        vertical-align: middle;\n",
       "    }\n",
       "\n",
       "    .dataframe tbody tr th {\n",
       "        vertical-align: top;\n",
       "    }\n",
       "\n",
       "    .dataframe thead th {\n",
       "        text-align: right;\n",
       "    }\n",
       "</style>\n",
       "<table border=\"1\" class=\"dataframe\">\n",
       "  <thead>\n",
       "    <tr style=\"text-align: right;\">\n",
       "      <th></th>\n",
       "      <th>candidate</th>\n",
       "      <th>candidatevotes</th>\n",
       "      <th>district</th>\n",
       "      <th>office</th>\n",
       "      <th>party</th>\n",
       "      <th>special</th>\n",
       "      <th>stage</th>\n",
       "      <th>state_cen</th>\n",
       "      <th>state_fips</th>\n",
       "      <th>state_ic</th>\n",
       "      <th>state</th>\n",
       "      <th>totalvotes</th>\n",
       "      <th>version</th>\n",
       "      <th>writein</th>\n",
       "      <th>year</th>\n",
       "    </tr>\n",
       "  </thead>\n",
       "  <tbody>\n",
       "    <tr>\n",
       "      <th>MS_01_2004</th>\n",
       "      <td>Barbara Dale Washer</td>\n",
       "      <td>58256.0</td>\n",
       "      <td>1</td>\n",
       "      <td>US House</td>\n",
       "      <td>reform</td>\n",
       "      <td>0.0</td>\n",
       "      <td>gen</td>\n",
       "      <td>64.0</td>\n",
       "      <td>28.0</td>\n",
       "      <td>46.0</td>\n",
       "      <td>MS</td>\n",
       "      <td>277584.0</td>\n",
       "      <td>20171005.0</td>\n",
       "      <td>0.0</td>\n",
       "      <td>2004</td>\n",
       "    </tr>\n",
       "  </tbody>\n",
       "</table>\n",
       "</div>"
      ],
      "text/plain": [
       "                      candidate  candidatevotes  district    office   party  \\\n",
       "MS_01_2004  Barbara Dale Washer         58256.0         1  US House  reform   \n",
       "\n",
       "            special stage  state_cen  state_fips  state_ic state  totalvotes  \\\n",
       "MS_01_2004      0.0   gen       64.0        28.0      46.0    MS    277584.0   \n",
       "\n",
       "               version  writein  year  \n",
       "MS_01_2004  20171005.0      0.0  2004  "
      ]
     },
     "execution_count": 14,
     "metadata": {},
     "output_type": "execute_result"
    }
   ],
   "source": [
    "winners2_df[winners2_df['party'] == 'reform']"
   ]
  },
  {
   "cell_type": "code",
   "execution_count": 15,
   "metadata": {},
   "outputs": [
    {
     "data": {
      "text/plain": [
       "{2004, 2006, 2008, 2010, 2012, 2014, 2016}"
      ]
     },
     "execution_count": 15,
     "metadata": {},
     "output_type": "execute_result"
    }
   ],
   "source": [
    "set(data['year'].values)"
   ]
  },
  {
   "cell_type": "code",
   "execution_count": 16,
   "metadata": {},
   "outputs": [
    {
     "data": {
      "text/html": [
       "<div>\n",
       "<style scoped>\n",
       "    .dataframe tbody tr th:only-of-type {\n",
       "        vertical-align: middle;\n",
       "    }\n",
       "\n",
       "    .dataframe tbody tr th {\n",
       "        vertical-align: top;\n",
       "    }\n",
       "\n",
       "    .dataframe thead th {\n",
       "        text-align: right;\n",
       "    }\n",
       "</style>\n",
       "<table border=\"1\" class=\"dataframe\">\n",
       "  <thead>\n",
       "    <tr style=\"text-align: right;\">\n",
       "      <th></th>\n",
       "      <th>candidate</th>\n",
       "      <th>candidatevotes</th>\n",
       "      <th>district</th>\n",
       "      <th>office</th>\n",
       "      <th>party</th>\n",
       "      <th>special</th>\n",
       "      <th>stage</th>\n",
       "      <th>state_cen</th>\n",
       "      <th>state_fips</th>\n",
       "      <th>state_ic</th>\n",
       "      <th>state</th>\n",
       "      <th>totalvotes</th>\n",
       "      <th>version</th>\n",
       "      <th>writein</th>\n",
       "      <th>year</th>\n",
       "    </tr>\n",
       "  </thead>\n",
       "  <tbody>\n",
       "    <tr>\n",
       "      <th>CO_06_2002</th>\n",
       "      <td>Thomas G. Tancredo</td>\n",
       "      <td>158851.0</td>\n",
       "      <td>6</td>\n",
       "      <td>US House</td>\n",
       "      <td>NaN</td>\n",
       "      <td>0.0</td>\n",
       "      <td>gen</td>\n",
       "      <td>84.0</td>\n",
       "      <td>8.0</td>\n",
       "      <td>62.0</td>\n",
       "      <td>CO</td>\n",
       "      <td>237501.0</td>\n",
       "      <td>20171005.0</td>\n",
       "      <td>0.0</td>\n",
       "      <td>2002</td>\n",
       "    </tr>\n",
       "  </tbody>\n",
       "</table>\n",
       "</div>"
      ],
      "text/plain": [
       "                     candidate  candidatevotes  district    office party  \\\n",
       "CO_06_2002  Thomas G. Tancredo        158851.0         6  US House   NaN   \n",
       "\n",
       "            special stage  state_cen  state_fips  state_ic state  totalvotes  \\\n",
       "CO_06_2002      0.0   gen       84.0         8.0      62.0    CO    237501.0   \n",
       "\n",
       "               version  writein  year  \n",
       "CO_06_2002  20171005.0      0.0  2002  "
      ]
     },
     "execution_count": 16,
     "metadata": {},
     "output_type": "execute_result"
    }
   ],
   "source": [
    "winners_df.iloc[np.where(winners_df.index == 'CO_06_2002')]"
   ]
  },
  {
   "cell_type": "code",
   "execution_count": 17,
   "metadata": {
    "scrolled": false
   },
   "outputs": [],
   "source": [
    "for col in data.columns:\n",
    "    if any(pd.isnull(data[col])):\n",
    "        print('@@@@@')\n",
    "        print(col)\n",
    "        print(data.loc[pd.isnull(data[col])])\n",
    "        print(data.loc[pd.isnull(data[col])].shape)\n",
    "        print('@@@@@')"
   ]
  },
  {
   "cell_type": "code",
   "execution_count": 18,
   "metadata": {},
   "outputs": [
    {
     "data": {
      "text/html": [
       "<div>\n",
       "<style scoped>\n",
       "    .dataframe tbody tr th:only-of-type {\n",
       "        vertical-align: middle;\n",
       "    }\n",
       "\n",
       "    .dataframe tbody tr th {\n",
       "        vertical-align: top;\n",
       "    }\n",
       "\n",
       "    .dataframe thead th {\n",
       "        text-align: right;\n",
       "    }\n",
       "</style>\n",
       "<table border=\"1\" class=\"dataframe\">\n",
       "  <thead>\n",
       "    <tr style=\"text-align: right;\">\n",
       "      <th></th>\n",
       "      <th>district</th>\n",
       "      <th>state</th>\n",
       "      <th>year</th>\n",
       "      <th>party</th>\n",
       "      <th>candidatevotes</th>\n",
       "      <th>totalvotes</th>\n",
       "      <th>candidate</th>\n",
       "      <th>national_poll</th>\n",
       "      <th>national_poll_prev</th>\n",
       "      <th>national_poll_delta_subtract</th>\n",
       "      <th>national_poll_delta_divide</th>\n",
       "      <th>previous_party</th>\n",
       "      <th>dem_win_margin_prev</th>\n",
       "      <th>rep_win_margin_prev</th>\n",
       "      <th>margin_signed_minus_prev</th>\n",
       "      <th>margin_signed_divide_prev</th>\n",
       "      <th>margin_unsigned_minus_prev</th>\n",
       "      <th>margin_unsigned_divide_prev</th>\n",
       "      <th>dem_win_prev</th>\n",
       "      <th>rep_win_prev</th>\n",
       "      <th>dem_win</th>\n",
       "      <th>rep_win</th>\n",
       "    </tr>\n",
       "  </thead>\n",
       "  <tbody>\n",
       "    <tr>\n",
       "      <th>AK_01_2004</th>\n",
       "      <td>1</td>\n",
       "      <td>AK</td>\n",
       "      <td>2004</td>\n",
       "      <td>republican</td>\n",
       "      <td>213216.0</td>\n",
       "      <td>299996.0</td>\n",
       "      <td>Don Young</td>\n",
       "      <td>3.680556</td>\n",
       "      <td>-0.989011</td>\n",
       "      <td>4.669567</td>\n",
       "      <td>-3.721451</td>\n",
       "      <td>republican</td>\n",
       "      <td>0.172827</td>\n",
       "      <td>0.745131</td>\n",
       "      <td>-0.572304</td>\n",
       "      <td>0.231942</td>\n",
       "      <td>0.572304</td>\n",
       "      <td>4.311431</td>\n",
       "      <td>0.0</td>\n",
       "      <td>1.0</td>\n",
       "      <td>0.0</td>\n",
       "      <td>1.0</td>\n",
       "    </tr>\n",
       "    <tr>\n",
       "      <th>AL_01_2004</th>\n",
       "      <td>1</td>\n",
       "      <td>AL</td>\n",
       "      <td>2004</td>\n",
       "      <td>republican</td>\n",
       "      <td>161067.0</td>\n",
       "      <td>255164.0</td>\n",
       "      <td>Jo Bonner</td>\n",
       "      <td>3.680556</td>\n",
       "      <td>-0.989011</td>\n",
       "      <td>4.669567</td>\n",
       "      <td>-3.721451</td>\n",
       "      <td>republican</td>\n",
       "      <td>0.377795</td>\n",
       "      <td>0.604980</td>\n",
       "      <td>-0.227185</td>\n",
       "      <td>0.624475</td>\n",
       "      <td>0.227185</td>\n",
       "      <td>1.601345</td>\n",
       "      <td>0.0</td>\n",
       "      <td>1.0</td>\n",
       "      <td>0.0</td>\n",
       "      <td>1.0</td>\n",
       "    </tr>\n",
       "    <tr>\n",
       "      <th>AL_02_2004</th>\n",
       "      <td>2</td>\n",
       "      <td>AL</td>\n",
       "      <td>2004</td>\n",
       "      <td>republican</td>\n",
       "      <td>177086.0</td>\n",
       "      <td>247947.0</td>\n",
       "      <td>Terry Everett</td>\n",
       "      <td>3.680556</td>\n",
       "      <td>-0.989011</td>\n",
       "      <td>4.669567</td>\n",
       "      <td>-3.721451</td>\n",
       "      <td>republican</td>\n",
       "      <td>0.295241</td>\n",
       "      <td>0.687538</td>\n",
       "      <td>-0.392296</td>\n",
       "      <td>0.429418</td>\n",
       "      <td>0.392296</td>\n",
       "      <td>2.328732</td>\n",
       "      <td>0.0</td>\n",
       "      <td>1.0</td>\n",
       "      <td>0.0</td>\n",
       "      <td>1.0</td>\n",
       "    </tr>\n",
       "    <tr>\n",
       "      <th>AL_03_2004</th>\n",
       "      <td>3</td>\n",
       "      <td>AL</td>\n",
       "      <td>2004</td>\n",
       "      <td>republican</td>\n",
       "      <td>150411.0</td>\n",
       "      <td>245784.0</td>\n",
       "      <td>Mike Rogers</td>\n",
       "      <td>3.680556</td>\n",
       "      <td>-0.989011</td>\n",
       "      <td>4.669567</td>\n",
       "      <td>-3.721451</td>\n",
       "      <td>republican</td>\n",
       "      <td>0.482008</td>\n",
       "      <td>0.503076</td>\n",
       "      <td>-0.021068</td>\n",
       "      <td>0.958122</td>\n",
       "      <td>0.021068</td>\n",
       "      <td>1.043709</td>\n",
       "      <td>0.0</td>\n",
       "      <td>1.0</td>\n",
       "      <td>0.0</td>\n",
       "      <td>1.0</td>\n",
       "    </tr>\n",
       "    <tr>\n",
       "      <th>AL_04_2004</th>\n",
       "      <td>4</td>\n",
       "      <td>AL</td>\n",
       "      <td>2004</td>\n",
       "      <td>republican</td>\n",
       "      <td>191110.0</td>\n",
       "      <td>255724.0</td>\n",
       "      <td>Robert B. Aderholt</td>\n",
       "      <td>3.680556</td>\n",
       "      <td>-0.989011</td>\n",
       "      <td>4.669567</td>\n",
       "      <td>-3.721451</td>\n",
       "      <td>republican</td>\n",
       "      <td>0.129472</td>\n",
       "      <td>0.867189</td>\n",
       "      <td>-0.737717</td>\n",
       "      <td>0.149300</td>\n",
       "      <td>0.737717</td>\n",
       "      <td>6.697910</td>\n",
       "      <td>0.0</td>\n",
       "      <td>1.0</td>\n",
       "      <td>0.0</td>\n",
       "      <td>1.0</td>\n",
       "    </tr>\n",
       "  </tbody>\n",
       "</table>\n",
       "</div>"
      ],
      "text/plain": [
       "            district state  year       party  candidatevotes  totalvotes  \\\n",
       "AK_01_2004         1    AK  2004  republican        213216.0    299996.0   \n",
       "AL_01_2004         1    AL  2004  republican        161067.0    255164.0   \n",
       "AL_02_2004         2    AL  2004  republican        177086.0    247947.0   \n",
       "AL_03_2004         3    AL  2004  republican        150411.0    245784.0   \n",
       "AL_04_2004         4    AL  2004  republican        191110.0    255724.0   \n",
       "\n",
       "                     candidate  national_poll  national_poll_prev  \\\n",
       "AK_01_2004           Don Young       3.680556           -0.989011   \n",
       "AL_01_2004           Jo Bonner       3.680556           -0.989011   \n",
       "AL_02_2004       Terry Everett       3.680556           -0.989011   \n",
       "AL_03_2004         Mike Rogers       3.680556           -0.989011   \n",
       "AL_04_2004  Robert B. Aderholt       3.680556           -0.989011   \n",
       "\n",
       "            national_poll_delta_subtract  national_poll_delta_divide  \\\n",
       "AK_01_2004                      4.669567                   -3.721451   \n",
       "AL_01_2004                      4.669567                   -3.721451   \n",
       "AL_02_2004                      4.669567                   -3.721451   \n",
       "AL_03_2004                      4.669567                   -3.721451   \n",
       "AL_04_2004                      4.669567                   -3.721451   \n",
       "\n",
       "           previous_party  dem_win_margin_prev  rep_win_margin_prev  \\\n",
       "AK_01_2004     republican             0.172827             0.745131   \n",
       "AL_01_2004     republican             0.377795             0.604980   \n",
       "AL_02_2004     republican             0.295241             0.687538   \n",
       "AL_03_2004     republican             0.482008             0.503076   \n",
       "AL_04_2004     republican             0.129472             0.867189   \n",
       "\n",
       "            margin_signed_minus_prev  margin_signed_divide_prev  \\\n",
       "AK_01_2004                 -0.572304                   0.231942   \n",
       "AL_01_2004                 -0.227185                   0.624475   \n",
       "AL_02_2004                 -0.392296                   0.429418   \n",
       "AL_03_2004                 -0.021068                   0.958122   \n",
       "AL_04_2004                 -0.737717                   0.149300   \n",
       "\n",
       "            margin_unsigned_minus_prev  margin_unsigned_divide_prev  \\\n",
       "AK_01_2004                    0.572304                     4.311431   \n",
       "AL_01_2004                    0.227185                     1.601345   \n",
       "AL_02_2004                    0.392296                     2.328732   \n",
       "AL_03_2004                    0.021068                     1.043709   \n",
       "AL_04_2004                    0.737717                     6.697910   \n",
       "\n",
       "            dem_win_prev  rep_win_prev  dem_win  rep_win  \n",
       "AK_01_2004           0.0           1.0      0.0      1.0  \n",
       "AL_01_2004           0.0           1.0      0.0      1.0  \n",
       "AL_02_2004           0.0           1.0      0.0      1.0  \n",
       "AL_03_2004           0.0           1.0      0.0      1.0  \n",
       "AL_04_2004           0.0           1.0      0.0      1.0  "
      ]
     },
     "execution_count": 18,
     "metadata": {},
     "output_type": "execute_result"
    }
   ],
   "source": [
    "data.head()"
   ]
  },
  {
   "cell_type": "code",
   "execution_count": 19,
   "metadata": {},
   "outputs": [],
   "source": [
    "#hfunc.fetch_index(winners_df, save=True, load=False)"
   ]
  },
  {
   "cell_type": "code",
   "execution_count": 37,
   "metadata": {},
   "outputs": [],
   "source": [
    "pickle.dump(data, open('Datasets/data.p', 'wb'))"
   ]
  },
  {
   "cell_type": "code",
   "execution_count": 21,
   "metadata": {},
   "outputs": [],
   "source": [
    "import pandas as pd\n",
    "import numpy as np\n",
    "from functions import houseFunctions as hfunc\n",
    "import pickle\n",
    "dataset = pickle.load(open('Datasets/data.p', 'rb'))"
   ]
  },
  {
   "cell_type": "code",
   "execution_count": 22,
   "metadata": {},
   "outputs": [
    {
     "data": {
      "text/plain": [
       "Index(['dem_win', 'dem_win_prev', 'margin_signed_minus_prev', 'national_poll'], dtype='object')"
      ]
     },
     "execution_count": 22,
     "metadata": {},
     "output_type": "execute_result"
    }
   ],
   "source": [
    "dataset = dataset.loc[:,['dem_win', 'dem_win_prev', 'margin_signed_minus_prev', 'national_poll']]\n",
    "dataset.columns"
   ]
  },
  {
   "cell_type": "code",
   "execution_count": 23,
   "metadata": {},
   "outputs": [
    {
     "data": {
      "text/html": [
       "<div>\n",
       "<style scoped>\n",
       "    .dataframe tbody tr th:only-of-type {\n",
       "        vertical-align: middle;\n",
       "    }\n",
       "\n",
       "    .dataframe tbody tr th {\n",
       "        vertical-align: top;\n",
       "    }\n",
       "\n",
       "    .dataframe thead th {\n",
       "        text-align: right;\n",
       "    }\n",
       "</style>\n",
       "<table border=\"1\" class=\"dataframe\">\n",
       "  <thead>\n",
       "    <tr style=\"text-align: right;\">\n",
       "      <th></th>\n",
       "      <th>dem_win</th>\n",
       "      <th>dem_win_prev</th>\n",
       "      <th>margin_signed_minus_prev</th>\n",
       "      <th>national_poll</th>\n",
       "    </tr>\n",
       "  </thead>\n",
       "  <tbody>\n",
       "  </tbody>\n",
       "</table>\n",
       "</div>"
      ],
      "text/plain": [
       "Empty DataFrame\n",
       "Columns: [dem_win, dem_win_prev, margin_signed_minus_prev, national_poll]\n",
       "Index: []"
      ]
     },
     "execution_count": 23,
     "metadata": {},
     "output_type": "execute_result"
    }
   ],
   "source": [
    "dataset.loc[pd.isnull(dataset['dem_win']),:]"
   ]
  },
  {
   "cell_type": "code",
   "execution_count": 24,
   "metadata": {},
   "outputs": [
    {
     "name": "stdout",
     "output_type": "stream",
     "text": [
      "Once deleted, variables cannot be recovered. Proceed (y/[n])? n\n",
      "Nothing done.\n"
     ]
    }
   ],
   "source": [
    "%reset"
   ]
  },
  {
   "cell_type": "code",
   "execution_count": 25,
   "metadata": {},
   "outputs": [],
   "source": [
    "dirty2018ResFile = 'Datasets/fec/dirty-2018.csv'\n",
    "test = pd.read_csv(dirty2018ResFile).iloc[1:-2]"
   ]
  },
  {
   "cell_type": "code",
   "execution_count": 26,
   "metadata": {},
   "outputs": [
    {
     "data": {
      "text/html": [
       "<div>\n",
       "<style scoped>\n",
       "    .dataframe tbody tr th:only-of-type {\n",
       "        vertical-align: middle;\n",
       "    }\n",
       "\n",
       "    .dataframe tbody tr th {\n",
       "        vertical-align: top;\n",
       "    }\n",
       "\n",
       "    .dataframe thead th {\n",
       "        text-align: right;\n",
       "    }\n",
       "</style>\n",
       "<table border=\"1\" class=\"dataframe\">\n",
       "  <thead>\n",
       "    <tr style=\"text-align: right;\">\n",
       "      <th></th>\n",
       "      <th>District</th>\n",
       "      <th>CPVI[35][36]</th>\n",
       "      <th>Incumbent</th>\n",
       "      <th>Previous</th>\n",
       "      <th>Cook</th>\n",
       "      <th>I.E.</th>\n",
       "      <th>Sab.</th>\n",
       "      <th>RCP</th>\n",
       "      <th>Daily Kos</th>\n",
       "      <th>538</th>\n",
       "      <th>RRH Elections</th>\n",
       "      <th>Winner[45]</th>\n",
       "    </tr>\n",
       "  </thead>\n",
       "  <tbody>\n",
       "    <tr>\n",
       "      <th>1</th>\n",
       "      <td>Alaska at-large</td>\n",
       "      <td>R+9</td>\n",
       "      <td>Don Young (R)</td>\n",
       "      <td>50.3% R</td>\n",
       "      <td>Lean R</td>\n",
       "      <td>Likely R</td>\n",
       "      <td>Lean R</td>\n",
       "      <td>Tossup</td>\n",
       "      <td>Lean R</td>\n",
       "      <td>Lean R</td>\n",
       "      <td>Lean R</td>\n",
       "      <td>Don Young (R)</td>\n",
       "    </tr>\n",
       "    <tr>\n",
       "      <th>2</th>\n",
       "      <td>Arizona 1</td>\n",
       "      <td>R+2</td>\n",
       "      <td>Tom O'Halleran (D)</td>\n",
       "      <td>50.7% D</td>\n",
       "      <td>Lean D</td>\n",
       "      <td>Lean D</td>\n",
       "      <td>Likely D</td>\n",
       "      <td>Tossup</td>\n",
       "      <td>Likely D</td>\n",
       "      <td>Likely D</td>\n",
       "      <td>Lean D</td>\n",
       "      <td>Tom O'Halleran(D)</td>\n",
       "    </tr>\n",
       "    <tr>\n",
       "      <th>3</th>\n",
       "      <td>Arizona 2</td>\n",
       "      <td>R+1</td>\n",
       "      <td>Martha McSally (R) (Retiring)</td>\n",
       "      <td>57.0% R</td>\n",
       "      <td>Lean D (flip)</td>\n",
       "      <td>Lean D (flip)</td>\n",
       "      <td>Likely D (flip)</td>\n",
       "      <td>Lean D (flip)</td>\n",
       "      <td>Likely D (flip)</td>\n",
       "      <td>Safe D (flip)</td>\n",
       "      <td>Lean D (flip)</td>\n",
       "      <td>Ann Kirkpatrick (D)</td>\n",
       "    </tr>\n",
       "    <tr>\n",
       "      <th>4</th>\n",
       "      <td>Arizona 6</td>\n",
       "      <td>R+9</td>\n",
       "      <td>David Schweikert (R)</td>\n",
       "      <td>62.1% R</td>\n",
       "      <td>Likely R</td>\n",
       "      <td>Safe R</td>\n",
       "      <td>Likely R</td>\n",
       "      <td>Likely R</td>\n",
       "      <td>Safe R</td>\n",
       "      <td>Likely R</td>\n",
       "      <td>Likely R</td>\n",
       "      <td>David Schweikert(R)</td>\n",
       "    </tr>\n",
       "    <tr>\n",
       "      <th>5</th>\n",
       "      <td>Arizona 8</td>\n",
       "      <td>R+13</td>\n",
       "      <td>Debbie Lesko (R)</td>\n",
       "      <td>52.4% R</td>\n",
       "      <td>Likely R</td>\n",
       "      <td>Likely R</td>\n",
       "      <td>Likely R</td>\n",
       "      <td>Likely R</td>\n",
       "      <td>Safe R</td>\n",
       "      <td>Likely R</td>\n",
       "      <td>Likely R</td>\n",
       "      <td>Debbie Lesko (R)</td>\n",
       "    </tr>\n",
       "  </tbody>\n",
       "</table>\n",
       "</div>"
      ],
      "text/plain": [
       "          District CPVI[35][36]                      Incumbent Previous  \\\n",
       "1  Alaska at-large          R+9                  Don Young (R)  50.3% R   \n",
       "2        Arizona 1          R+2             Tom O'Halleran (D)  50.7% D   \n",
       "3        Arizona 2          R+1  Martha McSally (R) (Retiring)  57.0% R   \n",
       "4        Arizona 6          R+9           David Schweikert (R)  62.1% R   \n",
       "5        Arizona 8         R+13               Debbie Lesko (R)  52.4% R   \n",
       "\n",
       "            Cook           I.E.             Sab.            RCP  \\\n",
       "1         Lean R       Likely R           Lean R         Tossup   \n",
       "2         Lean D         Lean D         Likely D         Tossup   \n",
       "3  Lean D (flip)  Lean D (flip)  Likely D (flip)  Lean D (flip)   \n",
       "4       Likely R         Safe R         Likely R       Likely R   \n",
       "5       Likely R       Likely R         Likely R       Likely R   \n",
       "\n",
       "         Daily Kos            538  RRH Elections           Winner[45]  \n",
       "1           Lean R         Lean R         Lean R        Don Young (R)  \n",
       "2         Likely D       Likely D         Lean D    Tom O'Halleran(D)  \n",
       "3  Likely D (flip)  Safe D (flip)  Lean D (flip)  Ann Kirkpatrick (D)  \n",
       "4           Safe R       Likely R       Likely R  David Schweikert(R)  \n",
       "5           Safe R       Likely R       Likely R     Debbie Lesko (R)  "
      ]
     },
     "execution_count": 26,
     "metadata": {},
     "output_type": "execute_result"
    }
   ],
   "source": [
    "test.head()"
   ]
  },
  {
   "cell_type": "code",
   "execution_count": 27,
   "metadata": {},
   "outputs": [
    {
     "data": {
      "text/html": [
       "<div>\n",
       "<style scoped>\n",
       "    .dataframe tbody tr th:only-of-type {\n",
       "        vertical-align: middle;\n",
       "    }\n",
       "\n",
       "    .dataframe tbody tr th {\n",
       "        vertical-align: top;\n",
       "    }\n",
       "\n",
       "    .dataframe thead th {\n",
       "        text-align: right;\n",
       "    }\n",
       "</style>\n",
       "<table border=\"1\" class=\"dataframe\">\n",
       "  <thead>\n",
       "    <tr style=\"text-align: right;\">\n",
       "      <th></th>\n",
       "      <th>District</th>\n",
       "      <th>CPVI[35][36]</th>\n",
       "      <th>Incumbent</th>\n",
       "      <th>Previous</th>\n",
       "      <th>Cook</th>\n",
       "      <th>I.E.</th>\n",
       "      <th>Sab.</th>\n",
       "      <th>RCP</th>\n",
       "      <th>Daily Kos</th>\n",
       "      <th>538</th>\n",
       "      <th>RRH Elections</th>\n",
       "      <th>Winner[45]</th>\n",
       "    </tr>\n",
       "  </thead>\n",
       "  <tbody>\n",
       "    <tr>\n",
       "      <th>134</th>\n",
       "      <td>West Virginia 2</td>\n",
       "      <td>R+17</td>\n",
       "      <td>Alex Mooney (R)</td>\n",
       "      <td>58.2% R</td>\n",
       "      <td>Likely R</td>\n",
       "      <td>Safe R</td>\n",
       "      <td>Safe R</td>\n",
       "      <td>Safe R</td>\n",
       "      <td>Safe R</td>\n",
       "      <td>Likely R</td>\n",
       "      <td>Likely R</td>\n",
       "      <td>Alex Mooney (R)</td>\n",
       "    </tr>\n",
       "    <tr>\n",
       "      <th>135</th>\n",
       "      <td>West Virginia 3</td>\n",
       "      <td>R+23</td>\n",
       "      <td>Vacant</td>\n",
       "      <td>67.9% R</td>\n",
       "      <td>Lean R</td>\n",
       "      <td>Lean R</td>\n",
       "      <td>Lean R</td>\n",
       "      <td>Lean R</td>\n",
       "      <td>Lean R</td>\n",
       "      <td>Likely R</td>\n",
       "      <td>Lean R</td>\n",
       "      <td>Carol Miller (R)</td>\n",
       "    </tr>\n",
       "    <tr>\n",
       "      <th>136</th>\n",
       "      <td>Wisconsin 1</td>\n",
       "      <td>R+5</td>\n",
       "      <td>Paul Ryan (R) (Retiring)</td>\n",
       "      <td>65.0% R</td>\n",
       "      <td>Lean R</td>\n",
       "      <td>Lean R</td>\n",
       "      <td>Lean R</td>\n",
       "      <td>Lean R</td>\n",
       "      <td>Lean R</td>\n",
       "      <td>Likely R</td>\n",
       "      <td>Lean R</td>\n",
       "      <td>Bryan Steil (R)</td>\n",
       "    </tr>\n",
       "    <tr>\n",
       "      <th>137</th>\n",
       "      <td>Wisconsin 3</td>\n",
       "      <td>EVEN</td>\n",
       "      <td>Ron Kind (D)</td>\n",
       "      <td>98.9% D</td>\n",
       "      <td>Safe D</td>\n",
       "      <td>Safe D</td>\n",
       "      <td>Safe D</td>\n",
       "      <td>Likely D</td>\n",
       "      <td>Safe D</td>\n",
       "      <td>Safe D</td>\n",
       "      <td>Safe D</td>\n",
       "      <td>Ron Kind (D)</td>\n",
       "    </tr>\n",
       "    <tr>\n",
       "      <th>138</th>\n",
       "      <td>Wisconsin 6</td>\n",
       "      <td>R+8</td>\n",
       "      <td>Glenn Grothman (R)</td>\n",
       "      <td>57.2% R</td>\n",
       "      <td>Likely R</td>\n",
       "      <td>Safe R</td>\n",
       "      <td>Likely R</td>\n",
       "      <td>Safe R</td>\n",
       "      <td>Likely R</td>\n",
       "      <td>Safe R</td>\n",
       "      <td>Likely R</td>\n",
       "      <td>Glenn Grothman(R)</td>\n",
       "    </tr>\n",
       "  </tbody>\n",
       "</table>\n",
       "</div>"
      ],
      "text/plain": [
       "            District CPVI[35][36]                 Incumbent Previous  \\\n",
       "134  West Virginia 2         R+17           Alex Mooney (R)  58.2% R   \n",
       "135  West Virginia 3         R+23                    Vacant  67.9% R   \n",
       "136      Wisconsin 1          R+5  Paul Ryan (R) (Retiring)  65.0% R   \n",
       "137      Wisconsin 3         EVEN              Ron Kind (D)  98.9% D   \n",
       "138      Wisconsin 6          R+8        Glenn Grothman (R)  57.2% R   \n",
       "\n",
       "         Cook    I.E.      Sab.       RCP Daily Kos       538 RRH Elections  \\\n",
       "134  Likely R  Safe R    Safe R    Safe R    Safe R  Likely R      Likely R   \n",
       "135    Lean R  Lean R    Lean R    Lean R    Lean R  Likely R        Lean R   \n",
       "136    Lean R  Lean R    Lean R    Lean R    Lean R  Likely R        Lean R   \n",
       "137    Safe D  Safe D    Safe D  Likely D    Safe D    Safe D        Safe D   \n",
       "138  Likely R  Safe R  Likely R    Safe R  Likely R    Safe R      Likely R   \n",
       "\n",
       "            Winner[45]  \n",
       "134    Alex Mooney (R)  \n",
       "135   Carol Miller (R)  \n",
       "136    Bryan Steil (R)  \n",
       "137       Ron Kind (D)  \n",
       "138  Glenn Grothman(R)  "
      ]
     },
     "execution_count": 27,
     "metadata": {},
     "output_type": "execute_result"
    }
   ],
   "source": [
    "test.iloc[-5:]"
   ]
  },
  {
   "cell_type": "code",
   "execution_count": 28,
   "metadata": {},
   "outputs": [],
   "source": [
    "def translate(state):\n",
    "    state = state.upper()\n",
    "    state_names = np.array(['ALABAMA', 'ALASKA', 'ARIZONA', 'ARKANSAS', 'CALIFORNIA',\n",
    "               'COLORADO', 'CONNECTICUT', 'DELAWARE', 'FLORIDA', 'GEORGIA',\n",
    "               'HAWAII', 'IDAHO', 'ILLINOIS', 'INDIANA', 'IOWA', 'KANSAS',\n",
    "               'KENTUCKY', 'LOUISIANA', 'MAINE', 'MARYLAND', 'MASSACHUSETTS',\n",
    "               'MICHIGAN', 'MINNESOTA', 'MISSISSIPPI', 'MISSOURI', 'MONTANA',\n",
    "               'NEBRASKA', 'NEVADA', 'NEW HAMPSHIRE', 'NEW JERSEY', 'NEW MEXICO',\n",
    "               'NEW YORK', 'NORTH CAROLINA', 'NORTH DAKOTA', 'OHIO','OKLAHOMA',\n",
    "               'OREGON', 'PENNSYLVANIA', 'RHODE ISLAND', 'SOUTH CAROLINA',\n",
    "               'SOUTH DAKOTA', 'TENNESSEE', 'TEXAS', 'UTAH', 'VERMONT',\n",
    "               'VIRGINIA', 'WASHINGTON', 'WEST VIRGINIA', 'WISCONSIN','WYOMING'])\n",
    "\n",
    "    state_abbrs = np.array(['AL','AK','AZ','AR','CA','CO','CT','DE','FL','GA','HI','ID','IL',\n",
    "              'IN','IA','KS','KY','LA','ME','MD','MA','MI','MN','MS','MO','MT',\n",
    "              'NE','NV','NH','NJ','NM','NY','NC','ND','OH','OK','OR','PA','RI',\n",
    "              'SC','SD','TN','TX','UT','VT','VA','WA','WV','WI','WY'])\n",
    "    \n",
    "    return state_abbrs[np.argwhere(state_names == state)[0][0]]\n",
    "\n",
    "def getstate(word):\n",
    "    hasNumbers = False\n",
    "    for i in word:\n",
    "        if i.isnumeric():\n",
    "            hasNumbers = True\n",
    "            break\n",
    "    \n",
    "    if hasNumbers:\n",
    "        state = ''\n",
    "        for i in word:\n",
    "            if not i.isnumeric():\n",
    "                state += i\n",
    "            else:\n",
    "                break\n",
    "    else:\n",
    "        state = word.split()[0]\n",
    "        \n",
    "    return state"
   ]
  },
  {
   "cell_type": "code",
   "execution_count": null,
   "metadata": {},
   "outputs": [],
   "source": [
    "translate('Arizona'.upper())"
   ]
  },
  {
   "cell_type": "code",
   "execution_count": null,
   "metadata": {},
   "outputs": [],
   "source": [
    "for i in test['District'].values:\n",
    "    \n",
    "    print('@@@@@@@@')\n",
    "    print(i)\n",
    "    print('---------')\n",
    "    #print(getstate(i))\n",
    "    print('--------')\n",
    "    print(getstate(i))\n",
    "    print(translate(getstate(i).strip()))\n",
    "    print('--------')\n",
    "    #print(i.split()[1])\n",
    "    print('@@@@@@@@\\n')\n",
    "    "
   ]
  },
  {
   "cell_type": "code",
   "execution_count": null,
   "metadata": {},
   "outputs": [],
   "source": []
  },
  {
   "cell_type": "code",
   "execution_count": null,
   "metadata": {},
   "outputs": [],
   "source": []
  }
 ],
 "metadata": {
  "kernelspec": {
   "display_name": "Python 3",
   "language": "python",
   "name": "python3"
  },
  "language_info": {
   "codemirror_mode": {
    "name": "ipython",
    "version": 3
   },
   "file_extension": ".py",
   "mimetype": "text/x-python",
   "name": "python",
   "nbconvert_exporter": "python",
   "pygments_lexer": "ipython3",
   "version": "3.7.0"
  }
 },
 "nbformat": 4,
 "nbformat_minor": 2
}
