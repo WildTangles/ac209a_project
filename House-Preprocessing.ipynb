{
 "cells": [
  {
   "cell_type": "code",
   "execution_count": 1,
   "metadata": {
    "scrolled": true
   },
   "outputs": [],
   "source": [
    "import pandas as pd\n",
    "import numpy as np\n",
    "from functions import houseFunctions as hfunc\n",
    "import pickle"
   ]
  },
  {
   "cell_type": "code",
   "execution_count": 2,
   "metadata": {},
   "outputs": [],
   "source": [
    "houseResFile = \"Datasets/fec/1976-2016-house.csv\""
   ]
  },
  {
   "cell_type": "code",
   "execution_count": 3,
   "metadata": {
    "scrolled": false
   },
   "outputs": [
    {
     "name": "stderr",
     "output_type": "stream",
     "text": [
      "C:\\ProgramData\\Anaconda3\\lib\\site-packages\\pandas\\core\\indexing.py:543: SettingWithCopyWarning: \n",
      "A value is trying to be set on a copy of a slice from a DataFrame.\n",
      "Try using .loc[row_indexer,col_indexer] = value instead\n",
      "\n",
      "See the caveats in the documentation: http://pandas.pydata.org/pandas-docs/stable/indexing.html#indexing-view-versus-copy\n",
      "  self.obj[item] = s\n"
     ]
    }
   ],
   "source": [
    "winners_df, winners2_df  = hfunc.load_data(houseResFile, minYear=2010)\n",
    "winners_df, winners2_df = hfunc.clean_index(winners_df), hfunc.clean_index(winners2_df)\n",
    "data = hfunc.fetch_trimmed_data(winners_df, winners2_df, minYear=2012)"
   ]
  },
  {
   "cell_type": "code",
   "execution_count": 4,
   "metadata": {},
   "outputs": [
    {
     "data": {
      "text/html": [
       "<div>\n",
       "<style scoped>\n",
       "    .dataframe tbody tr th:only-of-type {\n",
       "        vertical-align: middle;\n",
       "    }\n",
       "\n",
       "    .dataframe tbody tr th {\n",
       "        vertical-align: top;\n",
       "    }\n",
       "\n",
       "    .dataframe thead th {\n",
       "        text-align: right;\n",
       "    }\n",
       "</style>\n",
       "<table border=\"1\" class=\"dataframe\">\n",
       "  <thead>\n",
       "    <tr style=\"text-align: right;\">\n",
       "      <th></th>\n",
       "      <th>candidate</th>\n",
       "      <th>candidatevotes</th>\n",
       "      <th>district</th>\n",
       "      <th>office</th>\n",
       "      <th>party</th>\n",
       "      <th>special</th>\n",
       "      <th>stage</th>\n",
       "      <th>state_cen</th>\n",
       "      <th>state_fips</th>\n",
       "      <th>state_ic</th>\n",
       "      <th>...</th>\n",
       "      <th>dem_win_margin_prev</th>\n",
       "      <th>rep_win_margin_prev</th>\n",
       "      <th>margin_signed_minus_prev</th>\n",
       "      <th>margin_signed_divide_prev</th>\n",
       "      <th>margin_unsigned_minus_prev</th>\n",
       "      <th>margin_unsigned_divide_prev</th>\n",
       "      <th>dem_win_prev</th>\n",
       "      <th>rep_win_prev</th>\n",
       "      <th>dem_win</th>\n",
       "      <th>rep_win</th>\n",
       "    </tr>\n",
       "  </thead>\n",
       "  <tbody>\n",
       "    <tr>\n",
       "      <th>AK_01_2012</th>\n",
       "      <td>Don Young</td>\n",
       "      <td>185296.0</td>\n",
       "      <td>1</td>\n",
       "      <td>US House</td>\n",
       "      <td>republican</td>\n",
       "      <td>0.0</td>\n",
       "      <td>gen</td>\n",
       "      <td>94.0</td>\n",
       "      <td>2.0</td>\n",
       "      <td>81.0</td>\n",
       "      <td>...</td>\n",
       "      <td>0.305133</td>\n",
       "      <td>0.689579</td>\n",
       "      <td>-0.384446</td>\n",
       "      <td>0.442492</td>\n",
       "      <td>0.384446</td>\n",
       "      <td>2.259928</td>\n",
       "      <td>0.0</td>\n",
       "      <td>1.0</td>\n",
       "      <td>0.0</td>\n",
       "      <td>1.0</td>\n",
       "    </tr>\n",
       "    <tr>\n",
       "      <th>AL_01_2012</th>\n",
       "      <td>Jo Bonner</td>\n",
       "      <td>196374.0</td>\n",
       "      <td>1</td>\n",
       "      <td>US House</td>\n",
       "      <td>republican</td>\n",
       "      <td>0.0</td>\n",
       "      <td>gen</td>\n",
       "      <td>63.0</td>\n",
       "      <td>1.0</td>\n",
       "      <td>41.0</td>\n",
       "      <td>...</td>\n",
       "      <td>0.168651</td>\n",
       "      <td>0.825839</td>\n",
       "      <td>-0.657188</td>\n",
       "      <td>0.204218</td>\n",
       "      <td>0.657188</td>\n",
       "      <td>4.896726</td>\n",
       "      <td>0.0</td>\n",
       "      <td>1.0</td>\n",
       "      <td>0.0</td>\n",
       "      <td>1.0</td>\n",
       "    </tr>\n",
       "    <tr>\n",
       "      <th>AL_02_2012</th>\n",
       "      <td>Martha Roby</td>\n",
       "      <td>180591.0</td>\n",
       "      <td>2</td>\n",
       "      <td>US House</td>\n",
       "      <td>republican</td>\n",
       "      <td>0.0</td>\n",
       "      <td>gen</td>\n",
       "      <td>63.0</td>\n",
       "      <td>1.0</td>\n",
       "      <td>41.0</td>\n",
       "      <td>...</td>\n",
       "      <td>0.487906</td>\n",
       "      <td>0.509729</td>\n",
       "      <td>-0.021824</td>\n",
       "      <td>0.957186</td>\n",
       "      <td>0.021824</td>\n",
       "      <td>1.044729</td>\n",
       "      <td>0.0</td>\n",
       "      <td>1.0</td>\n",
       "      <td>0.0</td>\n",
       "      <td>1.0</td>\n",
       "    </tr>\n",
       "    <tr>\n",
       "      <th>AL_03_2012</th>\n",
       "      <td>Mike Rogers</td>\n",
       "      <td>175306.0</td>\n",
       "      <td>3</td>\n",
       "      <td>US House</td>\n",
       "      <td>republican</td>\n",
       "      <td>0.0</td>\n",
       "      <td>gen</td>\n",
       "      <td>63.0</td>\n",
       "      <td>1.0</td>\n",
       "      <td>41.0</td>\n",
       "      <td>...</td>\n",
       "      <td>0.404787</td>\n",
       "      <td>0.594209</td>\n",
       "      <td>-0.189423</td>\n",
       "      <td>0.681219</td>\n",
       "      <td>0.189423</td>\n",
       "      <td>1.467957</td>\n",
       "      <td>0.0</td>\n",
       "      <td>1.0</td>\n",
       "      <td>0.0</td>\n",
       "      <td>1.0</td>\n",
       "    </tr>\n",
       "    <tr>\n",
       "      <th>AL_04_2012</th>\n",
       "      <td>Robert B. Aderholt</td>\n",
       "      <td>199071.0</td>\n",
       "      <td>4</td>\n",
       "      <td>US House</td>\n",
       "      <td>republican</td>\n",
       "      <td>0.0</td>\n",
       "      <td>gen</td>\n",
       "      <td>63.0</td>\n",
       "      <td>1.0</td>\n",
       "      <td>41.0</td>\n",
       "      <td>...</td>\n",
       "      <td>0.011825</td>\n",
       "      <td>0.988175</td>\n",
       "      <td>-0.976349</td>\n",
       "      <td>0.011967</td>\n",
       "      <td>0.976349</td>\n",
       "      <td>83.564524</td>\n",
       "      <td>0.0</td>\n",
       "      <td>1.0</td>\n",
       "      <td>0.0</td>\n",
       "      <td>1.0</td>\n",
       "    </tr>\n",
       "  </tbody>\n",
       "</table>\n",
       "<p>5 rows × 30 columns</p>\n",
       "</div>"
      ],
      "text/plain": [
       "                     candidate  candidatevotes  district    office  \\\n",
       "AK_01_2012           Don Young        185296.0         1  US House   \n",
       "AL_01_2012           Jo Bonner        196374.0         1  US House   \n",
       "AL_02_2012         Martha Roby        180591.0         2  US House   \n",
       "AL_03_2012         Mike Rogers        175306.0         3  US House   \n",
       "AL_04_2012  Robert B. Aderholt        199071.0         4  US House   \n",
       "\n",
       "                 party  special stage  state_cen  state_fips  state_ic  \\\n",
       "AK_01_2012  republican      0.0   gen       94.0         2.0      81.0   \n",
       "AL_01_2012  republican      0.0   gen       63.0         1.0      41.0   \n",
       "AL_02_2012  republican      0.0   gen       63.0         1.0      41.0   \n",
       "AL_03_2012  republican      0.0   gen       63.0         1.0      41.0   \n",
       "AL_04_2012  republican      0.0   gen       63.0         1.0      41.0   \n",
       "\n",
       "             ...   dem_win_margin_prev  rep_win_margin_prev  \\\n",
       "AK_01_2012   ...              0.305133             0.689579   \n",
       "AL_01_2012   ...              0.168651             0.825839   \n",
       "AL_02_2012   ...              0.487906             0.509729   \n",
       "AL_03_2012   ...              0.404787             0.594209   \n",
       "AL_04_2012   ...              0.011825             0.988175   \n",
       "\n",
       "            margin_signed_minus_prev  margin_signed_divide_prev  \\\n",
       "AK_01_2012                 -0.384446                   0.442492   \n",
       "AL_01_2012                 -0.657188                   0.204218   \n",
       "AL_02_2012                 -0.021824                   0.957186   \n",
       "AL_03_2012                 -0.189423                   0.681219   \n",
       "AL_04_2012                 -0.976349                   0.011967   \n",
       "\n",
       "            margin_unsigned_minus_prev  margin_unsigned_divide_prev  \\\n",
       "AK_01_2012                    0.384446                     2.259928   \n",
       "AL_01_2012                    0.657188                     4.896726   \n",
       "AL_02_2012                    0.021824                     1.044729   \n",
       "AL_03_2012                    0.189423                     1.467957   \n",
       "AL_04_2012                    0.976349                    83.564524   \n",
       "\n",
       "            dem_win_prev  rep_win_prev  dem_win rep_win  \n",
       "AK_01_2012           0.0           1.0      0.0     1.0  \n",
       "AL_01_2012           0.0           1.0      0.0     1.0  \n",
       "AL_02_2012           0.0           1.0      0.0     1.0  \n",
       "AL_03_2012           0.0           1.0      0.0     1.0  \n",
       "AL_04_2012           0.0           1.0      0.0     1.0  \n",
       "\n",
       "[5 rows x 30 columns]"
      ]
     },
     "execution_count": 4,
     "metadata": {},
     "output_type": "execute_result"
    }
   ],
   "source": [
    "data.head()"
   ]
  },
  {
   "cell_type": "code",
   "execution_count": 5,
   "metadata": {},
   "outputs": [],
   "source": [
    "# #hfunc.fetch_index(winners_df, save=True, load=False)"
   ]
  },
  {
   "cell_type": "code",
   "execution_count": 6,
   "metadata": {},
   "outputs": [],
   "source": [
    "pickle.dump(data, open('Datasets/data.p', 'wb'))"
   ]
  },
  {
   "cell_type": "code",
   "execution_count": 7,
   "metadata": {},
   "outputs": [],
   "source": [
    "import pandas as pd\n",
    "import numpy as np\n",
    "from functions import houseFunctions as hfunc\n",
    "import pickle\n",
    "dataset = pickle.load(open('Datasets/data.p', 'rb'))"
   ]
  },
  {
   "cell_type": "code",
   "execution_count": 8,
   "metadata": {},
   "outputs": [
    {
     "data": {
      "text/plain": [
       "Index(['dem_win', 'dem_win_prev', 'margin_signed_minus_prev', 'national_poll'], dtype='object')"
      ]
     },
     "execution_count": 8,
     "metadata": {},
     "output_type": "execute_result"
    }
   ],
   "source": [
    "dataset = dataset.loc[:,['dem_win', 'dem_win_prev', 'margin_signed_minus_prev', 'national_poll']]\n",
    "dataset.columns"
   ]
  },
  {
   "cell_type": "code",
   "execution_count": null,
   "metadata": {},
   "outputs": [],
   "source": [
    "%reset"
   ]
  }
 ],
 "metadata": {
  "kernelspec": {
   "display_name": "Python 3",
   "language": "python",
   "name": "python3"
  },
  "language_info": {
   "codemirror_mode": {
    "name": "ipython",
    "version": 3
   },
   "file_extension": ".py",
   "mimetype": "text/x-python",
   "name": "python",
   "nbconvert_exporter": "python",
   "pygments_lexer": "ipython3",
   "version": "3.7.0"
  }
 },
 "nbformat": 4,
 "nbformat_minor": 2
}
