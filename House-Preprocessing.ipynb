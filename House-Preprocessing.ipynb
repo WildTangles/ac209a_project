{
 "cells": [
  {
   "cell_type": "code",
   "execution_count": 1,
   "metadata": {
    "scrolled": true
   },
   "outputs": [],
   "source": [
    "import pandas as pd\n",
    "import numpy as np\n",
    "from functions import houseFunctions as hfunc\n",
    "import pickle"
   ]
  },
  {
   "cell_type": "code",
   "execution_count": 2,
   "metadata": {},
   "outputs": [],
   "source": [
    "houseResFile = \"Datasets/fec/1976-2016-house.csv\""
   ]
  },
  {
   "cell_type": "code",
   "execution_count": 3,
   "metadata": {
    "scrolled": false
   },
   "outputs": [
    {
     "name": "stderr",
     "output_type": "stream",
     "text": [
      "C:\\ProgramData\\Anaconda3\\lib\\site-packages\\pandas\\core\\indexing.py:543: SettingWithCopyWarning: \n",
      "A value is trying to be set on a copy of a slice from a DataFrame.\n",
      "Try using .loc[row_indexer,col_indexer] = value instead\n",
      "\n",
      "See the caveats in the documentation: http://pandas.pydata.org/pandas-docs/stable/indexing.html#indexing-view-versus-copy\n",
      "  self.obj[item] = s\n"
     ]
    }
   ],
   "source": [
    "winners_df, winners2_df  = hfunc.load_data(houseResFile, minYear=2010)\n",
    "winners_df, winners2_df = hfunc.clean_index(winners_df), hfunc.clean_index(winners2_df)\n",
    "data = hfunc.fetch_trimmed_data(winners_df, winners2_df, minYear=2012)"
   ]
  },
  {
   "cell_type": "code",
   "execution_count": 4,
   "metadata": {},
   "outputs": [
    {
     "data": {
      "text/html": [
       "<div>\n",
       "<style scoped>\n",
       "    .dataframe tbody tr th:only-of-type {\n",
       "        vertical-align: middle;\n",
       "    }\n",
       "\n",
       "    .dataframe tbody tr th {\n",
       "        vertical-align: top;\n",
       "    }\n",
       "\n",
       "    .dataframe thead th {\n",
       "        text-align: right;\n",
       "    }\n",
       "</style>\n",
       "<table border=\"1\" class=\"dataframe\">\n",
       "  <thead>\n",
       "    <tr style=\"text-align: right;\">\n",
       "      <th></th>\n",
       "      <th>district</th>\n",
       "      <th>state</th>\n",
       "      <th>year</th>\n",
       "      <th>party</th>\n",
       "      <th>candidatevotes</th>\n",
       "      <th>totalvotes</th>\n",
       "      <th>candidate</th>\n",
       "      <th>dem_win</th>\n",
       "      <th>rep_win</th>\n",
       "    </tr>\n",
       "  </thead>\n",
       "  <tbody>\n",
       "    <tr>\n",
       "      <th>AK_01_2012</th>\n",
       "      <td>1</td>\n",
       "      <td>AK</td>\n",
       "      <td>2012</td>\n",
       "      <td>republican</td>\n",
       "      <td>185296.0</td>\n",
       "      <td>289804.0</td>\n",
       "      <td>Don Young</td>\n",
       "      <td>0.0</td>\n",
       "      <td>1.0</td>\n",
       "    </tr>\n",
       "    <tr>\n",
       "      <th>AL_01_2012</th>\n",
       "      <td>1</td>\n",
       "      <td>AL</td>\n",
       "      <td>2012</td>\n",
       "      <td>republican</td>\n",
       "      <td>196374.0</td>\n",
       "      <td>200676.0</td>\n",
       "      <td>Jo Bonner</td>\n",
       "      <td>0.0</td>\n",
       "      <td>1.0</td>\n",
       "    </tr>\n",
       "    <tr>\n",
       "      <th>AL_02_2012</th>\n",
       "      <td>2</td>\n",
       "      <td>AL</td>\n",
       "      <td>2012</td>\n",
       "      <td>republican</td>\n",
       "      <td>180591.0</td>\n",
       "      <td>283953.0</td>\n",
       "      <td>Martha Roby</td>\n",
       "      <td>0.0</td>\n",
       "      <td>1.0</td>\n",
       "    </tr>\n",
       "    <tr>\n",
       "      <th>AL_03_2012</th>\n",
       "      <td>3</td>\n",
       "      <td>AL</td>\n",
       "      <td>2012</td>\n",
       "      <td>republican</td>\n",
       "      <td>175306.0</td>\n",
       "      <td>273930.0</td>\n",
       "      <td>Mike Rogers</td>\n",
       "      <td>0.0</td>\n",
       "      <td>1.0</td>\n",
       "    </tr>\n",
       "    <tr>\n",
       "      <th>AL_04_2012</th>\n",
       "      <td>4</td>\n",
       "      <td>AL</td>\n",
       "      <td>2012</td>\n",
       "      <td>republican</td>\n",
       "      <td>199071.0</td>\n",
       "      <td>269118.0</td>\n",
       "      <td>Robert B. Aderholt</td>\n",
       "      <td>0.0</td>\n",
       "      <td>1.0</td>\n",
       "    </tr>\n",
       "  </tbody>\n",
       "</table>\n",
       "</div>"
      ],
      "text/plain": [
       "            district state  year       party  candidatevotes  totalvotes  \\\n",
       "AK_01_2012         1    AK  2012  republican        185296.0    289804.0   \n",
       "AL_01_2012         1    AL  2012  republican        196374.0    200676.0   \n",
       "AL_02_2012         2    AL  2012  republican        180591.0    283953.0   \n",
       "AL_03_2012         3    AL  2012  republican        175306.0    273930.0   \n",
       "AL_04_2012         4    AL  2012  republican        199071.0    269118.0   \n",
       "\n",
       "                     candidate  dem_win  rep_win  \n",
       "AK_01_2012           Don Young      0.0      1.0  \n",
       "AL_01_2012           Jo Bonner      0.0      1.0  \n",
       "AL_02_2012         Martha Roby      0.0      1.0  \n",
       "AL_03_2012         Mike Rogers      0.0      1.0  \n",
       "AL_04_2012  Robert B. Aderholt      0.0      1.0  "
      ]
     },
     "execution_count": 4,
     "metadata": {},
     "output_type": "execute_result"
    }
   ],
   "source": [
    "data.head()"
   ]
  },
  {
   "cell_type": "code",
   "execution_count": 7,
   "metadata": {},
   "outputs": [
    {
     "data": {
      "text/plain": [
       "(1305, 9)"
      ]
     },
     "execution_count": 7,
     "metadata": {},
     "output_type": "execute_result"
    }
   ],
   "source": [
    "data.shape"
   ]
  },
  {
   "cell_type": "code",
   "execution_count": 5,
   "metadata": {},
   "outputs": [],
   "source": [
    "# #hfunc.fetch_index(winners_df, save=True, load=False)"
   ]
  },
  {
   "cell_type": "code",
   "execution_count": 6,
   "metadata": {},
   "outputs": [],
   "source": [
    "pickle.dump(data, open('Datasets/data-SAMEYEAR.p', 'wb'))"
   ]
  },
  {
   "cell_type": "code",
   "execution_count": null,
   "metadata": {},
   "outputs": [],
   "source": [
    "import pandas as pd\n",
    "import numpy as np\n",
    "from functions import houseFunctions as hfunc\n",
    "import pickle\n",
    "dataset = pickle.load(open('Datasets/data.p', 'rb'))"
   ]
  },
  {
   "cell_type": "code",
   "execution_count": null,
   "metadata": {},
   "outputs": [],
   "source": [
    "dataset = dataset.loc[:,['dem_win', 'dem_win_prev', 'margin_signed_minus_prev', 'national_poll']]\n",
    "dataset.columns"
   ]
  },
  {
   "cell_type": "code",
   "execution_count": null,
   "metadata": {},
   "outputs": [],
   "source": [
    "%reset"
   ]
  }
 ],
 "metadata": {
  "kernelspec": {
   "display_name": "Python 3",
   "language": "python",
   "name": "python3"
  },
  "language_info": {
   "codemirror_mode": {
    "name": "ipython",
    "version": 3
   },
   "file_extension": ".py",
   "mimetype": "text/x-python",
   "name": "python",
   "nbconvert_exporter": "python",
   "pygments_lexer": "ipython3",
   "version": "3.7.0"
  }
 },
 "nbformat": 4,
 "nbformat_minor": 2
}
