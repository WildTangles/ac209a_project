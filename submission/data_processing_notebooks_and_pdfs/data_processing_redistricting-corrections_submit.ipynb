{
 "cells": [
  {
   "cell_type": "markdown",
   "metadata": {},
   "source": [
    "# Data Processing: Impute using Redistricting\n",
    "*Group 42: Manish Vuyyuru, Victor Sheng, Elise Penn, Yajaira Gonzalez*\n",
    "\n",
    "Uses population overlap files generated in the overlap_area program to impute specified values into different years. "
   ]
  },
  {
   "cell_type": "code",
   "execution_count": null,
   "metadata": {},
   "outputs": [],
   "source": [
    "import pandas as pd\n",
    "import pickle\n",
    "import shapely"
   ]
  },
  {
   "cell_type": "code",
   "execution_count": null,
   "metadata": {},
   "outputs": [],
   "source": [
    "#to_correct = 'Datasets/data_FEC_NATIONALPOLL_2004_2018.p'\n",
    "to_correct = 'Datasets/data_FEC_NATIONALPOLL_DEMOGRAPHICSIMPUTED_2004_2018.p'\n",
    "\n",
    "overlap = pickle.load(open('Datasets/all_overlap_data.p', 'rb'))\n",
    "dataset = pickle.load(open(to_correct, 'rb'))\n",
    "dataset.shape"
   ]
  },
  {
   "cell_type": "code",
   "execution_count": null,
   "metadata": {},
   "outputs": [],
   "source": [
    "dataset[dataset['year'] == 2012].shape"
   ]
  },
  {
   "cell_type": "code",
   "execution_count": null,
   "metadata": {},
   "outputs": [],
   "source": [
    "#drop redistricted districts\n",
    "new_dataset_name = to_correct[:-2] + '_REDISTRICTDROP.p'\n",
    "border_change = overlap['border_change']\n",
    "border_change = border_change[~border_change.isnull()]\n",
    "border_change = border_change[border_change == 1] #1: border changed, 0: border not changed\n",
    "for cand_index in dataset.index.values:\n",
    "    if cand_index in border_change.index:\n",
    "        dataset = dataset[dataset.index != cand_index]\n",
    "dataset.shape"
   ]
  },
  {
   "cell_type": "code",
   "execution_count": null,
   "metadata": {},
   "outputs": [],
   "source": [
    "dataset[dataset['year'] == 2012].shape"
   ]
  },
  {
   "cell_type": "code",
   "execution_count": null,
   "metadata": {},
   "outputs": [],
   "source": [
    "centroids = overlap['centroid']\n",
    "for cand_index in dataset.index.values:\n",
    "    lon, lat = centroids[centroids.index == cand_index].values[0][0]\n",
    "    dataset.loc[dataset.index == cand_index, 'longitude'] = lon\n",
    "    dataset.loc[dataset.index == cand_index, 'latitude'] = lat\n",
    "dataset.shape, dataset.columns"
   ]
  },
  {
   "cell_type": "code",
   "execution_count": null,
   "metadata": {},
   "outputs": [],
   "source": [
    "dataset[dataset['year']!=2018].isnull().values.any()"
   ]
  },
  {
   "cell_type": "code",
   "execution_count": null,
   "metadata": {},
   "outputs": [],
   "source": [
    "pickle.dump(dataset, open(new_dataset_name, 'wb'))"
   ]
  },
  {
   "cell_type": "code",
   "execution_count": null,
   "metadata": {},
   "outputs": [],
   "source": []
  }
 ],
 "metadata": {
  "kernelspec": {
   "display_name": "APCOMP 209",
   "language": "python",
   "name": "cs209"
  },
  "language_info": {
   "codemirror_mode": {
    "name": "ipython",
    "version": 3
   },
   "file_extension": ".py",
   "mimetype": "text/x-python",
   "name": "python",
   "nbconvert_exporter": "python",
   "pygments_lexer": "ipython3",
   "version": "3.6.7"
  }
 },
 "nbformat": 4,
 "nbformat_minor": 2
}
