{
 "cells": [
  {
   "cell_type": "code",
   "execution_count": 1,
   "metadata": {},
   "outputs": [],
   "source": [
    "#\n",
    "import numpy as np\n",
    "import matplotlib.pyplot as plt\n",
    "import matplotlib.image as mpimg\n",
    "import numpy as np\n",
    "import pandas as pd\n",
    "import pickle\n",
    "from sklearn.linear_model import LogisticRegression\n",
    "from sklearn.linear_model import LogisticRegressionCV\n",
    "from sklearn.model_selection import train_test_split\n",
    "from sklearn.metrics import accuracy_score\n",
    "from sklearn.ensemble import RandomForestClassifier\n",
    "from sklearn.metrics import confusion_matrix\n",
    "from sklearn.neighbors import KNeighborsClassifier\n",
    "from sklearn.ensemble import AdaBoostClassifier\n",
    "from sklearn.tree import DecisionTreeClassifier\n",
    "from sklearn.linear_model import LassoCV\n",
    "\n",
    "%matplotlib inline"
   ]
  },
  {
   "cell_type": "code",
   "execution_count": 2,
   "metadata": {},
   "outputs": [
    {
     "data": {
      "text/plain": [
       "'\\n2010-2018\\nDatasets/data_FEC_NATIONALPOLL_DEMOGRAPHICS_2010_2018.p\\nDatasets/data_FEC_NATIONALPOLL_DEMOGRAPHICS_2010_2018_REDISTRICTDROP.p\\n\\n2004-2018\\nDatasets/data_FEC_NATIONALPOLL_2004_2018.p\\nDatasets/data_FEC_NATIONALPOLL_2004_2018_REDISTRICTDROP.p\\n'"
      ]
     },
     "execution_count": 2,
     "metadata": {},
     "output_type": "execute_result"
    }
   ],
   "source": [
    "\"\"\"\n",
    "2010-2018\n",
    "Datasets/data_FEC_NATIONALPOLL_DEMOGRAPHICS_2010_2018.p\n",
    "Datasets/data_FEC_NATIONALPOLL_DEMOGRAPHICS_2010_2018_REDISTRICTDROP.p\n",
    "\n",
    "2004-2018\n",
    "Datasets/data_FEC_NATIONALPOLL_2004_2018.p\n",
    "Datasets/data_FEC_NATIONALPOLL_2004_2018_REDISTRICTDROP.p\n",
    "\"\"\""
   ]
  },
  {
   "cell_type": "code",
   "execution_count": 3,
   "metadata": {},
   "outputs": [
    {
     "data": {
      "image/png": "[encoded data removed]",
      "text/plain": [
       "<Figure size 432x288 with 1 Axes>"
      ]
     },
     "metadata": {
      "needs_background": "light"
     },
     "output_type": "display_data"
    }
   ],
   "source": [
    "# Plot the proportion of flips in the full dataset\n",
    "\n",
    "#read in FEC data\n",
    "full_dataset = pickle.load(open('Datasets/data_FEC_NATIONALPOLL_2004_2018.p', 'rb'))\n",
    "full_dataset_redistrict = pickle.load(open('Datasets/data_FEC_NATIONALPOLL_2004_2018_REDISTRICTDROP.p', 'rb'))\n",
    "\n",
    "#add column to indicate a party flip\n",
    "full_dataset['party_flip'] = (full_dataset.dem_win_prev!=full_dataset.dem_win)*1\n",
    "\n",
    "#small_dataset.head()\n",
    "plt.title('Proportion of districts that chage party in consecutive elections')\n",
    "plt.ylabel('frequency')\n",
    "plt.xlabel('Party Change')\n",
    "full_dataset.party_flip.value_counts().plot(kind='bar')\n",
    "\n",
    "#proportion of districts on the full data that do not flip\n",
    "full_dataset.groupby('party_flip')['party_flip'].count().plot.bar()\n",
    "plt.title('Proportion of Party Flips on Full Dataset')\n",
    "\n",
    "for name, group in (full_dataset.groupby('party_flip')['party_flip']):\n",
    "    plt.text(int(name)+.25, group.count() + .25, \\\n",
    "    '{0:.2f}'.format(group.count()/full_dataset.shape[0]*100)+'%', color='blue', fontweight='bold')"
   ]
  },
  {
   "cell_type": "code",
   "execution_count": 4,
   "metadata": {},
   "outputs": [
    {
     "name": "stderr",
     "output_type": "stream",
     "text": [
      "/Users/Elise/miniconda2/envs/cs209/lib/python3.6/site-packages/pandas/core/indexing.py:543: SettingWithCopyWarning: \n",
      "A value is trying to be set on a copy of a slice from a DataFrame.\n",
      "Try using .loc[row_indexer,col_indexer] = value instead\n",
      "\n",
      "See the caveats in the documentation: http://pandas.pydata.org/pandas-docs/stable/indexing.html#indexing-view-versus-copy\n",
      "  self.obj[item] = s\n"
     ]
    },
    {
     "data": {
      "image/png": "[encoded data removed]",
      "text/plain": [
       "<Figure size 432x288 with 1 Axes>"
      ]
     },
     "metadata": {
      "needs_background": "light"
     },
     "output_type": "display_data"
    }
   ],
   "source": [
    "# Plot the proportion of flips in 2018\n",
    "\n",
    "#add column to indicate a party flip\n",
    "the_2018_dataset = full_dataset.loc[full_dataset['year']==2018,:]\n",
    "the_2018_dataset.loc[:,'party_flip'] = (full_dataset.dem_win_prev!=full_dataset.dem_win)*1\n",
    "\n",
    "#small_dataset.head()\n",
    "plt.title('Proportion of districts that chage party in consecutive elections')\n",
    "plt.ylabel('frequency')\n",
    "plt.xlabel('Party Change')\n",
    "the_2018_dataset.party_flip.value_counts().plot(kind='bar')\n",
    "\n",
    "#proportion of districts on the full data that do not flip\n",
    "the_2018_dataset.groupby('party_flip')['party_flip'].count().plot.bar()\n",
    "plt.title('Proportion of Party Flips on 2018 Dataset')\n",
    "\n",
    "for name, group in (the_2018_dataset.groupby('party_flip')['party_flip']):\n",
    "    plt.text(int(name)+.25, group.count() + .25, \\\n",
    "    '{0:.2f}'.format(group.count()/the_2018_dataset.shape[0]*100)+'%', color='blue', fontweight='bold')"
   ]
  },
  {
   "cell_type": "markdown",
   "metadata": {},
   "source": [
    "## Code without demographics\n",
    "\n",
    "* district\n",
    "* state\n",
    "* year\n",
    "* party\n",
    "* candidatevotes\n",
    "* totalvotes\n",
    "* candidate\n",
    "* national_poll\n",
    "* national_poll_prev\n",
    "* national_poll_delta_subtract\n",
    "* national_poll_delta_divide\n",
    "* previous_party\n",
    "* dem_win_margin_prev\n",
    "* rep_win_margin_prev\n",
    "* margin_signed_minus_prev\n",
    "* margin_signed_divide_prev\n",
    "* margin_unsigned_minus_prev\n",
    "* margin_unsigned_divide_prev\n",
    "* dem_win_prev\n",
    "* rep_win_prev\n",
    "* dem_win\n",
    "* rep_win"
   ]
  },
  {
   "cell_type": "markdown",
   "metadata": {},
   "source": [
    "## Variables to use\n",
    "\n",
    "* national_poll\n",
    "* margin_signed_minus_prev\n",
    "\n",
    "* dem_win -- response"
   ]
  },
  {
   "cell_type": "markdown",
   "metadata": {},
   "source": [
    "### Functions"
   ]
  },
  {
   "cell_type": "code",
   "execution_count": 5,
   "metadata": {},
   "outputs": [],
   "source": [
    "# format data items for input into the model\n",
    "\n",
    "def format_model_input(filename, cols_to_use, state_hot_encoder=False):\n",
    "    \n",
    "    # load full dataset \n",
    "    full_dataset = pickle.load(open(filename, 'rb'))\n",
    "    \n",
    "    # train data is everything except 2018\n",
    "    pre_2018_dataset = full_dataset.loc[full_dataset['year']!=2018]\n",
    "    X_train = pre_2018_dataset[cols_to_use]\n",
    "    y_train = pre_2018_dataset['dem_win']\n",
    "    flip_train = np.abs(pre_2018_dataset['dem_win']-pre_2018_dataset['dem_win_prev'])\n",
    "    \n",
    "    # test data is 2018\n",
    "    the_2018_dataset = full_dataset.loc[full_dataset['year']==2018]\n",
    "    X_test = the_2018_dataset[cols_to_use]\n",
    "    y_test = the_2018_dataset['dem_win']\n",
    "    flip_test = np.abs(the_2018_dataset['dem_win']-the_2018_dataset['dem_win_prev'])\n",
    "    \n",
    "    if state_hot_encoder:\n",
    "        #add one hot encoder for states (with or without dropping first)\n",
    "        X_train.loc[:,'state'] = pre_2018_dataset['state']\n",
    "        X_train = pd.get_dummies(X_train,prefix='state',columns=['state'], drop_first=True)\n",
    "        X_test.loc[:,'state'] = the_2018_dataset['state']\n",
    "        X_test = pd.get_dummies(X_test,prefix='state',columns=['state'], drop_first=True)\n",
    "    \n",
    "    return X_train,y_train, X_test,y_test, flip_train,flip_test"
   ]
  },
  {
   "cell_type": "code",
   "execution_count": 6,
   "metadata": {},
   "outputs": [],
   "source": [
    "# plot flips predicted by a model\n",
    "\n",
    "def plot_flips(X_test_input, y_test_input, y_pred_test_input, flip_train, \n",
    "               flip_test, model_name):\n",
    "    \n",
    "    # copy arrays so you don't accidentally change them \n",
    "    X_test = X_test_input.copy()\n",
    "    y_test = y_test_input.copy()\n",
    "    y_pred_test = y_pred_test_input.copy()\n",
    "    \n",
    "    # add flip data to the array\n",
    "    X_test['party_flip'] = flip_test\n",
    "    \n",
    "    #looking at the missclassifications with logisticRegressionCV\n",
    "    miss_class_df = X_test[y_test != y_pred_test]\n",
    "    good_class_df = X_test[y_test == y_pred_test]\n",
    "\n",
    "    #plot the flips and non flips for each data\n",
    "    fig, ax = plt.subplots(1,2, figsize=(14,4))\n",
    "    ax[0].set_title(model_name+' Proportion of party flips on wellclassified test data')\n",
    "    ax[1].set_title(model_name+' Proportion of party flips missclassified test data')\n",
    "\n",
    "    good_class_df.groupby('party_flip')['party_flip'].count().plot.bar(ax=ax[0])\n",
    "    miss_class_df.groupby('party_flip')['party_flip'].count().plot.bar(ax=ax[1])\n",
    "\n",
    "    for name, group in (good_class_df.groupby('party_flip')['party_flip']):\n",
    "        ax[0].text(int(name)+.25, group.count() + .25, \\\n",
    "        '{0:.2f}'.format(group.count()/good_class_df.shape[0]*100)+'%', color='blue', fontweight='bold')\n",
    "\n",
    "    for name, group in (miss_class_df.groupby('party_flip')['party_flip']):\n",
    "        ax[1].text(int(name)+.15, group.count() + .25, \\\n",
    "        '{0:.2f}'.format(group.count()/miss_class_df.shape[0]*100)+'%', color='blue', fontweight='bold')\n",
    "    \n",
    "    plt.show()"
   ]
  },
  {
   "cell_type": "code",
   "execution_count": 7,
   "metadata": {},
   "outputs": [],
   "source": [
    "# print out R2, accuracy, and plot # flipped seats correctly predicted for a given model\n",
    "\n",
    "def report_model_stats(filename, cols_to_use, model_dict, state_hot_encoder=False):\n",
    "    \n",
    "    # read in the desired data\n",
    "    X_train,y_train, X_test,y_test, flip_train,flip_test = \\\n",
    "        format_model_input(filename, cols_to_use, state_hot_encoder)\n",
    "    \n",
    "    fitted_model_dict = {}\n",
    "    for model_name, model in model_dict.items():\n",
    "        print(model_name)\n",
    "\n",
    "        fitted_model = model.fit(X_train,y_train)\n",
    "        y_pred_test = fitted_model.predict(X_test)\n",
    "\n",
    "        print(\"Confusion Matrix: \\n\",confusion_matrix(y_test,y_pred_test))\n",
    "\n",
    "        print(\"\\n{} R2: \".format(model_name), fitted_model.score(X_train,y_train))\n",
    "        print(\"{} Test Accuracy\".format(model_name), accuracy_score(y_test,y_pred_test))\n",
    "\n",
    "        plot_flips(X_test, y_test, y_pred_test, flip_train, flip_test, model_name)\n",
    "        \n",
    "        fitted_model_dict[model_name] = fitted_model\n",
    "    \n",
    "    return fitted_model_dict"
   ]
  },
  {
   "cell_type": "markdown",
   "metadata": {},
   "source": [
    "### Try out different models and columns"
   ]
  },
  {
   "cell_type": "markdown",
   "metadata": {},
   "source": [
    "#### Full dataset, no demographics, not dropping any data. "
   ]
  },
  {
   "cell_type": "code",
   "execution_count": 8,
   "metadata": {},
   "outputs": [],
   "source": [
    "# specify your models here:\n",
    "model_dict = {\n",
    "    'LogRegCV'      : LogisticRegressionCV(cv=5,random_state=209,multi_class='ovr',n_jobs=4),\n",
    "    'kNN'           : KNeighborsClassifier(n_neighbors=10,n_jobs=4),\n",
    "    'Random Forest' : RandomForestClassifier(n_jobs=4,random_state=209),\n",
    "    'AdaBoost'      : AdaBoostClassifier(DecisionTreeClassifier(max_depth=2)),\n",
    "    'LASSO'         : LassoCV(cv=5)\n",
    "}"
   ]
  },
  {
   "cell_type": "code",
   "execution_count": 9,
   "metadata": {},
   "outputs": [
    {
     "name": "stderr",
     "output_type": "stream",
     "text": [
      "/Users/Elise/miniconda2/envs/cs209/lib/python3.6/site-packages/pandas/core/indexing.py:362: SettingWithCopyWarning: \n",
      "A value is trying to be set on a copy of a slice from a DataFrame.\n",
      "Try using .loc[row_indexer,col_indexer] = value instead\n",
      "\n",
      "See the caveats in the documentation: http://pandas.pydata.org/pandas-docs/stable/indexing.html#indexing-view-versus-copy\n",
      "  self.obj[key] = _infer_fill_value(value)\n"
     ]
    },
    {
     "name": "stdout",
     "output_type": "stream",
     "text": [
      "LogRegCV\n",
      "Confusion Matrix: \n",
      " [[179  17]\n",
      " [ 23 203]]\n",
      "\n",
      "LogRegCV R2:  0.8570953805250914\n",
      "LogRegCV Test Accuracy 0.9052132701421801\n"
     ]
    },
    {
     "data": {
      "image/png": "[encoded data removed]",
      "text/plain": [
       "<Figure size 1008x288 with 2 Axes>"
      ]
     },
     "metadata": {
      "needs_background": "light"
     },
     "output_type": "display_data"
    },
    {
     "name": "stdout",
     "output_type": "stream",
     "text": [
      "kNN\n",
      "Confusion Matrix: \n",
      " [[191   5]\n",
      " [ 44 182]]\n",
      "\n",
      "kNN R2:  0.9305417082087072\n",
      "kNN Test Accuracy 0.8838862559241706\n"
     ]
    },
    {
     "data": {
      "image/png": "[encoded data removed]",
      "text/plain": [
       "<Figure size 1008x288 with 2 Axes>"
      ]
     },
     "metadata": {
      "needs_background": "light"
     },
     "output_type": "display_data"
    },
    {
     "name": "stdout",
     "output_type": "stream",
     "text": [
      "Random Forest\n"
     ]
    },
    {
     "name": "stderr",
     "output_type": "stream",
     "text": [
      "/Users/Elise/miniconda2/envs/cs209/lib/python3.6/site-packages/sklearn/ensemble/forest.py:248: FutureWarning: The default value of n_estimators will change from 10 in version 0.20 to 100 in 0.22.\n",
      "  \"10 in version 0.20 to 100 in 0.22.\", FutureWarning)\n"
     ]
    },
    {
     "name": "stdout",
     "output_type": "stream",
     "text": [
      "Confusion Matrix: \n",
      " [[191   5]\n",
      " [ 44 182]]\n",
      "\n",
      "Random Forest R2:  0.9890329012961117\n",
      "Random Forest Test Accuracy 0.8838862559241706\n"
     ]
    },
    {
     "data": {
      "image/png": "[encoded data removed]",
      "text/plain": [
       "<Figure size 1008x288 with 2 Axes>"
      ]
     },
     "metadata": {
      "needs_background": "light"
     },
     "output_type": "display_data"
    },
    {
     "name": "stdout",
     "output_type": "stream",
     "text": [
      "AdaBoost\n",
      "Confusion Matrix: \n",
      " [[187   9]\n",
      " [ 42 184]]\n",
      "\n",
      "AdaBoost R2:  0.9468261881023596\n",
      "AdaBoost Test Accuracy 0.8791469194312796\n"
     ]
    },
    {
     "data": {
      "image/png": "[encoded data removed]",
      "text/plain": [
       "<Figure size 1008x288 with 2 Axes>"
      ]
     },
     "metadata": {
      "needs_background": "light"
     },
     "output_type": "display_data"
    },
    {
     "name": "stdout",
     "output_type": "stream",
     "text": [
      "LASSO\n"
     ]
    },
    {
     "ename": "ValueError",
     "evalue": "Classification metrics can't handle a mix of binary and continuous targets",
     "output_type": "error",
     "traceback": [
      "\u001b[0;31m---------------------------------------------------------------------------\u001b[0m",
      "\u001b[0;31mValueError\u001b[0m                                Traceback (most recent call last)",
      "\u001b[0;32m<ipython-input-9-0b4b13ad7bab>\u001b[0m in \u001b[0;36m<module>\u001b[0;34m\u001b[0m\n\u001b[1;32m      9\u001b[0m        'dem_win_prev', 'rep_win_prev'] # all of them\n\u001b[1;32m     10\u001b[0m \u001b[0;34m\u001b[0m\u001b[0m\n\u001b[0;32m---> 11\u001b[0;31m \u001b[0mreport_model_stats\u001b[0m\u001b[0;34m(\u001b[0m\u001b[0mfilename\u001b[0m\u001b[0;34m,\u001b[0m \u001b[0mcols_to_use\u001b[0m\u001b[0;34m,\u001b[0m \u001b[0mmodel_dict\u001b[0m\u001b[0;34m,\u001b[0m \u001b[0mstate_hot_encoder\u001b[0m\u001b[0;34m=\u001b[0m\u001b[0;32mTrue\u001b[0m\u001b[0;34m,\u001b[0m\u001b[0;34m)\u001b[0m\u001b[0;34m\u001b[0m\u001b[0;34m\u001b[0m\u001b[0m\n\u001b[0m",
      "\u001b[0;32m<ipython-input-7-acf242c2ca09>\u001b[0m in \u001b[0;36mreport_model_stats\u001b[0;34m(filename, cols_to_use, model_dict, state_hot_encoder)\u001b[0m\n\u001b[1;32m     14\u001b[0m         \u001b[0my_pred_test\u001b[0m \u001b[0;34m=\u001b[0m \u001b[0mfitted_model\u001b[0m\u001b[0;34m.\u001b[0m\u001b[0mpredict\u001b[0m\u001b[0;34m(\u001b[0m\u001b[0mX_test\u001b[0m\u001b[0;34m)\u001b[0m\u001b[0;34m\u001b[0m\u001b[0;34m\u001b[0m\u001b[0m\n\u001b[1;32m     15\u001b[0m \u001b[0;34m\u001b[0m\u001b[0m\n\u001b[0;32m---> 16\u001b[0;31m         \u001b[0mprint\u001b[0m\u001b[0;34m(\u001b[0m\u001b[0;34m\"Confusion Matrix: \\n\"\u001b[0m\u001b[0;34m,\u001b[0m\u001b[0mconfusion_matrix\u001b[0m\u001b[0;34m(\u001b[0m\u001b[0my_test\u001b[0m\u001b[0;34m,\u001b[0m\u001b[0my_pred_test\u001b[0m\u001b[0;34m)\u001b[0m\u001b[0;34m)\u001b[0m\u001b[0;34m\u001b[0m\u001b[0;34m\u001b[0m\u001b[0m\n\u001b[0m\u001b[1;32m     17\u001b[0m \u001b[0;34m\u001b[0m\u001b[0m\n\u001b[1;32m     18\u001b[0m         \u001b[0mprint\u001b[0m\u001b[0;34m(\u001b[0m\u001b[0;34m\"\\n{} R2: \"\u001b[0m\u001b[0;34m.\u001b[0m\u001b[0mformat\u001b[0m\u001b[0;34m(\u001b[0m\u001b[0mmodel_name\u001b[0m\u001b[0;34m)\u001b[0m\u001b[0;34m,\u001b[0m \u001b[0mfitted_model\u001b[0m\u001b[0;34m.\u001b[0m\u001b[0mscore\u001b[0m\u001b[0;34m(\u001b[0m\u001b[0mX_train\u001b[0m\u001b[0;34m,\u001b[0m\u001b[0my_train\u001b[0m\u001b[0;34m)\u001b[0m\u001b[0;34m)\u001b[0m\u001b[0;34m\u001b[0m\u001b[0;34m\u001b[0m\u001b[0m\n",
      "\u001b[0;32m~/miniconda2/envs/cs209/lib/python3.6/site-packages/sklearn/metrics/classification.py\u001b[0m in \u001b[0;36mconfusion_matrix\u001b[0;34m(y_true, y_pred, labels, sample_weight)\u001b[0m\n\u001b[1;32m    251\u001b[0m \u001b[0;34m\u001b[0m\u001b[0m\n\u001b[1;32m    252\u001b[0m     \"\"\"\n\u001b[0;32m--> 253\u001b[0;31m     \u001b[0my_type\u001b[0m\u001b[0;34m,\u001b[0m \u001b[0my_true\u001b[0m\u001b[0;34m,\u001b[0m \u001b[0my_pred\u001b[0m \u001b[0;34m=\u001b[0m \u001b[0m_check_targets\u001b[0m\u001b[0;34m(\u001b[0m\u001b[0my_true\u001b[0m\u001b[0;34m,\u001b[0m \u001b[0my_pred\u001b[0m\u001b[0;34m)\u001b[0m\u001b[0;34m\u001b[0m\u001b[0;34m\u001b[0m\u001b[0m\n\u001b[0m\u001b[1;32m    254\u001b[0m     \u001b[0;32mif\u001b[0m \u001b[0my_type\u001b[0m \u001b[0;32mnot\u001b[0m \u001b[0;32min\u001b[0m \u001b[0;34m(\u001b[0m\u001b[0;34m\"binary\"\u001b[0m\u001b[0;34m,\u001b[0m \u001b[0;34m\"multiclass\"\u001b[0m\u001b[0;34m)\u001b[0m\u001b[0;34m:\u001b[0m\u001b[0;34m\u001b[0m\u001b[0;34m\u001b[0m\u001b[0m\n\u001b[1;32m    255\u001b[0m         \u001b[0;32mraise\u001b[0m \u001b[0mValueError\u001b[0m\u001b[0;34m(\u001b[0m\u001b[0;34m\"%s is not supported\"\u001b[0m \u001b[0;34m%\u001b[0m \u001b[0my_type\u001b[0m\u001b[0;34m)\u001b[0m\u001b[0;34m\u001b[0m\u001b[0;34m\u001b[0m\u001b[0m\n",
      "\u001b[0;32m~/miniconda2/envs/cs209/lib/python3.6/site-packages/sklearn/metrics/classification.py\u001b[0m in \u001b[0;36m_check_targets\u001b[0;34m(y_true, y_pred)\u001b[0m\n\u001b[1;32m     79\u001b[0m     \u001b[0;32mif\u001b[0m \u001b[0mlen\u001b[0m\u001b[0;34m(\u001b[0m\u001b[0my_type\u001b[0m\u001b[0;34m)\u001b[0m \u001b[0;34m>\u001b[0m \u001b[0;36m1\u001b[0m\u001b[0;34m:\u001b[0m\u001b[0;34m\u001b[0m\u001b[0;34m\u001b[0m\u001b[0m\n\u001b[1;32m     80\u001b[0m         raise ValueError(\"Classification metrics can't handle a mix of {0} \"\n\u001b[0;32m---> 81\u001b[0;31m                          \"and {1} targets\".format(type_true, type_pred))\n\u001b[0m\u001b[1;32m     82\u001b[0m \u001b[0;34m\u001b[0m\u001b[0m\n\u001b[1;32m     83\u001b[0m     \u001b[0;31m# We can't have more than one value on y_type => The set is no more needed\u001b[0m\u001b[0;34m\u001b[0m\u001b[0;34m\u001b[0m\u001b[0;34m\u001b[0m\u001b[0m\n",
      "\u001b[0;31mValueError\u001b[0m: Classification metrics can't handle a mix of binary and continuous targets"
     ]
    }
   ],
   "source": [
    "# specify columns to use and the file you want to read in \n",
    "\n",
    "filename = 'Datasets/data_FEC_NATIONALPOLL_2004_2018.p'\n",
    "cols_to_use = ['national_poll', 'national_poll_prev',\n",
    "       'national_poll_delta_subtract', 'national_poll_delta_divide',\n",
    "       'dem_win_margin_prev', 'rep_win_margin_prev',\n",
    "       'margin_signed_minus_prev', 'margin_signed_divide_prev',\n",
    "       'margin_unsigned_minus_prev', 'margin_unsigned_divide_prev',\n",
    "       'dem_win_prev', 'rep_win_prev'] # all of them\n",
    "\n",
    "report_model_stats(filename, cols_to_use, model_dict, state_hot_encoder=True,)"
   ]
  },
  {
   "cell_type": "markdown",
   "metadata": {},
   "source": [
    "### Full dataset, no demographics, dropping redistricted states"
   ]
  },
  {
   "cell_type": "code",
   "execution_count": null,
   "metadata": {},
   "outputs": [],
   "source": [
    "# specify columns to use and the file you want to read in \n",
    "\"\"\"\n",
    "2010-2018\n",
    "Datasets/data_FEC_NATIONALPOLL_DEMOGRAPHICS_2010_2018.p\n",
    "Datasets/data_FEC_NATIONALPOLL_DEMOGRAPHICS_2010_2018_REDISTRICTDROP.p\n",
    "\n",
    "\"\"\"\n",
    "filename = 'Datasets/data_FEC_NATIONALPOLL_2004_2018_REDISTRICTDROP.p'\n",
    "# cols_to_use same as above\n",
    "X_train,y_train, X_test,y_test, flip_train,flip_test = \\\n",
    "    format_model_input(filename, cols_to_use, state_hot_encoder=True)\n",
    "\n",
    "fitted_models = report_model_stats(model_dict, X_train, y_train, X_test, y_test, flip_train, flip_test)"
   ]
  },
  {
   "cell_type": "markdown",
   "metadata": {},
   "source": [
    "### Selected columns in the full dataset, no demographics"
   ]
  },
  {
   "cell_type": "markdown",
   "metadata": {},
   "source": [
    "### Selected columns in the full dataset, no demographics, dropping redistricted states"
   ]
  },
  {
   "cell_type": "markdown",
   "metadata": {},
   "source": [
    "### Selected columns in the full dataset, no demographics, imputing redistricted states"
   ]
  },
  {
   "cell_type": "markdown",
   "metadata": {},
   "source": [
    "### Dataset since 2010, with demographics, nothing dropped"
   ]
  },
  {
   "cell_type": "code",
   "execution_count": null,
   "metadata": {},
   "outputs": [],
   "source": [
    "# specify columns to use and the file you want to read in \n",
    "\"\"\"\n",
    "2010-2018\n",
    "Datasets/data_FEC_NATIONALPOLL_DEMOGRAPHICS_2010_2018_REDISTRICTDROP.p\n",
    "\n",
    "\"\"\"\n",
    "filename = 'Datasets/data_FEC_NATIONALPOLL_DEMOGRAPHICS_2010_2018.p'\n",
    "cols_to_use = [] # todo\n",
    "X_train,y_train, X_test,y_test, flip_train,flip_test = \\\n",
    "    format_model_input(filename, cols_to_use, state_hot_encoder=True)\n",
    "\n",
    "fitted_models = report_model_stats(model_dict, X_train, y_train, X_test, y_test, flip_train, flip_test)"
   ]
  },
  {
   "cell_type": "markdown",
   "metadata": {},
   "source": [
    "### Dataset since 2010, with demographics, dropping redistricted states"
   ]
  },
  {
   "cell_type": "code",
   "execution_count": null,
   "metadata": {},
   "outputs": [],
   "source": [
    "filename = 'Datasets/data_FEC_NATIONALPOLL_DEMOGRAPHICS_2010_2018_REDISTRICTDROP.p'\n",
    "# cols_to_use same as above\n",
    "X_train,y_train, X_test,y_test, flip_train,flip_test = \\\n",
    "    format_model_input(filename, cols_to_use, state_hot_encoder=True)\n",
    "\n",
    "fitted_models = report_model_stats(model_dict, X_train, y_train, X_test, y_test, flip_train, flip_test)"
   ]
  },
  {
   "cell_type": "markdown",
   "metadata": {},
   "source": [
    "### Selected columns in dataset since 2010, with demographics, nothing dropped"
   ]
  },
  {
   "cell_type": "markdown",
   "metadata": {},
   "source": [
    "### Selected columns in dataset since 2010, with demographics, dropping redistricted states"
   ]
  },
  {
   "cell_type": "markdown",
   "metadata": {},
   "source": [
    "## Impute 2010 data into all non-redistricted districts in prior years. "
   ]
  },
  {
   "cell_type": "code",
   "execution_count": null,
   "metadata": {},
   "outputs": [],
   "source": [
    "\"\"\"\n",
    "thanks, Manish!\n",
    "\n",
    "data_FEC_NATIONALPOLL_DEMOGRAPHICSIMPUTED_2004_2018.csv\n",
    "data_FEC_NATIONALPOLL_DEMOGRAPHICSIMPUTED_2004_2018.p\n",
    "\n",
    "\"\"\""
   ]
  },
  {
   "cell_type": "markdown",
   "metadata": {},
   "source": [
    "## Try different k's for kNN "
   ]
  },
  {
   "cell_type": "code",
   "execution_count": null,
   "metadata": {},
   "outputs": [],
   "source": [
    "#Try KNN\n",
    "k_values =[1,3,5,10,25,100,500]\n",
    "k_score = []\n",
    "k_test_accuracy =[]\n",
    "k_models =[]\n",
    "\n",
    "for i in k_values:\n",
    "    knn_model = KNeighborsClassifier(n_neighbors=i,n_jobs=4)\n",
    "    knn_model.fit(X_train,y_train)\n",
    "    k_models.append(knn_model)\n",
    "    k_score.append(knn_model.score(X_train,y_train))\n",
    "    y_pred_test = knn_model.predict(X_test)\n",
    "    k_test_accuracy.append(accuracy_score(y_test,y_pred_test))\n",
    "    \n",
    "fig, ax = plt.subplots(1,2, figsize=(10,4))\n",
    "ax[0].scatter(k_values,k_score)\n",
    "ax[1].scatter(k_values,k_test_accuracy)\n",
    "ax[0].set_xticklabels(k_values)\n",
    "\n",
    "ax[0].set_title(\"R2score vs. K\")\n",
    "ax[1].set_title(\"Test Accuracy vs. K\")\n",
    "\n",
    "ax[0].set_xlabel(\"K values\")\n",
    "ax[0].set_ylabel(\"r2_score\")\n",
    "ax[1].set_xlabel(\"K values\")\n",
    "ax[1].set_ylabel(\"Test Accuracy\")  \n",
    "print(\"\\n\")"
   ]
  },
  {
   "cell_type": "markdown",
   "metadata": {},
   "source": [
    "###  NOTES:\n",
    "\n",
    "1. Logistic CV 90% of the missclassified data occurs when there is a change of party compared to the previous year. No state flips are predicted correctly. \n",
    "2. KNN, 100% of the missclassified data occurs when there is a change of party. 5% of the well classified data is party flip. (Better performance)\n",
    "3. Predicts correctly 100% of the districts that do not change, and ...\n",
    "\n",
    "Concentrate on improving the states that flip to a different party between elections\n",
    "\n",
    "Ideas\n",
    "0. Try non-linear approaches (KNN, Random Forest and Boosting)\n",
    "1. Increase data by Upsampling and downsampling\n",
    "2. Increase data by adding more historical data\n",
    "3. Add demographics data\n",
    "4. Add redistricting"
   ]
  }
 ],
 "metadata": {
  "kernelspec": {
   "display_name": "APCOMP 209",
   "language": "python",
   "name": "cs209"
  },
  "language_info": {
   "codemirror_mode": {
    "name": "ipython",
    "version": 3
   },
   "file_extension": ".py",
   "mimetype": "text/x-python",
   "name": "python",
   "nbconvert_exporter": "python",
   "pygments_lexer": "ipython3",
   "version": "3.6.7"
  }
 },
 "nbformat": 4,
 "nbformat_minor": 2
}
