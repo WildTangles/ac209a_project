{
 "cells": [
  {
   "cell_type": "code",
   "execution_count": 68,
   "metadata": {},
   "outputs": [],
   "source": [
    "#\n",
    "import numpy as np\n",
    "import matplotlib.pyplot as plt\n",
    "import matplotlib.image as mpimg\n",
    "import numpy as np\n",
    "import pandas as pd\n",
    "import pickle\n",
    "from sklearn.linear_model import LogisticRegression\n",
    "from sklearn.linear_model import LogisticRegressionCV\n",
    "from sklearn.model_selection import train_test_split\n",
    "from sklearn.metrics import accuracy_score\n",
    "from sklearn.ensemble import RandomForestClassifier\n",
    "\n",
    "\n",
    "%matplotlib inline"
   ]
  },
  {
   "cell_type": "code",
   "execution_count": 69,
   "metadata": {},
   "outputs": [
    {
     "data": {
      "text/html": [
       "<div>\n",
       "<style scoped>\n",
       "    .dataframe tbody tr th:only-of-type {\n",
       "        vertical-align: middle;\n",
       "    }\n",
       "\n",
       "    .dataframe tbody tr th {\n",
       "        vertical-align: top;\n",
       "    }\n",
       "\n",
       "    .dataframe thead th {\n",
       "        text-align: right;\n",
       "    }\n",
       "</style>\n",
       "<table border=\"1\" class=\"dataframe\">\n",
       "  <thead>\n",
       "    <tr style=\"text-align: right;\">\n",
       "      <th></th>\n",
       "      <th>district</th>\n",
       "      <th>state</th>\n",
       "      <th>year</th>\n",
       "      <th>party</th>\n",
       "      <th>candidatevotes</th>\n",
       "      <th>totalvotes</th>\n",
       "      <th>candidate</th>\n",
       "      <th>national_poll</th>\n",
       "      <th>national_poll_prior</th>\n",
       "      <th>national_poll_delta_sub</th>\n",
       "      <th>...</th>\n",
       "      <th>prior_win_dem_percent</th>\n",
       "      <th>prior_win_rep_percent</th>\n",
       "      <th>prior_margin_unsigned_divide</th>\n",
       "      <th>prior_margin_unsigned_minus</th>\n",
       "      <th>prior_margin_signed_divide</th>\n",
       "      <th>prior_margin_signed_minus</th>\n",
       "      <th>prior_win_dem</th>\n",
       "      <th>prior_win_rep</th>\n",
       "      <th>curr_win_dem</th>\n",
       "      <th>curr_win_rep</th>\n",
       "    </tr>\n",
       "  </thead>\n",
       "  <tbody>\n",
       "    <tr>\n",
       "      <th>AK_01_2012</th>\n",
       "      <td>1</td>\n",
       "      <td>AK</td>\n",
       "      <td>2012</td>\n",
       "      <td>republican</td>\n",
       "      <td>185296.0</td>\n",
       "      <td>289804.0</td>\n",
       "      <td>Don Young</td>\n",
       "      <td>1.988304</td>\n",
       "      <td>-2.622642</td>\n",
       "      <td>4.610946</td>\n",
       "      <td>...</td>\n",
       "      <td>0.310421</td>\n",
       "      <td>0.689579</td>\n",
       "      <td>2.221428</td>\n",
       "      <td>0.379157</td>\n",
       "      <td>0.450161</td>\n",
       "      <td>-0.379157</td>\n",
       "      <td>0.0</td>\n",
       "      <td>1.0</td>\n",
       "      <td>0.0</td>\n",
       "      <td>1.0</td>\n",
       "    </tr>\n",
       "    <tr>\n",
       "      <th>AL_01_2012</th>\n",
       "      <td>1</td>\n",
       "      <td>AL</td>\n",
       "      <td>2012</td>\n",
       "      <td>republican</td>\n",
       "      <td>196374.0</td>\n",
       "      <td>200676.0</td>\n",
       "      <td>Jo Bonner</td>\n",
       "      <td>1.988304</td>\n",
       "      <td>-2.622642</td>\n",
       "      <td>4.610946</td>\n",
       "      <td>...</td>\n",
       "      <td>0.174161</td>\n",
       "      <td>0.825839</td>\n",
       "      <td>4.741825</td>\n",
       "      <td>0.651679</td>\n",
       "      <td>0.210889</td>\n",
       "      <td>-0.651679</td>\n",
       "      <td>0.0</td>\n",
       "      <td>1.0</td>\n",
       "      <td>0.0</td>\n",
       "      <td>1.0</td>\n",
       "    </tr>\n",
       "    <tr>\n",
       "      <th>AL_02_2012</th>\n",
       "      <td>2</td>\n",
       "      <td>AL</td>\n",
       "      <td>2012</td>\n",
       "      <td>republican</td>\n",
       "      <td>180591.0</td>\n",
       "      <td>283953.0</td>\n",
       "      <td>Martha Roby</td>\n",
       "      <td>1.988304</td>\n",
       "      <td>-2.622642</td>\n",
       "      <td>4.610946</td>\n",
       "      <td>...</td>\n",
       "      <td>0.490271</td>\n",
       "      <td>0.509729</td>\n",
       "      <td>1.039690</td>\n",
       "      <td>0.019459</td>\n",
       "      <td>0.961825</td>\n",
       "      <td>-0.019459</td>\n",
       "      <td>0.0</td>\n",
       "      <td>1.0</td>\n",
       "      <td>0.0</td>\n",
       "      <td>1.0</td>\n",
       "    </tr>\n",
       "    <tr>\n",
       "      <th>AL_03_2012</th>\n",
       "      <td>3</td>\n",
       "      <td>AL</td>\n",
       "      <td>2012</td>\n",
       "      <td>republican</td>\n",
       "      <td>175306.0</td>\n",
       "      <td>273930.0</td>\n",
       "      <td>Mike Rogers</td>\n",
       "      <td>1.988304</td>\n",
       "      <td>-2.622642</td>\n",
       "      <td>4.610946</td>\n",
       "      <td>...</td>\n",
       "      <td>0.405791</td>\n",
       "      <td>0.594209</td>\n",
       "      <td>1.464323</td>\n",
       "      <td>0.188418</td>\n",
       "      <td>0.682909</td>\n",
       "      <td>-0.188418</td>\n",
       "      <td>0.0</td>\n",
       "      <td>1.0</td>\n",
       "      <td>0.0</td>\n",
       "      <td>1.0</td>\n",
       "    </tr>\n",
       "    <tr>\n",
       "      <th>AL_04_2012</th>\n",
       "      <td>4</td>\n",
       "      <td>AL</td>\n",
       "      <td>2012</td>\n",
       "      <td>republican</td>\n",
       "      <td>199071.0</td>\n",
       "      <td>269118.0</td>\n",
       "      <td>Robert B. Aderholt</td>\n",
       "      <td>1.988304</td>\n",
       "      <td>-2.622642</td>\n",
       "      <td>4.610946</td>\n",
       "      <td>...</td>\n",
       "      <td>0.011825</td>\n",
       "      <td>0.988175</td>\n",
       "      <td>83.564524</td>\n",
       "      <td>0.976349</td>\n",
       "      <td>0.011967</td>\n",
       "      <td>-0.976349</td>\n",
       "      <td>0.0</td>\n",
       "      <td>1.0</td>\n",
       "      <td>0.0</td>\n",
       "      <td>1.0</td>\n",
       "    </tr>\n",
       "  </tbody>\n",
       "</table>\n",
       "<p>5 rows × 22 columns</p>\n",
       "</div>"
      ],
      "text/plain": [
       "            district state  year       party  candidatevotes  totalvotes  \\\n",
       "AK_01_2012         1    AK  2012  republican        185296.0    289804.0   \n",
       "AL_01_2012         1    AL  2012  republican        196374.0    200676.0   \n",
       "AL_02_2012         2    AL  2012  republican        180591.0    283953.0   \n",
       "AL_03_2012         3    AL  2012  republican        175306.0    273930.0   \n",
       "AL_04_2012         4    AL  2012  republican        199071.0    269118.0   \n",
       "\n",
       "                     candidate  national_poll  national_poll_prior  \\\n",
       "AK_01_2012           Don Young       1.988304            -2.622642   \n",
       "AL_01_2012           Jo Bonner       1.988304            -2.622642   \n",
       "AL_02_2012         Martha Roby       1.988304            -2.622642   \n",
       "AL_03_2012         Mike Rogers       1.988304            -2.622642   \n",
       "AL_04_2012  Robert B. Aderholt       1.988304            -2.622642   \n",
       "\n",
       "            national_poll_delta_sub      ...       prior_win_dem_percent  \\\n",
       "AK_01_2012                 4.610946      ...                    0.310421   \n",
       "AL_01_2012                 4.610946      ...                    0.174161   \n",
       "AL_02_2012                 4.610946      ...                    0.490271   \n",
       "AL_03_2012                 4.610946      ...                    0.405791   \n",
       "AL_04_2012                 4.610946      ...                    0.011825   \n",
       "\n",
       "           prior_win_rep_percent  prior_margin_unsigned_divide  \\\n",
       "AK_01_2012              0.689579                      2.221428   \n",
       "AL_01_2012              0.825839                      4.741825   \n",
       "AL_02_2012              0.509729                      1.039690   \n",
       "AL_03_2012              0.594209                      1.464323   \n",
       "AL_04_2012              0.988175                     83.564524   \n",
       "\n",
       "            prior_margin_unsigned_minus  prior_margin_signed_divide  \\\n",
       "AK_01_2012                     0.379157                    0.450161   \n",
       "AL_01_2012                     0.651679                    0.210889   \n",
       "AL_02_2012                     0.019459                    0.961825   \n",
       "AL_03_2012                     0.188418                    0.682909   \n",
       "AL_04_2012                     0.976349                    0.011967   \n",
       "\n",
       "            prior_margin_signed_minus  prior_win_dem  prior_win_rep  \\\n",
       "AK_01_2012                  -0.379157            0.0            1.0   \n",
       "AL_01_2012                  -0.651679            0.0            1.0   \n",
       "AL_02_2012                  -0.019459            0.0            1.0   \n",
       "AL_03_2012                  -0.188418            0.0            1.0   \n",
       "AL_04_2012                  -0.976349            0.0            1.0   \n",
       "\n",
       "            curr_win_dem  curr_win_rep  \n",
       "AK_01_2012           0.0           1.0  \n",
       "AL_01_2012           0.0           1.0  \n",
       "AL_02_2012           0.0           1.0  \n",
       "AL_03_2012           0.0           1.0  \n",
       "AL_04_2012           0.0           1.0  \n",
       "\n",
       "[5 rows x 22 columns]"
      ]
     },
     "execution_count": 69,
     "metadata": {},
     "output_type": "execute_result"
    }
   ],
   "source": [
    "#read in FEC data\n",
    "full_dataset = pickle.load(open('Datasets/training_set.p', 'rb'))\n",
    "full_dataset.head()"
   ]
  },
  {
   "cell_type": "code",
   "execution_count": 61,
   "metadata": {
    "scrolled": true
   },
   "outputs": [
    {
     "data": {
      "text/plain": [
       "Index(['district', 'state', 'year', 'party', 'candidatevotes', 'totalvotes',\n",
       "       'candidate', 'national_poll', 'national_poll_prior',\n",
       "       'national_poll_delta_sub', 'national_poll_delta_div', 'previous_party',\n",
       "       'prior_win_dem_percent', 'prior_win_rep_percent',\n",
       "       'prior_margin_unsigned_divide', 'prior_margin_unsigned_minus',\n",
       "       'prior_margin_signed_divide', 'prior_margin_signed_minus',\n",
       "       'prior_win_dem', 'prior_win_rep', 'curr_win_dem', 'curr_win_rep'],\n",
       "      dtype='object')"
      ]
     },
     "execution_count": 61,
     "metadata": {},
     "output_type": "execute_result"
    }
   ],
   "source": [
    "full_dataset.columns"
   ]
  },
  {
   "cell_type": "code",
   "execution_count": 62,
   "metadata": {},
   "outputs": [
    {
     "data": {
      "text/html": [
       "<div>\n",
       "<style scoped>\n",
       "    .dataframe tbody tr th:only-of-type {\n",
       "        vertical-align: middle;\n",
       "    }\n",
       "\n",
       "    .dataframe tbody tr th {\n",
       "        vertical-align: top;\n",
       "    }\n",
       "\n",
       "    .dataframe thead th {\n",
       "        text-align: right;\n",
       "    }\n",
       "</style>\n",
       "<table border=\"1\" class=\"dataframe\">\n",
       "  <thead>\n",
       "    <tr style=\"text-align: right;\">\n",
       "      <th></th>\n",
       "      <th>curr_win_dem</th>\n",
       "      <th>prior_win_dem</th>\n",
       "      <th>prior_margin_unsigned_minus</th>\n",
       "      <th>national_poll</th>\n",
       "      <th>national_poll_prior</th>\n",
       "    </tr>\n",
       "  </thead>\n",
       "  <tbody>\n",
       "    <tr>\n",
       "      <th>AK_01_2012</th>\n",
       "      <td>0.0</td>\n",
       "      <td>0.0</td>\n",
       "      <td>0.379157</td>\n",
       "      <td>1.988304</td>\n",
       "      <td>-2.622642</td>\n",
       "    </tr>\n",
       "    <tr>\n",
       "      <th>AL_01_2012</th>\n",
       "      <td>0.0</td>\n",
       "      <td>0.0</td>\n",
       "      <td>0.651679</td>\n",
       "      <td>1.988304</td>\n",
       "      <td>-2.622642</td>\n",
       "    </tr>\n",
       "    <tr>\n",
       "      <th>AL_02_2012</th>\n",
       "      <td>0.0</td>\n",
       "      <td>0.0</td>\n",
       "      <td>0.019459</td>\n",
       "      <td>1.988304</td>\n",
       "      <td>-2.622642</td>\n",
       "    </tr>\n",
       "    <tr>\n",
       "      <th>AL_03_2012</th>\n",
       "      <td>0.0</td>\n",
       "      <td>0.0</td>\n",
       "      <td>0.188418</td>\n",
       "      <td>1.988304</td>\n",
       "      <td>-2.622642</td>\n",
       "    </tr>\n",
       "    <tr>\n",
       "      <th>AL_04_2012</th>\n",
       "      <td>0.0</td>\n",
       "      <td>0.0</td>\n",
       "      <td>0.976349</td>\n",
       "      <td>1.988304</td>\n",
       "      <td>-2.622642</td>\n",
       "    </tr>\n",
       "  </tbody>\n",
       "</table>\n",
       "</div>"
      ],
      "text/plain": [
       "            curr_win_dem  prior_win_dem  prior_margin_unsigned_minus  \\\n",
       "AK_01_2012           0.0            0.0                     0.379157   \n",
       "AL_01_2012           0.0            0.0                     0.651679   \n",
       "AL_02_2012           0.0            0.0                     0.019459   \n",
       "AL_03_2012           0.0            0.0                     0.188418   \n",
       "AL_04_2012           0.0            0.0                     0.976349   \n",
       "\n",
       "            national_poll  national_poll_prior  \n",
       "AK_01_2012       1.988304            -2.622642  \n",
       "AL_01_2012       1.988304            -2.622642  \n",
       "AL_02_2012       1.988304            -2.622642  \n",
       "AL_03_2012       1.988304            -2.622642  \n",
       "AL_04_2012       1.988304            -2.622642  "
      ]
     },
     "execution_count": 62,
     "metadata": {},
     "output_type": "execute_result"
    }
   ],
   "source": [
    "#1 =democratic party\n",
    "feature_cols =[\"curr_win_dem\",\"prior_win_dem\",\"prior_margin_unsigned_minus\",\"national_poll\",\"national_poll_prior\"]\n",
    "small_dataset =full_dataset[feature_cols]\n",
    "small_dataset.head()"
   ]
  },
  {
   "cell_type": "code",
   "execution_count": 74,
   "metadata": {},
   "outputs": [
    {
     "data": {
      "text/html": [
       "<div>\n",
       "<style scoped>\n",
       "    .dataframe tbody tr th:only-of-type {\n",
       "        vertical-align: middle;\n",
       "    }\n",
       "\n",
       "    .dataframe tbody tr th {\n",
       "        vertical-align: top;\n",
       "    }\n",
       "\n",
       "    .dataframe thead th {\n",
       "        text-align: right;\n",
       "    }\n",
       "</style>\n",
       "<table border=\"1\" class=\"dataframe\">\n",
       "  <thead>\n",
       "    <tr style=\"text-align: right;\">\n",
       "      <th></th>\n",
       "      <th>national_poll</th>\n",
       "      <th>national_poll_prior</th>\n",
       "      <th>prior_margin_unsigned_minus</th>\n",
       "      <th>prior_win_dem</th>\n",
       "    </tr>\n",
       "  </thead>\n",
       "  <tbody>\n",
       "    <tr>\n",
       "      <th>CA_04_2016</th>\n",
       "      <td>3.175439</td>\n",
       "      <td>1.459459</td>\n",
       "      <td>0.200981</td>\n",
       "      <td>0.0</td>\n",
       "    </tr>\n",
       "    <tr>\n",
       "      <th>CA_40_2016</th>\n",
       "      <td>3.175439</td>\n",
       "      <td>1.459459</td>\n",
       "      <td>0.223516</td>\n",
       "      <td>1.0</td>\n",
       "    </tr>\n",
       "    <tr>\n",
       "      <th>TX_19_2014</th>\n",
       "      <td>1.459459</td>\n",
       "      <td>1.988304</td>\n",
       "      <td>0.699848</td>\n",
       "      <td>0.0</td>\n",
       "    </tr>\n",
       "    <tr>\n",
       "      <th>NC_13_2016</th>\n",
       "      <td>3.175439</td>\n",
       "      <td>1.459459</td>\n",
       "      <td>0.146154</td>\n",
       "      <td>0.0</td>\n",
       "    </tr>\n",
       "    <tr>\n",
       "      <th>VA_01_2014</th>\n",
       "      <td>1.459459</td>\n",
       "      <td>1.988304</td>\n",
       "      <td>0.125794</td>\n",
       "      <td>0.0</td>\n",
       "    </tr>\n",
       "  </tbody>\n",
       "</table>\n",
       "</div>"
      ],
      "text/plain": [
       "            national_poll  national_poll_prior  prior_margin_unsigned_minus  \\\n",
       "CA_04_2016       3.175439             1.459459                     0.200981   \n",
       "CA_40_2016       3.175439             1.459459                     0.223516   \n",
       "TX_19_2014       1.459459             1.988304                     0.699848   \n",
       "NC_13_2016       3.175439             1.459459                     0.146154   \n",
       "VA_01_2014       1.459459             1.988304                     0.125794   \n",
       "\n",
       "            prior_win_dem  \n",
       "CA_04_2016            0.0  \n",
       "CA_40_2016            1.0  \n",
       "TX_19_2014            0.0  \n",
       "NC_13_2016            0.0  \n",
       "VA_01_2014            0.0  "
      ]
     },
     "execution_count": 74,
     "metadata": {},
     "output_type": "execute_result"
    }
   ],
   "source": [
    "#split data into train and test\n",
    "train_data, test_data = train_test_split(small_dataset, test_size=.3, random_state=42)\n",
    "\n",
    "X_train=train_data[small_dataset.columns.difference([\"curr_win_dem\"])]\n",
    "X_test=test_data[small_dataset.columns.difference([\"curr_win_dem\"])]\n",
    "\n",
    "y_train=train_data[\"curr_win_dem\"]\n",
    "y_test = test_data[\"curr_win_dem\"]\n",
    "\n",
    "X_test.head()"
   ]
  },
  {
   "cell_type": "code",
   "execution_count": 75,
   "metadata": {},
   "outputs": [
    {
     "name": "stderr",
     "output_type": "stream",
     "text": [
      "/anaconda3/lib/python3.6/site-packages/sklearn/linear_model/logistic.py:432: FutureWarning: Default solver will be changed to 'lbfgs' in 0.22. Specify a solver to silence this warning.\n",
      "  FutureWarning)\n"
     ]
    },
    {
     "data": {
      "text/plain": [
       "((888, 4), (888,))"
      ]
     },
     "execution_count": 75,
     "metadata": {},
     "output_type": "execute_result"
    }
   ],
   "source": [
    "#model  LOGISTIC\n",
    "lr_model = LogisticRegression()\n",
    "lr_model.fit(X_train,y_train)\n",
    "\n",
    "X_train.shape, y_train.shape"
   ]
  },
  {
   "cell_type": "code",
   "execution_count": 76,
   "metadata": {},
   "outputs": [
    {
     "data": {
      "text/plain": [
       "0.9234234234234234"
      ]
     },
     "execution_count": 76,
     "metadata": {},
     "output_type": "execute_result"
    }
   ],
   "source": [
    "lr_model.score(X_train,y_train)"
   ]
  },
  {
   "cell_type": "code",
   "execution_count": 77,
   "metadata": {},
   "outputs": [
    {
     "ename": "ValueError",
     "evalue": "Found input variables with inconsistent numbers of samples: [381, 888]",
     "output_type": "error",
     "traceback": [
      "\u001b[0;31m---------------------------------------------------------------------------\u001b[0m",
      "\u001b[0;31mValueError\u001b[0m                                Traceback (most recent call last)",
      "\u001b[0;32m<ipython-input-77-2aaa5ae93af8>\u001b[0m in \u001b[0;36m<module>\u001b[0;34m\u001b[0m\n\u001b[1;32m      1\u001b[0m \u001b[0;31m#predict on test set\u001b[0m\u001b[0;34m\u001b[0m\u001b[0;34m\u001b[0m\u001b[0m\n\u001b[1;32m      2\u001b[0m \u001b[0my_pred_test\u001b[0m \u001b[0;34m=\u001b[0m \u001b[0mlr_model\u001b[0m\u001b[0;34m.\u001b[0m\u001b[0mpredict\u001b[0m\u001b[0;34m(\u001b[0m\u001b[0mX_test\u001b[0m\u001b[0;34m,\u001b[0m\u001b[0;34m)\u001b[0m\u001b[0;34m\u001b[0m\u001b[0m\n\u001b[0;32m----> 3\u001b[0;31m \u001b[0maccuracy_score\u001b[0m\u001b[0;34m(\u001b[0m\u001b[0my_test\u001b[0m\u001b[0;34m,\u001b[0m\u001b[0my_pred_test\u001b[0m\u001b[0;34m)\u001b[0m\u001b[0;34m\u001b[0m\u001b[0m\n\u001b[0m",
      "\u001b[0;32m/anaconda3/lib/python3.6/site-packages/sklearn/metrics/classification.py\u001b[0m in \u001b[0;36maccuracy_score\u001b[0;34m(y_true, y_pred, normalize, sample_weight)\u001b[0m\n\u001b[1;32m    174\u001b[0m \u001b[0;34m\u001b[0m\u001b[0m\n\u001b[1;32m    175\u001b[0m     \u001b[0;31m# Compute accuracy for each possible representation\u001b[0m\u001b[0;34m\u001b[0m\u001b[0;34m\u001b[0m\u001b[0m\n\u001b[0;32m--> 176\u001b[0;31m     \u001b[0my_type\u001b[0m\u001b[0;34m,\u001b[0m \u001b[0my_true\u001b[0m\u001b[0;34m,\u001b[0m \u001b[0my_pred\u001b[0m \u001b[0;34m=\u001b[0m \u001b[0m_check_targets\u001b[0m\u001b[0;34m(\u001b[0m\u001b[0my_true\u001b[0m\u001b[0;34m,\u001b[0m \u001b[0my_pred\u001b[0m\u001b[0;34m)\u001b[0m\u001b[0;34m\u001b[0m\u001b[0m\n\u001b[0m\u001b[1;32m    177\u001b[0m     \u001b[0mcheck_consistent_length\u001b[0m\u001b[0;34m(\u001b[0m\u001b[0my_true\u001b[0m\u001b[0;34m,\u001b[0m \u001b[0my_pred\u001b[0m\u001b[0;34m,\u001b[0m \u001b[0msample_weight\u001b[0m\u001b[0;34m)\u001b[0m\u001b[0;34m\u001b[0m\u001b[0m\n\u001b[1;32m    178\u001b[0m     \u001b[0;32mif\u001b[0m \u001b[0my_type\u001b[0m\u001b[0;34m.\u001b[0m\u001b[0mstartswith\u001b[0m\u001b[0;34m(\u001b[0m\u001b[0;34m'multilabel'\u001b[0m\u001b[0;34m)\u001b[0m\u001b[0;34m:\u001b[0m\u001b[0;34m\u001b[0m\u001b[0m\n",
      "\u001b[0;32m/anaconda3/lib/python3.6/site-packages/sklearn/metrics/classification.py\u001b[0m in \u001b[0;36m_check_targets\u001b[0;34m(y_true, y_pred)\u001b[0m\n\u001b[1;32m     69\u001b[0m     \u001b[0my_pred\u001b[0m \u001b[0;34m:\u001b[0m \u001b[0marray\u001b[0m \u001b[0;32mor\u001b[0m \u001b[0mindicator\u001b[0m \u001b[0mmatrix\u001b[0m\u001b[0;34m\u001b[0m\u001b[0m\n\u001b[1;32m     70\u001b[0m     \"\"\"\n\u001b[0;32m---> 71\u001b[0;31m     \u001b[0mcheck_consistent_length\u001b[0m\u001b[0;34m(\u001b[0m\u001b[0my_true\u001b[0m\u001b[0;34m,\u001b[0m \u001b[0my_pred\u001b[0m\u001b[0;34m)\u001b[0m\u001b[0;34m\u001b[0m\u001b[0m\n\u001b[0m\u001b[1;32m     72\u001b[0m     \u001b[0mtype_true\u001b[0m \u001b[0;34m=\u001b[0m \u001b[0mtype_of_target\u001b[0m\u001b[0;34m(\u001b[0m\u001b[0my_true\u001b[0m\u001b[0;34m)\u001b[0m\u001b[0;34m\u001b[0m\u001b[0m\n\u001b[1;32m     73\u001b[0m     \u001b[0mtype_pred\u001b[0m \u001b[0;34m=\u001b[0m \u001b[0mtype_of_target\u001b[0m\u001b[0;34m(\u001b[0m\u001b[0my_pred\u001b[0m\u001b[0;34m)\u001b[0m\u001b[0;34m\u001b[0m\u001b[0m\n",
      "\u001b[0;32m/anaconda3/lib/python3.6/site-packages/sklearn/utils/validation.py\u001b[0m in \u001b[0;36mcheck_consistent_length\u001b[0;34m(*arrays)\u001b[0m\n\u001b[1;32m    228\u001b[0m     \u001b[0;32mif\u001b[0m \u001b[0mlen\u001b[0m\u001b[0;34m(\u001b[0m\u001b[0muniques\u001b[0m\u001b[0;34m)\u001b[0m \u001b[0;34m>\u001b[0m \u001b[0;36m1\u001b[0m\u001b[0;34m:\u001b[0m\u001b[0;34m\u001b[0m\u001b[0m\n\u001b[1;32m    229\u001b[0m         raise ValueError(\"Found input variables with inconsistent numbers of\"\n\u001b[0;32m--> 230\u001b[0;31m                          \" samples: %r\" % [int(l) for l in lengths])\n\u001b[0m\u001b[1;32m    231\u001b[0m \u001b[0;34m\u001b[0m\u001b[0m\n\u001b[1;32m    232\u001b[0m \u001b[0;34m\u001b[0m\u001b[0m\n",
      "\u001b[0;31mValueError\u001b[0m: Found input variables with inconsistent numbers of samples: [381, 888]"
     ]
    }
   ],
   "source": [
    "#predict on test set\n",
    "y_pred_test = lr_model.predict(X_test,)\n",
    "accuracy_score(y_test,y_pred_test)\n"
   ]
  },
  {
   "cell_type": "code",
   "execution_count": null,
   "metadata": {},
   "outputs": [],
   "source": [
    "plt.plot()"
   ]
  },
  {
   "cell_type": "code",
   "execution_count": 53,
   "metadata": {},
   "outputs": [
    {
     "name": "stdout",
     "output_type": "stream",
     "text": [
      "1174\n",
      "(1269, 5)\n",
      "[  0.9251379 234.8      ]\n"
     ]
    }
   ],
   "source": [
    "print(np.sum(small_dataset[\"prior_win_dem\"]==small_dataset[\"curr_win_dem\"]))\n",
    "print(small_dataset.shape)\n",
    "print(np.sum(small_dataset[\"prior_win_dem\"]==small_dataset[\"curr_win_dem\"])/(small_dataset.shape))"
   ]
  },
  {
   "cell_type": "code",
   "execution_count": 63,
   "metadata": {},
   "outputs": [
    {
     "name": "stdout",
     "output_type": "stream",
     "text": [
      "0.4436564223798266\n"
     ]
    }
   ],
   "source": [
    "print(np.sum(small_dataset[\"curr_win_dem\"])/small_dataset.shape[0])"
   ]
  },
  {
   "cell_type": "code",
   "execution_count": 66,
   "metadata": {},
   "outputs": [
    {
     "name": "stderr",
     "output_type": "stream",
     "text": [
      "/anaconda3/lib/python3.6/site-packages/sklearn/ensemble/forest.py:248: FutureWarning: The default value of n_estimators will change from 10 in version 0.20 to 100 in 0.22.\n",
      "  \"10 in version 0.20 to 100 in 0.22.\", FutureWarning)\n"
     ]
    },
    {
     "data": {
      "text/plain": [
       "0.9234234234234234"
      ]
     },
     "execution_count": 66,
     "metadata": {},
     "output_type": "execute_result"
    }
   ],
   "source": [
    "rf_model = RandomForestClassifier()\n",
    "rf_model.fit(X_train,y_train)\n",
    "rf_model.score(X_train,y_train)"
   ]
  },
  {
   "cell_type": "code",
   "execution_count": 67,
   "metadata": {},
   "outputs": [
    {
     "data": {
      "text/plain": [
       "0.9291338582677166"
      ]
     },
     "execution_count": 67,
     "metadata": {},
     "output_type": "execute_result"
    }
   ],
   "source": [
    "y_pred_test = rf_model.predict(X_test,)\n",
    "accuracy_score(y_test,y_pred_test)\n"
   ]
  }
 ],
 "metadata": {
  "kernelspec": {
   "display_name": "Python 3",
   "language": "python",
   "name": "python3"
  },
  "language_info": {
   "codemirror_mode": {
    "name": "ipython",
    "version": 3
   },
   "file_extension": ".py",
   "mimetype": "text/x-python",
   "name": "python",
   "nbconvert_exporter": "python",
   "pygments_lexer": "ipython3",
   "version": "3.6.6"
  }
 },
 "nbformat": 4,
 "nbformat_minor": 2
}
