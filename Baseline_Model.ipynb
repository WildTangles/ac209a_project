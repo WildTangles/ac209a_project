{
 "cells": [
  {
   "cell_type": "code",
   "execution_count": 1,
   "metadata": {},
   "outputs": [],
   "source": [
    "#\n",
    "import numpy as np\n",
    "import matplotlib.pyplot as plt\n",
    "import matplotlib.image as mpimg\n",
    "import numpy as np\n",
    "import pandas as pd\n",
    "import pickle\n",
    "from sklearn.linear_model import LogisticRegression\n",
    "from sklearn.linear_model import LogisticRegressionCV\n",
    "from sklearn.model_selection import train_test_split\n",
    "from sklearn.metrics import accuracy_score\n",
    "from sklearn.ensemble import RandomForestClassifier\n",
    "from sklearn.metrics import confusion_matrix\n",
    "from sklearn.neighbors import KNeighborsClassifier\n",
    "from sklearn.ensemble import AdaBoostClassifier\n",
    "from sklearn.tree import DecisionTreeClassifier\n",
    "\n",
    "%matplotlib inline"
   ]
  },
  {
   "cell_type": "code",
   "execution_count": 2,
   "metadata": {},
   "outputs": [],
   "source": [
    "#read in FEC data\n",
    "#full_dataset = pickle.load(open('Datasets/data.p', 'rb'))\n",
    "full_dataset = pickle.load(open('Datasets/data_FEC_NATIONALPOLL_DEMOGRAPHICS_2010_2018.p','rb'))\n",
    "#full_dataset.head()\n",
    "#1 =democratic party\n",
    "# additional features to try: \n",
    "#\"prior_margin_unsigned_minus\",\"national_poll\",\"national_poll_prior\"]"
   ]
  },
  {
   "cell_type": "code",
   "execution_count": 3,
   "metadata": {},
   "outputs": [
    {
     "data": {
      "text/plain": [
       "Index(['district', 'state', 'year', 'party', 'candidatevotes', 'totalvotes',\n",
       "       'candidate', 'national_poll', 'national_poll_prev',\n",
       "       'national_poll_delta_subtract', 'national_poll_delta_divide',\n",
       "       'previous_party', 'dem_win_margin_prev', 'rep_win_margin_prev',\n",
       "       'margin_signed_minus_prev', 'margin_signed_divide_prev',\n",
       "       'margin_unsigned_minus_prev', 'margin_unsigned_divide_prev',\n",
       "       'dem_win_prev', 'rep_win_prev', 'dem_win', 'rep_win', 'female_pct',\n",
       "       'age18_24_pct', 'age25_34_pct', 'median_age', 'unmarried_partner_pct',\n",
       "       'male_living_alone_pct', 'bachelors_deg_or_higher_pct',\n",
       "       'past_year_births_to_unmarried_women_pct', 'civilian_veteran_pct',\n",
       "       'live_same_house_past_year_pct',\n",
       "       'foreign_born_proportion_from_LatinAmerica',\n",
       "       'speak_other_language_at_home_pct', 'labor_force_unemployed_pct',\n",
       "       'public_transit_commuter_pct', 'no_health_insurance_pct',\n",
       "       'poverty_rate_pct', 'median_housing_value', 'median_household_income',\n",
       "       'food_stamp_benefits_pct', 'foreign_to_native_born_ratio'],\n",
       "      dtype='object')"
      ]
     },
     "execution_count": 3,
     "metadata": {},
     "output_type": "execute_result"
    }
   ],
   "source": [
    "full_dataset.columns"
   ]
  },
  {
   "cell_type": "code",
   "execution_count": 4,
   "metadata": {},
   "outputs": [
    {
     "data": {
      "text/plain": [
       "Index(['district', 'state', 'year', 'party', 'candidatevotes', 'totalvotes',\n",
       "       'candidate', 'national_poll', 'national_poll_prev',\n",
       "       'national_poll_delta_subtract', 'national_poll_delta_divide',\n",
       "       'previous_party', 'dem_win_margin_prev', 'rep_win_margin_prev',\n",
       "       'margin_signed_minus_prev', 'margin_signed_divide_prev',\n",
       "       'margin_unsigned_minus_prev', 'margin_unsigned_divide_prev',\n",
       "       'dem_win_prev', 'rep_win_prev', 'dem_win', 'rep_win', 'female_pct',\n",
       "       'age18_24_pct', 'age25_34_pct', 'median_age', 'unmarried_partner_pct',\n",
       "       'male_living_alone_pct', 'bachelors_deg_or_higher_pct',\n",
       "       'past_year_births_to_unmarried_women_pct', 'civilian_veteran_pct',\n",
       "       'live_same_house_past_year_pct',\n",
       "       'foreign_born_proportion_from_LatinAmerica',\n",
       "       'speak_other_language_at_home_pct', 'labor_force_unemployed_pct',\n",
       "       'public_transit_commuter_pct', 'no_health_insurance_pct',\n",
       "       'poverty_rate_pct', 'median_housing_value', 'median_household_income',\n",
       "       'food_stamp_benefits_pct', 'foreign_to_native_born_ratio'],\n",
       "      dtype='object')"
      ]
     },
     "execution_count": 4,
     "metadata": {},
     "output_type": "execute_result"
    }
   ],
   "source": [
    "full_dataset.columns"
   ]
  },
  {
   "cell_type": "code",
   "execution_count": 43,
   "metadata": {},
   "outputs": [
    {
     "name": "stderr",
     "output_type": "stream",
     "text": [
      "/anaconda3/lib/python3.6/site-packages/ipykernel_launcher.py:15: SettingWithCopyWarning: \n",
      "A value is trying to be set on a copy of a slice from a DataFrame.\n",
      "Try using .loc[row_indexer,col_indexer] = value instead\n",
      "\n",
      "See the caveats in the documentation: http://pandas.pydata.org/pandas-docs/stable/indexing.html#indexing-view-versus-copy\n",
      "  from ipykernel import kernelapp as app\n"
     ]
    }
   ],
   "source": [
    "#Create a sub-dataset\n",
    "cols_to_use =[\"dem_win\", \"dem_win_prev\", 'state','year',\\\n",
    "              'national_poll','national_poll_prev','dem_win_margin_prev',\\\n",
    "              'female_pct','age18_24_pct','age25_34_pct',\\\n",
    "             'civilian_veteran_pct','bachelors_deg_or_higher_pct',\\\n",
    "              'unmarried_partner_pct','male_living_alone_pct',\\\n",
    "             'speak_other_language_at_home_pct','foreign_born_proportion_from_LatinAmerica',\\\n",
    "              'foreign_to_native_born_ratio','labor_force_unemployed_pct',\\\n",
    "             'public_transit_commuter_pct','no_health_insurance_pct',\\\n",
    "              'poverty_rate_pct','food_stamp_benefits_pct',\\\n",
    "             'median_housing_value','median_household_income']\n",
    "small_dataset =full_dataset[cols_to_use]\n",
    "\n",
    "#add column to indicate a party flip\n",
    "small_dataset['party_flip']= (small_dataset.dem_win_prev!=small_dataset.dem_win)*1\n",
    "\n",
    "#add one hot encoder for states (with or without dropping first)\n",
    "small_dataset = pd.get_dummies(small_dataset,'state',drop_first=True)\n"
   ]
  },
  {
   "cell_type": "code",
   "execution_count": 38,
   "metadata": {},
   "outputs": [
    {
     "data": {
      "image/png": "[encoded data removed]",
      "text/plain": [
       "<Figure size 432x288 with 1 Axes>"
      ]
     },
     "metadata": {
      "needs_background": "light"
     },
     "output_type": "display_data"
    }
   ],
   "source": [
    "\n",
    "#print(small_dataset.shape)\n",
    "#small_dataset.head()\n",
    "plt.title('Proportion of districts that chage party in consecutive elections')\n",
    "plt.ylabel('frequency')\n",
    "plt.xlabel('Party Change')\n",
    "small_dataset.party_flip.value_counts().plot(kind='bar')\n",
    "\n",
    "#proportion of districts on the full data that do not flip\n",
    "small_dataset.groupby('party_flip')['party_flip'].count().plot.bar()\n",
    "plt.title('Proportion of Party Flips on Full Dataset')\n",
    "\n",
    "for name, group in (small_dataset.groupby('party_flip')['party_flip']):\n",
    "    plt.text(int(name)+.25, group.count() + .25, \\\n",
    "    '{0:.2f}'.format(group.count()/small_dataset.shape[0]*100)+'%', color='blue', fontweight='bold')\n",
    " "
   ]
  },
  {
   "cell_type": "code",
   "execution_count": 39,
   "metadata": {},
   "outputs": [
    {
     "data": {
      "image/png": "[encoded data removed]",
      "text/plain": [
       "<Figure size 720x288 with 2 Axes>"
      ]
     },
     "metadata": {
      "needs_background": "light"
     },
     "output_type": "display_data"
    }
   ],
   "source": [
    "#split data into train and test and verify the distribution of party flips\n",
    "test_data = small_dataset[small_dataset.year==2018]\n",
    "train_data = small_dataset[small_dataset.year!=2018]\n",
    "\n",
    "#train_data, test_data = train_test_split(small_dataset, test_size=.2, \\\n",
    "#                        stratify=small_dataset.party_flip,random_state=209)\n",
    "\n",
    "#response variable\n",
    "y_train=train_data[\"dem_win\"]\n",
    "y_test = test_data[\"dem_win\"]\n",
    "\n",
    "#predictors\n",
    "X_train=train_data[small_dataset.columns.difference([\"dem_win\",\"year\"])]\n",
    "X_test=test_data[small_dataset.columns.difference([\"dem_win\",\"year\"])]\n",
    "\n",
    "\n",
    "#View the distribution of flips in train and test set\n",
    "\n",
    "fig, ax = plt.subplots(1,2, figsize=(10,4))\n",
    "X_train.groupby('party_flip')['party_flip'].count().plot.bar(ax=ax[0])\n",
    "X_test.groupby('party_flip')['party_flip'].count().plot.bar(ax=ax[1])\n",
    "\n",
    "#add title and axis\n",
    "ax[0].set_title(\"Proportion of Party Flips on Training Data\")\n",
    "ax[0].set_ylabel(\"frequency\")\n",
    "ax[1].set_title(\"Proportion of Party Flips on Test Data\")\n",
    "\n",
    "\n",
    "#add bar numbers on training data plot\n",
    "for name, group in (X_train.groupby('party_flip')['party_flip']):\n",
    "    ax[0].text(int(name)+.25, group.count() + .25, \\\n",
    "    '{0:.2f}'.format(group.count()/X_train.shape[0]*100)+'%', color='blue', fontweight='bold')\n",
    "    \n",
    "#add bar numbers on test data plot\n",
    "for name, group in (X_test.groupby('party_flip')['party_flip']):\n",
    "    ax[1].text(int(name)+.25, group.count() + .25, \\\n",
    "    '{0:.2f}'.format(group.count()/X_test.shape[0]*100)+'%', color='blue', fontweight='bold')"
   ]
  },
  {
   "cell_type": "code",
   "execution_count": 40,
   "metadata": {},
   "outputs": [
    {
     "name": "stdout",
     "output_type": "stream",
     "text": [
      "Model R2 score:  0.9055164319248826\n",
      "Test Accuracy:  0.8838862559241706\n",
      "Confusion Matrix: \n",
      " [[191   5]\n",
      " [ 44 182]]\n"
     ]
    },
    {
     "data": {
      "image/png": "[encoded data removed]",
      "text/plain": [
       "<Figure size 1008x288 with 2 Axes>"
      ]
     },
     "metadata": {
      "needs_background": "light"
     },
     "output_type": "display_data"
    }
   ],
   "source": [
    "#Run Logistic CV model \n",
    "lr_model = LogisticRegressionCV(cv=5,random_state=209,multi_class='ovr',n_jobs=4)\n",
    "lr_model.fit(X_train[X_train.columns.difference([\"party_flip\"])],y_train)\n",
    "print(\"Model R2 score: \",lr_model.score(X_train[X_train.columns.difference([\"party_flip\"])],y_train))\n",
    "\n",
    "#predict on test set\n",
    "y_pred_test = lr_model.predict(X_test[X_test.columns.difference([\"party_flip\"])])\n",
    "print(\"Test Accuracy: \",accuracy_score(y_test,y_pred_test))\n",
    "\n",
    "#confusion metrics\n",
    "print(\"Confusion Matrix: \\n\",confusion_matrix(y_test,y_pred_test))\n",
    "\n",
    "#####\n",
    "#looking at the missclassifications with logisticRegressionCV\n",
    "\n",
    "miss_class_df = X_test[y_test != y_pred_test]\n",
    "good_class_df = X_test[y_test == y_pred_test]\n",
    "\n",
    "#plot the flips and non flips for each data\n",
    "fig, ax = plt.subplots(1,2, figsize=(14,4))\n",
    "ax[0].set_title('LogRegCV Proportion of party flips on wellclassified test data')\n",
    "ax[1].set_title('LogRegCV Proportion of party flips missclassified test data')\n",
    "\n",
    "good_class_df.groupby('party_flip')['party_flip'].count().plot.bar(ax=ax[0])\n",
    "miss_class_df.groupby('party_flip')['party_flip'].count().plot.bar(ax=ax[1])\n",
    "\n",
    "for name, group in (good_class_df.groupby('party_flip')['party_flip']):\n",
    "    ax[0].text(int(name)+.25, group.count() + .25, \\\n",
    "    '{0:.2f}'.format(group.count()/good_class_df.shape[0]*100)+'%', color='blue', fontweight='bold')\n",
    "\n",
    "for name, group in (miss_class_df.groupby('party_flip')['party_flip']):\n",
    "    ax[1].text(int(name)-1, group.count() + .10, \\\n",
    "    '{0:.2f}'.format(group.count()/miss_class_df.shape[0]*100)+'%', color='blue', fontweight='bold')"
   ]
  },
  {
   "cell_type": "markdown",
   "metadata": {},
   "source": [
    "### Try KNN "
   ]
  },
  {
   "cell_type": "code",
   "execution_count": 41,
   "metadata": {},
   "outputs": [
    {
     "name": "stdout",
     "output_type": "stream",
     "text": [
      "\n",
      "\n"
     ]
    },
    {
     "data": {
      "image/png": "[encoded data removed]",
      "text/plain": [
       "<Figure size 720x288 with 2 Axes>"
      ]
     },
     "metadata": {
      "needs_background": "light"
     },
     "output_type": "display_data"
    }
   ],
   "source": [
    "#Try KNN\n",
    "k_values =[1,3,5,10,25,100]\n",
    "k_score = []\n",
    "k_test_accuracy =[]\n",
    "k_models =[]\n",
    "\n",
    "for i in k_values:\n",
    "    knn_model = KNeighborsClassifier(n_neighbors=i,n_jobs=4)\n",
    "    knn_model.fit(X_train[X_train.columns.difference([\"party_flip\"])],y_train)\n",
    "    k_models.append(knn_model)\n",
    "    k_score.append(knn_model.score(X_train[X_train.columns.difference([\"party_flip\"])],y_train))\n",
    "    y_pred_test = knn_model.predict(X_test[X_test.columns.difference([\"party_flip\"])])\n",
    "    k_test_accuracy.append(accuracy_score(y_test,y_pred_test))\n",
    "    \n",
    "fig, ax = plt.subplots(1,2, figsize=(10,4))\n",
    "ax[0].scatter(k_values,k_score)\n",
    "ax[1].scatter(k_values,k_test_accuracy)\n",
    "ax[0].set_xticklabels(k_values)\n",
    "\n",
    "ax[0].set_title(\"R2score vs. K\")\n",
    "ax[1].set_title(\"Test Accuracy vs. K\")\n",
    "\n",
    "ax[0].set_xlabel(\"K values\")\n",
    "ax[0].set_ylabel(\"r2_score\")\n",
    "ax[1].set_xlabel(\"K values\")\n",
    "ax[1].set_ylabel(\"Test Accuracy\")  \n",
    "print(\"\\n\")"
   ]
  },
  {
   "cell_type": "code",
   "execution_count": 42,
   "metadata": {},
   "outputs": [
    {
     "name": "stdout",
     "output_type": "stream",
     "text": [
      "\n",
      "1 KNN R2score : 0.9119718309859155\n",
      "1 KNN Test Accuracy:  0.8838862559241706\n",
      "Confusion Matrix knn-1: \n",
      " [[191   5]\n",
      " [ 44 182]]\n"
     ]
    },
    {
     "data": {
      "image/png": "[encoded data removed]",
      "text/plain": [
       "<Figure size 1008x288 with 2 Axes>"
      ]
     },
     "metadata": {
      "needs_background": "light"
     },
     "output_type": "display_data"
    }
   ],
   "source": [
    "#looking at the missclassifications with logisticRegressionCV\n",
    "\n",
    "knn_model = KNeighborsClassifier(n_neighbors=100,n_jobs=4)\n",
    "knn_model.fit(X_train[X_train.columns.difference([\"party_flip\"])],y_train)\n",
    "y_pred_test = knn_model.predict(X_test[X_test.columns.difference([\"party_flip\"])])\n",
    "\n",
    " \n",
    "print(\"\\n1 KNN R2score :\",\\\n",
    "      knn_model.score(X_train[X_train.columns.difference([\"party_flip\"])],y_train))\n",
    "print(\"1 KNN Test Accuracy: \",accuracy_score(y_test,y_pred_test))\n",
    "print(\"Confusion Matrix knn-1: \\n\",confusion_matrix(y_test,y_pred_test))\n",
    "      \n",
    "\n",
    "miss_class_df = X_test[y_test != y_pred_test]\n",
    "good_class_df = X_test[y_test == y_pred_test]\n",
    "\n",
    "#plot the flips and non flips for each data\n",
    "fig, ax = plt.subplots(1,2, figsize=(14,4))\n",
    "ax[0].set_title('KNN-1 Proportion of party flips on wellclassified test data')\n",
    "ax[1].set_title('KNN-1 Proportion of party flips missclassified test data')\n",
    "\n",
    "good_class_df.groupby('party_flip')['party_flip'].count().plot.bar(ax=ax[0])\n",
    "miss_class_df.groupby('party_flip')['party_flip'].count().plot.bar(ax=ax[1])\n",
    "\n",
    "for name, group in (good_class_df.groupby('party_flip')['party_flip']):\n",
    "    ax[0].text(int(name)+.25, group.count() + .25, \\\n",
    "    '{0:.2f}'.format(group.count()/good_class_df.shape[0]*100)+'%', color='blue', fontweight='bold')\n",
    "\n",
    "for name, group in (miss_class_df.groupby('party_flip')['party_flip']):\n",
    "    ax[1].text(int(name)+.15, group.count() + .25, \\\n",
    "    '{0:.2f}'.format(group.count()/miss_class_df.shape[0]*100)+'%', color='blue', fontweight='bold')"
   ]
  },
  {
   "cell_type": "code",
   "execution_count": 12,
   "metadata": {},
   "outputs": [
    {
     "data": {
      "text/plain": [
       "(422, 373, 49)"
      ]
     },
     "execution_count": 12,
     "metadata": {},
     "output_type": "execute_result"
    }
   ],
   "source": [
    "X_test.shape[0], good_class_df.shape[0], miss_class_df.shape[0]"
   ]
  },
  {
   "cell_type": "code",
   "execution_count": 13,
   "metadata": {},
   "outputs": [
    {
     "data": {
      "text/plain": [
       "(373, 0)"
      ]
     },
     "execution_count": 13,
     "metadata": {},
     "output_type": "execute_result"
    }
   ],
   "source": [
    "(good_class_df.party_flip==0).sum(), (good_class_df.party_flip==1).sum()"
   ]
  },
  {
   "cell_type": "code",
   "execution_count": 14,
   "metadata": {},
   "outputs": [
    {
     "data": {
      "text/plain": [
       "1.0"
      ]
     },
     "execution_count": 14,
     "metadata": {},
     "output_type": "execute_result"
    }
   ],
   "source": [
    "(good_class_df.party_flip==0).sum() / (X_test.party_flip==0).sum()"
   ]
  },
  {
   "cell_type": "code",
   "execution_count": 15,
   "metadata": {},
   "outputs": [
    {
     "data": {
      "text/plain": [
       "0.0"
      ]
     },
     "execution_count": 15,
     "metadata": {},
     "output_type": "execute_result"
    }
   ],
   "source": [
    "(good_class_df.party_flip==1).sum() / (X_test.party_flip==1).sum()"
   ]
  },
  {
   "cell_type": "markdown",
   "metadata": {},
   "source": [
    "### Try Random Forest"
   ]
  },
  {
   "cell_type": "code",
   "execution_count": 16,
   "metadata": {},
   "outputs": [
    {
     "name": "stderr",
     "output_type": "stream",
     "text": [
      "/anaconda3/lib/python3.6/site-packages/sklearn/ensemble/forest.py:248: FutureWarning: The default value of n_estimators will change from 10 in version 0.20 to 100 in 0.22.\n",
      "  \"10 in version 0.20 to 100 in 0.22.\", FutureWarning)\n"
     ]
    },
    {
     "name": "stdout",
     "output_type": "stream",
     "text": [
      "\n",
      "RF Model Score:  0.9911971830985915\n",
      "RF Accuracy :  0.8767772511848341\n",
      "Confusion Matrix: \n",
      " [[193   3]\n",
      " [ 49 177]]\n"
     ]
    },
    {
     "data": {
      "image/png": "[encoded data removed]",
      "text/plain": [
       "<Figure size 1008x288 with 2 Axes>"
      ]
     },
     "metadata": {
      "needs_background": "light"
     },
     "output_type": "display_data"
    }
   ],
   "source": [
    "rf_model = RandomForestClassifier(n_jobs=4,random_state=209)\n",
    "rf_model.fit(X_train[X_train.columns.difference([\"party_flip\"])],y_train)\n",
    "print(\"\\nRF Model Score: \",rf_model.score(X_train[X_train.columns.difference([\"party_flip\"])],y_train))\n",
    "y_pred_test = rf_model.predict(X_test[X_test.columns.difference([\"party_flip\"])])\n",
    "print(\"RF Accuracy : \",accuracy_score(y_test,y_pred_test))\n",
    "\n",
    "print(\"Confusion Matrix: \\n\",confusion_matrix(y_test,y_pred_test))\n",
    "\n",
    "miss_class_df = X_test[y_test != y_pred_test]\n",
    "good_class_df = X_test[y_test == y_pred_test]\n",
    "\n",
    "#plot the flips and non flips for each data\n",
    "fig, ax = plt.subplots(1,2, figsize=(14,4))\n",
    "ax[0].set_title('RandomForest Proportion of party flips on wellclassified test data')\n",
    "ax[1].set_title('RandomForest Proportion of party flips missclassified test data')\n",
    "\n",
    "good_class_df.groupby('party_flip')['party_flip'].count().plot.bar(ax=ax[0])\n",
    "miss_class_df.groupby('party_flip')['party_flip'].count().plot.bar(ax=ax[1])\n",
    "\n",
    "for name, group in (good_class_df.groupby('party_flip')['party_flip']):\n",
    "    ax[0].text(int(name)+.25, group.count() + .25, \\\n",
    "    '{0:.2f}'.format(group.count()/good_class_df.shape[0]*100)+'%', color='blue', fontweight='bold')\n",
    "\n",
    "for name, group in (miss_class_df.groupby('party_flip')['party_flip']):\n",
    "    ax[1].text(int(name)-.25, group.count() +0, \\\n",
    "    '{0:.2f}'.format(group.count()/miss_class_df.shape[0]*100)+'%', color='blue', fontweight='bold')\n"
   ]
  },
  {
   "cell_type": "code",
   "execution_count": 17,
   "metadata": {},
   "outputs": [
    {
     "name": "stdout",
     "output_type": "stream",
     "text": [
      "\n",
      "AdaBoost R2:  0.954225352112676\n",
      "AdaBoost Test Accuracy 0.8862559241706162\n",
      "Confusion Matrix: \n",
      " [[191   5]\n",
      " [ 43 183]]\n"
     ]
    },
    {
     "data": {
      "image/png": "[encoded data removed]",
      "text/plain": [
       "<Figure size 1008x288 with 2 Axes>"
      ]
     },
     "metadata": {
      "needs_background": "light"
     },
     "output_type": "display_data"
    }
   ],
   "source": [
    "#Boosting\n",
    "\n",
    "adaBoost_model = AdaBoostClassifier(DecisionTreeClassifier(max_depth=2))\n",
    "adaBoost_model.fit(X_train[X_train.columns.difference([\"party_flip\"])],y_train)\n",
    "y_pred_test = adaBoost_model.predict(X_test[X_test.columns.difference([\"party_flip\"])])\n",
    "\n",
    "print(\"\\nAdaBoost R2: \", adaBoost_model.score(X_train[X_train.columns.difference([\"party_flip\"])],y_train))\n",
    "print(\"AdaBoost Test Accuracy\", accuracy_score(y_test,y_pred_test))\n",
    "\n",
    "miss_class_df = X_test[y_test != y_pred_test]\n",
    "good_class_df = X_test[y_test == y_pred_test]\n",
    "\n",
    "#plot the flips and non flips for each data\n",
    "fig, ax = plt.subplots(1,2, figsize=(14,4))\n",
    "ax[0].set_title('AdaBoost Proportion of party flips on wellclassified test data')\n",
    "ax[1].set_title('AdaBoost Proportion of party flips missclassified test data')\n",
    "\n",
    "good_class_df.groupby('party_flip')['party_flip'].count().plot.bar(ax=ax[0])\n",
    "miss_class_df.groupby('party_flip')['party_flip'].count().plot.bar(ax=ax[1])\n",
    "\n",
    "for name, group in (good_class_df.groupby('party_flip')['party_flip']):\n",
    "    ax[0].text(int(name)+0, group.count() + 0, \\\n",
    "    '{0:.2f}'.format(group.count()/good_class_df.shape[0]*100)+'%', color='blue', fontweight='bold')\n",
    "\n",
    "for name, group in (miss_class_df.groupby('party_flip')['party_flip']):\n",
    "    ax[1].text(int(name)-.90, group.count() +0, \\\n",
    "    '{0:.2f}'.format(group.count()/miss_class_df.shape[0]*100)+'%', color='blue', fontweight='bold')\n",
    "\n",
    "print(\"Confusion Matrix: \\n\",confusion_matrix(y_test,y_pred_test))"
   ]
  },
  {
   "cell_type": "code",
   "execution_count": 18,
   "metadata": {},
   "outputs": [],
   "source": [
    "from tabulate import tabulate\n",
    "headers = [\"name\", \"score\"]\n",
    "values = sorted(zip(X_train.columns.difference([\"party_flip\"]), rf_model.feature_importances_), key=lambda x: x[1] * -1)\n",
    "#print(tabulate(values, headers, tablefmt=\"plain\"))"
   ]
  },
  {
   "cell_type": "markdown",
   "metadata": {},
   "source": [
    "###  NOTES:\n",
    "\n",
    "1. Logistic CV 90% of the missclassified data occurs when there is a change of party compared to the previous year. No state flips are predicted correctly. \n",
    "2. KNN, 100% of the missclassified data occurs when there is a change of party. 5% of the well classified data is party flip. (Better performance)\n",
    "3. Predicts correctly 100% of the districts that do not change, and ...\n",
    "\n",
    "Concentrate on improving the states that flip to a different party between elections\n",
    "\n",
    "Ideas\n",
    "0. Try non-linear approaches (KNN, Random Forest and Boosting)\n",
    "1. Increase data by Upsampling and downsampling\n",
    "2. Increase data by adding more historical data\n",
    "3. Add demographics data\n",
    "4. Add redistricting"
   ]
  }
 ],
 "metadata": {
  "kernelspec": {
   "display_name": "Python 3",
   "language": "python",
   "name": "python3"
  },
  "language_info": {
   "codemirror_mode": {
    "name": "ipython",
    "version": 3
   },
   "file_extension": ".py",
   "mimetype": "text/x-python",
   "name": "python",
   "nbconvert_exporter": "python",
   "pygments_lexer": "ipython3",
   "version": "3.6.6"
  }
 },
 "nbformat": 4,
 "nbformat_minor": 2
}
