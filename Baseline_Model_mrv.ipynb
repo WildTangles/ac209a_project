{
 "cells": [
  {
   "cell_type": "code",
   "execution_count": 1,
   "metadata": {},
   "outputs": [],
   "source": [
    "import numpy as np\n",
    "import matplotlib.pyplot as plt\n",
    "import matplotlib.image as mpimg\n",
    "import numpy as np\n",
    "import pandas as pd\n",
    "import pickle\n",
    "from sklearn.linear_model import LogisticRegression\n",
    "from sklearn.linear_model import LogisticRegressionCV\n",
    "from sklearn.model_selection import train_test_split\n",
    "from sklearn.metrics import accuracy_score\n",
    "from sklearn.ensemble import RandomForestClassifier\n",
    "from sklearn.metrics import confusion_matrix\n",
    "from sklearn.neighbors import KNeighborsClassifier\n",
    "from sklearn.ensemble import AdaBoostClassifier\n",
    "from sklearn.tree import DecisionTreeClassifier\n",
    "from sklearn.linear_model import LassoCV\n",
    "from sklearn.base import clone\n",
    "from sklearn.metrics import r2_score\n",
    "from sklearn.discriminant_analysis import LinearDiscriminantAnalysis as LDA\n",
    "from sklearn.discriminant_analysis import QuadraticDiscriminantAnalysis as QDA \n",
    "from sklearn.metrics import log_loss\n",
    "import seaborn as sns\n",
    "import warnings\n",
    "\n",
    "warnings.filterwarnings('ignore')\n",
    "%matplotlib inline"
   ]
  },
  {
   "cell_type": "code",
   "execution_count": 2,
   "metadata": {},
   "outputs": [],
   "source": [
    "def upsample(test, monsterframe=False):\n",
    "    '''\n",
    "    input: test (pandas.dataframe)\n",
    "    output: pandas.dataframe\n",
    "    \n",
    "    input dataframe MUST have the columns dem_win_prev and dem_win\n",
    "    function will ensure that there are an equal number of flips and no flips in the dataset via bootstrap\n",
    "    '''\n",
    "    \n",
    "    #check if party flip as per usual\n",
    "    test['party_flip'] = (test.dem_win_prev != test.dem_win)*1\n",
    "    #drop 2018 rows as we want to test on these, don't mess with them\n",
    "    test = test[test['year'] != 2018]\n",
    "    #count number of flips and no flips\n",
    "    print(np.sum((test['party_flip']==1)), np.sum((test['party_flip']==0)))\n",
    "    #we want to match these counts, so we need target number of bootstrapped samples\n",
    "    target = (np.sum((test['party_flip']==0))) - (np.sum((test['party_flip']==1)))\n",
    "    #collect target bootstrap samples where we see a flip\n",
    "    samples = test[test['party_flip'] == 1].sample(n=target, replace=True)\n",
    "    #add them back to the dataframe\n",
    "    test = pd.concat([test, samples])\n",
    "    print(np.sum((test['party_flip']==1)), np.sum((test['party_flip']==0)))\n",
    "    print(len(set(test[test['party_flip'] == 1].index)))\n",
    "    test = test.drop('party_flip', axis=1)\n",
    "    \n",
    "    if monsterframe:\n",
    "        target = 5*(len(test))\n",
    "        samples = test.sample(n=target, replace=True)\n",
    "        test = pd.concat([test, samples])\n",
    "    print(len(test))\n",
    "    \n",
    "    \n",
    "    \n",
    "    return test\n",
    "\n",
    "#full_dataset = boostrap(full_dataset)"
   ]
  },
  {
   "cell_type": "markdown",
   "metadata": {},
   "source": [
    "## Code without demographics\n",
    "\n",
    "* district\n",
    "* state\n",
    "* year\n",
    "* party\n",
    "* candidatevotes\n",
    "* totalvotes\n",
    "* candidate\n",
    "* national_poll\n",
    "* national_poll_prev\n",
    "* national_poll_delta_subtract\n",
    "* national_poll_delta_divide\n",
    "* previous_party\n",
    "* dem_win_margin_prev\n",
    "* rep_win_margin_prev\n",
    "* margin_signed_minus_prev\n",
    "* margin_signed_divide_prev\n",
    "* margin_unsigned_minus_prev\n",
    "* margin_unsigned_divide_prev\n",
    "* dem_win_prev\n",
    "* rep_win_prev\n",
    "* dem_win\n",
    "* rep_win"
   ]
  },
  {
   "cell_type": "markdown",
   "metadata": {},
   "source": [
    "### columns in demographics\n",
    "\n",
    "\n",
    "['district', 'state', 'year', 'party', 'candidatevotes', 'totalvotes',\n",
    "       'candidate', 'national_poll', 'national_poll_prev',\n",
    "       'national_poll_delta_subtract', 'national_poll_delta_divide',\n",
    "       'previous_party', 'dem_win_margin_prev', 'rep_win_margin_prev',\n",
    "       'margin_signed_minus_prev', 'margin_signed_divide_prev',\n",
    "       'margin_unsigned_minus_prev', 'margin_unsigned_divide_prev',\n",
    "       'dem_win_prev', 'rep_win_prev', 'dem_win', 'rep_win', 'female_pct',\n",
    "       'age18_24_pct', 'age25_34_pct', 'median_age', 'unmarried_partner_pct',\n",
    "       'male_living_alone_pct', 'bachelors_deg_or_higher_pct',\n",
    "       'past_year_births_to_unmarried_women_pct', 'civilian_veteran_pct',\n",
    "       'live_same_house_past_year_pct',\n",
    "       'foreign_born_proportion_from_LatinAmerica',\n",
    "       'speak_other_language_at_home_pct', 'labor_force_unemployed_pct',\n",
    "       'public_transit_commuter_pct', 'no_health_insurance_pct',\n",
    "       'poverty_rate_pct', 'median_housing_value', 'median_household_income',\n",
    "       'food_stamp_benefits_pct', 'foreign_to_native_born_ratio']"
   ]
  },
  {
   "cell_type": "markdown",
   "metadata": {},
   "source": [
    "# Functions"
   ]
  },
  {
   "cell_type": "code",
   "execution_count": 3,
   "metadata": {},
   "outputs": [],
   "source": [
    "# format data items for input into the model\n",
    "\n",
    "def format_model_input(filename, x_cols, y_col, state_hot_encoder=False, upsample=False):\n",
    "    \n",
    "    # load full dataset \n",
    "    full_dataset = pickle.load(open(filename, 'rb'))\n",
    "    \n",
    "    # train data is everything except 2018\n",
    "    if upsample:\n",
    "        pre_2018_dataset = full_dataset.loc[full_dataset['year']!=2018]\n",
    "        pre_2018_dataset = upsample(pre_2018_dataset, monsterframe=False)\n",
    "    else:\n",
    "        pre_2018_dataset = full_dataset.loc[full_dataset['year']!=2018]\n",
    "\n",
    "    X_train = pre_2018_dataset[cols_to_use]\n",
    "    y_train = pre_2018_dataset[y_col]\n",
    "    flip_train = np.abs(pre_2018_dataset['dem_win']-pre_2018_dataset['dem_win_prev'])\n",
    "    \n",
    "    # test data is 2018\n",
    "    the_2018_dataset = full_dataset.loc[full_dataset['year']==2018]\n",
    "    X_test = the_2018_dataset[cols_to_use]\n",
    "    y_test = the_2018_dataset[y_col]\n",
    "    flip_test = np.abs(the_2018_dataset['dem_win']-the_2018_dataset['dem_win_prev'])\n",
    "    \n",
    "    if state_hot_encoder:\n",
    "        #add one hot encoder for states (with or without dropping first)\n",
    "        X_train.loc[:,'state'] = pre_2018_dataset['state']\n",
    "        X_train = pd.get_dummies(X_train,prefix='state',columns=['state'], drop_first=True)\n",
    "        X_test.loc[:,'state'] = the_2018_dataset['state']\n",
    "        X_test = pd.get_dummies(X_test,prefix='state',columns=['state'], drop_first=True)\n",
    "        \n",
    "        # Make sure train and test have all the same states\n",
    "            # the problem is that PA is no longer in the test set...\n",
    "        states_missing_in_test = np.array([x for x in X_train.columns.values if x not in X_test.columns.values])\n",
    "        if states_missing_in_test.size!=0:\n",
    "            for state_missing in states_missing_in_test:\n",
    "                X_test[state_missing] = 0\n",
    "    \n",
    "    return X_train,y_train, X_test,y_test, flip_train,flip_test"
   ]
  },
  {
   "cell_type": "code",
   "execution_count": 4,
   "metadata": {},
   "outputs": [],
   "source": [
    "def plot_metrics(ax,model_dict, X_train_input, y_train_input, X_test_input, y_test_input, flip_train, flip_test, score='accuracy_score'):\n",
    "    \n",
    "    df_for_plotting = pd.DataFrame()\n",
    "    for model_name, model in model_dict.items():\n",
    "        dict_for_plotting = {}\n",
    "        # copy arrays so you don't accidentally change them \n",
    "        X_train = X_train_input.copy()\n",
    "        y_train = y_train_input.copy()\n",
    "        X_test = X_test_input.copy()\n",
    "        y_test = y_test_input.copy()\n",
    "        \n",
    "        # get the flip and noflip data\n",
    "        #flip_mask_train = np.array(flip_train)==1\n",
    "        flip_mask_test = np.array(flip_test)==1\n",
    "\n",
    "        # calculate metrics\n",
    "        if score=='accuracy_score':\n",
    "            # predict test and train data\n",
    "            y_pred_test = model.predict(X_test)\n",
    "            y_pred_train = model.predict(X_train)\n",
    "            \n",
    "            # calculate accuracy score\n",
    "            y_pred_train = y_pred_train.round()\n",
    "            y_pred_test = y_pred_test.round()\n",
    "            train_score = accuracy_score(y_train, y_pred_train)\n",
    "            test_score = accuracy_score(y_test, y_pred_test)\n",
    "            percent_noflip_correct = accuracy_score(y_test[~flip_mask_test], y_pred_test[~flip_mask_test])\n",
    "            percent_flip_correct = accuracy_score(y_test[flip_mask_test],y_pred_test[flip_mask_test])\n",
    "\n",
    "            # colors and names for the plot\n",
    "            metric_name = 'accuracy'\n",
    "            palette = {'train_'+metric_name  : sns.color_palette(\"Paired\")[0], \n",
    "                       'test_'+metric_name   : sns.color_palette(\"Paired\")[1],\n",
    "                       'noflip_'+metric_name : sns.color_palette(\"Paired\")[2], \n",
    "                       'flip_'+metric_name   : sns.color_palette(\"Paired\")[3] }\n",
    "            \n",
    "        elif score=='log_loss':    \n",
    "            # predict_proba test and train data\n",
    "            y_prob_test = model.predict_proba(X_test)\n",
    "            y_prob_train = model.predict_proba(X_train)\n",
    "            \n",
    "            # calculate logloss\n",
    "            train_score = log_loss(y_train, y_prob_train)\n",
    "            test_score = log_loss(y_test, y_prob_test)\n",
    "            percent_noflip_correct = log_loss(y_test[~flip_mask_test], y_prob_test[~flip_mask_test])\n",
    "            percent_flip_correct = log_loss(y_test[flip_mask_test],y_prob_test[flip_mask_test])\n",
    "            \n",
    "            # colors and names for the plot\n",
    "            metric_name = 'logloss'\n",
    "            palette = {'train_'+metric_name  : sns.color_palette(\"Paired\")[4], \n",
    "                       'test_'+metric_name   : sns.color_palette(\"Paired\")[5],\n",
    "                       'noflip_'+metric_name : sns.color_palette(\"Paired\")[6], \n",
    "                       'flip_'+metric_name   : sns.color_palette(\"Paired\")[7] }\n",
    "            ax.set_ylim(0,35)\n",
    "            \n",
    "        elif score=='r2_score':\n",
    "            # predict_proba test and train data\n",
    "            y_prob_test = model.predict_proba(X_test)[:,1]\n",
    "            y_prob_train = model.predict_proba(X_train)[:,1]\n",
    "            \n",
    "            # calculate r2 score\n",
    "            train_score = r2_score(y_train, y_prob_train)\n",
    "            test_score = r2_score(y_test, y_prob_test)\n",
    "            percent_noflip_correct = r2_score(y_test[~flip_mask_test], y_prob_test[~flip_mask_test])\n",
    "            percent_flip_correct = r2_score(y_test[flip_mask_test],y_prob_test[flip_mask_test])\n",
    "            \n",
    "            # colors and names for the plot\n",
    "            metric_name = 'r2'\n",
    "            palette = {'train_'+metric_name  : sns.color_palette(\"Paired\")[8], \n",
    "                       'test_'+metric_name   : sns.color_palette(\"Paired\")[9],\n",
    "                       'noflip_'+metric_name : sns.color_palette(\"Paired\")[10], \n",
    "                       'flip_'+metric_name   : sns.color_palette(\"Paired\")[11] }\n",
    "            \n",
    "        # train score\n",
    "        dict_for_plotting['model_name'] = model_name\n",
    "        dict_for_plotting['metric_name'] = 'train_'+metric_name\n",
    "        dict_for_plotting['metric'] = train_score\n",
    "        df_for_plotting = df_for_plotting.append(dict_for_plotting,ignore_index=True)\n",
    "\n",
    "        # test score\n",
    "        dict_for_plotting['model_name'] = model_name\n",
    "        dict_for_plotting['metric_name'] = 'test_'+metric_name\n",
    "        dict_for_plotting['metric'] = test_score\n",
    "        df_for_plotting = df_for_plotting.append(dict_for_plotting,ignore_index=True)\n",
    "\n",
    "        # percent noflip\n",
    "        dict_for_plotting['model_name'] = model_name\n",
    "        dict_for_plotting['metric_name'] = 'noflip_'+metric_name\n",
    "        dict_for_plotting['metric'] = percent_noflip_correct\n",
    "        df_for_plotting = df_for_plotting.append(dict_for_plotting,ignore_index=True)\n",
    "\n",
    "        # percent flip\n",
    "        dict_for_plotting['model_name'] = model_name\n",
    "        dict_for_plotting['metric_name'] = 'flip_'+metric_name\n",
    "        dict_for_plotting['metric'] = percent_flip_correct\n",
    "        df_for_plotting = df_for_plotting.append(dict_for_plotting,ignore_index=True)\n",
    "\n",
    "    sns.barplot(x='model_name', y='metric', hue='metric_name', data=df_for_plotting,\n",
    "               palette=palette, ax=ax)"
   ]
  },
  {
   "cell_type": "code",
   "execution_count": 5,
   "metadata": {},
   "outputs": [],
   "source": [
    "# plot flips predicted by a model\n",
    "\n",
    "def plot_flips(X_test_input, y_test_input, y_pred_test_input, flip_train, \n",
    "               flip_test, model_name):\n",
    "    \n",
    "    # copy arrays so you don't accidentally change them \n",
    "    X_test = X_test_input.copy()\n",
    "    y_test = y_test_input.copy()\n",
    "    y_pred_test = y_pred_test_input.copy()\n",
    "    \n",
    "    # add flip data to the array\n",
    "    X_test['party_flip'] = flip_test\n",
    "    \n",
    "    #looking at the missclassifications with logisticRegressionCV\n",
    "    miss_class_df = X_test[y_test != y_pred_test]\n",
    "    good_class_df = X_test[y_test == y_pred_test]\n",
    "\n",
    "    #plot the flips and non flips for each data\n",
    "    fig, ax = plt.subplots(1,2, figsize=(14,4))\n",
    "    ax[0].set_title(model_name+' Proportion of party flips on wellclassified test data')\n",
    "    ax[1].set_title(model_name+' Proportion of party flips missclassified test data')\n",
    "\n",
    "    if not good_class_df.empty:\n",
    "        good_class_df.groupby('party_flip')['party_flip'].count().plot.bar(ax=ax[0])\n",
    "        for name, group in (good_class_df.groupby('party_flip')['party_flip']):\n",
    "            ax[0].text(int(name)+.25, group.count() + .25, \\\n",
    "            '{0:.2f}'.format(group.count()/good_class_df.shape[0]*100)+'%', color='blue', fontweight='bold')\n",
    "\n",
    "    if not miss_class_df.empty:\n",
    "        miss_class_df.groupby('party_flip')['party_flip'].count().plot.bar(ax=ax[1])\n",
    "        for name, group in (miss_class_df.groupby('party_flip')['party_flip']):\n",
    "            ax[1].text(int(name)+.15, group.count() + .25, \\\n",
    "            '{0:.2f}'.format(group.count()/miss_class_df.shape[0]*100)+'%', color='blue', fontweight='bold')\n",
    "            \n",
    "    normnoflip = len(X_test[X_test['party_flip'] == 0])\n",
    "    normflip = len(X_test[X_test['party_flip'] == 1])\n",
    "    print('predicted correctly. does not flip.: {}'.format(len(good_class_df[good_class_df['party_flip'] == 0])/normnoflip))\n",
    "    print('predicted wrongly. does not flip.: {}'.format(len(miss_class_df[miss_class_df['party_flip'] == 0])/normnoflip))\n",
    "    \n",
    "    print('predicted correctly. does flips.: {}'.format(len(good_class_df[good_class_df['party_flip'] == 1])/normflip))\n",
    "    print('predicted wrongly. does flips.: {}'.format(len(miss_class_df[miss_class_df['party_flip'] == 1])/normflip))\n",
    "        \n",
    "    plt.show()"
   ]
  },
  {
   "cell_type": "code",
   "execution_count": 6,
   "metadata": {},
   "outputs": [],
   "source": [
    "def scatter_results(ax, fitted_model_dict, X_test, y_test, flip, model_name='LogReg'):\n",
    "    model = fitted_model_dict[model_name]\n",
    "    y_prob = model.predict_proba(X_test)[:,1]\n",
    "    \n",
    "    flip = flip.values.squeeze()\n",
    "    y_test = y_test.values.squeeze()\n",
    "    y_dem_flip = y_prob[np.logical_and(y_test==1, flip==1)]\n",
    "    y_dem_noflip = y_prob[np.logical_and(y_test==1, flip==0)]\n",
    "    y_rep_flip = y_prob[np.logical_and(y_test==0, flip==1)]\n",
    "    y_rep_noflip = y_prob[np.logical_and(y_test==0, flip==0)]\n",
    "    \n",
    "    ax.plot(y_dem_noflip,'b.',label='D, No Flip')\n",
    "    ax.plot(y_dem_flip,'b*', label = 'D, Flip')\n",
    "    ax.plot(y_rep_noflip,'r.', label = 'R, No Flip')\n",
    "    ax.plot(y_rep_flip,'r*', label = 'R, Flip')\n",
    "    \n",
    "    plt.xlabel('index')\n",
    "    plt.ylabel('rep-dem')\n",
    "    plt.legend()\n",
    "    ax.set_title(model_name+' Results')\n",
    "    ax.axhline(0.5)\n",
    "    \n",
    "    print('We predicted democrats got {} spots.'.format(np.sum(y_prob.round()==1)))\n",
    "    print('We predicted republicans got {} spots.'.format(np.sum(y_prob.round()==0)))"
   ]
  },
  {
   "cell_type": "code",
   "execution_count": 7,
   "metadata": {},
   "outputs": [],
   "source": [
    "# print out R2, accuracy, and plot # flipped seats correctly predicted for a given model\n",
    "\n",
    "def report_model_stats(filename, x_cols, y_col, model_dict, state_hot_encoder=False, upsample=False, title=''):\n",
    "    \n",
    "    # read in the desired data\n",
    "    X_train,y_train, X_test,y_test, flip_train,flip_test = \\\n",
    "        format_model_input(filename, cols_to_use, y_col, state_hot_encoder)\n",
    "        \n",
    "    fitted_model_dict = {}\n",
    "    \n",
    "    for model_name, model in model_dict.items():\n",
    "        model_copy = clone(model) # deep copy model to prevent fitting it twice\n",
    "        print(model_name)\n",
    "\n",
    "        fitted_model = model_copy.fit(X_train,y_train)\n",
    "        y_pred_test = fitted_model.predict(X_test)\n",
    "\n",
    "#         print(\"Confusion Matrix: \\n\",confusion_matrix(y_test,y_pred_test.round()))\n",
    "#         print(\"\\n{} R2: \".format(model_name), fitted_model.score(X_train,y_train))\n",
    "        print(\"{} Test Accuracy\".format(model_name), accuracy_score(y_test,y_pred_test.round()))\n",
    "#         plot_flips(X_test, y_test, y_pred_test.round(), flip_train, flip_test, model_name)\n",
    "        \n",
    "        fitted_model_dict[model_name] = fitted_model\n",
    "        \n",
    "        \n",
    "        try:\n",
    "            coef = fitted_model.coef_.squeeze()\n",
    "            print(len(X_test.columns), len(coef))\n",
    "            print('intercept = {}'.format(fitted_model.intercept_))\n",
    "            print([i for i in zip(X_test.columns,coef)])\n",
    "        except AttributeError:\n",
    "            print('doesnt have any coefficients')\n",
    "    \n",
    "    # plot all the metrics\n",
    "    fig, ax = plt.subplots(1,3,figsize=(16,4))\n",
    "    plot_metrics(ax[0],fitted_model_dict, X_train, y_train, X_test, y_test, flip_train, flip_test, score='accuracy_score')\n",
    "    plot_metrics(ax[1],fitted_model_dict, X_train, y_train, X_test, y_test, flip_train, flip_test, score='log_loss')\n",
    "    scatter_results(ax[2], fitted_model_dict, X_test, y_test, flip_test)\n",
    "\n",
    "    # rotate tickmarks 45 degrees\n",
    "    for ax in fig.axes:\n",
    "        plt.sca(ax)\n",
    "        plt.xticks(rotation=45)\n",
    "    \n",
    "    fig.suptitle(title)\n",
    "    plt.show()\n",
    "    \n",
    "    return fitted_model_dict"
   ]
  },
  {
   "cell_type": "code",
   "execution_count": 8,
   "metadata": {},
   "outputs": [],
   "source": [
    "def collinear(filename, x_cols, state_hot_encoder=False,y_col='dem_win'):\n",
    "    X_train,y_train, X_test,y_test, flip_train,flip_test = \\\n",
    "        format_model_input(filename, cols_to_use, y_col, state_hot_encoder)\n",
    "    sns.heatmap(np.abs(X_train[x_cols].corr()),xticklabels=True,yticklabels=True,\n",
    "                vmin = 0, vmax=1)\n",
    "    plt.rcParams['figure.figsize'] = (12,8)\n",
    "    plt.title('collinearity of predictors considered')"
   ]
  },
  {
   "cell_type": "code",
   "execution_count": 9,
   "metadata": {},
   "outputs": [
    {
     "data": {
      "image/png": "[encoded data removed]",
      "text/plain": [
       "<Figure size 432x288 with 2 Axes>"
      ]
     },
     "metadata": {
      "needs_background": "light"
     },
     "output_type": "display_data"
    }
   ],
   "source": [
    "filename = 'Datasets/data_FEC_NATIONALPOLL_DEMOGRAPHICS_2010_2018.p'\n",
    "cols_to_use = [ \n",
    "               'female_pct', 'age18_24_pct', \n",
    "               'age25_34_pct', 'median_age', 'unmarried_partner_pct', \n",
    "               'male_living_alone_pct', 'bachelors_deg_or_higher_pct', \n",
    "               'civilian_veteran_pct', #'past_year_births_to_unmarried_women_pct', # has a string in it\n",
    "               'live_same_house_past_year_pct', \n",
    "               'foreign_born_proportion_from_LatinAmerica', \n",
    "               'speak_other_language_at_home_pct', 'labor_force_unemployed_pct', \n",
    "               'public_transit_commuter_pct', 'no_health_insurance_pct', \n",
    "                'poverty_rate_pct', 'median_household_income', # 'median_housing_value', # has a string in it\n",
    "                'food_stamp_benefits_pct', 'foreign_to_native_born_ratio' \n",
    "              ] # everything\n",
    "\n",
    "cols_to_use = ['national_poll', 'margin_signed_minus_prev', 'dem_win_prev', \n",
    "               'female_pct', 'foreign_to_native_born_ratio', 'labor_force_unemployed_pct', 'civilian_veteran_pct',\n",
    "               'age18_24_pct', 'bachelors_deg_or_higher_pct', 'age25_34_pct', ]\n",
    "\n",
    "collinear(filename,cols_to_use)\n",
    "\n",
    "\n",
    "# filename = 'Datasets/data_FEC_NATIONALPOLL_DEMOGRAPHICSIMPUTED_2004_2018.p'\n",
    "# collinear(filename,cols_to_use)"
   ]
  },
  {
   "cell_type": "markdown",
   "metadata": {},
   "source": [
    "## Try out different models and columns"
   ]
  },
  {
   "cell_type": "code",
   "execution_count": 10,
   "metadata": {},
   "outputs": [],
   "source": [
    "# specify your models here:\n",
    "model_dict = {\n",
    "    'LDA'           : LDA(),\n",
    "    'QDA'           : QDA(),\n",
    "    'LogReg'        : LogisticRegression(n_jobs=4),\n",
    "    'kNN'           : KNeighborsClassifier(n_neighbors=4,n_jobs=4),\n",
    "    'Random Forest' : RandomForestClassifier(n_jobs=4,random_state=209),\n",
    "    'AdaBoost'      : AdaBoostClassifier(DecisionTreeClassifier(max_depth=10)),\n",
    "}\n",
    "\n",
    "y_col = ['dem_win']\n",
    "x_cols = ['national_poll', 'margin_signed_minus_prev', #'dem_win_prev', \n",
    "               'female_pct', 'civilian_veteran_pct', 'foreign_to_native_born_ratio', #'labor_force_unemployed_pct',\n",
    "               'age18_24_pct', 'age25_34_pct', ]\n",
    "upsample = False\n",
    "state_hot_encoder = False"
   ]
  },
  {
   "cell_type": "markdown",
   "metadata": {},
   "source": [
    "### Selected columns in dataset since 2010, with demographics, nothing dropped"
   ]
  },
  {
   "cell_type": "code",
   "execution_count": null,
   "metadata": {
    "scrolled": false
   },
   "outputs": [],
   "source": [
    "# specify columns to use and the file you want to read in \n",
    "\n",
    "filename = 'Datasets/data_FEC_NATIONALPOLL_DEMOGRAPHICS_2010_2018.p'\n",
    "cols_to_use = ['national_poll', 'margin_signed_minus_prev', #'dem_win_prev', \n",
    "               'female_pct', 'foreign_to_native_born_ratio', #'civilian_veteran_pct', 'labor_force_unemployed_pct',\n",
    "               'age18_24_pct', 'age25_34_pct']\n",
    "\n",
    "fitted_model_dict = report_model_stats(\n",
    "    filename, cols_to_use, y_col, model_dict, state_hot_encoder=False, upsample=upsample,\n",
    "    title='Selected Demographics Using 2010-2018 Data')"
   ]
  },
  {
   "cell_type": "markdown",
   "metadata": {},
   "source": [
    "### Selected columns in dataset since 2010, with demographics, dropping redistricted states"
   ]
  },
  {
   "cell_type": "code",
   "execution_count": null,
   "metadata": {
    "scrolled": false
   },
   "outputs": [],
   "source": [
    "# specify columns to use and the file you want to read in \n",
    "\n",
    "filename = 'Datasets/data_FEC_NATIONALPOLL_DEMOGRAPHICS_2010_2018_REDISTRICTDROP.p'\n",
    "cols_to_use = ['national_poll', 'margin_signed_minus_prev', #'dem_win_prev', \n",
    "               'female_pct', 'foreign_to_native_born_ratio', #'civilian_veteran_pct', 'labor_force_unemployed_pct',\n",
    "               'age18_24_pct', 'age25_34_pct']\n",
    "\n",
    "fitted_model_dict = report_model_stats(\n",
    "    filename, cols_to_use, y_col, model_dict, state_hot_encoder=state_hot_encoder, upsample=upsample)"
   ]
  },
  {
   "cell_type": "markdown",
   "metadata": {},
   "source": [
    "## Impute 2010 data into all non-redistricted districts in prior years. "
   ]
  },
  {
   "cell_type": "markdown",
   "metadata": {},
   "source": [
    "### Dataset since 2004, with demographics imputed, redistrited states not dropped"
   ]
  },
  {
   "cell_type": "code",
   "execution_count": null,
   "metadata": {
    "scrolled": false
   },
   "outputs": [],
   "source": [
    "filename = 'Datasets/data_FEC_NATIONALPOLL_DEMOGRAPHICSIMPUTED_2004_2018.p'\n",
    "cols_to_use = ['national_poll', 'margin_signed_minus_prev', #'dem_win_prev', \n",
    "               'female_pct', 'foreign_to_native_born_ratio', #'civilian_veteran_pct', 'labor_force_unemployed_pct',\n",
    "               'age18_24_pct', 'age25_34_pct']\n",
    "\n",
    "fitted_model_dict = report_model_stats(\n",
    "    filename, cols_to_use, y_col, model_dict, state_hot_encoder=state_hot_encoder, \n",
    "    upsample=upsample, title='Demographics Imputed Backward, Margin Imputed Forward')\n"
   ]
  },
  {
   "cell_type": "markdown",
   "metadata": {},
   "source": [
    "### Dataset since 2004, with demographics imputed, redistrited states dropped"
   ]
  },
  {
   "cell_type": "code",
   "execution_count": null,
   "metadata": {
    "scrolled": false
   },
   "outputs": [],
   "source": [
    "filename = 'Datasets/data_FEC_NATIONALPOLL_DEMOGRAPHICSIMPUTED_2004_2018_REDISTRICTDROP.p'\n",
    "cols_to_use = ['national_poll', 'margin_signed_minus_prev', #'dem_win_prev', \n",
    "               'female_pct', 'foreign_to_native_born_ratio', #'civilian_veteran_pct', 'labor_force_unemployed_pct',\n",
    "               'age18_24_pct', 'age25_34_pct']\n",
    "\n",
    "fitted_model_dict = report_model_stats(\n",
    "    filename, cols_to_use, y_col, model_dict, state_hot_encoder=state_hot_encoder, upsample=upsample)"
   ]
  },
  {
   "cell_type": "markdown",
   "metadata": {},
   "source": [
    "### Demographics Imputed Back, Redistricted States Imputed, only new districts dropped"
   ]
  },
  {
   "cell_type": "code",
   "execution_count": null,
   "metadata": {
    "scrolled": false
   },
   "outputs": [],
   "source": [
    "filename = 'Datasets/data_FEC_NATIONALPOLL_DEMOGRAPHICSIMPUTED_DISTRICTMIXED_2004_2018.p'\n",
    "cols_to_use = ['national_poll', 'margin_signed_minus_prev', #'dem_win_prev', \n",
    "               'female_pct', 'foreign_to_native_born_ratio', #'civilian_veteran_pct', 'labor_force_unemployed_pct',\n",
    "               'age18_24_pct', 'age25_34_pct']\n",
    "\n",
    "fitted_model_dict = report_model_stats(\n",
    "    filename, cols_to_use, y_col, model_dict, state_hot_encoder=state_hot_encoder, \n",
    "    upsample=upsample, title='Demographics Imputed, Margin Imputed')"
   ]
  },
  {
   "cell_type": "markdown",
   "metadata": {},
   "source": [
    "# Model Graveyard"
   ]
  },
  {
   "cell_type": "markdown",
   "metadata": {},
   "source": [
    "### Model to Maximize Flip Predictions"
   ]
  },
  {
   "cell_type": "code",
   "execution_count": null,
   "metadata": {},
   "outputs": [],
   "source": [
    "filename = 'Datasets/data_FEC_NATIONALPOLL_2004_2018.p'\n",
    "cols_to_use = ['national_poll_delta_divide','national_poll_prev',\n",
    "               'margin_unsigned_divide_prev']\n",
    "\n",
    "fitted_model_dict = report_model_stats(\n",
    "    filename, cols_to_use, y_col, model_dict, state_hot_encoder=state_hot_encoder, \n",
    "    upsample=upsample, title='Model to Maximize Flip Predictions')"
   ]
  },
  {
   "cell_type": "markdown",
   "metadata": {},
   "source": [
    "Here lie all the models that were way too complicated and overfit because we literally threw every predictor in there just to see if it was working "
   ]
  },
  {
   "cell_type": "markdown",
   "metadata": {},
   "source": [
    "### Full dataset, no demographics, not dropping any data. "
   ]
  },
  {
   "cell_type": "code",
   "execution_count": null,
   "metadata": {
    "scrolled": false
   },
   "outputs": [],
   "source": [
    "# specify columns to use and the file you want to read in \n",
    "\n",
    "filename = 'Datasets/data_FEC_NATIONALPOLL_2004_2018.p'\n",
    "cols_to_use = ['national_poll', 'national_poll_prev',\n",
    "       'national_poll_delta_subtract', 'national_poll_delta_divide',\n",
    "       'dem_win_margin_prev', 'rep_win_margin_prev',\n",
    "       'margin_signed_minus_prev', 'margin_signed_divide_prev',\n",
    "       'margin_unsigned_minus_prev', 'margin_unsigned_divide_prev',\n",
    "       'dem_win_prev', 'rep_win_prev'] # all of them\n",
    "\n",
    "\n",
    "fitted_model_dict = report_model_stats(\n",
    "    filename, cols_to_use, y_col, model_dict, state_hot_encoder=state_hot_encoder, upsample=upsample)"
   ]
  },
  {
   "cell_type": "markdown",
   "metadata": {},
   "source": [
    "### Full dataset, no demographics, dropping redistricted states"
   ]
  },
  {
   "cell_type": "code",
   "execution_count": null,
   "metadata": {
    "scrolled": false
   },
   "outputs": [],
   "source": [
    "# specify columns to use and the file you want to read in \n",
    "filename = 'Datasets/data_FEC_NATIONALPOLL_2004_2018_REDISTRICTDROP.p'\n",
    "state_hot_encoder = False # some states get dropped so this leads to problems\n",
    "cols_to_use = ['national_poll', 'national_poll_prev',\n",
    "       'national_poll_delta_subtract', 'national_poll_delta_divide',\n",
    "       'dem_win_margin_prev', 'rep_win_margin_prev',\n",
    "       'margin_signed_minus_prev', 'margin_signed_divide_prev',\n",
    "       'margin_unsigned_minus_prev', 'margin_unsigned_divide_prev',\n",
    "       'dem_win_prev', 'rep_win_prev'] # all of them\n",
    "\n",
    "fitted_model_dict = report_model_stats(\n",
    "    filename, cols_to_use, y_col, model_dict, state_hot_encoder=state_hot_encoder, upsample=upsample)"
   ]
  },
  {
   "cell_type": "markdown",
   "metadata": {},
   "source": [
    "### Dataset since 2010, with demographics, nothing dropped"
   ]
  },
  {
   "cell_type": "code",
   "execution_count": null,
   "metadata": {
    "scrolled": false
   },
   "outputs": [],
   "source": [
    "# specify columns to use and the file you want to read in \n",
    "\n",
    "filename = 'Datasets/data_FEC_NATIONALPOLL_DEMOGRAPHICS_2010_2018.p'\n",
    "cols_to_use = ['national_poll', 'national_poll_prev', 'national_poll_delta_subtract', \n",
    "               'national_poll_delta_divide', 'dem_win_margin_prev', 'rep_win_margin_prev',\n",
    "               'margin_signed_minus_prev', 'margin_signed_divide_prev', \n",
    "               'margin_unsigned_minus_prev', 'margin_unsigned_divide_prev', \n",
    "               'dem_win_prev', 'rep_win_prev', 'female_pct', 'age18_24_pct', \n",
    "               'age25_34_pct', 'median_age', 'unmarried_partner_pct', \n",
    "               'male_living_alone_pct', 'bachelors_deg_or_higher_pct', \n",
    "               'civilian_veteran_pct', #'past_year_births_to_unmarried_women_pct', # has a string in it\n",
    "               'live_same_house_past_year_pct', \n",
    "               'foreign_born_proportion_from_LatinAmerica', \n",
    "               'speak_other_language_at_home_pct', 'labor_force_unemployed_pct', \n",
    "               'public_transit_commuter_pct', 'no_health_insurance_pct', \n",
    "                'poverty_rate_pct', 'median_household_income', # 'median_housing_value', # has a string in it\n",
    "                'food_stamp_benefits_pct', 'foreign_to_native_born_ratio' \n",
    "              ] # everything\n",
    "\n",
    "fitted_model_dict = report_model_stats(\n",
    "    filename, cols_to_use, y_col, model_dict, state_hot_encoder=state_hot_encoder, upsample=upsample)"
   ]
  },
  {
   "cell_type": "markdown",
   "metadata": {},
   "source": [
    "### Selected columns in the full dataset, no demographics"
   ]
  },
  {
   "cell_type": "code",
   "execution_count": null,
   "metadata": {
    "scrolled": false
   },
   "outputs": [],
   "source": [
    "filename = 'Datasets/data_FEC_NATIONALPOLL_2004_2018.p'\n",
    "cols_to_use = ['national_poll', 'margin_signed_minus_prev']\n",
    "\n",
    "fitted_model_dict = report_model_stats(\n",
    "    filename, cols_to_use, y_col, model_dict, state_hot_encoder=state_hot_encoder, \n",
    "    upsample=upsample, title='FEC & National Poll Only')"
   ]
  },
  {
   "cell_type": "markdown",
   "metadata": {},
   "source": [
    "### Selected columns in the full dataset, no demographics, dropping redistricted states"
   ]
  },
  {
   "cell_type": "code",
   "execution_count": null,
   "metadata": {
    "scrolled": true
   },
   "outputs": [],
   "source": [
    "filename = 'Datasets/data_FEC_NATIONALPOLL_2004_2018_REDISTRICTDROP.p'\n",
    "cols_to_use = ['national_poll', 'margin_signed_minus_prev']\n",
    "\n",
    "fitted_model_dict = report_model_stats(\n",
    "    filename, cols_to_use, y_col, model_dict, state_hot_encoder=state_hot_encoder, upsample=upsample)"
   ]
  },
  {
   "cell_type": "markdown",
   "metadata": {},
   "source": [
    "### Dataset since 2010, with demographics, dropping redistricted states"
   ]
  },
  {
   "cell_type": "code",
   "execution_count": null,
   "metadata": {
    "scrolled": false
   },
   "outputs": [],
   "source": [
    "# specify columns to use and the file you want to read in \n",
    "\n",
    "filename = 'Datasets/data_FEC_NATIONALPOLL_DEMOGRAPHICS_2010_2018_REDISTRICTDROP.p'\n",
    "cols_to_use = ['national_poll', 'national_poll_prev', 'national_poll_delta_subtract', \n",
    "               'national_poll_delta_divide', 'dem_win_margin_prev', 'rep_win_margin_prev',\n",
    "               'margin_signed_minus_prev', 'margin_signed_divide_prev', \n",
    "               'margin_unsigned_minus_prev', 'margin_unsigned_divide_prev', \n",
    "               'dem_win_prev', 'rep_win_prev', 'female_pct', 'age18_24_pct', \n",
    "               'age25_34_pct', 'median_age', 'unmarried_partner_pct', \n",
    "               'male_living_alone_pct', 'bachelors_deg_or_higher_pct', \n",
    "               'civilian_veteran_pct', #'past_year_births_to_unmarried_women_pct', # has a string in it\n",
    "               'live_same_house_past_year_pct', \n",
    "               'foreign_born_proportion_from_LatinAmerica', \n",
    "               'speak_other_language_at_home_pct', 'labor_force_unemployed_pct', \n",
    "               'public_transit_commuter_pct', 'no_health_insurance_pct', \n",
    "                'poverty_rate_pct', 'median_household_income', # 'median_housing_value', # has a string in it\n",
    "                'food_stamp_benefits_pct', 'foreign_to_native_born_ratio' \n",
    "              ] # everything\n",
    "\n",
    "fitted_model_dict = report_model_stats(\n",
    "    filename, cols_to_use, y_col, model_dict, state_hot_encoder=state_hot_encoder, upsample=upsample)"
   ]
  },
  {
   "cell_type": "markdown",
   "metadata": {},
   "source": [
    "# Data Exploration"
   ]
  },
  {
   "cell_type": "code",
   "execution_count": null,
   "metadata": {},
   "outputs": [],
   "source": [
    "# Plot the proportion of flips in the full dataset\n",
    "\n",
    "#read in FEC data\n",
    "full_dataset = pickle.load(open('Datasets/data_FEC_NATIONALPOLL_2004_2018.p', 'rb'))\n",
    "full_dataset_redistrict = pickle.load(open('Datasets/data_FEC_NATIONALPOLL_2004_2018_REDISTRICTDROP.p', 'rb'))\n",
    "\n",
    "#add column to indicate a party flip\n",
    "full_dataset['party_flip'] = (full_dataset.dem_win_prev!=full_dataset.dem_win)*1\n",
    "\n",
    "#small_dataset.head()\n",
    "plt.title('Proportion of districts that chage party in consecutive elections')\n",
    "plt.ylabel('frequency')\n",
    "plt.xlabel('Party Change')\n",
    "full_dataset.party_flip.value_counts().plot(kind='bar')\n",
    "\n",
    "#proportion of districts on the full data that do not flip\n",
    "full_dataset.groupby('party_flip')['party_flip'].count().plot.bar()\n",
    "plt.title('Proportion of Party Flips on Full Dataset')\n",
    "\n",
    "for name, group in (full_dataset.groupby('party_flip')['party_flip']):\n",
    "    plt.text(int(name)+.25, group.count() + .25, \\\n",
    "    '{0:.2f}'.format(group.count()/full_dataset.shape[0]*100)+'%', color='blue', fontweight='bold')"
   ]
  },
  {
   "cell_type": "code",
   "execution_count": null,
   "metadata": {},
   "outputs": [],
   "source": [
    "# Plot the proportion of flips in 2018\n",
    "\n",
    "#add column to indicate a party flip\n",
    "the_2018_dataset = full_dataset.loc[full_dataset['year']==2018,:]\n",
    "the_2018_dataset.loc[:,'party_flip'] = (full_dataset.dem_win_prev!=full_dataset.dem_win)*1\n",
    "\n",
    "#small_dataset.head()\n",
    "plt.title('Proportion of districts that chage party in consecutive elections')\n",
    "plt.ylabel('frequency')\n",
    "plt.xlabel('Party Change')\n",
    "the_2018_dataset.party_flip.value_counts().plot(kind='bar')\n",
    "\n",
    "#proportion of districts on the full data that do not flip\n",
    "the_2018_dataset.groupby('party_flip')['party_flip'].count().plot.bar()\n",
    "plt.title('Proportion of Party Flips on 2018 Dataset')\n",
    "\n",
    "for name, group in (the_2018_dataset.groupby('party_flip')['party_flip']):\n",
    "    plt.text(int(name)+.25, group.count() + .25, \\\n",
    "    '{0:.2f}'.format(group.count()/the_2018_dataset.shape[0]*100)+'%', color='blue', fontweight='bold')"
   ]
  }
 ],
 "metadata": {
  "kernelspec": {
   "display_name": "APCOMP 209",
   "language": "python",
   "name": "cs209"
  },
  "language_info": {
   "codemirror_mode": {
    "name": "ipython",
    "version": 3
   },
   "file_extension": ".py",
   "mimetype": "text/x-python",
   "name": "python",
   "nbconvert_exporter": "python",
   "pygments_lexer": "ipython3",
   "version": "3.6.7"
  }
 },
 "nbformat": 4,
 "nbformat_minor": 2
}
