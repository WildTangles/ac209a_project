{
 "cells": [
  {
   "cell_type": "code",
   "execution_count": 1,
   "metadata": {
    "scrolled": true
   },
   "outputs": [],
   "source": [
    "import pandas as pd\n",
    "import numpy as np\n",
    "from functions import houseFunctions as hfunc\n",
    "import pickle"
   ]
  },
  {
   "cell_type": "code",
   "execution_count": 2,
   "metadata": {},
   "outputs": [],
   "source": [
    "houseResFile = \"Datasets/fec/1976-2016-house.csv\""
   ]
  },
  {
   "cell_type": "code",
   "execution_count": 3,
   "metadata": {
    "scrolled": false
   },
   "outputs": [
    {
     "name": "stderr",
     "output_type": "stream",
     "text": [
      "C:\\ProgramData\\Anaconda3\\lib\\site-packages\\pandas\\core\\indexing.py:543: SettingWithCopyWarning: \n",
      "A value is trying to be set on a copy of a slice from a DataFrame.\n",
      "Try using .loc[row_indexer,col_indexer] = value instead\n",
      "\n",
      "See the caveats in the documentation: http://pandas.pydata.org/pandas-docs/stable/indexing.html#indexing-view-versus-copy\n",
      "  self.obj[item] = s\n",
      "C:\\ProgramData\\Anaconda3\\lib\\site-packages\\pandas\\core\\indexing.py:362: SettingWithCopyWarning: \n",
      "A value is trying to be set on a copy of a slice from a DataFrame.\n",
      "Try using .loc[row_indexer,col_indexer] = value instead\n",
      "\n",
      "See the caveats in the documentation: http://pandas.pydata.org/pandas-docs/stable/indexing.html#indexing-view-versus-copy\n",
      "  self.obj[key] = _infer_fill_value(value)\n"
     ]
    }
   ],
   "source": [
    "winners_df, winners2_df  = hfunc.load_data(houseResFile, minYear=2002)\n",
    "winners_df, winners2_df = hfunc.clean_index(winners_df), hfunc.clean_index(winners2_df)\n",
    "data = hfunc.fetch_trimmed_data(winners_df, winners2_df, minYear=2004)"
   ]
  },
  {
   "cell_type": "code",
   "execution_count": 4,
   "metadata": {},
   "outputs": [
    {
     "data": {
      "text/html": [
       "<div>\n",
       "<style scoped>\n",
       "    .dataframe tbody tr th:only-of-type {\n",
       "        vertical-align: middle;\n",
       "    }\n",
       "\n",
       "    .dataframe tbody tr th {\n",
       "        vertical-align: top;\n",
       "    }\n",
       "\n",
       "    .dataframe thead th {\n",
       "        text-align: right;\n",
       "    }\n",
       "</style>\n",
       "<table border=\"1\" class=\"dataframe\">\n",
       "  <thead>\n",
       "    <tr style=\"text-align: right;\">\n",
       "      <th></th>\n",
       "      <th>district</th>\n",
       "      <th>state</th>\n",
       "      <th>year</th>\n",
       "      <th>party</th>\n",
       "      <th>candidatevotes</th>\n",
       "      <th>totalvotes</th>\n",
       "      <th>candidate</th>\n",
       "      <th>national_poll</th>\n",
       "      <th>national_poll_prev</th>\n",
       "      <th>national_poll_delta_subtract</th>\n",
       "      <th>...</th>\n",
       "      <th>dem_win_margin_prev</th>\n",
       "      <th>rep_win_margin_prev</th>\n",
       "      <th>margin_signed_minus_prev</th>\n",
       "      <th>margin_signed_divide_prev</th>\n",
       "      <th>margin_unsigned_minus_prev</th>\n",
       "      <th>margin_unsigned_divide_prev</th>\n",
       "      <th>dem_win_prev</th>\n",
       "      <th>rep_win_prev</th>\n",
       "      <th>dem_win</th>\n",
       "      <th>rep_win</th>\n",
       "    </tr>\n",
       "  </thead>\n",
       "  <tbody>\n",
       "    <tr>\n",
       "      <th>AK_01_2004</th>\n",
       "      <td>1</td>\n",
       "      <td>AK</td>\n",
       "      <td>2004</td>\n",
       "      <td>republican</td>\n",
       "      <td>213216.0</td>\n",
       "      <td>299996.0</td>\n",
       "      <td>Don Young</td>\n",
       "      <td>3.680556</td>\n",
       "      <td>-0.989011</td>\n",
       "      <td>4.669567</td>\n",
       "      <td>...</td>\n",
       "      <td>0.172827</td>\n",
       "      <td>0.745131</td>\n",
       "      <td>-0.572304</td>\n",
       "      <td>0.231942</td>\n",
       "      <td>0.572304</td>\n",
       "      <td>4.311431</td>\n",
       "      <td>0.0</td>\n",
       "      <td>1.0</td>\n",
       "      <td>0.0</td>\n",
       "      <td>1.0</td>\n",
       "    </tr>\n",
       "    <tr>\n",
       "      <th>AL_01_2004</th>\n",
       "      <td>1</td>\n",
       "      <td>AL</td>\n",
       "      <td>2004</td>\n",
       "      <td>republican</td>\n",
       "      <td>161067.0</td>\n",
       "      <td>255164.0</td>\n",
       "      <td>Jo Bonner</td>\n",
       "      <td>3.680556</td>\n",
       "      <td>-0.989011</td>\n",
       "      <td>4.669567</td>\n",
       "      <td>...</td>\n",
       "      <td>0.377795</td>\n",
       "      <td>0.604980</td>\n",
       "      <td>-0.227185</td>\n",
       "      <td>0.624475</td>\n",
       "      <td>0.227185</td>\n",
       "      <td>1.601345</td>\n",
       "      <td>0.0</td>\n",
       "      <td>1.0</td>\n",
       "      <td>0.0</td>\n",
       "      <td>1.0</td>\n",
       "    </tr>\n",
       "    <tr>\n",
       "      <th>AL_02_2004</th>\n",
       "      <td>2</td>\n",
       "      <td>AL</td>\n",
       "      <td>2004</td>\n",
       "      <td>republican</td>\n",
       "      <td>177086.0</td>\n",
       "      <td>247947.0</td>\n",
       "      <td>Terry Everett</td>\n",
       "      <td>3.680556</td>\n",
       "      <td>-0.989011</td>\n",
       "      <td>4.669567</td>\n",
       "      <td>...</td>\n",
       "      <td>0.295241</td>\n",
       "      <td>0.687538</td>\n",
       "      <td>-0.392296</td>\n",
       "      <td>0.429418</td>\n",
       "      <td>0.392296</td>\n",
       "      <td>2.328732</td>\n",
       "      <td>0.0</td>\n",
       "      <td>1.0</td>\n",
       "      <td>0.0</td>\n",
       "      <td>1.0</td>\n",
       "    </tr>\n",
       "    <tr>\n",
       "      <th>AL_03_2004</th>\n",
       "      <td>3</td>\n",
       "      <td>AL</td>\n",
       "      <td>2004</td>\n",
       "      <td>republican</td>\n",
       "      <td>150411.0</td>\n",
       "      <td>245784.0</td>\n",
       "      <td>Mike Rogers</td>\n",
       "      <td>3.680556</td>\n",
       "      <td>-0.989011</td>\n",
       "      <td>4.669567</td>\n",
       "      <td>...</td>\n",
       "      <td>0.482008</td>\n",
       "      <td>0.503076</td>\n",
       "      <td>-0.021068</td>\n",
       "      <td>0.958122</td>\n",
       "      <td>0.021068</td>\n",
       "      <td>1.043709</td>\n",
       "      <td>0.0</td>\n",
       "      <td>1.0</td>\n",
       "      <td>0.0</td>\n",
       "      <td>1.0</td>\n",
       "    </tr>\n",
       "    <tr>\n",
       "      <th>AL_04_2004</th>\n",
       "      <td>4</td>\n",
       "      <td>AL</td>\n",
       "      <td>2004</td>\n",
       "      <td>republican</td>\n",
       "      <td>191110.0</td>\n",
       "      <td>255724.0</td>\n",
       "      <td>Robert B. Aderholt</td>\n",
       "      <td>3.680556</td>\n",
       "      <td>-0.989011</td>\n",
       "      <td>4.669567</td>\n",
       "      <td>...</td>\n",
       "      <td>0.129472</td>\n",
       "      <td>0.867189</td>\n",
       "      <td>-0.737717</td>\n",
       "      <td>0.149300</td>\n",
       "      <td>0.737717</td>\n",
       "      <td>6.697910</td>\n",
       "      <td>0.0</td>\n",
       "      <td>1.0</td>\n",
       "      <td>0.0</td>\n",
       "      <td>1.0</td>\n",
       "    </tr>\n",
       "  </tbody>\n",
       "</table>\n",
       "<p>5 rows × 22 columns</p>\n",
       "</div>"
      ],
      "text/plain": [
       "            district state  year       party  candidatevotes  totalvotes  \\\n",
       "AK_01_2004         1    AK  2004  republican        213216.0    299996.0   \n",
       "AL_01_2004         1    AL  2004  republican        161067.0    255164.0   \n",
       "AL_02_2004         2    AL  2004  republican        177086.0    247947.0   \n",
       "AL_03_2004         3    AL  2004  republican        150411.0    245784.0   \n",
       "AL_04_2004         4    AL  2004  republican        191110.0    255724.0   \n",
       "\n",
       "                     candidate  national_poll  national_poll_prev  \\\n",
       "AK_01_2004           Don Young       3.680556           -0.989011   \n",
       "AL_01_2004           Jo Bonner       3.680556           -0.989011   \n",
       "AL_02_2004       Terry Everett       3.680556           -0.989011   \n",
       "AL_03_2004         Mike Rogers       3.680556           -0.989011   \n",
       "AL_04_2004  Robert B. Aderholt       3.680556           -0.989011   \n",
       "\n",
       "            national_poll_delta_subtract   ...     dem_win_margin_prev  \\\n",
       "AK_01_2004                      4.669567   ...                0.172827   \n",
       "AL_01_2004                      4.669567   ...                0.377795   \n",
       "AL_02_2004                      4.669567   ...                0.295241   \n",
       "AL_03_2004                      4.669567   ...                0.482008   \n",
       "AL_04_2004                      4.669567   ...                0.129472   \n",
       "\n",
       "           rep_win_margin_prev  margin_signed_minus_prev  \\\n",
       "AK_01_2004            0.745131                 -0.572304   \n",
       "AL_01_2004            0.604980                 -0.227185   \n",
       "AL_02_2004            0.687538                 -0.392296   \n",
       "AL_03_2004            0.503076                 -0.021068   \n",
       "AL_04_2004            0.867189                 -0.737717   \n",
       "\n",
       "            margin_signed_divide_prev  margin_unsigned_minus_prev  \\\n",
       "AK_01_2004                   0.231942                    0.572304   \n",
       "AL_01_2004                   0.624475                    0.227185   \n",
       "AL_02_2004                   0.429418                    0.392296   \n",
       "AL_03_2004                   0.958122                    0.021068   \n",
       "AL_04_2004                   0.149300                    0.737717   \n",
       "\n",
       "            margin_unsigned_divide_prev  dem_win_prev  rep_win_prev  dem_win  \\\n",
       "AK_01_2004                     4.311431           0.0           1.0      0.0   \n",
       "AL_01_2004                     1.601345           0.0           1.0      0.0   \n",
       "AL_02_2004                     2.328732           0.0           1.0      0.0   \n",
       "AL_03_2004                     1.043709           0.0           1.0      0.0   \n",
       "AL_04_2004                     6.697910           0.0           1.0      0.0   \n",
       "\n",
       "            rep_win  \n",
       "AK_01_2004      1.0  \n",
       "AL_01_2004      1.0  \n",
       "AL_02_2004      1.0  \n",
       "AL_03_2004      1.0  \n",
       "AL_04_2004      1.0  \n",
       "\n",
       "[5 rows x 22 columns]"
      ]
     },
     "execution_count": 4,
     "metadata": {},
     "output_type": "execute_result"
    }
   ],
   "source": [
    "data.head()"
   ]
  },
  {
   "cell_type": "code",
   "execution_count": 10,
   "metadata": {},
   "outputs": [
    {
     "data": {
      "text/plain": [
       "{2004, 2006, 2008, 2010, 2012, 2014, 2016}"
      ]
     },
     "execution_count": 10,
     "metadata": {},
     "output_type": "execute_result"
    }
   ],
   "source": [
    "set(data['year'].values)"
   ]
  },
  {
   "cell_type": "code",
   "execution_count": 5,
   "metadata": {},
   "outputs": [],
   "source": [
    "# #hfunc.fetch_index(winners_df, save=True, load=False)"
   ]
  },
  {
   "cell_type": "code",
   "execution_count": 6,
   "metadata": {},
   "outputs": [],
   "source": [
    "pickle.dump(data, open('Datasets/data.p', 'wb'))"
   ]
  },
  {
   "cell_type": "code",
   "execution_count": 7,
   "metadata": {},
   "outputs": [],
   "source": [
    "import pandas as pd\n",
    "import numpy as np\n",
    "from functions import houseFunctions as hfunc\n",
    "import pickle\n",
    "dataset = pickle.load(open('Datasets/data.p', 'rb'))"
   ]
  },
  {
   "cell_type": "code",
   "execution_count": 8,
   "metadata": {},
   "outputs": [
    {
     "data": {
      "text/plain": [
       "Index(['dem_win', 'dem_win_prev', 'margin_signed_minus_prev', 'national_poll'], dtype='object')"
      ]
     },
     "execution_count": 8,
     "metadata": {},
     "output_type": "execute_result"
    }
   ],
   "source": [
    "dataset = dataset.loc[:,['dem_win', 'dem_win_prev', 'margin_signed_minus_prev', 'national_poll']]\n",
    "dataset.columns"
   ]
  },
  {
   "cell_type": "code",
   "execution_count": 9,
   "metadata": {},
   "outputs": [
    {
     "name": "stdout",
     "output_type": "stream",
     "text": [
      "Once deleted, variables cannot be recovered. Proceed (y/[n])? n\n",
      "Nothing done.\n"
     ]
    }
   ],
   "source": [
    "%reset"
   ]
  },
  {
   "cell_type": "code",
   "execution_count": null,
   "metadata": {},
   "outputs": [],
   "source": []
  },
  {
   "cell_type": "code",
   "execution_count": null,
   "metadata": {},
   "outputs": [],
   "source": []
  }
 ],
 "metadata": {
  "kernelspec": {
   "display_name": "Python 3",
   "language": "python",
   "name": "python3"
  },
  "language_info": {
   "codemirror_mode": {
    "name": "ipython",
    "version": 3
   },
   "file_extension": ".py",
   "mimetype": "text/x-python",
   "name": "python",
   "nbconvert_exporter": "python",
   "pygments_lexer": "ipython3",
   "version": "3.7.0"
  }
 },
 "nbformat": 4,
 "nbformat_minor": 2
}
