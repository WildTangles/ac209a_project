{
 "cells": [
  {
   "cell_type": "code",
   "execution_count": 1,
   "metadata": {},
   "outputs": [],
   "source": [
    "#\n",
    "import numpy as np\n",
    "import matplotlib.pyplot as plt\n",
    "import matplotlib.image as mpimg\n",
    "import numpy as np\n",
    "import pandas as pd\n",
    "import pickle\n",
    "from sklearn.linear_model import LogisticRegression\n",
    "from sklearn.linear_model import LogisticRegressionCV\n",
    "from sklearn.model_selection import train_test_split\n",
    "from sklearn.metrics import accuracy_score\n",
    "from sklearn.ensemble import RandomForestClassifier\n",
    "from sklearn.metrics import confusion_matrix\n",
    "from sklearn.neighbors import KNeighborsClassifier\n",
    "from sklearn.ensemble import AdaBoostClassifier\n",
    "from sklearn.tree import DecisionTreeClassifier\n",
    "from sklearn.linear_model import LassoCV\n",
    "from sklearn.base import clone\n",
    "from sklearn.metrics import r2_score\n",
    "from sklearn.discriminant_analysis import LinearDiscriminantAnalysis as LDA\n",
    "from sklearn.discriminant_analysis import QuadraticDiscriminantAnalysis as QDA \n",
    "from sklearn.metrics import log_loss\n",
    "import seaborn as sns\n",
    "\n",
    "%matplotlib inline"
   ]
  },
  {
   "cell_type": "code",
   "execution_count": 2,
   "metadata": {},
   "outputs": [
    {
     "data": {
      "text/plain": [
       "'\\n2010-2018\\nDatasets/data_FEC_NATIONALPOLL_DEMOGRAPHICS_2010_2018.p\\nDatasets/data_FEC_NATIONALPOLL_DEMOGRAPHICS_2010_2018_REDISTRICTDROP.p\\n\\n2004-2018\\nDatasets/data_FEC_NATIONALPOLL_2004_2018.p\\nDatasets/data_FEC_NATIONALPOLL_2004_2018_REDISTRICTDROP.p\\n'"
      ]
     },
     "execution_count": 2,
     "metadata": {},
     "output_type": "execute_result"
    }
   ],
   "source": [
    "\"\"\"\n",
    "2010-2018\n",
    "Datasets/data_FEC_NATIONALPOLL_DEMOGRAPHICS_2010_2018.p\n",
    "Datasets/data_FEC_NATIONALPOLL_DEMOGRAPHICS_2010_2018_REDISTRICTDROP.p\n",
    "\n",
    "2004-2018\n",
    "Datasets/data_FEC_NATIONALPOLL_2004_2018.p\n",
    "Datasets/data_FEC_NATIONALPOLL_2004_2018_REDISTRICTDROP.p\n",
    "\"\"\""
   ]
  },
  {
   "cell_type": "code",
   "execution_count": null,
   "metadata": {},
   "outputs": [],
   "source": []
  },
  {
   "cell_type": "code",
   "execution_count": null,
   "metadata": {},
   "outputs": [],
   "source": []
  },
  {
   "cell_type": "code",
   "execution_count": null,
   "metadata": {},
   "outputs": [],
   "source": []
  },
  {
   "cell_type": "code",
   "execution_count": null,
   "metadata": {},
   "outputs": [],
   "source": []
  },
  {
   "cell_type": "code",
   "execution_count": 3,
   "metadata": {},
   "outputs": [
    {
     "data": {
      "image/png": "[encoded data removed]",
      "text/plain": [
       "<Figure size 432x288 with 1 Axes>"
      ]
     },
     "metadata": {
      "needs_background": "light"
     },
     "output_type": "display_data"
    }
   ],
   "source": [
    "# Plot the proportion of flips in the full dataset\n",
    "\n",
    "#read in FEC data\n",
    "full_dataset = pickle.load(open('Datasets/data_FEC_NATIONALPOLL_2004_2018.p', 'rb'))\n",
    "full_dataset_redistrict = pickle.load(open('Datasets/data_FEC_NATIONALPOLL_2004_2018_REDISTRICTDROP.p', 'rb'))\n",
    "\n",
    "#add column to indicate a party flip\n",
    "full_dataset['party_flip'] = (full_dataset.dem_win_prev!=full_dataset.dem_win)*1\n",
    "\n",
    "#small_dataset.head()\n",
    "plt.title('Proportion of districts that chage party in consecutive elections')\n",
    "plt.ylabel('frequency')\n",
    "plt.xlabel('Party Change')\n",
    "full_dataset.party_flip.value_counts().plot(kind='bar')\n",
    "\n",
    "#proportion of districts on the full data that do not flip\n",
    "full_dataset.groupby('party_flip')['party_flip'].count().plot.bar()\n",
    "plt.title('Proportion of Party Flips on Full Dataset')\n",
    "\n",
    "for name, group in (full_dataset.groupby('party_flip')['party_flip']):\n",
    "    plt.text(int(name)+.25, group.count() + .25, \\\n",
    "    '{0:.2f}'.format(group.count()/full_dataset.shape[0]*100)+'%', color='blue', fontweight='bold')"
   ]
  },
  {
   "cell_type": "code",
   "execution_count": 4,
   "metadata": {},
   "outputs": [
    {
     "name": "stderr",
     "output_type": "stream",
     "text": [
      "/Users/Elise/miniconda2/envs/cs209/lib/python3.6/site-packages/pandas/core/indexing.py:543: SettingWithCopyWarning: \n",
      "A value is trying to be set on a copy of a slice from a DataFrame.\n",
      "Try using .loc[row_indexer,col_indexer] = value instead\n",
      "\n",
      "See the caveats in the documentation: http://pandas.pydata.org/pandas-docs/stable/indexing.html#indexing-view-versus-copy\n",
      "  self.obj[item] = s\n"
     ]
    },
    {
     "data": {
      "image/png": "[encoded data removed]",
      "text/plain": [
       "<Figure size 432x288 with 1 Axes>"
      ]
     },
     "metadata": {
      "needs_background": "light"
     },
     "output_type": "display_data"
    }
   ],
   "source": [
    "# Plot the proportion of flips in 2018\n",
    "\n",
    "#add column to indicate a party flip\n",
    "the_2018_dataset = full_dataset.loc[full_dataset['year']==2018,:]\n",
    "the_2018_dataset.loc[:,'party_flip'] = (full_dataset.dem_win_prev!=full_dataset.dem_win)*1\n",
    "\n",
    "#small_dataset.head()\n",
    "plt.title('Proportion of districts that chage party in consecutive elections')\n",
    "plt.ylabel('frequency')\n",
    "plt.xlabel('Party Change')\n",
    "the_2018_dataset.party_flip.value_counts().plot(kind='bar')\n",
    "\n",
    "#proportion of districts on the full data that do not flip\n",
    "the_2018_dataset.groupby('party_flip')['party_flip'].count().plot.bar()\n",
    "plt.title('Proportion of Party Flips on 2018 Dataset')\n",
    "\n",
    "for name, group in (the_2018_dataset.groupby('party_flip')['party_flip']):\n",
    "    plt.text(int(name)+.25, group.count() + .25, \\\n",
    "    '{0:.2f}'.format(group.count()/the_2018_dataset.shape[0]*100)+'%', color='blue', fontweight='bold')"
   ]
  },
  {
   "cell_type": "code",
   "execution_count": 5,
   "metadata": {},
   "outputs": [],
   "source": [
    "def upsample(test, monsterframe=False):    \n",
    "    '''\n",
    "    input: test (pandas.dataframe)\n",
    "    output: pandas.dataframe\n",
    "    \n",
    "    input dataframe MUST have the columns dem_win_prev and dem_win\n",
    "    function will ensure that there are an equal number of flips and no flips in the dataset via bootstrap\n",
    "    '''\n",
    "    \n",
    "    #check if party flip as per usual\n",
    "    test['party_flip'] = (test.dem_win_prev != test.dem_win)*1\n",
    "    #drop 2018 rows as we want to test on these, don't mess with them\n",
    "    test = test[test['year'] != 2018]\n",
    "    #count number of flips and no flips\n",
    "    print(np.sum((test['party_flip']==1)), np.sum((test['party_flip']==0)))\n",
    "    #we want to match these counts, so we need target number of bootstrapped samples\n",
    "    target = (np.sum((test['party_flip']==0))) - (np.sum((test['party_flip']==1)))\n",
    "    #collect target bootstrap samples where we see a flip\n",
    "    samples = test[test['party_flip'] == 1].sample(n=target, replace=True)\n",
    "    #add them back to the dataframe\n",
    "    test = pd.concat([test, samples])\n",
    "    print(np.sum((test['party_flip']==1)), np.sum((test['party_flip']==0)))\n",
    "    print(len(set(test[test['party_flip'] == 1].index)))\n",
    "    test = test.drop('party_flip', axis=1)\n",
    "    \n",
    "    if monsterframe:\n",
    "        target = 5*(len(test))\n",
    "        samples = test.sample(n=target, replace=True)\n",
    "        test = pd.concat([test, samples])\n",
    "    print(len(test))\n",
    "    \n",
    "    \n",
    "    \n",
    "    return test\n",
    "\n",
    "#full_dataset = boostrap(full_dataset)"
   ]
  },
  {
   "cell_type": "markdown",
   "metadata": {},
   "source": [
    "## Code without demographics\n",
    "\n",
    "* district\n",
    "* state\n",
    "* year\n",
    "* party\n",
    "* candidatevotes\n",
    "* totalvotes\n",
    "* candidate\n",
    "* national_poll\n",
    "* national_poll_prev\n",
    "* national_poll_delta_subtract\n",
    "* national_poll_delta_divide\n",
    "* previous_party\n",
    "* dem_win_margin_prev\n",
    "* rep_win_margin_prev\n",
    "* margin_signed_minus_prev\n",
    "* margin_signed_divide_prev\n",
    "* margin_unsigned_minus_prev\n",
    "* margin_unsigned_divide_prev\n",
    "* dem_win_prev\n",
    "* rep_win_prev\n",
    "* dem_win\n",
    "* rep_win"
   ]
  },
  {
   "cell_type": "markdown",
   "metadata": {},
   "source": [
    "## Variables to use\n",
    "\n",
    "* national_poll\n",
    "* margin_signed_minus_prev\n",
    "\n",
    "* dem_win -- response"
   ]
  },
  {
   "cell_type": "markdown",
   "metadata": {},
   "source": [
    "### Functions"
   ]
  },
  {
   "cell_type": "code",
   "execution_count": 6,
   "metadata": {},
   "outputs": [],
   "source": [
    "# format data items for input into the model\n",
    "\n",
    "def format_model_input(filename, x_cols, y_col, state_hot_encoder=False):\n",
    "    \n",
    "    # load full dataset \n",
    "    full_dataset = pickle.load(open(filename, 'rb'))\n",
    "    \n",
    "    # train data is everything except 2018\n",
    "    pre_2018_dataset = full_dataset.loc[full_dataset['year']!=2018]\n",
    "    pre_2018_dataset = upsample(pre_2018_dataset, monsterframe=False)\n",
    "\n",
    "    X_train = pre_2018_dataset[cols_to_use]\n",
    "    y_train = pre_2018_dataset[y_col]\n",
    "    flip_train = np.abs(pre_2018_dataset['dem_win']-pre_2018_dataset['dem_win_prev'])\n",
    "    \n",
    "    # test data is 2018\n",
    "    the_2018_dataset = full_dataset.loc[full_dataset['year']==2018]\n",
    "    X_test = the_2018_dataset[cols_to_use]\n",
    "    y_test = the_2018_dataset[y_col]\n",
    "    flip_test = np.abs(the_2018_dataset['dem_win']-the_2018_dataset['dem_win_prev'])\n",
    "    \n",
    "    if state_hot_encoder:\n",
    "        #add one hot encoder for states (with or without dropping first)\n",
    "        X_train.loc[:,'state'] = pre_2018_dataset['state']\n",
    "        X_train = pd.get_dummies(X_train,prefix='state',columns=['state'], drop_first=True)\n",
    "        X_test.loc[:,'state'] = the_2018_dataset['state']\n",
    "        X_test = pd.get_dummies(X_test,prefix='state',columns=['state'], drop_first=True)\n",
    "    \n",
    "    return X_train,y_train, X_test,y_test, flip_train,flip_test"
   ]
  },
  {
   "cell_type": "code",
   "execution_count": 7,
   "metadata": {},
   "outputs": [],
   "source": [
    "def plot_metrics(model_dict, X_train_input, y_train_input, X_test_input, y_test_input, flip_train, flip_test, prob=False):\n",
    "    \n",
    "    df_for_plotting = pd.DataFrame()\n",
    "    for model_name, model in model_dict.items():\n",
    "        dict_for_plotting = {}\n",
    "        # copy arrays so you don't accidentally change them \n",
    "        X_train = X_train_input.copy()\n",
    "        y_train = y_train_input.copy()\n",
    "        X_test = X_test_input.copy()\n",
    "        y_test = y_test_input.copy()\n",
    "        \n",
    "        # get the flip and noflip data\n",
    "        #flip_mask_train = np.array(flip_train)==1\n",
    "        flip_mask_test = np.array(flip_test)==1\n",
    "\n",
    "        # calculate metrics\n",
    "        if prob==True:    \n",
    "            # predict_proba test and train data\n",
    "            y_prob_test = model.predict_proba(X_test)\n",
    "            y_prob_train = model.predict_proba(X_train)\n",
    "            \n",
    "            train_score = log_loss(y_train, y_prob_train)\n",
    "            test_score = log_loss(y_test, y_prob_test)\n",
    "            percent_noflip_correct = log_loss(y_test[~flip_mask_test], y_prob_test[~flip_mask_test])\n",
    "            percent_flip_correct = log_loss(y_test[flip_mask_test],y_prob_test[flip_mask_test])\n",
    "            \n",
    "            \n",
    "            # train score\n",
    "            dict_for_plotting['model_name'] = model_name\n",
    "            dict_for_plotting['metric_name'] = 'train_logloss'\n",
    "            dict_for_plotting['metric'] = train_score\n",
    "            df_for_plotting = df_for_plotting.append(dict_for_plotting,ignore_index=True)\n",
    "\n",
    "            # test score\n",
    "            dict_for_plotting['model_name'] = model_name\n",
    "            dict_for_plotting['metric_name'] = 'test_logloss'\n",
    "            dict_for_plotting['metric'] = test_score\n",
    "            df_for_plotting = df_for_plotting.append(dict_for_plotting,ignore_index=True)\n",
    "\n",
    "            # percent noflip\n",
    "            dict_for_plotting['model_name'] = model_name\n",
    "            dict_for_plotting['metric_name'] = 'noflip_logloss'\n",
    "            dict_for_plotting['metric'] = percent_noflip_correct\n",
    "            df_for_plotting = df_for_plotting.append(dict_for_plotting,ignore_index=True)\n",
    "\n",
    "            # percent flip\n",
    "            dict_for_plotting['model_name'] = model_name\n",
    "            dict_for_plotting['metric_name'] = 'flip_logloss'\n",
    "            dict_for_plotting['metric'] = percent_flip_correct\n",
    "            df_for_plotting = df_for_plotting.append(dict_for_plotting,ignore_index=True)\n",
    "            \n",
    "        else:\n",
    "            # predict test and train data\n",
    "            y_pred_test = model.predict(X_test)\n",
    "            y_pred_train = model.predict(X_train)\n",
    "            \n",
    "            y_pred_train = y_pred_train.round()\n",
    "            y_pred_test = y_pred_test.round()\n",
    "            train_score = accuracy_score(y_train, y_pred_train)\n",
    "            test_score = accuracy_score(y_test, y_pred_test)\n",
    "            percent_noflip_correct = accuracy_score(y_test[~flip_mask_test], y_pred_test[~flip_mask_test])\n",
    "            percent_flip_correct = accuracy_score(y_test[flip_mask_test],y_pred_test[flip_mask_test])\n",
    "        \n",
    "            # train score\n",
    "            dict_for_plotting['model_name'] = model_name\n",
    "            dict_for_plotting['metric_name'] = 'train_acc'\n",
    "            dict_for_plotting['metric'] = train_score\n",
    "            df_for_plotting = df_for_plotting.append(dict_for_plotting,ignore_index=True)\n",
    "\n",
    "            # test score\n",
    "            dict_for_plotting['model_name'] = model_name\n",
    "            dict_for_plotting['metric_name'] = 'test_acc'\n",
    "            dict_for_plotting['metric'] = test_score\n",
    "            df_for_plotting = df_for_plotting.append(dict_for_plotting,ignore_index=True)\n",
    "\n",
    "            # percent noflip\n",
    "            dict_for_plotting['model_name'] = model_name\n",
    "            dict_for_plotting['metric_name'] = 'noflip_acc'\n",
    "            dict_for_plotting['metric'] = percent_noflip_correct\n",
    "            df_for_plotting = df_for_plotting.append(dict_for_plotting,ignore_index=True)\n",
    "\n",
    "            # percent flip\n",
    "            dict_for_plotting['model_name'] = model_name\n",
    "            dict_for_plotting['metric_name'] = 'flip_acc'\n",
    "            dict_for_plotting['metric'] = percent_flip_correct\n",
    "            df_for_plotting = df_for_plotting.append(dict_for_plotting,ignore_index=True)\n",
    "        \n",
    "    sns.barplot(x='model_name', y='metric', hue='metric_name', data=df_for_plotting)\n",
    "    plt.show()"
   ]
  },
  {
   "cell_type": "code",
   "execution_count": 8,
   "metadata": {},
   "outputs": [],
   "source": [
    "# plot flips predicted by a model\n",
    "\n",
    "def plot_flips(X_test_input, y_test_input, y_pred_test_input, flip_train, \n",
    "               flip_test, model_name):\n",
    "    \n",
    "    # copy arrays so you don't accidentally change them \n",
    "    X_test = X_test_input.copy()\n",
    "    y_test = y_test_input.copy()\n",
    "    y_pred_test = y_pred_test_input.copy()\n",
    "    \n",
    "    # add flip data to the array\n",
    "    X_test['party_flip'] = flip_test\n",
    "    \n",
    "    #looking at the missclassifications with logisticRegressionCV\n",
    "    miss_class_df = X_test[y_test != y_pred_test]\n",
    "    good_class_df = X_test[y_test == y_pred_test]\n",
    "\n",
    "    #plot the flips and non flips for each data\n",
    "    fig, ax = plt.subplots(1,2, figsize=(14,4))\n",
    "    ax[0].set_title(model_name+' Proportion of party flips on wellclassified test data')\n",
    "    ax[1].set_title(model_name+' Proportion of party flips missclassified test data')\n",
    "\n",
    "    if not good_class_df.empty:\n",
    "        good_class_df.groupby('party_flip')['party_flip'].count().plot.bar(ax=ax[0])\n",
    "        for name, group in (good_class_df.groupby('party_flip')['party_flip']):\n",
    "            ax[0].text(int(name)+.25, group.count() + .25, \\\n",
    "            '{0:.2f}'.format(group.count()/good_class_df.shape[0]*100)+'%', color='blue', fontweight='bold')\n",
    "\n",
    "    if not miss_class_df.empty:\n",
    "        miss_class_df.groupby('party_flip')['party_flip'].count().plot.bar(ax=ax[1])\n",
    "        for name, group in (miss_class_df.groupby('party_flip')['party_flip']):\n",
    "            ax[1].text(int(name)+.15, group.count() + .25, \\\n",
    "            '{0:.2f}'.format(group.count()/miss_class_df.shape[0]*100)+'%', color='blue', fontweight='bold')\n",
    "            \n",
    "    normnoflip = len(X_test[X_test['party_flip'] == 0])\n",
    "    normflip = len(X_test[X_test['party_flip'] == 1])\n",
    "    print('predicted correctly. does not flip.: {}'.format(len(good_class_df[good_class_df['party_flip'] == 0])/normnoflip))\n",
    "    print('predicted wrongly. does not flip.: {}'.format(len(miss_class_df[miss_class_df['party_flip'] == 0])/normnoflip))\n",
    "    \n",
    "    print('predicted correctly. does flips.: {}'.format(len(good_class_df[good_class_df['party_flip'] == 1])/normflip))\n",
    "    print('predicted wrongly. does flips.: {}'.format(len(miss_class_df[miss_class_df['party_flip'] == 1])/normflip))\n",
    "        \n",
    "    plt.show()"
   ]
  },
  {
   "cell_type": "code",
   "execution_count": 9,
   "metadata": {},
   "outputs": [],
   "source": [
    "# print out R2, accuracy, and plot # flipped seats correctly predicted for a given model\n",
    "\n",
    "def report_model_stats(filename, x_cols, y_col, model_dict, state_hot_encoder=False):\n",
    "    \n",
    "    # read in the desired data\n",
    "    X_train,y_train, X_test,y_test, flip_train,flip_test = \\\n",
    "        format_model_input(filename, cols_to_use, y_col, state_hot_encoder)\n",
    "        \n",
    "    fitted_model_dict = {}\n",
    "    \n",
    "    for model_name, model in model_dict.items():\n",
    "        model_copy = clone(model) # deep copy model to prevent fitting it twice\n",
    "        print(model_name)\n",
    "\n",
    "        fitted_model = model_copy.fit(X_train,y_train)\n",
    "        y_pred_test = fitted_model.predict(X_test)\n",
    "\n",
    "        print(\"Confusion Matrix: \\n\",confusion_matrix(y_test,y_pred_test.round()))\n",
    "\n",
    "#         print(\"\\n{} R2: \".format(model_name), fitted_model.score(X_train,y_train))\n",
    "#         print(\"{} Test Accuracy\".format(model_name), accuracy_score(y_test,y_pred_test.round()))\n",
    "\n",
    "        #plot_flips(X_test, y_test, y_pred_test.round(), flip_train, flip_test, model_name)\n",
    "        \n",
    "        fitted_model_dict[model_name] = fitted_model\n",
    "        \n",
    "        try:\n",
    "            coef = fitted_model.coef_.squeeze()\n",
    "            print(len(X_test.columns), len(coef))\n",
    "            print('intercept = {}'.format(fitted_model.intercept_))\n",
    "            print([i for i in zip(X_test.columns,coef)])\n",
    "        except AttributeError:\n",
    "            print('doesnt have any coefficients')\n",
    "    \n",
    "    plot_metrics(fitted_model_dict, X_train, y_train, X_test, y_test, flip_train, flip_test, prob=False)\n",
    "    plot_metrics(fitted_model_dict, X_train, y_train, X_test, y_test, flip_train, flip_test, prob=True)\n",
    "    \n",
    "    return fitted_model_dict"
   ]
  },
  {
   "cell_type": "markdown",
   "metadata": {},
   "source": [
    "## Try out different models and columns"
   ]
  },
  {
   "cell_type": "markdown",
   "metadata": {},
   "source": [
    "### Full dataset, no demographics, not dropping any data. "
   ]
  },
  {
   "cell_type": "code",
   "execution_count": 10,
   "metadata": {},
   "outputs": [],
   "source": [
    "# specify your models here:\n",
    "model_dict = {\n",
    "    'LDA'           : LDA(),\n",
    "    'QDA'           : QDA(),\n",
    "    'kNN'           : KNeighborsClassifier(n_neighbors=1,n_jobs=4),\n",
    "    'Random Forest' : RandomForestClassifier(n_jobs=4,random_state=209),\n",
    "    'AdaBoost'      : AdaBoostClassifier(DecisionTreeClassifier(max_depth=10)),\n",
    "}\n",
    "\n",
    "y_col = ['dem_win']"
   ]
  },
  {
   "cell_type": "code",
   "execution_count": 11,
   "metadata": {
    "scrolled": true
   },
   "outputs": [
    {
     "name": "stderr",
     "output_type": "stream",
     "text": [
      "/Users/Elise/miniconda2/envs/cs209/lib/python3.6/site-packages/ipykernel_launcher.py:11: SettingWithCopyWarning: \n",
      "A value is trying to be set on a copy of a slice from a DataFrame.\n",
      "Try using .loc[row_indexer,col_indexer] = value instead\n",
      "\n",
      "See the caveats in the documentation: http://pandas.pydata.org/pandas-docs/stable/indexing.html#indexing-view-versus-copy\n",
      "  # This is added back by InteractiveShellApp.init_path()\n",
      "/Users/Elise/miniconda2/envs/cs209/lib/python3.6/site-packages/sklearn/utils/validation.py:752: DataConversionWarning: A column-vector y was passed when a 1d array was expected. Please change the shape of y to (n_samples, ), for example using ravel().\n",
      "  y = column_or_1d(y, warn=True)\n",
      "/Users/Elise/miniconda2/envs/cs209/lib/python3.6/site-packages/sklearn/discriminant_analysis.py:388: UserWarning: Variables are collinear.\n",
      "  warnings.warn(\"Variables are collinear.\")\n",
      "/Users/Elise/miniconda2/envs/cs209/lib/python3.6/site-packages/sklearn/utils/validation.py:752: DataConversionWarning: A column-vector y was passed when a 1d array was expected. Please change the shape of y to (n_samples, ), for example using ravel().\n",
      "  y = column_or_1d(y, warn=True)\n",
      "/Users/Elise/miniconda2/envs/cs209/lib/python3.6/site-packages/sklearn/discriminant_analysis.py:686: UserWarning: Variables are collinear\n",
      "  warnings.warn(\"Variables are collinear\")\n",
      "/Users/Elise/miniconda2/envs/cs209/lib/python3.6/site-packages/sklearn/discriminant_analysis.py:686: UserWarning: Variables are collinear\n",
      "  warnings.warn(\"Variables are collinear\")\n",
      "/Users/Elise/miniconda2/envs/cs209/lib/python3.6/site-packages/ipykernel_launcher.py:15: DataConversionWarning: A column-vector y was passed when a 1d array was expected. Please change the shape of y to (n_samples, ), for example using ravel().\n",
      "  from ipykernel import kernelapp as app\n",
      "/Users/Elise/miniconda2/envs/cs209/lib/python3.6/site-packages/sklearn/ensemble/forest.py:248: FutureWarning: The default value of n_estimators will change from 10 in version 0.20 to 100 in 0.22.\n",
      "  \"10 in version 0.20 to 100 in 0.22.\", FutureWarning)\n",
      "/Users/Elise/miniconda2/envs/cs209/lib/python3.6/site-packages/ipykernel_launcher.py:15: DataConversionWarning: A column-vector y was passed when a 1d array was expected. Please change the shape of y to (n_samples,), for example using ravel().\n",
      "  from ipykernel import kernelapp as app\n"
     ]
    },
    {
     "name": "stdout",
     "output_type": "stream",
     "text": [
      "240 2769\n",
      "2769 2769\n",
      "240\n",
      "5538\n",
      "LDA\n",
      "Confusion Matrix: \n",
      " [[ 82 114]\n",
      " [  4 222]]\n",
      "12 12\n",
      "intercept = [0.99564513]\n",
      "[('national_poll', 0.14260497176681305), ('national_poll_prev', -0.00018911266507978277), ('national_poll_delta_subtract', 0.06310617038074678), ('national_poll_delta_divide', 0.05571207210061773), ('dem_win_margin_prev', 1.1882967752142233), ('rep_win_margin_prev', -4.400702508093385), ('margin_signed_minus_prev', 1.4297488250088555), ('margin_signed_divide_prev', -3.3804272905695947e-10), ('margin_unsigned_minus_prev', -0.44811406119830854), ('margin_unsigned_divide_prev', 1.834761933474401e-10), ('dem_win_prev', -0.7942663880627441), ('rep_win_prev', 0.794266388062744)]\n",
      "QDA\n",
      "Confusion Matrix: \n",
      " [[188   8]\n",
      " [ 41 185]]\n",
      "doesnt have any coefficients\n",
      "kNN\n",
      "Confusion Matrix: \n",
      " [[169  27]\n",
      " [ 35 191]]\n",
      "doesnt have any coefficients\n",
      "Random Forest\n",
      "Confusion Matrix: \n",
      " [[176  20]\n",
      " [ 36 190]]\n",
      "doesnt have any coefficients\n",
      "AdaBoost\n"
     ]
    },
    {
     "name": "stderr",
     "output_type": "stream",
     "text": [
      "/Users/Elise/miniconda2/envs/cs209/lib/python3.6/site-packages/sklearn/utils/validation.py:752: DataConversionWarning: A column-vector y was passed when a 1d array was expected. Please change the shape of y to (n_samples, ), for example using ravel().\n",
      "  y = column_or_1d(y, warn=True)\n"
     ]
    },
    {
     "name": "stdout",
     "output_type": "stream",
     "text": [
      "Confusion Matrix: \n",
      " [[189   7]\n",
      " [ 41 185]]\n",
      "doesnt have any coefficients\n"
     ]
    },
    {
     "data": {
      "image/png": "[encoded data removed]",
      "text/plain": [
       "<Figure size 432x288 with 1 Axes>"
      ]
     },
     "metadata": {
      "needs_background": "light"
     },
     "output_type": "display_data"
    },
    {
     "data": {
      "image/png": "[encoded data removed]",
      "text/plain": [
       "<Figure size 432x288 with 1 Axes>"
      ]
     },
     "metadata": {
      "needs_background": "light"
     },
     "output_type": "display_data"
    },
    {
     "data": {
      "text/plain": [
       "{'LDA': LinearDiscriminantAnalysis(n_components=None, priors=None, shrinkage=None,\n",
       "               solver='svd', store_covariance=False, tol=0.0001),\n",
       " 'QDA': QuadraticDiscriminantAnalysis(priors=None, reg_param=0.0,\n",
       "                store_covariance=False, store_covariances=None, tol=0.0001),\n",
       " 'kNN': KNeighborsClassifier(algorithm='auto', leaf_size=30, metric='minkowski',\n",
       "            metric_params=None, n_jobs=4, n_neighbors=1, p=2,\n",
       "            weights='uniform'),\n",
       " 'Random Forest': RandomForestClassifier(bootstrap=True, class_weight=None, criterion='gini',\n",
       "             max_depth=None, max_features='auto', max_leaf_nodes=None,\n",
       "             min_impurity_decrease=0.0, min_impurity_split=None,\n",
       "             min_samples_leaf=1, min_samples_split=2,\n",
       "             min_weight_fraction_leaf=0.0, n_estimators=10, n_jobs=4,\n",
       "             oob_score=False, random_state=209, verbose=0, warm_start=False),\n",
       " 'AdaBoost': AdaBoostClassifier(algorithm='SAMME.R',\n",
       "           base_estimator=DecisionTreeClassifier(class_weight=None, criterion='gini', max_depth=10,\n",
       "             max_features=None, max_leaf_nodes=None,\n",
       "             min_impurity_decrease=0.0, min_impurity_split=None,\n",
       "             min_samples_leaf=1, min_samples_split=2,\n",
       "             min_weight_fraction_leaf=0.0, presort=False, random_state=None,\n",
       "             splitter='best'),\n",
       "           learning_rate=1.0, n_estimators=50, random_state=None)}"
      ]
     },
     "execution_count": 11,
     "metadata": {},
     "output_type": "execute_result"
    }
   ],
   "source": [
    "# specify columns to use and the file you want to read in \n",
    "\n",
    "filename = 'Datasets/data_FEC_NATIONALPOLL_2004_2018.p'\n",
    "cols_to_use = ['national_poll', 'national_poll_prev',\n",
    "       'national_poll_delta_subtract', 'national_poll_delta_divide',\n",
    "       'dem_win_margin_prev', 'rep_win_margin_prev',\n",
    "       'margin_signed_minus_prev', 'margin_signed_divide_prev',\n",
    "       'margin_unsigned_minus_prev', 'margin_unsigned_divide_prev',\n",
    "       'dem_win_prev', 'rep_win_prev'] # all of them\n",
    "state_hot_encoder = False\n",
    "\n",
    "\n",
    "report_model_stats(filename, cols_to_use, y_col, model_dict, state_hot_encoder)"
   ]
  },
  {
   "cell_type": "markdown",
   "metadata": {},
   "source": [
    "### Full dataset, no demographics, dropping redistricted states"
   ]
  },
  {
   "cell_type": "code",
   "execution_count": 12,
   "metadata": {
    "scrolled": true
   },
   "outputs": [
    {
     "name": "stderr",
     "output_type": "stream",
     "text": [
      "/Users/Elise/miniconda2/envs/cs209/lib/python3.6/site-packages/ipykernel_launcher.py:11: SettingWithCopyWarning: \n",
      "A value is trying to be set on a copy of a slice from a DataFrame.\n",
      "Try using .loc[row_indexer,col_indexer] = value instead\n",
      "\n",
      "See the caveats in the documentation: http://pandas.pydata.org/pandas-docs/stable/indexing.html#indexing-view-versus-copy\n",
      "  # This is added back by InteractiveShellApp.init_path()\n",
      "/Users/Elise/miniconda2/envs/cs209/lib/python3.6/site-packages/sklearn/utils/validation.py:752: DataConversionWarning: A column-vector y was passed when a 1d array was expected. Please change the shape of y to (n_samples, ), for example using ravel().\n",
      "  y = column_or_1d(y, warn=True)\n",
      "/Users/Elise/miniconda2/envs/cs209/lib/python3.6/site-packages/sklearn/discriminant_analysis.py:388: UserWarning: Variables are collinear.\n",
      "  warnings.warn(\"Variables are collinear.\")\n",
      "/Users/Elise/miniconda2/envs/cs209/lib/python3.6/site-packages/sklearn/utils/validation.py:752: DataConversionWarning: A column-vector y was passed when a 1d array was expected. Please change the shape of y to (n_samples, ), for example using ravel().\n",
      "  y = column_or_1d(y, warn=True)\n",
      "/Users/Elise/miniconda2/envs/cs209/lib/python3.6/site-packages/sklearn/discriminant_analysis.py:686: UserWarning: Variables are collinear\n",
      "  warnings.warn(\"Variables are collinear\")\n",
      "/Users/Elise/miniconda2/envs/cs209/lib/python3.6/site-packages/sklearn/discriminant_analysis.py:686: UserWarning: Variables are collinear\n",
      "  warnings.warn(\"Variables are collinear\")\n",
      "/Users/Elise/miniconda2/envs/cs209/lib/python3.6/site-packages/ipykernel_launcher.py:15: DataConversionWarning: A column-vector y was passed when a 1d array was expected. Please change the shape of y to (n_samples, ), for example using ravel().\n",
      "  from ipykernel import kernelapp as app\n",
      "/Users/Elise/miniconda2/envs/cs209/lib/python3.6/site-packages/sklearn/ensemble/forest.py:248: FutureWarning: The default value of n_estimators will change from 10 in version 0.20 to 100 in 0.22.\n",
      "  \"10 in version 0.20 to 100 in 0.22.\", FutureWarning)\n",
      "/Users/Elise/miniconda2/envs/cs209/lib/python3.6/site-packages/ipykernel_launcher.py:15: DataConversionWarning: A column-vector y was passed when a 1d array was expected. Please change the shape of y to (n_samples,), for example using ravel().\n",
      "  from ipykernel import kernelapp as app\n"
     ]
    },
    {
     "name": "stdout",
     "output_type": "stream",
     "text": [
      "167 2436\n",
      "2436 2436\n",
      "167\n",
      "4872\n",
      "LDA\n",
      "Confusion Matrix: \n",
      " [[108  79]\n",
      " [  1 216]]\n",
      "12 12\n",
      "intercept = [0.25542603]\n",
      "[('national_poll', 0.2232829254488316), ('national_poll_prev', 0.028090182567320418), ('national_poll_delta_subtract', 0.09350855384816531), ('national_poll_delta_divide', -0.05809863226580876), ('dem_win_margin_prev', 2.456693749378716), ('rep_win_margin_prev', -4.825400971246671), ('margin_signed_minus_prev', 1.8747429991878204), ('margin_signed_divide_prev', -5.041546363531861e-10), ('margin_unsigned_minus_prev', -0.6477125105536784), ('margin_unsigned_divide_prev', 1.9082286179534593e-10), ('dem_win_prev', -0.7272752263023787), ('rep_win_prev', 0.7272752263023794)]\n",
      "QDA\n",
      "Confusion Matrix: \n",
      " [[187   0]\n",
      " [217   0]]\n",
      "doesnt have any coefficients\n",
      "kNN\n",
      "Confusion Matrix: \n",
      " [[164  23]\n",
      " [ 29 188]]\n",
      "doesnt have any coefficients\n",
      "Random Forest\n",
      "Confusion Matrix: \n",
      " [[184   3]\n",
      " [ 34 183]]\n",
      "doesnt have any coefficients\n",
      "AdaBoost\n"
     ]
    },
    {
     "name": "stderr",
     "output_type": "stream",
     "text": [
      "/Users/Elise/miniconda2/envs/cs209/lib/python3.6/site-packages/sklearn/utils/validation.py:752: DataConversionWarning: A column-vector y was passed when a 1d array was expected. Please change the shape of y to (n_samples, ), for example using ravel().\n",
      "  y = column_or_1d(y, warn=True)\n"
     ]
    },
    {
     "name": "stdout",
     "output_type": "stream",
     "text": [
      "Confusion Matrix: \n",
      " [[184   3]\n",
      " [ 36 181]]\n",
      "doesnt have any coefficients\n"
     ]
    },
    {
     "data": {
      "image/png": "[encoded data removed]",
      "text/plain": [
       "<Figure size 432x288 with 1 Axes>"
      ]
     },
     "metadata": {
      "needs_background": "light"
     },
     "output_type": "display_data"
    },
    {
     "data": {
      "image/png": "[encoded data removed]",
      "text/plain": [
       "<Figure size 432x288 with 1 Axes>"
      ]
     },
     "metadata": {
      "needs_background": "light"
     },
     "output_type": "display_data"
    },
    {
     "data": {
      "text/plain": [
       "{'LDA': LinearDiscriminantAnalysis(n_components=None, priors=None, shrinkage=None,\n",
       "               solver='svd', store_covariance=False, tol=0.0001),\n",
       " 'QDA': QuadraticDiscriminantAnalysis(priors=None, reg_param=0.0,\n",
       "                store_covariance=False, store_covariances=None, tol=0.0001),\n",
       " 'kNN': KNeighborsClassifier(algorithm='auto', leaf_size=30, metric='minkowski',\n",
       "            metric_params=None, n_jobs=4, n_neighbors=1, p=2,\n",
       "            weights='uniform'),\n",
       " 'Random Forest': RandomForestClassifier(bootstrap=True, class_weight=None, criterion='gini',\n",
       "             max_depth=None, max_features='auto', max_leaf_nodes=None,\n",
       "             min_impurity_decrease=0.0, min_impurity_split=None,\n",
       "             min_samples_leaf=1, min_samples_split=2,\n",
       "             min_weight_fraction_leaf=0.0, n_estimators=10, n_jobs=4,\n",
       "             oob_score=False, random_state=209, verbose=0, warm_start=False),\n",
       " 'AdaBoost': AdaBoostClassifier(algorithm='SAMME.R',\n",
       "           base_estimator=DecisionTreeClassifier(class_weight=None, criterion='gini', max_depth=10,\n",
       "             max_features=None, max_leaf_nodes=None,\n",
       "             min_impurity_decrease=0.0, min_impurity_split=None,\n",
       "             min_samples_leaf=1, min_samples_split=2,\n",
       "             min_weight_fraction_leaf=0.0, presort=False, random_state=None,\n",
       "             splitter='best'),\n",
       "           learning_rate=1.0, n_estimators=50, random_state=None)}"
      ]
     },
     "execution_count": 12,
     "metadata": {},
     "output_type": "execute_result"
    }
   ],
   "source": [
    "# specify columns to use and the file you want to read in \n",
    "filename = 'Datasets/data_FEC_NATIONALPOLL_2004_2018_REDISTRICTDROP.p'\n",
    "state_hot_encoder = False # some states get dropped so this leads to problems\n",
    "cols_to_use = ['national_poll', 'national_poll_prev',\n",
    "       'national_poll_delta_subtract', 'national_poll_delta_divide',\n",
    "       'dem_win_margin_prev', 'rep_win_margin_prev',\n",
    "       'margin_signed_minus_prev', 'margin_signed_divide_prev',\n",
    "       'margin_unsigned_minus_prev', 'margin_unsigned_divide_prev',\n",
    "       'dem_win_prev', 'rep_win_prev'] # all of them\n",
    "\n",
    "report_model_stats(filename, cols_to_use, y_col, model_dict, state_hot_encoder)"
   ]
  },
  {
   "cell_type": "markdown",
   "metadata": {},
   "source": [
    "### Selected columns in the full dataset, no demographics"
   ]
  },
  {
   "cell_type": "code",
   "execution_count": 13,
   "metadata": {
    "scrolled": true
   },
   "outputs": [
    {
     "name": "stderr",
     "output_type": "stream",
     "text": [
      "/Users/Elise/miniconda2/envs/cs209/lib/python3.6/site-packages/ipykernel_launcher.py:11: SettingWithCopyWarning: \n",
      "A value is trying to be set on a copy of a slice from a DataFrame.\n",
      "Try using .loc[row_indexer,col_indexer] = value instead\n",
      "\n",
      "See the caveats in the documentation: http://pandas.pydata.org/pandas-docs/stable/indexing.html#indexing-view-versus-copy\n",
      "  # This is added back by InteractiveShellApp.init_path()\n",
      "/Users/Elise/miniconda2/envs/cs209/lib/python3.6/site-packages/pandas/core/indexing.py:362: SettingWithCopyWarning: \n",
      "A value is trying to be set on a copy of a slice from a DataFrame.\n",
      "Try using .loc[row_indexer,col_indexer] = value instead\n",
      "\n",
      "See the caveats in the documentation: http://pandas.pydata.org/pandas-docs/stable/indexing.html#indexing-view-versus-copy\n",
      "  self.obj[key] = _infer_fill_value(value)\n",
      "/Users/Elise/miniconda2/envs/cs209/lib/python3.6/site-packages/pandas/core/indexing.py:543: SettingWithCopyWarning: \n",
      "A value is trying to be set on a copy of a slice from a DataFrame.\n",
      "Try using .loc[row_indexer,col_indexer] = value instead\n",
      "\n",
      "See the caveats in the documentation: http://pandas.pydata.org/pandas-docs/stable/indexing.html#indexing-view-versus-copy\n",
      "  self.obj[item] = s\n"
     ]
    },
    {
     "name": "stdout",
     "output_type": "stream",
     "text": [
      "240 2769\n",
      "2769 2769\n",
      "240\n",
      "5538\n",
      "LDA\n",
      "Confusion Matrix: \n",
      " [[135  61]\n",
      " [ 14 212]]\n",
      "51 51\n",
      "intercept = [-3.29533015]\n",
      "[('national_poll', 0.25428516201233126), ('margin_signed_minus_prev', 2.1298649889455348), ('state_AL', 1.4896426819043758), ('state_AR', 0.3503035043727226), ('state_AZ', 2.38112945279142), ('state_CA', 2.9436762274522783), ('state_CO', 2.7147815099712007), ('state_CT', 3.9699907423991148), ('state_DE', 4.939600855546366), ('state_FL', 2.7447313755486404), ('state_GA', 1.69866701568141), ('state_HI', 4.4734158373989406), ('state_IA', 2.0246448662975025), ('state_ID', 1.6280805734941852), ('state_IL', 2.827240396943392), ('state_IN', 1.6788682662625325), ('state_KS', 0.8917440965305583), ('state_KY', 1.7657064337495023), ('state_LA', 1.1052831209702259), ('state_MA', 4.266827825976973), ('state_MD', 3.8278009036216654), ('state_ME', 1.8035596726777636), ('state_MI', 1.815306216636956), ('state_MN', 2.762959871048975), ('state_MO', 1.1890606428134967), ('state_MS', 1.9550283121740333), ('state_MT', -0.13478942607904099), ('state_NC', 1.424250693658043), ('state_ND', 1.1827613864587794), ('state_NE', 1.4380731391266701), ('state_NH', 3.2195839348958546), ('state_NJ', 2.6548629801610226), ('state_NM', 2.895436655817712), ('state_NV', 2.888969575557039), ('state_NY', 2.7283458626765276), ('state_OH', 1.948171983416481), ('state_OK', 0.48031535716291784), ('state_OR', 3.707902233011306), ('state_PA', 1.774036431719208), ('state_RI', 4.504967461743746), ('state_SC', 1.0735704163777766), ('state_SD', 2.7780757984441076), ('state_TN', 1.053570169168398), ('state_TX', 0.9470361707401789), ('state_UT', 0.6104426473703699), ('state_VA', 2.2176496930151526), ('state_VT', 4.340053791724088), ('state_WA', 2.295930452548364), ('state_WI', 2.139507610160053), ('state_WV', 0.18362182819996145), ('state_WY', -0.0942709963350925)]\n",
      "QDA\n",
      "Confusion Matrix: \n",
      " [[193   3]\n",
      " [190  36]]\n",
      "doesnt have any coefficients\n",
      "kNN\n"
     ]
    },
    {
     "name": "stderr",
     "output_type": "stream",
     "text": [
      "/Users/Elise/miniconda2/envs/cs209/lib/python3.6/site-packages/sklearn/utils/validation.py:752: DataConversionWarning: A column-vector y was passed when a 1d array was expected. Please change the shape of y to (n_samples, ), for example using ravel().\n",
      "  y = column_or_1d(y, warn=True)\n",
      "/Users/Elise/miniconda2/envs/cs209/lib/python3.6/site-packages/sklearn/utils/validation.py:752: DataConversionWarning: A column-vector y was passed when a 1d array was expected. Please change the shape of y to (n_samples, ), for example using ravel().\n",
      "  y = column_or_1d(y, warn=True)\n",
      "/Users/Elise/miniconda2/envs/cs209/lib/python3.6/site-packages/sklearn/discriminant_analysis.py:686: UserWarning: Variables are collinear\n",
      "  warnings.warn(\"Variables are collinear\")\n",
      "/Users/Elise/miniconda2/envs/cs209/lib/python3.6/site-packages/sklearn/discriminant_analysis.py:686: UserWarning: Variables are collinear\n",
      "  warnings.warn(\"Variables are collinear\")\n",
      "/Users/Elise/miniconda2/envs/cs209/lib/python3.6/site-packages/ipykernel_launcher.py:15: DataConversionWarning: A column-vector y was passed when a 1d array was expected. Please change the shape of y to (n_samples, ), for example using ravel().\n",
      "  from ipykernel import kernelapp as app\n"
     ]
    },
    {
     "name": "stdout",
     "output_type": "stream",
     "text": [
      "Confusion Matrix: \n",
      " [[178  18]\n",
      " [ 37 189]]\n",
      "doesnt have any coefficients\n",
      "Random Forest\n"
     ]
    },
    {
     "name": "stderr",
     "output_type": "stream",
     "text": [
      "/Users/Elise/miniconda2/envs/cs209/lib/python3.6/site-packages/sklearn/ensemble/forest.py:248: FutureWarning: The default value of n_estimators will change from 10 in version 0.20 to 100 in 0.22.\n",
      "  \"10 in version 0.20 to 100 in 0.22.\", FutureWarning)\n",
      "/Users/Elise/miniconda2/envs/cs209/lib/python3.6/site-packages/ipykernel_launcher.py:15: DataConversionWarning: A column-vector y was passed when a 1d array was expected. Please change the shape of y to (n_samples,), for example using ravel().\n",
      "  from ipykernel import kernelapp as app\n"
     ]
    },
    {
     "name": "stdout",
     "output_type": "stream",
     "text": [
      "Confusion Matrix: \n",
      " [[183  13]\n",
      " [ 40 186]]\n",
      "doesnt have any coefficients\n",
      "AdaBoost\n"
     ]
    },
    {
     "name": "stderr",
     "output_type": "stream",
     "text": [
      "/Users/Elise/miniconda2/envs/cs209/lib/python3.6/site-packages/sklearn/utils/validation.py:752: DataConversionWarning: A column-vector y was passed when a 1d array was expected. Please change the shape of y to (n_samples, ), for example using ravel().\n",
      "  y = column_or_1d(y, warn=True)\n"
     ]
    },
    {
     "name": "stdout",
     "output_type": "stream",
     "text": [
      "Confusion Matrix: \n",
      " [[184  12]\n",
      " [ 39 187]]\n",
      "doesnt have any coefficients\n"
     ]
    },
    {
     "data": {
      "image/png": "[encoded data removed]",
      "text/plain": [
       "<Figure size 432x288 with 1 Axes>"
      ]
     },
     "metadata": {
      "needs_background": "light"
     },
     "output_type": "display_data"
    },
    {
     "data": {
      "image/png": "[encoded data removed]",
      "text/plain": [
       "<Figure size 432x288 with 1 Axes>"
      ]
     },
     "metadata": {
      "needs_background": "light"
     },
     "output_type": "display_data"
    },
    {
     "data": {
      "text/plain": [
       "{'LDA': LinearDiscriminantAnalysis(n_components=None, priors=None, shrinkage=None,\n",
       "               solver='svd', store_covariance=False, tol=0.0001),\n",
       " 'QDA': QuadraticDiscriminantAnalysis(priors=None, reg_param=0.0,\n",
       "                store_covariance=False, store_covariances=None, tol=0.0001),\n",
       " 'kNN': KNeighborsClassifier(algorithm='auto', leaf_size=30, metric='minkowski',\n",
       "            metric_params=None, n_jobs=4, n_neighbors=1, p=2,\n",
       "            weights='uniform'),\n",
       " 'Random Forest': RandomForestClassifier(bootstrap=True, class_weight=None, criterion='gini',\n",
       "             max_depth=None, max_features='auto', max_leaf_nodes=None,\n",
       "             min_impurity_decrease=0.0, min_impurity_split=None,\n",
       "             min_samples_leaf=1, min_samples_split=2,\n",
       "             min_weight_fraction_leaf=0.0, n_estimators=10, n_jobs=4,\n",
       "             oob_score=False, random_state=209, verbose=0, warm_start=False),\n",
       " 'AdaBoost': AdaBoostClassifier(algorithm='SAMME.R',\n",
       "           base_estimator=DecisionTreeClassifier(class_weight=None, criterion='gini', max_depth=10,\n",
       "             max_features=None, max_leaf_nodes=None,\n",
       "             min_impurity_decrease=0.0, min_impurity_split=None,\n",
       "             min_samples_leaf=1, min_samples_split=2,\n",
       "             min_weight_fraction_leaf=0.0, presort=False, random_state=None,\n",
       "             splitter='best'),\n",
       "           learning_rate=1.0, n_estimators=50, random_state=None)}"
      ]
     },
     "execution_count": 13,
     "metadata": {},
     "output_type": "execute_result"
    }
   ],
   "source": [
    "filename = 'Datasets/data_FEC_NATIONALPOLL_2004_2018.p'\n",
    "cols_to_use = ['national_poll', 'margin_signed_minus_prev']\n",
    "state_hot_encoder = True\n",
    "\n",
    "report_model_stats(filename, cols_to_use, y_col, model_dict, state_hot_encoder)"
   ]
  },
  {
   "cell_type": "markdown",
   "metadata": {},
   "source": [
    "### Selected columns in the full dataset, no demographics, dropping redistricted states"
   ]
  },
  {
   "cell_type": "code",
   "execution_count": 14,
   "metadata": {
    "scrolled": true
   },
   "outputs": [
    {
     "name": "stderr",
     "output_type": "stream",
     "text": [
      "/Users/Elise/miniconda2/envs/cs209/lib/python3.6/site-packages/ipykernel_launcher.py:11: SettingWithCopyWarning: \n",
      "A value is trying to be set on a copy of a slice from a DataFrame.\n",
      "Try using .loc[row_indexer,col_indexer] = value instead\n",
      "\n",
      "See the caveats in the documentation: http://pandas.pydata.org/pandas-docs/stable/indexing.html#indexing-view-versus-copy\n",
      "  # This is added back by InteractiveShellApp.init_path()\n",
      "/Users/Elise/miniconda2/envs/cs209/lib/python3.6/site-packages/sklearn/utils/validation.py:752: DataConversionWarning: A column-vector y was passed when a 1d array was expected. Please change the shape of y to (n_samples, ), for example using ravel().\n",
      "  y = column_or_1d(y, warn=True)\n",
      "/Users/Elise/miniconda2/envs/cs209/lib/python3.6/site-packages/sklearn/utils/validation.py:752: DataConversionWarning: A column-vector y was passed when a 1d array was expected. Please change the shape of y to (n_samples, ), for example using ravel().\n",
      "  y = column_or_1d(y, warn=True)\n",
      "/Users/Elise/miniconda2/envs/cs209/lib/python3.6/site-packages/ipykernel_launcher.py:15: DataConversionWarning: A column-vector y was passed when a 1d array was expected. Please change the shape of y to (n_samples, ), for example using ravel().\n",
      "  from ipykernel import kernelapp as app\n",
      "/Users/Elise/miniconda2/envs/cs209/lib/python3.6/site-packages/sklearn/ensemble/forest.py:248: FutureWarning: The default value of n_estimators will change from 10 in version 0.20 to 100 in 0.22.\n",
      "  \"10 in version 0.20 to 100 in 0.22.\", FutureWarning)\n",
      "/Users/Elise/miniconda2/envs/cs209/lib/python3.6/site-packages/ipykernel_launcher.py:15: DataConversionWarning: A column-vector y was passed when a 1d array was expected. Please change the shape of y to (n_samples,), for example using ravel().\n",
      "  from ipykernel import kernelapp as app\n"
     ]
    },
    {
     "name": "stdout",
     "output_type": "stream",
     "text": [
      "167 2436\n",
      "2436 2436\n",
      "167\n",
      "4872\n",
      "LDA\n",
      "Confusion Matrix: \n",
      " [[109  78]\n",
      " [  1 216]]\n",
      "2 2\n",
      "intercept = [-1.43441515]\n",
      "[('national_poll', 0.3208557710341452), ('margin_signed_minus_prev', 3.0890710703447564)]\n",
      "QDA\n",
      "Confusion Matrix: \n",
      " [[119  68]\n",
      " [  2 215]]\n",
      "doesnt have any coefficients\n",
      "kNN\n",
      "Confusion Matrix: \n",
      " [[176  11]\n",
      " [ 32 185]]\n",
      "doesnt have any coefficients\n",
      "Random Forest\n",
      "Confusion Matrix: \n",
      " [[171  16]\n",
      " [ 32 185]]\n",
      "doesnt have any coefficients\n",
      "AdaBoost\n"
     ]
    },
    {
     "name": "stderr",
     "output_type": "stream",
     "text": [
      "/Users/Elise/miniconda2/envs/cs209/lib/python3.6/site-packages/sklearn/utils/validation.py:752: DataConversionWarning: A column-vector y was passed when a 1d array was expected. Please change the shape of y to (n_samples, ), for example using ravel().\n",
      "  y = column_or_1d(y, warn=True)\n"
     ]
    },
    {
     "name": "stdout",
     "output_type": "stream",
     "text": [
      "Confusion Matrix: \n",
      " [[182   5]\n",
      " [ 32 185]]\n",
      "doesnt have any coefficients\n"
     ]
    },
    {
     "data": {
      "image/png": "[encoded data removed]",
      "text/plain": [
       "<Figure size 432x288 with 1 Axes>"
      ]
     },
     "metadata": {
      "needs_background": "light"
     },
     "output_type": "display_data"
    },
    {
     "data": {
      "image/png": "[encoded data removed]",
      "text/plain": [
       "<Figure size 432x288 with 1 Axes>"
      ]
     },
     "metadata": {
      "needs_background": "light"
     },
     "output_type": "display_data"
    },
    {
     "data": {
      "text/plain": [
       "{'LDA': LinearDiscriminantAnalysis(n_components=None, priors=None, shrinkage=None,\n",
       "               solver='svd', store_covariance=False, tol=0.0001),\n",
       " 'QDA': QuadraticDiscriminantAnalysis(priors=None, reg_param=0.0,\n",
       "                store_covariance=False, store_covariances=None, tol=0.0001),\n",
       " 'kNN': KNeighborsClassifier(algorithm='auto', leaf_size=30, metric='minkowski',\n",
       "            metric_params=None, n_jobs=4, n_neighbors=1, p=2,\n",
       "            weights='uniform'),\n",
       " 'Random Forest': RandomForestClassifier(bootstrap=True, class_weight=None, criterion='gini',\n",
       "             max_depth=None, max_features='auto', max_leaf_nodes=None,\n",
       "             min_impurity_decrease=0.0, min_impurity_split=None,\n",
       "             min_samples_leaf=1, min_samples_split=2,\n",
       "             min_weight_fraction_leaf=0.0, n_estimators=10, n_jobs=4,\n",
       "             oob_score=False, random_state=209, verbose=0, warm_start=False),\n",
       " 'AdaBoost': AdaBoostClassifier(algorithm='SAMME.R',\n",
       "           base_estimator=DecisionTreeClassifier(class_weight=None, criterion='gini', max_depth=10,\n",
       "             max_features=None, max_leaf_nodes=None,\n",
       "             min_impurity_decrease=0.0, min_impurity_split=None,\n",
       "             min_samples_leaf=1, min_samples_split=2,\n",
       "             min_weight_fraction_leaf=0.0, presort=False, random_state=None,\n",
       "             splitter='best'),\n",
       "           learning_rate=1.0, n_estimators=50, random_state=None)}"
      ]
     },
     "execution_count": 14,
     "metadata": {},
     "output_type": "execute_result"
    }
   ],
   "source": [
    "filename = 'Datasets/data_FEC_NATIONALPOLL_2004_2018_REDISTRICTDROP.p'\n",
    "cols_to_use = ['national_poll', 'margin_signed_minus_prev']\n",
    "state_hot_encoder = False\n",
    "\n",
    "report_model_stats(filename, cols_to_use, y_col, model_dict, state_hot_encoder)"
   ]
  },
  {
   "cell_type": "markdown",
   "metadata": {},
   "source": [
    "### Selected columns in the full dataset, no demographics, imputing redistricted states"
   ]
  },
  {
   "cell_type": "markdown",
   "metadata": {},
   "source": [
    "### Dataset since 2010, with demographics, nothing dropped"
   ]
  },
  {
   "cell_type": "markdown",
   "metadata": {},
   "source": [
    "columns in demographics\n",
    "\n",
    "\n",
    "['district', 'state', 'year', 'party', 'candidatevotes', 'totalvotes',\n",
    "       'candidate', 'national_poll', 'national_poll_prev',\n",
    "       'national_poll_delta_subtract', 'national_poll_delta_divide',\n",
    "       'previous_party', 'dem_win_margin_prev', 'rep_win_margin_prev',\n",
    "       'margin_signed_minus_prev', 'margin_signed_divide_prev',\n",
    "       'margin_unsigned_minus_prev', 'margin_unsigned_divide_prev',\n",
    "       'dem_win_prev', 'rep_win_prev', 'dem_win', 'rep_win', 'female_pct',\n",
    "       'age18_24_pct', 'age25_34_pct', 'median_age', 'unmarried_partner_pct',\n",
    "       'male_living_alone_pct', 'bachelors_deg_or_higher_pct',\n",
    "       'past_year_births_to_unmarried_women_pct', 'civilian_veteran_pct',\n",
    "       'live_same_house_past_year_pct',\n",
    "       'foreign_born_proportion_from_LatinAmerica',\n",
    "       'speak_other_language_at_home_pct', 'labor_force_unemployed_pct',\n",
    "       'public_transit_commuter_pct', 'no_health_insurance_pct',\n",
    "       'poverty_rate_pct', 'median_housing_value', 'median_household_income',\n",
    "       'food_stamp_benefits_pct', 'foreign_to_native_born_ratio']"
   ]
  },
  {
   "cell_type": "code",
   "execution_count": 15,
   "metadata": {},
   "outputs": [],
   "source": [
    "filename = 'Datasets/data_FEC_NATIONALPOLL_DEMOGRAPHICS_2010_2018.p'\n",
    "cols_to_use = ['national_poll', 'national_poll_prev', 'national_poll_delta_subtract', \n",
    "               'national_poll_delta_divide', 'dem_win_margin_prev', 'rep_win_margin_prev',\n",
    "               'margin_signed_minus_prev', 'margin_signed_divide_prev', \n",
    "               'margin_unsigned_minus_prev', 'margin_unsigned_divide_prev', \n",
    "               'dem_win_prev', 'rep_win_prev', 'female_pct', 'age18_24_pct', \n",
    "               'age25_34_pct', 'median_age', 'unmarried_partner_pct', \n",
    "               'male_living_alone_pct', 'bachelors_deg_or_higher_pct', \n",
    "               'civilian_veteran_pct', #'past_year_births_to_unmarried_women_pct', # has a string in it\n",
    "               'live_same_house_past_year_pct', \n",
    "               'foreign_born_proportion_from_LatinAmerica', \n",
    "               'speak_other_language_at_home_pct', 'labor_force_unemployed_pct', \n",
    "               'public_transit_commuter_pct', 'no_health_insurance_pct', \n",
    "                'poverty_rate_pct', 'median_household_income', # 'median_housing_value', # has a string in it\n",
    "                'food_stamp_benefits_pct', 'foreign_to_native_born_ratio' \n",
    "              ] # everything"
   ]
  },
  {
   "cell_type": "code",
   "execution_count": 16,
   "metadata": {
    "scrolled": true
   },
   "outputs": [
    {
     "name": "stderr",
     "output_type": "stream",
     "text": [
      "/Users/Elise/miniconda2/envs/cs209/lib/python3.6/site-packages/ipykernel_launcher.py:11: SettingWithCopyWarning: \n",
      "A value is trying to be set on a copy of a slice from a DataFrame.\n",
      "Try using .loc[row_indexer,col_indexer] = value instead\n",
      "\n",
      "See the caveats in the documentation: http://pandas.pydata.org/pandas-docs/stable/indexing.html#indexing-view-versus-copy\n",
      "  # This is added back by InteractiveShellApp.init_path()\n",
      "/Users/Elise/miniconda2/envs/cs209/lib/python3.6/site-packages/sklearn/utils/validation.py:752: DataConversionWarning: A column-vector y was passed when a 1d array was expected. Please change the shape of y to (n_samples, ), for example using ravel().\n",
      "  y = column_or_1d(y, warn=True)\n",
      "/Users/Elise/miniconda2/envs/cs209/lib/python3.6/site-packages/sklearn/discriminant_analysis.py:388: UserWarning: Variables are collinear.\n",
      "  warnings.warn(\"Variables are collinear.\")\n",
      "/Users/Elise/miniconda2/envs/cs209/lib/python3.6/site-packages/sklearn/utils/validation.py:752: DataConversionWarning: A column-vector y was passed when a 1d array was expected. Please change the shape of y to (n_samples, ), for example using ravel().\n",
      "  y = column_or_1d(y, warn=True)\n",
      "/Users/Elise/miniconda2/envs/cs209/lib/python3.6/site-packages/sklearn/discriminant_analysis.py:686: UserWarning: Variables are collinear\n",
      "  warnings.warn(\"Variables are collinear\")\n",
      "/Users/Elise/miniconda2/envs/cs209/lib/python3.6/site-packages/sklearn/discriminant_analysis.py:686: UserWarning: Variables are collinear\n",
      "  warnings.warn(\"Variables are collinear\")\n",
      "/Users/Elise/miniconda2/envs/cs209/lib/python3.6/site-packages/ipykernel_launcher.py:15: DataConversionWarning: A column-vector y was passed when a 1d array was expected. Please change the shape of y to (n_samples, ), for example using ravel().\n",
      "  from ipykernel import kernelapp as app\n",
      "/Users/Elise/miniconda2/envs/cs209/lib/python3.6/site-packages/sklearn/ensemble/forest.py:248: FutureWarning: The default value of n_estimators will change from 10 in version 0.20 to 100 in 0.22.\n",
      "  \"10 in version 0.20 to 100 in 0.22.\", FutureWarning)\n",
      "/Users/Elise/miniconda2/envs/cs209/lib/python3.6/site-packages/ipykernel_launcher.py:15: DataConversionWarning: A column-vector y was passed when a 1d array was expected. Please change the shape of y to (n_samples,), for example using ravel().\n",
      "  from ipykernel import kernelapp as app\n"
     ]
    },
    {
     "name": "stdout",
     "output_type": "stream",
     "text": [
      "161 1543\n",
      "1543 1543\n",
      "161\n",
      "3086\n",
      "LDA\n",
      "Confusion Matrix: \n",
      " [[  0 196]\n",
      " [  0 226]]\n",
      "30 30\n",
      "intercept = [-92.34255018]\n",
      "[('national_poll', 6.632098550561639), ('national_poll_prev', 2.095038629250995), ('national_poll_delta_subtract', -0.37294422679779604), ('national_poll_delta_divide', -5.898761330632282), ('dem_win_margin_prev', 3.796147359229101), ('rep_win_margin_prev', -0.5843590967034293), ('margin_signed_minus_prev', 1.113067369281726), ('margin_signed_divide_prev', -4.771167853290745e-10), ('margin_unsigned_minus_prev', -0.5979235293093627), ('margin_unsigned_divide_prev', 3.121490160932841e-10), ('dem_win_prev', -0.8844172052948356), ('rep_win_prev', 0.8844172052948469), ('female_pct', 0.7237370737495383), ('age18_24_pct', 0.3038300534158499), ('age25_34_pct', 0.243339024940537), ('median_age', 0.0614354220295754), ('unmarried_partner_pct', 1.7470781477301789), ('male_living_alone_pct', 0.22739001560567815), ('bachelors_deg_or_higher_pct', 0.07735537772743808), ('civilian_veteran_pct', 0.10606944240727824), ('live_same_house_past_year_pct', 0.19048472586170445), ('foreign_born_proportion_from_LatinAmerica', 0.014144688883376319), ('speak_other_language_at_home_pct', 0.09631584412878555), ('labor_force_unemployed_pct', 0.3579469410654378), ('public_transit_commuter_pct', -0.05652801396885312), ('no_health_insurance_pct', -0.09291443277411052), ('poverty_rate_pct', 0.04335998292268482), ('median_household_income', 5.501578116435568e-05), ('food_stamp_benefits_pct', 0.15006385064469963), ('foreign_to_native_born_ratio', -0.08893304634160296)]\n",
      "QDA\n",
      "Confusion Matrix: \n",
      " [[  2 194]\n",
      " [  3 223]]\n",
      "doesnt have any coefficients\n",
      "kNN\n",
      "Confusion Matrix: \n",
      " [[136  60]\n",
      " [110 116]]\n",
      "doesnt have any coefficients\n",
      "Random Forest\n",
      "Confusion Matrix: \n",
      " [[192   4]\n",
      " [ 45 181]]\n",
      "doesnt have any coefficients\n",
      "AdaBoost\n"
     ]
    },
    {
     "name": "stderr",
     "output_type": "stream",
     "text": [
      "/Users/Elise/miniconda2/envs/cs209/lib/python3.6/site-packages/sklearn/utils/validation.py:752: DataConversionWarning: A column-vector y was passed when a 1d array was expected. Please change the shape of y to (n_samples, ), for example using ravel().\n",
      "  y = column_or_1d(y, warn=True)\n"
     ]
    },
    {
     "name": "stdout",
     "output_type": "stream",
     "text": [
      "Confusion Matrix: \n",
      " [[192   4]\n",
      " [ 45 181]]\n",
      "doesnt have any coefficients\n"
     ]
    },
    {
     "data": {
      "image/png": "[encoded data removed]",
      "text/plain": [
       "<Figure size 432x288 with 1 Axes>"
      ]
     },
     "metadata": {
      "needs_background": "light"
     },
     "output_type": "display_data"
    },
    {
     "data": {
      "image/png": "[encoded data removed]",
      "text/plain": [
       "<Figure size 432x288 with 1 Axes>"
      ]
     },
     "metadata": {
      "needs_background": "light"
     },
     "output_type": "display_data"
    },
    {
     "data": {
      "text/plain": [
       "{'LDA': LinearDiscriminantAnalysis(n_components=None, priors=None, shrinkage=None,\n",
       "               solver='svd', store_covariance=False, tol=0.0001),\n",
       " 'QDA': QuadraticDiscriminantAnalysis(priors=None, reg_param=0.0,\n",
       "                store_covariance=False, store_covariances=None, tol=0.0001),\n",
       " 'kNN': KNeighborsClassifier(algorithm='auto', leaf_size=30, metric='minkowski',\n",
       "            metric_params=None, n_jobs=4, n_neighbors=1, p=2,\n",
       "            weights='uniform'),\n",
       " 'Random Forest': RandomForestClassifier(bootstrap=True, class_weight=None, criterion='gini',\n",
       "             max_depth=None, max_features='auto', max_leaf_nodes=None,\n",
       "             min_impurity_decrease=0.0, min_impurity_split=None,\n",
       "             min_samples_leaf=1, min_samples_split=2,\n",
       "             min_weight_fraction_leaf=0.0, n_estimators=10, n_jobs=4,\n",
       "             oob_score=False, random_state=209, verbose=0, warm_start=False),\n",
       " 'AdaBoost': AdaBoostClassifier(algorithm='SAMME.R',\n",
       "           base_estimator=DecisionTreeClassifier(class_weight=None, criterion='gini', max_depth=10,\n",
       "             max_features=None, max_leaf_nodes=None,\n",
       "             min_impurity_decrease=0.0, min_impurity_split=None,\n",
       "             min_samples_leaf=1, min_samples_split=2,\n",
       "             min_weight_fraction_leaf=0.0, presort=False, random_state=None,\n",
       "             splitter='best'),\n",
       "           learning_rate=1.0, n_estimators=50, random_state=None)}"
      ]
     },
     "execution_count": 16,
     "metadata": {},
     "output_type": "execute_result"
    }
   ],
   "source": [
    "# specify columns to use and the file you want to read in \n",
    "\n",
    "filename = 'Datasets/data_FEC_NATIONALPOLL_DEMOGRAPHICS_2010_2018.p'\n",
    "#cols_to_use = [] # todo\n",
    "state_hot_encoder = False\n",
    "\n",
    "report_model_stats(filename, cols_to_use, y_col, model_dict, state_hot_encoder)"
   ]
  },
  {
   "cell_type": "markdown",
   "metadata": {},
   "source": [
    "### Dataset since 2010, with demographics, dropping redistricted states"
   ]
  },
  {
   "cell_type": "code",
   "execution_count": 17,
   "metadata": {
    "scrolled": true
   },
   "outputs": [
    {
     "name": "stderr",
     "output_type": "stream",
     "text": [
      "/Users/Elise/miniconda2/envs/cs209/lib/python3.6/site-packages/ipykernel_launcher.py:11: SettingWithCopyWarning: \n",
      "A value is trying to be set on a copy of a slice from a DataFrame.\n",
      "Try using .loc[row_indexer,col_indexer] = value instead\n",
      "\n",
      "See the caveats in the documentation: http://pandas.pydata.org/pandas-docs/stable/indexing.html#indexing-view-versus-copy\n",
      "  # This is added back by InteractiveShellApp.init_path()\n",
      "/Users/Elise/miniconda2/envs/cs209/lib/python3.6/site-packages/sklearn/utils/validation.py:752: DataConversionWarning: A column-vector y was passed when a 1d array was expected. Please change the shape of y to (n_samples, ), for example using ravel().\n",
      "  y = column_or_1d(y, warn=True)\n",
      "/Users/Elise/miniconda2/envs/cs209/lib/python3.6/site-packages/sklearn/discriminant_analysis.py:388: UserWarning: Variables are collinear.\n",
      "  warnings.warn(\"Variables are collinear.\")\n",
      "/Users/Elise/miniconda2/envs/cs209/lib/python3.6/site-packages/sklearn/utils/validation.py:752: DataConversionWarning: A column-vector y was passed when a 1d array was expected. Please change the shape of y to (n_samples, ), for example using ravel().\n",
      "  y = column_or_1d(y, warn=True)\n",
      "/Users/Elise/miniconda2/envs/cs209/lib/python3.6/site-packages/sklearn/discriminant_analysis.py:686: UserWarning: Variables are collinear\n",
      "  warnings.warn(\"Variables are collinear\")\n",
      "/Users/Elise/miniconda2/envs/cs209/lib/python3.6/site-packages/sklearn/discriminant_analysis.py:686: UserWarning: Variables are collinear\n",
      "  warnings.warn(\"Variables are collinear\")\n",
      "/Users/Elise/miniconda2/envs/cs209/lib/python3.6/site-packages/ipykernel_launcher.py:15: DataConversionWarning: A column-vector y was passed when a 1d array was expected. Please change the shape of y to (n_samples, ), for example using ravel().\n",
      "  from ipykernel import kernelapp as app\n",
      "/Users/Elise/miniconda2/envs/cs209/lib/python3.6/site-packages/sklearn/ensemble/forest.py:248: FutureWarning: The default value of n_estimators will change from 10 in version 0.20 to 100 in 0.22.\n",
      "  \"10 in version 0.20 to 100 in 0.22.\", FutureWarning)\n",
      "/Users/Elise/miniconda2/envs/cs209/lib/python3.6/site-packages/ipykernel_launcher.py:15: DataConversionWarning: A column-vector y was passed when a 1d array was expected. Please change the shape of y to (n_samples,), for example using ravel().\n",
      "  from ipykernel import kernelapp as app\n"
     ]
    },
    {
     "name": "stdout",
     "output_type": "stream",
     "text": [
      "96 1249\n",
      "1249 1249\n",
      "96\n",
      "2498\n",
      "LDA\n",
      "Confusion Matrix: \n",
      " [[  0 187]\n",
      " [  0 217]]\n",
      "30 30\n",
      "intercept = [-82.69687614]\n",
      "[('national_poll', 11.921884624739587), ('national_poll_prev', 4.255705899391635), ('national_poll_delta_subtract', -0.22875999712911216), ('national_poll_delta_divide', -11.335492994312371), ('dem_win_margin_prev', 0.13860492795876916), ('rep_win_margin_prev', -5.533824769540108), ('margin_signed_minus_prev', 1.41843116358162), ('margin_signed_divide_prev', -4.4682806676992907e-10), ('margin_unsigned_minus_prev', -0.3579620341077738), ('margin_unsigned_divide_prev', 2.2980349407784642e-10), ('dem_win_prev', -0.5610216417168062), ('rep_win_prev', 0.5610216417168352), ('female_pct', 0.748128757285405), ('age18_24_pct', 0.3575956367555972), ('age25_34_pct', 0.2964081240149877), ('median_age', 0.06915151565338788), ('unmarried_partner_pct', 1.4262065095064722), ('male_living_alone_pct', 0.0667831490442927), ('bachelors_deg_or_higher_pct', 0.033068172635469385), ('civilian_veteran_pct', -0.022043268575187423), ('live_same_house_past_year_pct', 0.08013317844258937), ('foreign_born_proportion_from_LatinAmerica', -0.000738457527334291), ('speak_other_language_at_home_pct', 0.08626068249685216), ('labor_force_unemployed_pct', 0.5233907442315855), ('public_transit_commuter_pct', -0.02126587996454185), ('no_health_insurance_pct', -0.08913410921941156), ('poverty_rate_pct', -0.006346739580241796), ('median_household_income', 4.264909524356128e-05), ('food_stamp_benefits_pct', 0.10346392011580313), ('foreign_to_native_born_ratio', -0.5847711556421558)]\n",
      "QDA\n",
      "Confusion Matrix: \n",
      " [[ 15 172]\n",
      " [  0 217]]\n",
      "doesnt have any coefficients\n",
      "kNN\n",
      "Confusion Matrix: \n",
      " [[133  54]\n",
      " [109 108]]\n",
      "doesnt have any coefficients\n",
      "Random Forest\n",
      "Confusion Matrix: \n",
      " [[187   0]\n",
      " [ 41 176]]\n",
      "doesnt have any coefficients\n",
      "AdaBoost\n"
     ]
    },
    {
     "name": "stderr",
     "output_type": "stream",
     "text": [
      "/Users/Elise/miniconda2/envs/cs209/lib/python3.6/site-packages/sklearn/utils/validation.py:752: DataConversionWarning: A column-vector y was passed when a 1d array was expected. Please change the shape of y to (n_samples, ), for example using ravel().\n",
      "  y = column_or_1d(y, warn=True)\n"
     ]
    },
    {
     "name": "stdout",
     "output_type": "stream",
     "text": [
      "Confusion Matrix: \n",
      " [[185   2]\n",
      " [ 38 179]]\n",
      "doesnt have any coefficients\n"
     ]
    },
    {
     "data": {
      "image/png": "[encoded data removed]",
      "text/plain": [
       "<Figure size 432x288 with 1 Axes>"
      ]
     },
     "metadata": {
      "needs_background": "light"
     },
     "output_type": "display_data"
    },
    {
     "data": {
      "image/png": "[encoded data removed]",
      "text/plain": [
       "<Figure size 432x288 with 1 Axes>"
      ]
     },
     "metadata": {
      "needs_background": "light"
     },
     "output_type": "display_data"
    },
    {
     "data": {
      "text/plain": [
       "{'LDA': LinearDiscriminantAnalysis(n_components=None, priors=None, shrinkage=None,\n",
       "               solver='svd', store_covariance=False, tol=0.0001),\n",
       " 'QDA': QuadraticDiscriminantAnalysis(priors=None, reg_param=0.0,\n",
       "                store_covariance=False, store_covariances=None, tol=0.0001),\n",
       " 'kNN': KNeighborsClassifier(algorithm='auto', leaf_size=30, metric='minkowski',\n",
       "            metric_params=None, n_jobs=4, n_neighbors=1, p=2,\n",
       "            weights='uniform'),\n",
       " 'Random Forest': RandomForestClassifier(bootstrap=True, class_weight=None, criterion='gini',\n",
       "             max_depth=None, max_features='auto', max_leaf_nodes=None,\n",
       "             min_impurity_decrease=0.0, min_impurity_split=None,\n",
       "             min_samples_leaf=1, min_samples_split=2,\n",
       "             min_weight_fraction_leaf=0.0, n_estimators=10, n_jobs=4,\n",
       "             oob_score=False, random_state=209, verbose=0, warm_start=False),\n",
       " 'AdaBoost': AdaBoostClassifier(algorithm='SAMME.R',\n",
       "           base_estimator=DecisionTreeClassifier(class_weight=None, criterion='gini', max_depth=10,\n",
       "             max_features=None, max_leaf_nodes=None,\n",
       "             min_impurity_decrease=0.0, min_impurity_split=None,\n",
       "             min_samples_leaf=1, min_samples_split=2,\n",
       "             min_weight_fraction_leaf=0.0, presort=False, random_state=None,\n",
       "             splitter='best'),\n",
       "           learning_rate=1.0, n_estimators=50, random_state=None)}"
      ]
     },
     "execution_count": 17,
     "metadata": {},
     "output_type": "execute_result"
    }
   ],
   "source": [
    "# specify columns to use and the file you want to read in \n",
    "\n",
    "filename = 'Datasets/data_FEC_NATIONALPOLL_DEMOGRAPHICS_2010_2018_REDISTRICTDROP.p'\n",
    "cols_to_use = ['national_poll', 'national_poll_prev', 'national_poll_delta_subtract', \n",
    "               'national_poll_delta_divide', 'dem_win_margin_prev', 'rep_win_margin_prev',\n",
    "               'margin_signed_minus_prev', 'margin_signed_divide_prev', \n",
    "               'margin_unsigned_minus_prev', 'margin_unsigned_divide_prev', \n",
    "               'dem_win_prev', 'rep_win_prev', 'female_pct', 'age18_24_pct', \n",
    "               'age25_34_pct', 'median_age', 'unmarried_partner_pct', \n",
    "               'male_living_alone_pct', 'bachelors_deg_or_higher_pct', \n",
    "               'civilian_veteran_pct', #'past_year_births_to_unmarried_women_pct', # has a string in it\n",
    "               'live_same_house_past_year_pct', \n",
    "               'foreign_born_proportion_from_LatinAmerica', \n",
    "               'speak_other_language_at_home_pct', 'labor_force_unemployed_pct', \n",
    "               'public_transit_commuter_pct', 'no_health_insurance_pct', \n",
    "                'poverty_rate_pct', 'median_household_income', # 'median_housing_value', # has a string in it\n",
    "                'food_stamp_benefits_pct', 'foreign_to_native_born_ratio' \n",
    "              ] # everything\n",
    "state_hot_encoder = False\n",
    "\n",
    "report_model_stats(filename, cols_to_use, y_col, model_dict, state_hot_encoder)"
   ]
  },
  {
   "cell_type": "markdown",
   "metadata": {},
   "source": [
    "### Selected columns in dataset since 2010, with demographics, nothing dropped"
   ]
  },
  {
   "cell_type": "code",
   "execution_count": 18,
   "metadata": {
    "scrolled": true
   },
   "outputs": [
    {
     "name": "stderr",
     "output_type": "stream",
     "text": [
      "/Users/Elise/miniconda2/envs/cs209/lib/python3.6/site-packages/ipykernel_launcher.py:11: SettingWithCopyWarning: \n",
      "A value is trying to be set on a copy of a slice from a DataFrame.\n",
      "Try using .loc[row_indexer,col_indexer] = value instead\n",
      "\n",
      "See the caveats in the documentation: http://pandas.pydata.org/pandas-docs/stable/indexing.html#indexing-view-versus-copy\n",
      "  # This is added back by InteractiveShellApp.init_path()\n",
      "/Users/Elise/miniconda2/envs/cs209/lib/python3.6/site-packages/pandas/core/indexing.py:362: SettingWithCopyWarning: \n",
      "A value is trying to be set on a copy of a slice from a DataFrame.\n",
      "Try using .loc[row_indexer,col_indexer] = value instead\n",
      "\n",
      "See the caveats in the documentation: http://pandas.pydata.org/pandas-docs/stable/indexing.html#indexing-view-versus-copy\n",
      "  self.obj[key] = _infer_fill_value(value)\n",
      "/Users/Elise/miniconda2/envs/cs209/lib/python3.6/site-packages/pandas/core/indexing.py:543: SettingWithCopyWarning: \n",
      "A value is trying to be set on a copy of a slice from a DataFrame.\n",
      "Try using .loc[row_indexer,col_indexer] = value instead\n",
      "\n",
      "See the caveats in the documentation: http://pandas.pydata.org/pandas-docs/stable/indexing.html#indexing-view-versus-copy\n",
      "  self.obj[item] = s\n"
     ]
    },
    {
     "name": "stdout",
     "output_type": "stream",
     "text": [
      "161 1543\n",
      "1543 1543\n",
      "161\n",
      "3086\n",
      "LDA\n",
      "Confusion Matrix: \n",
      " [[144  52]\n",
      " [ 17 209]]\n",
      "60 60\n",
      "intercept = [-35.29566865]\n",
      "[('national_poll', 0.4270730580132056), ('margin_signed_minus_prev', 2.238325872765932), ('dem_win_prev', -1.0811315741364167), ('female_pct', 0.5495737863746157), ('civilian_veteran_pct', -0.22789688297015934), ('foreign_to_native_born_ratio', 2.4438507197851256), ('labor_force_unemployed_pct', 0.41048981682325825), ('age18_24_pct', 0.16629948563284302), ('bachelors_deg_or_higher_pct', 0.06297911105487417), ('age25_34_pct', 0.32860981093667413), ('median_household_income', -4.429500433074558e-05), ('state_AL', -0.7075323505813425), ('state_AR', -1.4797569782879827), ('state_AZ', 1.3557061106885393), ('state_CA', 1.0515636454482038), ('state_CO', 0.4759275193352338), ('state_CT', 5.544536365014308), ('state_DE', 7.190380571941546), ('state_FL', 1.137929423614355), ('state_GA', -0.7691852586310544), ('state_HI', 7.170536909009612), ('state_IA', 0.6764674274436403), ('state_ID', -0.3772101392130715), ('state_IL', 1.116942995950196), ('state_IN', -0.3821655183602327), ('state_KS', -1.7785733468885547), ('state_KY', -1.0488426853302946), ('state_LA', -1.1632588617286497), ('state_MA', 4.308125226541861), ('state_MD', 4.235674439611991), ('state_ME', 2.0307648150375686), ('state_MI', 0.23366854316774913), ('state_MN', 3.814378088213326), ('state_MO', 0.2318239425406851), ('state_MS', -1.1576617178367916), ('state_MT', -0.6567030969591077), ('state_NC', -0.8371816996075865), ('state_ND', 0.4167162630065967), ('state_NE', 0.18641191498501664), ('state_NH', 3.1288231027711757), ('state_NJ', 1.3344431899653042), ('state_NM', 1.8536371743610018), ('state_NV', 1.226147606900329), ('state_NY', 1.077459848374593), ('state_OH', -0.4044923845369839), ('state_OK', -0.6978572396454512), ('state_OR', 4.167522845802502), ('state_PA', 0.08815985910334659), ('state_RI', 4.835923627488062), ('state_SC', -1.320562472396272), ('state_SD', 0.22500184844151022), ('state_TN', -0.9250433019967363), ('state_TX', -0.3407379005843598), ('state_UT', -2.342028570858653), ('state_VA', 1.0018627811481786), ('state_VT', 6.150947758763248), ('state_WA', 1.9439220148296077), ('state_WI', 1.3536417265332727), ('state_WV', -0.45794321387241677), ('state_WY', 0.11109967385513642)]\n",
      "QDA\n",
      "Confusion Matrix: \n",
      " [[ 80 116]\n",
      " [ 16 210]]\n",
      "doesnt have any coefficients\n",
      "kNN\n",
      "Confusion Matrix: \n",
      " [[120  76]\n",
      " [124 102]]\n",
      "doesnt have any coefficients\n",
      "Random Forest\n"
     ]
    },
    {
     "name": "stderr",
     "output_type": "stream",
     "text": [
      "/Users/Elise/miniconda2/envs/cs209/lib/python3.6/site-packages/sklearn/utils/validation.py:752: DataConversionWarning: A column-vector y was passed when a 1d array was expected. Please change the shape of y to (n_samples, ), for example using ravel().\n",
      "  y = column_or_1d(y, warn=True)\n",
      "/Users/Elise/miniconda2/envs/cs209/lib/python3.6/site-packages/sklearn/utils/validation.py:752: DataConversionWarning: A column-vector y was passed when a 1d array was expected. Please change the shape of y to (n_samples, ), for example using ravel().\n",
      "  y = column_or_1d(y, warn=True)\n",
      "/Users/Elise/miniconda2/envs/cs209/lib/python3.6/site-packages/sklearn/discriminant_analysis.py:686: UserWarning: Variables are collinear\n",
      "  warnings.warn(\"Variables are collinear\")\n",
      "/Users/Elise/miniconda2/envs/cs209/lib/python3.6/site-packages/sklearn/discriminant_analysis.py:686: UserWarning: Variables are collinear\n",
      "  warnings.warn(\"Variables are collinear\")\n",
      "/Users/Elise/miniconda2/envs/cs209/lib/python3.6/site-packages/ipykernel_launcher.py:15: DataConversionWarning: A column-vector y was passed when a 1d array was expected. Please change the shape of y to (n_samples, ), for example using ravel().\n",
      "  from ipykernel import kernelapp as app\n",
      "/Users/Elise/miniconda2/envs/cs209/lib/python3.6/site-packages/sklearn/ensemble/forest.py:248: FutureWarning: The default value of n_estimators will change from 10 in version 0.20 to 100 in 0.22.\n",
      "  \"10 in version 0.20 to 100 in 0.22.\", FutureWarning)\n",
      "/Users/Elise/miniconda2/envs/cs209/lib/python3.6/site-packages/ipykernel_launcher.py:15: DataConversionWarning: A column-vector y was passed when a 1d array was expected. Please change the shape of y to (n_samples,), for example using ravel().\n",
      "  from ipykernel import kernelapp as app\n"
     ]
    },
    {
     "name": "stdout",
     "output_type": "stream",
     "text": [
      "Confusion Matrix: \n",
      " [[192   4]\n",
      " [ 47 179]]\n",
      "doesnt have any coefficients\n",
      "AdaBoost\n"
     ]
    },
    {
     "name": "stderr",
     "output_type": "stream",
     "text": [
      "/Users/Elise/miniconda2/envs/cs209/lib/python3.6/site-packages/sklearn/utils/validation.py:752: DataConversionWarning: A column-vector y was passed when a 1d array was expected. Please change the shape of y to (n_samples, ), for example using ravel().\n",
      "  y = column_or_1d(y, warn=True)\n"
     ]
    },
    {
     "name": "stdout",
     "output_type": "stream",
     "text": [
      "Confusion Matrix: \n",
      " [[191   5]\n",
      " [ 43 183]]\n",
      "doesnt have any coefficients\n"
     ]
    },
    {
     "data": {
      "image/png": "[encoded data removed]",
      "text/plain": [
       "<Figure size 432x288 with 1 Axes>"
      ]
     },
     "metadata": {
      "needs_background": "light"
     },
     "output_type": "display_data"
    },
    {
     "data": {
      "image/png": "[encoded data removed]",
      "text/plain": [
       "<Figure size 432x288 with 1 Axes>"
      ]
     },
     "metadata": {
      "needs_background": "light"
     },
     "output_type": "display_data"
    },
    {
     "data": {
      "text/plain": [
       "{'LDA': LinearDiscriminantAnalysis(n_components=None, priors=None, shrinkage=None,\n",
       "               solver='svd', store_covariance=False, tol=0.0001),\n",
       " 'QDA': QuadraticDiscriminantAnalysis(priors=None, reg_param=0.0,\n",
       "                store_covariance=False, store_covariances=None, tol=0.0001),\n",
       " 'kNN': KNeighborsClassifier(algorithm='auto', leaf_size=30, metric='minkowski',\n",
       "            metric_params=None, n_jobs=4, n_neighbors=1, p=2,\n",
       "            weights='uniform'),\n",
       " 'Random Forest': RandomForestClassifier(bootstrap=True, class_weight=None, criterion='gini',\n",
       "             max_depth=None, max_features='auto', max_leaf_nodes=None,\n",
       "             min_impurity_decrease=0.0, min_impurity_split=None,\n",
       "             min_samples_leaf=1, min_samples_split=2,\n",
       "             min_weight_fraction_leaf=0.0, n_estimators=10, n_jobs=4,\n",
       "             oob_score=False, random_state=209, verbose=0, warm_start=False),\n",
       " 'AdaBoost': AdaBoostClassifier(algorithm='SAMME.R',\n",
       "           base_estimator=DecisionTreeClassifier(class_weight=None, criterion='gini', max_depth=10,\n",
       "             max_features=None, max_leaf_nodes=None,\n",
       "             min_impurity_decrease=0.0, min_impurity_split=None,\n",
       "             min_samples_leaf=1, min_samples_split=2,\n",
       "             min_weight_fraction_leaf=0.0, presort=False, random_state=None,\n",
       "             splitter='best'),\n",
       "           learning_rate=1.0, n_estimators=50, random_state=None)}"
      ]
     },
     "execution_count": 18,
     "metadata": {},
     "output_type": "execute_result"
    }
   ],
   "source": [
    "# specify columns to use and the file you want to read in \n",
    "\n",
    "filename = 'Datasets/data_FEC_NATIONALPOLL_DEMOGRAPHICS_2010_2018.p'\n",
    "cols_to_use = ['national_poll', 'margin_signed_minus_prev', 'dem_win_prev', \n",
    "               'female_pct', 'civilian_veteran_pct', 'foreign_to_native_born_ratio', 'labor_force_unemployed_pct',\n",
    "               'age18_24_pct', 'bachelors_deg_or_higher_pct', 'age25_34_pct', 'median_household_income']\n",
    "state_hot_encoder = True\n",
    "\n",
    "report_model_stats(filename, cols_to_use, y_col, model_dict, state_hot_encoder)"
   ]
  },
  {
   "cell_type": "markdown",
   "metadata": {},
   "source": [
    "### Selected columns in dataset since 2010, with demographics, dropping redistricted states"
   ]
  },
  {
   "cell_type": "code",
   "execution_count": 19,
   "metadata": {
    "scrolled": true
   },
   "outputs": [
    {
     "name": "stderr",
     "output_type": "stream",
     "text": [
      "/Users/Elise/miniconda2/envs/cs209/lib/python3.6/site-packages/ipykernel_launcher.py:11: SettingWithCopyWarning: \n",
      "A value is trying to be set on a copy of a slice from a DataFrame.\n",
      "Try using .loc[row_indexer,col_indexer] = value instead\n",
      "\n",
      "See the caveats in the documentation: http://pandas.pydata.org/pandas-docs/stable/indexing.html#indexing-view-versus-copy\n",
      "  # This is added back by InteractiveShellApp.init_path()\n",
      "/Users/Elise/miniconda2/envs/cs209/lib/python3.6/site-packages/sklearn/utils/validation.py:752: DataConversionWarning: A column-vector y was passed when a 1d array was expected. Please change the shape of y to (n_samples, ), for example using ravel().\n",
      "  y = column_or_1d(y, warn=True)\n",
      "/Users/Elise/miniconda2/envs/cs209/lib/python3.6/site-packages/sklearn/utils/validation.py:752: DataConversionWarning: A column-vector y was passed when a 1d array was expected. Please change the shape of y to (n_samples, ), for example using ravel().\n",
      "  y = column_or_1d(y, warn=True)\n",
      "/Users/Elise/miniconda2/envs/cs209/lib/python3.6/site-packages/ipykernel_launcher.py:15: DataConversionWarning: A column-vector y was passed when a 1d array was expected. Please change the shape of y to (n_samples, ), for example using ravel().\n",
      "  from ipykernel import kernelapp as app\n",
      "/Users/Elise/miniconda2/envs/cs209/lib/python3.6/site-packages/sklearn/ensemble/forest.py:248: FutureWarning: The default value of n_estimators will change from 10 in version 0.20 to 100 in 0.22.\n",
      "  \"10 in version 0.20 to 100 in 0.22.\", FutureWarning)\n",
      "/Users/Elise/miniconda2/envs/cs209/lib/python3.6/site-packages/ipykernel_launcher.py:15: DataConversionWarning: A column-vector y was passed when a 1d array was expected. Please change the shape of y to (n_samples,), for example using ravel().\n",
      "  from ipykernel import kernelapp as app\n"
     ]
    },
    {
     "name": "stdout",
     "output_type": "stream",
     "text": [
      "161 1543\n",
      "1543 1543\n",
      "161\n",
      "3086\n",
      "LDA\n",
      "Confusion Matrix: \n",
      " [[107  89]\n",
      " [  9 217]]\n",
      "11 11\n",
      "intercept = [-28.35589426]\n",
      "[('national_poll', 0.43335281431464334), ('margin_signed_minus_prev', 2.6184419539472583), ('dem_win_prev', -1.0314192196289795), ('female_pct', 0.3900407510962509), ('civilian_veteran_pct', -0.044159916924638894), ('foreign_to_native_born_ratio', 3.728762292979682), ('labor_force_unemployed_pct', 0.4093296450194648), ('age18_24_pct', 0.22351368435574775), ('bachelors_deg_or_higher_pct', 0.08272956982078616), ('age25_34_pct', 0.1679044008630018), ('median_household_income', -2.1856239995645213e-05)]\n",
      "QDA\n",
      "Confusion Matrix: \n",
      " [[178  18]\n",
      " [ 62 164]]\n",
      "doesnt have any coefficients\n",
      "kNN\n",
      "Confusion Matrix: \n",
      " [[120  76]\n",
      " [124 102]]\n",
      "doesnt have any coefficients\n",
      "Random Forest\n",
      "Confusion Matrix: \n",
      " [[190   6]\n",
      " [ 49 177]]\n",
      "doesnt have any coefficients\n",
      "AdaBoost\n"
     ]
    },
    {
     "name": "stderr",
     "output_type": "stream",
     "text": [
      "/Users/Elise/miniconda2/envs/cs209/lib/python3.6/site-packages/sklearn/utils/validation.py:752: DataConversionWarning: A column-vector y was passed when a 1d array was expected. Please change the shape of y to (n_samples, ), for example using ravel().\n",
      "  y = column_or_1d(y, warn=True)\n"
     ]
    },
    {
     "name": "stdout",
     "output_type": "stream",
     "text": [
      "Confusion Matrix: \n",
      " [[192   4]\n",
      " [ 45 181]]\n",
      "doesnt have any coefficients\n"
     ]
    },
    {
     "data": {
      "image/png": "[encoded data removed]",
      "text/plain": [
       "<Figure size 432x288 with 1 Axes>"
      ]
     },
     "metadata": {
      "needs_background": "light"
     },
     "output_type": "display_data"
    },
    {
     "data": {
      "image/png": "[encoded data removed]",
      "text/plain": [
       "<Figure size 432x288 with 1 Axes>"
      ]
     },
     "metadata": {
      "needs_background": "light"
     },
     "output_type": "display_data"
    },
    {
     "data": {
      "text/plain": [
       "{'LDA': LinearDiscriminantAnalysis(n_components=None, priors=None, shrinkage=None,\n",
       "               solver='svd', store_covariance=False, tol=0.0001),\n",
       " 'QDA': QuadraticDiscriminantAnalysis(priors=None, reg_param=0.0,\n",
       "                store_covariance=False, store_covariances=None, tol=0.0001),\n",
       " 'kNN': KNeighborsClassifier(algorithm='auto', leaf_size=30, metric='minkowski',\n",
       "            metric_params=None, n_jobs=4, n_neighbors=1, p=2,\n",
       "            weights='uniform'),\n",
       " 'Random Forest': RandomForestClassifier(bootstrap=True, class_weight=None, criterion='gini',\n",
       "             max_depth=None, max_features='auto', max_leaf_nodes=None,\n",
       "             min_impurity_decrease=0.0, min_impurity_split=None,\n",
       "             min_samples_leaf=1, min_samples_split=2,\n",
       "             min_weight_fraction_leaf=0.0, n_estimators=10, n_jobs=4,\n",
       "             oob_score=False, random_state=209, verbose=0, warm_start=False),\n",
       " 'AdaBoost': AdaBoostClassifier(algorithm='SAMME.R',\n",
       "           base_estimator=DecisionTreeClassifier(class_weight=None, criterion='gini', max_depth=10,\n",
       "             max_features=None, max_leaf_nodes=None,\n",
       "             min_impurity_decrease=0.0, min_impurity_split=None,\n",
       "             min_samples_leaf=1, min_samples_split=2,\n",
       "             min_weight_fraction_leaf=0.0, presort=False, random_state=None,\n",
       "             splitter='best'),\n",
       "           learning_rate=1.0, n_estimators=50, random_state=None)}"
      ]
     },
     "execution_count": 19,
     "metadata": {},
     "output_type": "execute_result"
    }
   ],
   "source": [
    "# specify columns to use and the file you want to read in \n",
    "\n",
    "filename = 'Datasets/data_FEC_NATIONALPOLL_DEMOGRAPHICS_2010_2018.p'\n",
    "cols_to_use = ['national_poll', 'margin_signed_minus_prev', 'dem_win_prev', \n",
    "               'female_pct', 'civilian_veteran_pct', 'foreign_to_native_born_ratio', 'labor_force_unemployed_pct',\n",
    "               'age18_24_pct', 'bachelors_deg_or_higher_pct', 'age25_34_pct', 'median_household_income'] \n",
    "state_hot_encoder = False\n",
    "\n",
    "report_model_stats(filename, cols_to_use, y_col, model_dict, state_hot_encoder)"
   ]
  },
  {
   "cell_type": "markdown",
   "metadata": {},
   "source": [
    "## Impute 2010 data into all non-redistricted districts in prior years. "
   ]
  },
  {
   "cell_type": "markdown",
   "metadata": {},
   "source": [
    "### Dataset since 2004, with demographics imputed, redistrited states not dropped"
   ]
  },
  {
   "cell_type": "code",
   "execution_count": 20,
   "metadata": {},
   "outputs": [
    {
     "name": "stderr",
     "output_type": "stream",
     "text": [
      "/Users/Elise/miniconda2/envs/cs209/lib/python3.6/site-packages/ipykernel_launcher.py:11: SettingWithCopyWarning: \n",
      "A value is trying to be set on a copy of a slice from a DataFrame.\n",
      "Try using .loc[row_indexer,col_indexer] = value instead\n",
      "\n",
      "See the caveats in the documentation: http://pandas.pydata.org/pandas-docs/stable/indexing.html#indexing-view-versus-copy\n",
      "  # This is added back by InteractiveShellApp.init_path()\n",
      "/Users/Elise/miniconda2/envs/cs209/lib/python3.6/site-packages/pandas/core/indexing.py:362: SettingWithCopyWarning: \n",
      "A value is trying to be set on a copy of a slice from a DataFrame.\n",
      "Try using .loc[row_indexer,col_indexer] = value instead\n",
      "\n",
      "See the caveats in the documentation: http://pandas.pydata.org/pandas-docs/stable/indexing.html#indexing-view-versus-copy\n",
      "  self.obj[key] = _infer_fill_value(value)\n",
      "/Users/Elise/miniconda2/envs/cs209/lib/python3.6/site-packages/pandas/core/indexing.py:543: SettingWithCopyWarning: \n",
      "A value is trying to be set on a copy of a slice from a DataFrame.\n",
      "Try using .loc[row_indexer,col_indexer] = value instead\n",
      "\n",
      "See the caveats in the documentation: http://pandas.pydata.org/pandas-docs/stable/indexing.html#indexing-view-versus-copy\n",
      "  self.obj[item] = s\n"
     ]
    },
    {
     "name": "stdout",
     "output_type": "stream",
     "text": [
      "240 2769\n",
      "2769 2769\n",
      "240\n",
      "5538\n",
      "LDA\n",
      "Confusion Matrix: \n",
      " [[146  50]\n",
      " [ 30 196]]\n",
      "60 60\n",
      "intercept = [-21.97322539]\n",
      "[('national_poll', 0.238900300435072), ('margin_signed_minus_prev', 2.573340278011968), ('dem_win_prev', -1.2984023921140464), ('female_pct', 0.33803413907092095), ('civilian_veteran_pct', -0.15646789016651455), ('foreign_to_native_born_ratio', 0.9185489250680121), ('labor_force_unemployed_pct', 0.0809671719877518), ('age18_24_pct', 0.12298011116422411), ('bachelors_deg_or_higher_pct', 0.02027931211480154), ('age25_34_pct', 0.2692581928465084), ('median_household_income', -3.150542389177055e-05), ('state_AL', 0.7264411350367226), ('state_AR', -0.18650816387002872), ('state_AZ', 2.322144961397205), ('state_CA', 2.02243958558113), ('state_CO', 2.193175931678793), ('state_CT', 4.188278378774096), ('state_DE', 5.762591396903991), ('state_FL', 1.9018783761116507), ('state_GA', 0.8135980769129014), ('state_HI', 5.79558483253841), ('state_IA', 1.3009956271361656), ('state_ID', 1.3468459372753916), ('state_IL', 1.7660306176287435), ('state_IN', 0.799811811928354), ('state_KS', 0.22225196566309605), ('state_KY', 0.8465819874050327), ('state_LA', -0.7739280815686352), ('state_MA', 4.140695035200055), ('state_MD', 3.8781597793016287), ('state_ME', 3.6227292832879003), ('state_MI', 1.2083569941153187), ('state_MN', 3.134421812689694), ('state_MO', 0.7183964539307615), ('state_MS', 0.7344094718581293), ('state_MT', -0.7816119995837797), ('state_NC', 0.7515951128927019), ('state_ND', 1.0056502128766307), ('state_NE', 0.6552937799640064), ('state_NH', 3.9260936308961583), ('state_NJ', 2.2428719013090364), ('state_NM', 2.258691301876572), ('state_NV', 2.9421617072384274), ('state_NY', 2.2387002645377443), ('state_OH', 0.9116703333145945), ('state_OK', -0.3596918237759197), ('state_OR', 3.824148520987194), ('state_PA', 1.7054971099903582), ('state_RI', 4.473412743335823), ('state_SC', -0.0485604610989587), ('state_SD', 2.4338393982673727), ('state_TN', 0.2343276710687503), ('state_TX', -0.14303977969157694), ('state_UT', -1.026849724376146), ('state_VA', 1.7882093772468661), ('state_VT', 5.223052026513351), ('state_WA', 2.351398304482233), ('state_WI', 2.1631943066774584), ('state_WV', 0.17224093421151104), ('state_WY', -0.6027218481422143)]\n",
      "QDA\n",
      "Confusion Matrix: \n",
      " [[189   7]\n",
      " [166  60]]\n",
      "doesnt have any coefficients\n",
      "kNN\n"
     ]
    },
    {
     "name": "stderr",
     "output_type": "stream",
     "text": [
      "/Users/Elise/miniconda2/envs/cs209/lib/python3.6/site-packages/sklearn/utils/validation.py:752: DataConversionWarning: A column-vector y was passed when a 1d array was expected. Please change the shape of y to (n_samples, ), for example using ravel().\n",
      "  y = column_or_1d(y, warn=True)\n",
      "/Users/Elise/miniconda2/envs/cs209/lib/python3.6/site-packages/sklearn/utils/validation.py:752: DataConversionWarning: A column-vector y was passed when a 1d array was expected. Please change the shape of y to (n_samples, ), for example using ravel().\n",
      "  y = column_or_1d(y, warn=True)\n",
      "/Users/Elise/miniconda2/envs/cs209/lib/python3.6/site-packages/sklearn/discriminant_analysis.py:686: UserWarning: Variables are collinear\n",
      "  warnings.warn(\"Variables are collinear\")\n",
      "/Users/Elise/miniconda2/envs/cs209/lib/python3.6/site-packages/sklearn/discriminant_analysis.py:686: UserWarning: Variables are collinear\n",
      "  warnings.warn(\"Variables are collinear\")\n",
      "/Users/Elise/miniconda2/envs/cs209/lib/python3.6/site-packages/ipykernel_launcher.py:15: DataConversionWarning: A column-vector y was passed when a 1d array was expected. Please change the shape of y to (n_samples, ), for example using ravel().\n",
      "  from ipykernel import kernelapp as app\n"
     ]
    },
    {
     "name": "stdout",
     "output_type": "stream",
     "text": [
      "Confusion Matrix: \n",
      " [[117  79]\n",
      " [120 106]]\n",
      "doesnt have any coefficients\n",
      "Random Forest\n"
     ]
    },
    {
     "name": "stderr",
     "output_type": "stream",
     "text": [
      "/Users/Elise/miniconda2/envs/cs209/lib/python3.6/site-packages/sklearn/ensemble/forest.py:248: FutureWarning: The default value of n_estimators will change from 10 in version 0.20 to 100 in 0.22.\n",
      "  \"10 in version 0.20 to 100 in 0.22.\", FutureWarning)\n",
      "/Users/Elise/miniconda2/envs/cs209/lib/python3.6/site-packages/ipykernel_launcher.py:15: DataConversionWarning: A column-vector y was passed when a 1d array was expected. Please change the shape of y to (n_samples,), for example using ravel().\n",
      "  from ipykernel import kernelapp as app\n"
     ]
    },
    {
     "name": "stdout",
     "output_type": "stream",
     "text": [
      "Confusion Matrix: \n",
      " [[192   4]\n",
      " [ 48 178]]\n",
      "doesnt have any coefficients\n",
      "AdaBoost\n"
     ]
    },
    {
     "name": "stderr",
     "output_type": "stream",
     "text": [
      "/Users/Elise/miniconda2/envs/cs209/lib/python3.6/site-packages/sklearn/utils/validation.py:752: DataConversionWarning: A column-vector y was passed when a 1d array was expected. Please change the shape of y to (n_samples, ), for example using ravel().\n",
      "  y = column_or_1d(y, warn=True)\n"
     ]
    },
    {
     "name": "stdout",
     "output_type": "stream",
     "text": [
      "Confusion Matrix: \n",
      " [[191   5]\n",
      " [ 44 182]]\n",
      "doesnt have any coefficients\n"
     ]
    },
    {
     "data": {
      "image/png": "[encoded data removed]",
      "text/plain": [
       "<Figure size 432x288 with 1 Axes>"
      ]
     },
     "metadata": {
      "needs_background": "light"
     },
     "output_type": "display_data"
    },
    {
     "data": {
      "image/png": "[encoded data removed]",
      "text/plain": [
       "<Figure size 432x288 with 1 Axes>"
      ]
     },
     "metadata": {
      "needs_background": "light"
     },
     "output_type": "display_data"
    },
    {
     "data": {
      "text/plain": [
       "{'LDA': LinearDiscriminantAnalysis(n_components=None, priors=None, shrinkage=None,\n",
       "               solver='svd', store_covariance=False, tol=0.0001),\n",
       " 'QDA': QuadraticDiscriminantAnalysis(priors=None, reg_param=0.0,\n",
       "                store_covariance=False, store_covariances=None, tol=0.0001),\n",
       " 'kNN': KNeighborsClassifier(algorithm='auto', leaf_size=30, metric='minkowski',\n",
       "            metric_params=None, n_jobs=4, n_neighbors=1, p=2,\n",
       "            weights='uniform'),\n",
       " 'Random Forest': RandomForestClassifier(bootstrap=True, class_weight=None, criterion='gini',\n",
       "             max_depth=None, max_features='auto', max_leaf_nodes=None,\n",
       "             min_impurity_decrease=0.0, min_impurity_split=None,\n",
       "             min_samples_leaf=1, min_samples_split=2,\n",
       "             min_weight_fraction_leaf=0.0, n_estimators=10, n_jobs=4,\n",
       "             oob_score=False, random_state=209, verbose=0, warm_start=False),\n",
       " 'AdaBoost': AdaBoostClassifier(algorithm='SAMME.R',\n",
       "           base_estimator=DecisionTreeClassifier(class_weight=None, criterion='gini', max_depth=10,\n",
       "             max_features=None, max_leaf_nodes=None,\n",
       "             min_impurity_decrease=0.0, min_impurity_split=None,\n",
       "             min_samples_leaf=1, min_samples_split=2,\n",
       "             min_weight_fraction_leaf=0.0, presort=False, random_state=None,\n",
       "             splitter='best'),\n",
       "           learning_rate=1.0, n_estimators=50, random_state=None)}"
      ]
     },
     "execution_count": 20,
     "metadata": {},
     "output_type": "execute_result"
    }
   ],
   "source": [
    "filename = 'Datasets/data_FEC_NATIONALPOLL_DEMOGRAPHICSIMPUTED_2004_2018.p'\n",
    "cols_to_use = ['national_poll', 'margin_signed_minus_prev', 'dem_win_prev', \n",
    "               'female_pct', 'civilian_veteran_pct', 'foreign_to_native_born_ratio', 'labor_force_unemployed_pct',\n",
    "               'age18_24_pct', 'bachelors_deg_or_higher_pct', 'age25_34_pct', 'median_household_income']\n",
    "state_hot_encoder = True\n",
    "report_model_stats(filename, cols_to_use, y_col, model_dict, state_hot_encoder)"
   ]
  },
  {
   "cell_type": "markdown",
   "metadata": {},
   "source": [
    "### Dataset since 2004, with demographics imputed, redistrited states dropped"
   ]
  },
  {
   "cell_type": "code",
   "execution_count": 21,
   "metadata": {
    "scrolled": false
   },
   "outputs": [
    {
     "name": "stderr",
     "output_type": "stream",
     "text": [
      "/Users/Elise/miniconda2/envs/cs209/lib/python3.6/site-packages/ipykernel_launcher.py:11: SettingWithCopyWarning: \n",
      "A value is trying to be set on a copy of a slice from a DataFrame.\n",
      "Try using .loc[row_indexer,col_indexer] = value instead\n",
      "\n",
      "See the caveats in the documentation: http://pandas.pydata.org/pandas-docs/stable/indexing.html#indexing-view-versus-copy\n",
      "  # This is added back by InteractiveShellApp.init_path()\n",
      "/Users/Elise/miniconda2/envs/cs209/lib/python3.6/site-packages/sklearn/utils/validation.py:752: DataConversionWarning: A column-vector y was passed when a 1d array was expected. Please change the shape of y to (n_samples, ), for example using ravel().\n",
      "  y = column_or_1d(y, warn=True)\n",
      "/Users/Elise/miniconda2/envs/cs209/lib/python3.6/site-packages/sklearn/utils/validation.py:752: DataConversionWarning: A column-vector y was passed when a 1d array was expected. Please change the shape of y to (n_samples, ), for example using ravel().\n",
      "  y = column_or_1d(y, warn=True)\n",
      "/Users/Elise/miniconda2/envs/cs209/lib/python3.6/site-packages/ipykernel_launcher.py:15: DataConversionWarning: A column-vector y was passed when a 1d array was expected. Please change the shape of y to (n_samples, ), for example using ravel().\n",
      "  from ipykernel import kernelapp as app\n",
      "/Users/Elise/miniconda2/envs/cs209/lib/python3.6/site-packages/sklearn/ensemble/forest.py:248: FutureWarning: The default value of n_estimators will change from 10 in version 0.20 to 100 in 0.22.\n",
      "  \"10 in version 0.20 to 100 in 0.22.\", FutureWarning)\n",
      "/Users/Elise/miniconda2/envs/cs209/lib/python3.6/site-packages/ipykernel_launcher.py:15: DataConversionWarning: A column-vector y was passed when a 1d array was expected. Please change the shape of y to (n_samples,), for example using ravel().\n",
      "  from ipykernel import kernelapp as app\n"
     ]
    },
    {
     "name": "stdout",
     "output_type": "stream",
     "text": [
      "167 2436\n",
      "2436 2436\n",
      "167\n",
      "4872\n",
      "LDA\n",
      "Confusion Matrix: \n",
      " [[127  60]\n",
      " [  3 214]]\n",
      "11 11\n",
      "intercept = [-13.95131761]\n",
      "[('national_poll', 0.3068663491347293), ('margin_signed_minus_prev', 3.9160279275824093), ('dem_win_prev', -1.0436956894249398), ('female_pct', 0.19502611733966696), ('civilian_veteran_pct', -0.051693866748734676), ('foreign_to_native_born_ratio', 1.3103125898339116), ('labor_force_unemployed_pct', 0.0913944976943209), ('age18_24_pct', 0.10605681658299697), ('bachelors_deg_or_higher_pct', 0.02276288799265526), ('age25_34_pct', 0.06761442661088365), ('median_household_income', 6.91535033687296e-06)]\n",
      "QDA\n",
      "Confusion Matrix: \n",
      " [[165  22]\n",
      " [ 28 189]]\n",
      "doesnt have any coefficients\n",
      "kNN\n",
      "Confusion Matrix: \n",
      " [[111  76]\n",
      " [116 101]]\n",
      "doesnt have any coefficients\n",
      "Random Forest\n",
      "Confusion Matrix: \n",
      " [[186   1]\n",
      " [ 41 176]]\n",
      "doesnt have any coefficients\n",
      "AdaBoost\n"
     ]
    },
    {
     "name": "stderr",
     "output_type": "stream",
     "text": [
      "/Users/Elise/miniconda2/envs/cs209/lib/python3.6/site-packages/sklearn/utils/validation.py:752: DataConversionWarning: A column-vector y was passed when a 1d array was expected. Please change the shape of y to (n_samples, ), for example using ravel().\n",
      "  y = column_or_1d(y, warn=True)\n"
     ]
    },
    {
     "name": "stdout",
     "output_type": "stream",
     "text": [
      "Confusion Matrix: \n",
      " [[185   2]\n",
      " [ 35 182]]\n",
      "doesnt have any coefficients\n"
     ]
    },
    {
     "data": {
      "image/png": "[encoded data removed]",
      "text/plain": [
       "<Figure size 432x288 with 1 Axes>"
      ]
     },
     "metadata": {
      "needs_background": "light"
     },
     "output_type": "display_data"
    },
    {
     "data": {
      "image/png": "[encoded data removed]",
      "text/plain": [
       "<Figure size 432x288 with 1 Axes>"
      ]
     },
     "metadata": {
      "needs_background": "light"
     },
     "output_type": "display_data"
    },
    {
     "data": {
      "text/plain": [
       "{'LDA': LinearDiscriminantAnalysis(n_components=None, priors=None, shrinkage=None,\n",
       "               solver='svd', store_covariance=False, tol=0.0001),\n",
       " 'QDA': QuadraticDiscriminantAnalysis(priors=None, reg_param=0.0,\n",
       "                store_covariance=False, store_covariances=None, tol=0.0001),\n",
       " 'kNN': KNeighborsClassifier(algorithm='auto', leaf_size=30, metric='minkowski',\n",
       "            metric_params=None, n_jobs=4, n_neighbors=1, p=2,\n",
       "            weights='uniform'),\n",
       " 'Random Forest': RandomForestClassifier(bootstrap=True, class_weight=None, criterion='gini',\n",
       "             max_depth=None, max_features='auto', max_leaf_nodes=None,\n",
       "             min_impurity_decrease=0.0, min_impurity_split=None,\n",
       "             min_samples_leaf=1, min_samples_split=2,\n",
       "             min_weight_fraction_leaf=0.0, n_estimators=10, n_jobs=4,\n",
       "             oob_score=False, random_state=209, verbose=0, warm_start=False),\n",
       " 'AdaBoost': AdaBoostClassifier(algorithm='SAMME.R',\n",
       "           base_estimator=DecisionTreeClassifier(class_weight=None, criterion='gini', max_depth=10,\n",
       "             max_features=None, max_leaf_nodes=None,\n",
       "             min_impurity_decrease=0.0, min_impurity_split=None,\n",
       "             min_samples_leaf=1, min_samples_split=2,\n",
       "             min_weight_fraction_leaf=0.0, presort=False, random_state=None,\n",
       "             splitter='best'),\n",
       "           learning_rate=1.0, n_estimators=50, random_state=None)}"
      ]
     },
     "execution_count": 21,
     "metadata": {},
     "output_type": "execute_result"
    }
   ],
   "source": [
    "filename = 'Datasets/data_FEC_NATIONALPOLL_DEMOGRAPHICSIMPUTED_2004_2018_REDISTRICTDROP.p'\n",
    "cols_to_use = ['national_poll', 'margin_signed_minus_prev', 'dem_win_prev', \n",
    "               'female_pct', 'civilian_veteran_pct', 'foreign_to_native_born_ratio', 'labor_force_unemployed_pct',\n",
    "               'age18_24_pct', 'bachelors_deg_or_higher_pct', 'age25_34_pct', 'median_household_income']\n",
    "state_hot_encoder = False\n",
    "report_model_stats(filename, cols_to_use, y_col, model_dict, state_hot_encoder)"
   ]
  },
  {
   "cell_type": "markdown",
   "metadata": {},
   "source": [
    "Idea: variable which is # of tims a district flipped in prior years... or something"
   ]
  },
  {
   "cell_type": "code",
   "execution_count": null,
   "metadata": {},
   "outputs": [],
   "source": []
  },
  {
   "cell_type": "markdown",
   "metadata": {},
   "source": [
    "## Try different k's for kNN "
   ]
  },
  {
   "cell_type": "code",
   "execution_count": 22,
   "metadata": {},
   "outputs": [
    {
     "data": {
      "text/plain": [
       "['national_poll',\n",
       " 'margin_signed_minus_prev',\n",
       " 'dem_win_prev',\n",
       " 'female_pct',\n",
       " 'civilian_veteran_pct',\n",
       " 'foreign_to_native_born_ratio',\n",
       " 'labor_force_unemployed_pct',\n",
       " 'age18_24_pct',\n",
       " 'bachelors_deg_or_higher_pct',\n",
       " 'age25_34_pct',\n",
       " 'median_household_income',\n",
       " 'latitude',\n",
       " 'longitude']"
      ]
     },
     "execution_count": 22,
     "metadata": {},
     "output_type": "execute_result"
    }
   ],
   "source": [
    "cols_to_use.append('latitude')\n",
    "cols_to_use.append('longitude')\n",
    "cols_to_use"
   ]
  },
  {
   "cell_type": "code",
   "execution_count": 23,
   "metadata": {},
   "outputs": [
    {
     "name": "stderr",
     "output_type": "stream",
     "text": [
      "/Users/Elise/miniconda2/envs/cs209/lib/python3.6/site-packages/ipykernel_launcher.py:11: SettingWithCopyWarning: \n",
      "A value is trying to be set on a copy of a slice from a DataFrame.\n",
      "Try using .loc[row_indexer,col_indexer] = value instead\n",
      "\n",
      "See the caveats in the documentation: http://pandas.pydata.org/pandas-docs/stable/indexing.html#indexing-view-versus-copy\n",
      "  # This is added back by InteractiveShellApp.init_path()\n"
     ]
    },
    {
     "name": "stdout",
     "output_type": "stream",
     "text": [
      "167 2436\n",
      "2436 2436\n",
      "167\n",
      "4872\n"
     ]
    },
    {
     "ename": "TypeError",
     "evalue": "unhashable type: 'dict'",
     "output_type": "error",
     "traceback": [
      "\u001b[0;31m---------------------------------------------------------------------------\u001b[0m",
      "\u001b[0;31mTypeError\u001b[0m                                 Traceback (most recent call last)",
      "\u001b[0;32m<ipython-input-23-87ceb3df47f7>\u001b[0m in \u001b[0;36m<module>\u001b[0;34m\u001b[0m\n\u001b[1;32m     18\u001b[0m     \u001b[0mmodel_dict\u001b[0m\u001b[0;34m[\u001b[0m\u001b[0;34m'knn{}'\u001b[0m\u001b[0;34m.\u001b[0m\u001b[0mformat\u001b[0m\u001b[0;34m(\u001b[0m\u001b[0mka\u001b[0m\u001b[0;34m)\u001b[0m\u001b[0;34m]\u001b[0m \u001b[0;34m=\u001b[0m \u001b[0mKNeighborsClassifier\u001b[0m\u001b[0;34m(\u001b[0m\u001b[0mn_neighbors\u001b[0m\u001b[0;34m=\u001b[0m\u001b[0mka\u001b[0m\u001b[0;34m,\u001b[0m\u001b[0mn_jobs\u001b[0m\u001b[0;34m=\u001b[0m\u001b[0;36m4\u001b[0m\u001b[0;34m,\u001b[0m \u001b[0mmetric\u001b[0m\u001b[0;34m=\u001b[0m\u001b[0mmydist\u001b[0m\u001b[0;34m)\u001b[0m\u001b[0;34m\u001b[0m\u001b[0;34m\u001b[0m\u001b[0m\n\u001b[1;32m     19\u001b[0m \u001b[0;34m\u001b[0m\u001b[0m\n\u001b[0;32m---> 20\u001b[0;31m \u001b[0mfitted_models\u001b[0m \u001b[0;34m=\u001b[0m \u001b[0mreport_model_stats\u001b[0m\u001b[0;34m(\u001b[0m\u001b[0mfilename\u001b[0m\u001b[0;34m,\u001b[0m \u001b[0mcols_to_use\u001b[0m\u001b[0;34m,\u001b[0m \u001b[0mmodel_dict\u001b[0m\u001b[0;34m,\u001b[0m \u001b[0mstate_hot_encoder\u001b[0m\u001b[0;34m)\u001b[0m\u001b[0;34m\u001b[0m\u001b[0;34m\u001b[0m\u001b[0m\n\u001b[0m",
      "\u001b[0;32m<ipython-input-9-511cad8ebb68>\u001b[0m in \u001b[0;36mreport_model_stats\u001b[0;34m(filename, x_cols, y_col, model_dict, state_hot_encoder)\u001b[0m\n\u001b[1;32m      5\u001b[0m     \u001b[0;31m# read in the desired data\u001b[0m\u001b[0;34m\u001b[0m\u001b[0;34m\u001b[0m\u001b[0;34m\u001b[0m\u001b[0m\n\u001b[1;32m      6\u001b[0m     \u001b[0mX_train\u001b[0m\u001b[0;34m,\u001b[0m\u001b[0my_train\u001b[0m\u001b[0;34m,\u001b[0m \u001b[0mX_test\u001b[0m\u001b[0;34m,\u001b[0m\u001b[0my_test\u001b[0m\u001b[0;34m,\u001b[0m \u001b[0mflip_train\u001b[0m\u001b[0;34m,\u001b[0m\u001b[0mflip_test\u001b[0m \u001b[0;34m=\u001b[0m\u001b[0;31m \u001b[0m\u001b[0;31m\\\u001b[0m\u001b[0;34m\u001b[0m\u001b[0;34m\u001b[0m\u001b[0m\n\u001b[0;32m----> 7\u001b[0;31m         \u001b[0mformat_model_input\u001b[0m\u001b[0;34m(\u001b[0m\u001b[0mfilename\u001b[0m\u001b[0;34m,\u001b[0m \u001b[0mcols_to_use\u001b[0m\u001b[0;34m,\u001b[0m \u001b[0my_col\u001b[0m\u001b[0;34m,\u001b[0m \u001b[0mstate_hot_encoder\u001b[0m\u001b[0;34m)\u001b[0m\u001b[0;34m\u001b[0m\u001b[0;34m\u001b[0m\u001b[0m\n\u001b[0m\u001b[1;32m      8\u001b[0m \u001b[0;34m\u001b[0m\u001b[0m\n\u001b[1;32m      9\u001b[0m     \u001b[0mfitted_model_dict\u001b[0m \u001b[0;34m=\u001b[0m \u001b[0;34m{\u001b[0m\u001b[0;34m}\u001b[0m\u001b[0;34m\u001b[0m\u001b[0;34m\u001b[0m\u001b[0m\n",
      "\u001b[0;32m<ipython-input-6-a2d50b7a9f19>\u001b[0m in \u001b[0;36mformat_model_input\u001b[0;34m(filename, x_cols, y_col, state_hot_encoder)\u001b[0m\n\u001b[1;32m     11\u001b[0m \u001b[0;34m\u001b[0m\u001b[0m\n\u001b[1;32m     12\u001b[0m     \u001b[0mX_train\u001b[0m \u001b[0;34m=\u001b[0m \u001b[0mpre_2018_dataset\u001b[0m\u001b[0;34m[\u001b[0m\u001b[0mcols_to_use\u001b[0m\u001b[0;34m]\u001b[0m\u001b[0;34m\u001b[0m\u001b[0;34m\u001b[0m\u001b[0m\n\u001b[0;32m---> 13\u001b[0;31m     \u001b[0my_train\u001b[0m \u001b[0;34m=\u001b[0m \u001b[0mpre_2018_dataset\u001b[0m\u001b[0;34m[\u001b[0m\u001b[0my_col\u001b[0m\u001b[0;34m]\u001b[0m\u001b[0;34m\u001b[0m\u001b[0;34m\u001b[0m\u001b[0m\n\u001b[0m\u001b[1;32m     14\u001b[0m     \u001b[0mflip_train\u001b[0m \u001b[0;34m=\u001b[0m \u001b[0mnp\u001b[0m\u001b[0;34m.\u001b[0m\u001b[0mabs\u001b[0m\u001b[0;34m(\u001b[0m\u001b[0mpre_2018_dataset\u001b[0m\u001b[0;34m[\u001b[0m\u001b[0;34m'dem_win'\u001b[0m\u001b[0;34m]\u001b[0m\u001b[0;34m-\u001b[0m\u001b[0mpre_2018_dataset\u001b[0m\u001b[0;34m[\u001b[0m\u001b[0;34m'dem_win_prev'\u001b[0m\u001b[0;34m]\u001b[0m\u001b[0;34m)\u001b[0m\u001b[0;34m\u001b[0m\u001b[0;34m\u001b[0m\u001b[0m\n\u001b[1;32m     15\u001b[0m \u001b[0;34m\u001b[0m\u001b[0m\n",
      "\u001b[0;32m~/miniconda2/envs/cs209/lib/python3.6/site-packages/pandas/core/frame.py\u001b[0m in \u001b[0;36m__getitem__\u001b[0;34m(self, key)\u001b[0m\n\u001b[1;32m   2686\u001b[0m             \u001b[0;32mreturn\u001b[0m \u001b[0mself\u001b[0m\u001b[0;34m.\u001b[0m\u001b[0m_getitem_multilevel\u001b[0m\u001b[0;34m(\u001b[0m\u001b[0mkey\u001b[0m\u001b[0;34m)\u001b[0m\u001b[0;34m\u001b[0m\u001b[0;34m\u001b[0m\u001b[0m\n\u001b[1;32m   2687\u001b[0m         \u001b[0;32melse\u001b[0m\u001b[0;34m:\u001b[0m\u001b[0;34m\u001b[0m\u001b[0;34m\u001b[0m\u001b[0m\n\u001b[0;32m-> 2688\u001b[0;31m             \u001b[0;32mreturn\u001b[0m \u001b[0mself\u001b[0m\u001b[0;34m.\u001b[0m\u001b[0m_getitem_column\u001b[0m\u001b[0;34m(\u001b[0m\u001b[0mkey\u001b[0m\u001b[0;34m)\u001b[0m\u001b[0;34m\u001b[0m\u001b[0;34m\u001b[0m\u001b[0m\n\u001b[0m\u001b[1;32m   2689\u001b[0m \u001b[0;34m\u001b[0m\u001b[0m\n\u001b[1;32m   2690\u001b[0m     \u001b[0;32mdef\u001b[0m \u001b[0m_getitem_column\u001b[0m\u001b[0;34m(\u001b[0m\u001b[0mself\u001b[0m\u001b[0;34m,\u001b[0m \u001b[0mkey\u001b[0m\u001b[0;34m)\u001b[0m\u001b[0;34m:\u001b[0m\u001b[0;34m\u001b[0m\u001b[0;34m\u001b[0m\u001b[0m\n",
      "\u001b[0;32m~/miniconda2/envs/cs209/lib/python3.6/site-packages/pandas/core/frame.py\u001b[0m in \u001b[0;36m_getitem_column\u001b[0;34m(self, key)\u001b[0m\n\u001b[1;32m   2693\u001b[0m         \u001b[0;31m# get column\u001b[0m\u001b[0;34m\u001b[0m\u001b[0;34m\u001b[0m\u001b[0;34m\u001b[0m\u001b[0m\n\u001b[1;32m   2694\u001b[0m         \u001b[0;32mif\u001b[0m \u001b[0mself\u001b[0m\u001b[0;34m.\u001b[0m\u001b[0mcolumns\u001b[0m\u001b[0;34m.\u001b[0m\u001b[0mis_unique\u001b[0m\u001b[0;34m:\u001b[0m\u001b[0;34m\u001b[0m\u001b[0;34m\u001b[0m\u001b[0m\n\u001b[0;32m-> 2695\u001b[0;31m             \u001b[0;32mreturn\u001b[0m \u001b[0mself\u001b[0m\u001b[0;34m.\u001b[0m\u001b[0m_get_item_cache\u001b[0m\u001b[0;34m(\u001b[0m\u001b[0mkey\u001b[0m\u001b[0;34m)\u001b[0m\u001b[0;34m\u001b[0m\u001b[0;34m\u001b[0m\u001b[0m\n\u001b[0m\u001b[1;32m   2696\u001b[0m \u001b[0;34m\u001b[0m\u001b[0m\n\u001b[1;32m   2697\u001b[0m         \u001b[0;31m# duplicate columns & possible reduce dimensionality\u001b[0m\u001b[0;34m\u001b[0m\u001b[0;34m\u001b[0m\u001b[0;34m\u001b[0m\u001b[0m\n",
      "\u001b[0;32m~/miniconda2/envs/cs209/lib/python3.6/site-packages/pandas/core/generic.py\u001b[0m in \u001b[0;36m_get_item_cache\u001b[0;34m(self, item)\u001b[0m\n\u001b[1;32m   2485\u001b[0m         \u001b[0;34m\"\"\"Return the cached item, item represents a label indexer.\"\"\"\u001b[0m\u001b[0;34m\u001b[0m\u001b[0;34m\u001b[0m\u001b[0m\n\u001b[1;32m   2486\u001b[0m         \u001b[0mcache\u001b[0m \u001b[0;34m=\u001b[0m \u001b[0mself\u001b[0m\u001b[0;34m.\u001b[0m\u001b[0m_item_cache\u001b[0m\u001b[0;34m\u001b[0m\u001b[0;34m\u001b[0m\u001b[0m\n\u001b[0;32m-> 2487\u001b[0;31m         \u001b[0mres\u001b[0m \u001b[0;34m=\u001b[0m \u001b[0mcache\u001b[0m\u001b[0;34m.\u001b[0m\u001b[0mget\u001b[0m\u001b[0;34m(\u001b[0m\u001b[0mitem\u001b[0m\u001b[0;34m)\u001b[0m\u001b[0;34m\u001b[0m\u001b[0;34m\u001b[0m\u001b[0m\n\u001b[0m\u001b[1;32m   2488\u001b[0m         \u001b[0;32mif\u001b[0m \u001b[0mres\u001b[0m \u001b[0;32mis\u001b[0m \u001b[0;32mNone\u001b[0m\u001b[0;34m:\u001b[0m\u001b[0;34m\u001b[0m\u001b[0;34m\u001b[0m\u001b[0m\n\u001b[1;32m   2489\u001b[0m             \u001b[0mvalues\u001b[0m \u001b[0;34m=\u001b[0m \u001b[0mself\u001b[0m\u001b[0;34m.\u001b[0m\u001b[0m_data\u001b[0m\u001b[0;34m.\u001b[0m\u001b[0mget\u001b[0m\u001b[0;34m(\u001b[0m\u001b[0mitem\u001b[0m\u001b[0;34m)\u001b[0m\u001b[0;34m\u001b[0m\u001b[0;34m\u001b[0m\u001b[0m\n",
      "\u001b[0;31mTypeError\u001b[0m: unhashable type: 'dict'"
     ]
    }
   ],
   "source": [
    "filename = 'Datasets/data_FEC_NATIONALPOLL_DEMOGRAPHICSIMPUTED_2004_2018_REDISTRICTDROP.p'\n",
    "ks = np.arange(1,30, 5)\n",
    "state_hot_encoder = False\n",
    "\n",
    "model_dict = {}\n",
    "\n",
    "def mydist(x, y):\n",
    "    if all(x == y):\n",
    "        #bootstrap sample likely\n",
    "        return 1e10\n",
    "    lonx, latx = x[-2:]\n",
    "    lony, laty = y[-2:]\n",
    "    \n",
    "    return ((lonx-lony)**2 + (latx-laty)**2)**0.5\n",
    "    \n",
    "for ka in ks:\n",
    "    \n",
    "    model_dict['knn{}'.format(ka)] = KNeighborsClassifier(n_neighbors=ka,n_jobs=4, metric=mydist)\n",
    "\n",
    "fitted_models = report_model_stats(filename, cols_to_use, model_dict, state_hot_encoder)"
   ]
  },
  {
   "cell_type": "code",
   "execution_count": null,
   "metadata": {
    "scrolled": false
   },
   "outputs": [],
   "source": [
    "filename = 'Datasets/data_FEC_NATIONALPOLL_DEMOGRAPHICSIMPUTED_2004_2018_REDISTRICTDROP.p'\n",
    "ks = np.arange(1,30, 5)\n",
    "state_hot_encoder = False\n",
    "\n",
    "model_dict = {}\n",
    "\n",
    "def mydist(x, y):\n",
    "    if all(x == y):\n",
    "        #bootstrap sample likely\n",
    "        return 1e10\n",
    "    lonx, latx = x[-2:]\n",
    "    lony, laty = y[-2:]\n",
    "    \n",
    "    return ((lonx-lony)**2 + (latx-laty)**2)**0.5\n",
    "    \n",
    "for ka in ks:\n",
    "    \n",
    "    model_dict['knn{}'.format(ka)] = KNeighborsClassifier(n_neighbors=ka,n_jobs=4, metric=mydist)\n",
    "\n",
    "fitted_models = report_model_stats(filename, cols_to_use, model_dict, state_hot_encoder)"
   ]
  },
  {
   "cell_type": "markdown",
   "metadata": {},
   "source": [
    "###  NOTES:\n",
    "\n",
    "1. Logistic CV 90% of the missclassified data occurs when there is a change of party compared to the previous year. No state flips are predicted correctly. \n",
    "2. KNN, 100% of the missclassified data occurs when there is a change of party. 5% of the well classified data is party flip. (Better performance)\n",
    "3. Predicts correctly 100% of the districts that do not change, and ...\n",
    "\n",
    "Concentrate on improving the states that flip to a different party between elections\n",
    "\n",
    "Ideas\n",
    "0. Try non-linear approaches (KNN, Random Forest and Boosting)\n",
    "1. Increase data by Upsampling and downsampling\n",
    "2. Increase data by adding more historical data\n",
    "3. Add demographics data\n",
    "4. Add redistricting"
   ]
  },
  {
   "cell_type": "code",
   "execution_count": null,
   "metadata": {},
   "outputs": [],
   "source": []
  },
  {
   "cell_type": "code",
   "execution_count": null,
   "metadata": {},
   "outputs": [],
   "source": []
  }
 ],
 "metadata": {
  "kernelspec": {
   "display_name": "APCOMP 209",
   "language": "python",
   "name": "cs209"
  },
  "language_info": {
   "codemirror_mode": {
    "name": "ipython",
    "version": 3
   },
   "file_extension": ".py",
   "mimetype": "text/x-python",
   "name": "python",
   "nbconvert_exporter": "python",
   "pygments_lexer": "ipython3",
   "version": "3.6.7"
  }
 },
 "nbformat": 4,
 "nbformat_minor": 2
}
