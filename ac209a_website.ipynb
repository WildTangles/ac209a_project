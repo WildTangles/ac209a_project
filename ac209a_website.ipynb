{
  "nbformat": 4,
  "nbformat_minor": 0,
  "metadata": {
    "colab": {
      "name": "ac209a_website.ipynb",
      "version": "0.3.2",
      "provenance": [],
      "collapsed_sections": [],
      "toc_visible": true
    },
    "kernelspec": {
      "name": "python3",
      "display_name": "Python 3"
    }
  },
  "cells": [
    {
      "metadata": {
        "id": "FG3mJasrIhCu",
        "colab_type": "text"
      },
      "cell_type": "markdown",
      "source": [
        "Link to Final Project Guidelines as a reference:\n",
        "\n",
        "https://github.com/Harvard-IACS/2018-CS109A/blob/master/content/projects/FinalReport_Guidelines.pdf\n"
      ]
    },
    {
      "metadata": {
        "id": "e_EceBtwshoj",
        "colab_type": "text"
      },
      "cell_type": "markdown",
      "source": [
        "#Overview  (needs more)\n",
        "\n",
        "Instructions\n",
        "Provide an overview of the project. It is important that you include a\n",
        "general context for the project as well as an overall description of the project. Any\n",
        "introductory information that’s specific to the project should also be included.\n",
        "\n",
        "The goal of the project is to predict the House of Representatives winners per district for the 2018 election. "
      ]
    },
    {
      "metadata": {
        "id": "gRsO-hcztGmE",
        "colab_type": "text"
      },
      "cell_type": "markdown",
      "source": [
        "#Motivation (TODO)\n",
        "\n",
        "Introduce the project motivation both as a whole as well as motivations\n",
        "for important defining aspects of your work. For example were there any visualization\n",
        "or UI primitives that informed your work?"
      ]
    },
    {
      "metadata": {
        "id": "_tyf0CSvtLAl",
        "colab_type": "text"
      },
      "cell_type": "markdown",
      "source": [
        "# Description of Data and EDA: \n",
        "What data are you dealing with? What methods have\n",
        "you used to explore the data (incl. initial explorations, models, data cleansing and\n",
        "reconciliation, etc)? What insights did you gain? How did those methods influence\n",
        "your work? \n",
        "\n",
        "### FEC\n",
        "FEC data comprises of several potential predictors that are provided on a per district per state per year basis. The information can be summarised as either candidate-level information (e.g. names of candidates) and district-level information (e.g. total number of votes). Candidate-level information such as campaign financing/scandals would have been interesting to consider and there is evidence that they are likely strong predictors of the outcome of a race (see fivethirtyeight). For district-level information, of particular interest were two observations, of the number of votes and the total number of votes cast for each candidate per district per state per year. From this information, we computed the winning candidate per district per state per year and by joining on the candiate-level information (party affiliations of candidates), we arrived at our response variable (winning party per district per state per year).\n",
        "\n",
        "Also, from the fraction of votes garnered by each candidate and their political affiliation, we compute several metrics which served as predictors. In particular for a given response in year $t$, we compute metrics from the results of the election in $t-2$. The following metrics were computed:\n",
        "\n",
        "Let $w_{t}$ be the vote fraction earned by winner in year $t$, and $l_{t}$ the vote fraction earned by the 2nd place candidate. For a response variable in year $t$,\n",
        "\n",
        "metric 1:$$ w_{t-2} - l_{t-2}$$\n",
        "metric 2:$$ w_{t-2} / l_{t-2}$$\n",
        "\n",
        "Let $d_{t}, r_{t}$ be the vote fractions earned by the democrat and republican. For a response variable in year $t$,\n",
        "\n",
        "metric3:$$ d_{t-2} - r_{t-2}$$\n",
        "metric4:$$ d_{t-2}/r_{t-2}$$.\n",
        "\n",
        "<img src=\"https://drive.google.com/uc?id=1tonymvR5GXiWQc3KZE7Hz8Z3kZAspB7d\" >\n",
        "<img src=\"https://drive.google.com/uc?id=1-QC__Diuq2AYcJEKRE80gtiMIRwVDSao\" >\n",
        "\n",
        "Figure?. Margin of victory (see margin 1) for elections with flips (defined herein as an election where the party that wins a district changes year on year) and without flips. Notice that most of the flips are observed when the prior election was a closer race (i.e. lower margin of victory).\n",
        "\n",
        "#### Cleaning\n",
        "The 2004-2016 FEC data was compiled by the MIT Election Data and Science Lab. Some of the party names were filled NaNs, so we filled parties for these candidates by looking up their profiles on Wikipedia. We also calculated the winner of each election using the number of votes. However, for two states (Louisiana and Georgia), the election goes to a runoff if no candidate achieves 50%. For elections where a runoff is happening, our current model could be training on the wrong winner. The results of the elections for 2018 were scraped from Wikipedia and were already sufficiently clean (surprisingly!).\n",
        "\n",
        "* Polling\n",
        "* Demographics\n",
        "* Redistricting\n",
        "\n",
        "* Cppy paste milestone 2 + anything else that looks pretty :) \n",
        "* ?? if anything else\n",
        "\n",
        "\n",
        "### \n",
        "Elise Redistricting & Polls\n",
        "\n",
        "Manish, Elise, Victor!"
      ]
    },
    {
      "metadata": {
        "id": "Jg5EKhB7tQP2",
        "colab_type": "text"
      },
      "cell_type": "markdown",
      "source": [
        "# Literature Review/Related Work (TODO)\n",
        "\n",
        "This can include noting any key papers, texts,\n",
        "other software sources, talks or websites that you have used to develop your modeling\n",
        "approach and/or that informed your demo/site. \n",
        "\n",
        "\n",
        "\n",
        "* fve thirty eight important factors\n",
        "* different methodlogies \n",
        "\n",
        "\n",
        "Victor and everyone else\n"
      ]
    },
    {
      "metadata": {
        "id": "k2KB-25vuRAx",
        "colab_type": "text"
      },
      "cell_type": "markdown",
      "source": [
        "# Modeling Approach\n",
        "\n",
        "The aim of the project is to predict the district winners for the House of Representative in the 2018 election. Given that the parameter we are trying to estimate is a categorical value; wether the winner of a district is a democrat or a republican, this is a classification problem.Our modeling approach is to use a set of classification machine learning algorithms trained on different datasets and predictors to find the combination that most accurately predicts the district winners for 2018.  \n",
        "\n",
        "###Baseline\n",
        "\n",
        "Our baseline approach is to run a set of models with a small number of predictors and asses the accuracy achieved. Using a small set of predictors reduces model complexity and decreases potential for overfitting. Simpler models also allows us to better understand the relationship between the predictors and the response variable. \n",
        "\n",
        "###Extensions\n",
        "\n",
        "Our modeling extension is to incorporate more features into our baseline dataset and run the predefined set of models on each combination.  For this we use a combination of FEC Data, National Polling Data, Demographics Data and our approach for Re-districting. The goal of the extension model is to explore if by adding more predictors to the baseline dataset we are able to capture more information about the districts that do undego a party change in the 2018 election compared to the previous election while at the same time keeping a good classification accuracy on the predicction for the districts whose winner is indeed from the same party as the previous election. \n"
      ]
    },
    {
      "metadata": {
        "id": "ZzSV3W-Rb2Zr",
        "colab_type": "text"
      },
      "cell_type": "markdown",
      "source": [
        "\n",
        "#**Models Used**\n",
        "\n",
        "The table below shows a summary of the models chosen and the reason for their use.\n",
        "\n",
        "<img src=\"https://drive.google.com/uc?id=1y09ctZcQfx7KLnLoJDe5GRE83KgOL5hJ\">\n"
      ]
    },
    {
      "metadata": {
        "id": "tFZH4jpzb5gb",
        "colab_type": "text"
      },
      "cell_type": "markdown",
      "source": [
        "#Baseline\n",
        "\n",
        "The baseline Model refers to the use of a subset of predictors from the FEC data. The predictors for the baseline model are election results from the previous year and the state the district belongs to. Below is a summary of the accuracy of the model of Logistic Regression. \n",
        "\n",
        "\n",
        "<img src=\"https://drive.google.com/uc?id=1Dv--K659WwweWNRwpp4C-7ZO_QFqGmlL\" >\n",
        "\n",
        "In the table above we see that even though the logistic regression model achieves ~88% accuracy on the test data, all the predictions that are correct are those for which the winner of the district is from the same party as the winner from the previous election. We call this approach the baseline model as for all observations in the test data the predicted party is always the same as the winner of the previous election. The QDA models shows something different, with a lower R2 score and lower test accuracy , QDA is able to predict 20% of the districts in the test data that whose party changed from the previous election winner. However we gain this at the expense of reducing classification accuracy on the districts whose winner is from the same party at the previous election. \n",
        "\n",
        "\n",
        "#Baseline Extended\n",
        "\n",
        "\n",
        "The Baseline Extended Model attempts to capture more information about the districts whose winner party is different from the previou election while keeping a good classification accuracy on the districts whose winner is from the same party as the winner from the previous election. This model adds the margin by which the winner of the previous election won over the loser party. Below is a table summarizing the results. \n",
        "\n",
        "<img src=\"https://drive.google.com/uc?id=1-XCal5Q-0GpqN0xZlr3kgxakxtMi7lw7\" >\n",
        "\n",
        "With the baseline extended model we see that we are able to increase good predictions on the districts that flip by 90%, however this is at the expense of missclassifying more districts whose winner party do not change from the previous election. QDA results are very similar to the previous model, adding more predictors did not improve the QDA model. However, the rest of the modesl did see an improvement on the classification accuracy of the districts that do flip. \n",
        "\n",
        "###Baseline Extended Takaway\n",
        "\n",
        "\n",
        "The  majority of the districts vote for the same party that won on the previous election and only a small number of districts see a party switch.  Given that the goal of the project is to predict the winner party for each district in 2018 we still need to do well on the districts that do not switch parties but we would like to capture at least some of the districts that do switch. For this reason using the Baseline Extended dataset Boosting might be prefer as a modeling approach, it achieves 87% overall test accuracy on 2018 and is able to predict correctly 97% of the districts that do not swith parties between elections and captures 6% of the districts that do switch parties. "
      ]
    },
    {
      "metadata": {
        "id": "ajv63NzCFKwk",
        "colab_type": "text"
      },
      "cell_type": "markdown",
      "source": [
        "# Variable Selection \n",
        "\n",
        "Of the XX predictors in the baseline model, we handpicked 10 of them as likely good predictors of the election. However, we wanted to make sure that none of the predictors were highly collinear. Collinearity would cause our models to find suboptimal solutions because one of the assumptions in linear regression is that the varables are independent of one another. \n",
        "\n",
        "\n",
        "<img src = \"https://drive.google.com/uc?id=11rRkedylHiPwSA6I9Ef3DGkUCiJAKg_x\">\n",
        "\n",
        "*Figure XX: Collinearity of predictors considered. Color bar represents the correlation coefficient between the two predictors where 1.0 represents perfect correlation and 0.0 represents no correlation. *\n",
        "\n",
        "Unsurprisingly, we saw that `margin_signed_minus_prev` (% of votes received by democrat - % of votes received by republican candidate in the previous year) and dem_win_prev (whether a democrat won last year) were highly correlated. Of the two, we chose to use only `margin_signed_minus_prev` because it provided additional information about how decisive the victory was, rather than simply who won. Immediately after we removed `dem_win_prev`, we saw increases in prediction of flipped races (from 0% to 20%+) without much change in the overall accuracy. \n",
        "\n",
        "The only other notable correlation we between `foreign_to_native_born_ratio` and `civilian_veteran_pct`. We thought this symbolized the urban/rural divide rather than any causation, but the correlation coefficient was high enough that we removed `civilian_veteran_pct` to reduce collinearity. \n",
        "\n",
        "Interestingly, `labor_force_unemployed_pct` was moderately correlated with `national_poll`. Since we were only looking at the last 3 years, the economy happened to be improving (thus, decreasing unemployment everywhere) at the same time as the republicans were gaining support. Whether this is a causal relationship is up for debate. In the end, we removed `labor_force_unemployed_pct` not only because of this correlation, but also because it cannot be imputed to prior years (because unemployment changes quickly over years) in the same way as other demographics. \n",
        "\n"
      ]
    },
    {
      "metadata": {
        "id": "lphoZTGOtzNc",
        "colab_type": "text"
      },
      "cell_type": "markdown",
      "source": [
        "#**Model Extensions**\n",
        "\n",
        "In efforts to improve our prediction on the test set while being able to capture information about the districts whose winner party changes from the last election we explored a set of extensions that uses a combination of different datasets on the model described above. \n",
        "\n",
        "Below is a summary of the different extensions we looked at:\n",
        "\n",
        "<img src=\"https://drive.google.com/uc?id=1J_KU-kQ9D3eW2GXil7M1HeEVuM62g6Ja\">"
      ]
    },
    {
      "metadata": {
        "id": "KNwbBq9FutUM",
        "colab_type": "text"
      },
      "cell_type": "markdown",
      "source": [
        "\n"
      ]
    },
    {
      "metadata": {
        "id": "_GtVwBsuuNRV",
        "colab_type": "text"
      },
      "cell_type": "markdown",
      "source": [
        "Briefly summarize any changes in your project goals or implementation plans\n",
        "you have made along the way. These changes are a natural part of any project, even\n",
        "those that seem the most straightforward at the beginning"
      ]
    },
    {
      "metadata": {
        "id": "Wi8MulU-tcjg",
        "colab_type": "text"
      },
      "cell_type": "markdown",
      "source": [
        " # Conclusions and Summary: \n",
        " Review what was discussed in the Overview and\n",
        "Motivation sections (don’t repeat them word-for-word!). Discuss your contributions\n",
        "including the successes and areas for improvement. \n",
        "\n",
        "elise"
      ]
    },
    {
      "metadata": {
        "id": "WTdO6GhYwBDU",
        "colab_type": "text"
      },
      "cell_type": "markdown",
      "source": [
        ""
      ]
    },
    {
      "metadata": {
        "id": "MyqBfQPMtYp1",
        "colab_type": "text"
      },
      "cell_type": "markdown",
      "source": [
        "#**Results**\n",
        "\n",
        "\n",
        "**Extension 1: Full FEC Data: 2004-2018** \n",
        "\n",
        "<img src=\"https://drive.google.com/uc?id=1cZcm7n0zkzXXCtL2QBZCQ903r6r_mkeu\" >\n",
        "\n",
        "*This model uses only the FEC and polling data. States are not dropped if they were redistricted the prior year. The first panel shows accuracy for the training set, the testing set, and for flipped and nonflipped districts in the testing set. The second panel shows logloss. The third panel shows the percentages predicted by the Logistic Regression model. Above 0.5 on the y axis indicates a democrat was predicted, below 0.5 indicates a republican was predicted. Colors indicate the true value. Predictors used:\n",
        "`national_poll`, `margin_signed_minus_prev`\n",
        "*\n",
        "\n",
        "**Extension 2:  FEC and Demographics Data: 2010-2018**\n",
        "\n",
        "<img src=\"https://drive.google.com/uc?id=1pxEzsR2KJSNqY-_7pA8hpFy249Y63ERf\" >\n",
        "\n",
        "*This model uses FEC and selected demographics data. The first panel shows accuracy for the training set, the testing set, and for flipped and nonflipped districts in the testing set. The second panel shows logloss. The third panel shows the percentages predicted by the Logistic Regression model. Above 0.5 on the y axis indicates a democrat was predicted, below 0.5 indicates a republican was predicted. Colors indicate the true value. (See Section XX for more on variable selection). Predictors used: \n",
        "`national_poll` \n",
        "`margin_signed_minus_prev`\n",
        "`female_pct`\n",
        "`foreign_to_native_born_ratio`\n",
        "`age18_24_pct`\n",
        "`age25_34_pct`\n",
        "*\n",
        "\n",
        "**Extension 3:  FEC and Demographics Data and Redistricting: 2004-2018**\n",
        "\n",
        "<img src=\"https://drive.google.com/uc?id=1DfU_d5hh-XQI64QT907BTL-3femgVQlG\">\n",
        "\n",
        "*Predictors: \n",
        "`national_poll`\n",
        "`margin_signed_minus_prev'`\n",
        "`female_pct`\n",
        "`foreign_to_native_born_ratio`\n",
        "`age18_24_pct`\n",
        "`age25_34_pct`\n",
        "*\n",
        "\n",
        "\n",
        "#**Results Summary**\n",
        "\n",
        "ELISE\n",
        "\n",
        "-Paragraph per plot \n",
        "\n",
        "\n",
        "Describe the results and emphasize the most important results. Did you have\n",
        "to reconsider some of the original assumptions? \n",
        " (needs more)"
      ]
    },
    {
      "metadata": {
        "id": "iJNjphhPtipe",
        "colab_type": "text"
      },
      "cell_type": "markdown",
      "source": [
        "# Future work: \n",
        "\n",
        "There are several directions that future work can explore.\n",
        "\n",
        "On the front of data, the current set of features could be expanded to include finer, candidate-level information such as campaign financing that are reported in similar works to be strong predictors (see fivethirtyeight) and other features could certainly be explored (how common the candidate's name is). There are several other directions that this could take, such as using polling at levels below national (e.g. state-level polling) which are also reported in similar works as strong predictors. \n",
        "\n",
        "On the front of the modelling, it would be more appropriate to consider architectures that more faithfully replicate representations in the real world. This could again take several directions. Notice below, a plot of the geographical location of districts that flip between 2010-2016. It's clear that not all states are 'created equal' in the context of flipping districts. For example, the larger states (California, Florida, Texas, etc.) are typically very likely to contain a district that flips. Interestingly, it seem that there are also many states where we expect to see no districts flipping at all. It appears that flips are typically relatively clustered geographically. An example of how this could be accomplished would be to use a KNN model that identifies nearest neighbors by geographical distance.\n",
        "\n",
        "<img src=\"https://drive.google.com/uc?id=1yiyKuMaNu4RSWrBRWaICV-38HxAKWq_i\">\n",
        "\n",
        "Figure ?. Geographical distribution of flips across elections years."
      ]
    },
    {
      "metadata": {
        "id": "7uZL6vXXux2L",
        "colab_type": "text"
      },
      "cell_type": "markdown",
      "source": [
        "\n",
        "# References\n",
        "\n",
        "\n",
        "FEC results from (https://dataverse.harvard.edu/dataset.xhtml?persistentId=doi:10.7910/DVN/IG0UN2) and (https://www.fec.gov/introduction-campaign-finance/election-and-voting-information/#election-results)\n",
        "\n",
        "2018 house results from https://en.wikipedia.org/wiki/2018_United_States_House_of_Representatives_elections (accessed 12072018)\n",
        "\n",
        "Methodlogy/Importance of Predictors from\n",
        "https://fivethirtyeight.com/methodology/how-fivethirtyeights-house-and-senate-models-work/\n",
        "\n",
        "* redistrcting websites (?? + where it came from)\n",
        "* fec data MIT media lab\n",
        "* ACS for demographics"
      ]
    },
    {
      "metadata": {
        "id": "52KHv0-yuxz-",
        "colab_type": "text"
      },
      "cell_type": "markdown",
      "source": [
        ""
      ]
    }
  ]
}