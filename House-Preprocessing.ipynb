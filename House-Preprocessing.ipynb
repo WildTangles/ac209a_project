{
 "cells": [
  {
   "cell_type": "code",
   "execution_count": 12,
   "metadata": {
    "scrolled": true
   },
   "outputs": [],
   "source": [
    "import pandas as pd\n",
    "import numpy as np\n",
    "from functions import houseFunctions as hfunc\n",
    "import pickle"
   ]
  },
  {
   "cell_type": "code",
   "execution_count": 13,
   "metadata": {},
   "outputs": [],
   "source": [
    "houseResFile = \"Datasets/fec/1976-2016-house.csv\""
   ]
  },
  {
   "cell_type": "code",
   "execution_count": 14,
   "metadata": {
    "scrolled": false
   },
   "outputs": [
    {
     "name": "stderr",
     "output_type": "stream",
     "text": [
      "C:\\ProgramData\\Anaconda3\\lib\\site-packages\\pandas\\core\\indexing.py:543: SettingWithCopyWarning: \n",
      "A value is trying to be set on a copy of a slice from a DataFrame.\n",
      "Try using .loc[row_indexer,col_indexer] = value instead\n",
      "\n",
      "See the caveats in the documentation: http://pandas.pydata.org/pandas-docs/stable/indexing.html#indexing-view-versus-copy\n",
      "  self.obj[item] = s\n",
      "C:\\ProgramData\\Anaconda3\\lib\\site-packages\\pandas\\core\\indexing.py:362: SettingWithCopyWarning: \n",
      "A value is trying to be set on a copy of a slice from a DataFrame.\n",
      "Try using .loc[row_indexer,col_indexer] = value instead\n",
      "\n",
      "See the caveats in the documentation: http://pandas.pydata.org/pandas-docs/stable/indexing.html#indexing-view-versus-copy\n",
      "  self.obj[key] = _infer_fill_value(value)\n",
      "C:\\Users\\m\\Documents\\Harvard\\ac209a\\ac209a_project\\functions\\houseFunctions.py:212: RuntimeWarning: invalid value encountered in double_scalars\n",
      "  winner_margin = (df1.loc[df1.index == index_tm2, 'candidatevotes'].values[0])/(df1.loc[df1.index == index_tm2, 'totalvotes'].values[0])\n",
      "C:\\Users\\m\\Documents\\Harvard\\ac209a\\ac209a_project\\functions\\houseFunctions.py:213: RuntimeWarning: invalid value encountered in double_scalars\n",
      "  loser_margin  = (df2.loc[df2.index == index_tm2, 'candidatevotes'].values[0])/(df2.loc[df2.index == index_tm2, 'totalvotes'].values[0])\n",
      "C:\\Users\\m\\Documents\\Harvard\\ac209a\\ac209a_project\\functions\\houseFunctions.py:219: RuntimeWarning: invalid value encountered in double_scalars\n",
      "  loser_margin = (df2.loc[df2.index == index_tm2, 'candidatevotes'].values[0])/(df2.loc[df2.index == index_tm2, 'totalvotes'].values[0])\n"
     ]
    }
   ],
   "source": [
    "winners_df, winners2_df  = hfunc.load_data(houseResFile, minYear=2010)\n",
    "winners_df, winners2_df = hfunc.clean_index(winners_df), hfunc.clean_index(winners2_df)\n",
    "data = hfunc.fetch_trimmed_data(winners_df, winners2_df, minYear=2012)"
   ]
  },
  {
   "cell_type": "code",
   "execution_count": 15,
   "metadata": {},
   "outputs": [
    {
     "data": {
      "text/html": [
       "<div>\n",
       "<style scoped>\n",
       "    .dataframe tbody tr th:only-of-type {\n",
       "        vertical-align: middle;\n",
       "    }\n",
       "\n",
       "    .dataframe tbody tr th {\n",
       "        vertical-align: top;\n",
       "    }\n",
       "\n",
       "    .dataframe thead th {\n",
       "        text-align: right;\n",
       "    }\n",
       "</style>\n",
       "<table border=\"1\" class=\"dataframe\">\n",
       "  <thead>\n",
       "    <tr style=\"text-align: right;\">\n",
       "      <th></th>\n",
       "      <th>district</th>\n",
       "      <th>state</th>\n",
       "      <th>year</th>\n",
       "      <th>party</th>\n",
       "      <th>candidatevotes</th>\n",
       "      <th>totalvotes</th>\n",
       "      <th>candidate</th>\n",
       "      <th>national_poll</th>\n",
       "      <th>previous_party</th>\n",
       "      <th>dem_win_margin_prev</th>\n",
       "      <th>rep_win_margin_prev</th>\n",
       "      <th>margin_signed_minus_prev</th>\n",
       "      <th>margin_signed_divide_prev</th>\n",
       "      <th>margin_unsigned_minus_prev</th>\n",
       "      <th>margin_unsigned_divide_prev</th>\n",
       "      <th>dem_win_prev</th>\n",
       "      <th>rep_win_prev</th>\n",
       "      <th>dem_win</th>\n",
       "      <th>rep_win</th>\n",
       "    </tr>\n",
       "  </thead>\n",
       "  <tbody>\n",
       "    <tr>\n",
       "      <th>AK_01_2012</th>\n",
       "      <td>1</td>\n",
       "      <td>AK</td>\n",
       "      <td>2012</td>\n",
       "      <td>republican</td>\n",
       "      <td>185296.0</td>\n",
       "      <td>289804.0</td>\n",
       "      <td>Don Young</td>\n",
       "      <td>1.988304</td>\n",
       "      <td>republican</td>\n",
       "      <td>0.286149</td>\n",
       "      <td>0.639384</td>\n",
       "      <td>-0.353235</td>\n",
       "      <td>0.447538</td>\n",
       "      <td>0.353235</td>\n",
       "      <td>2.234447</td>\n",
       "      <td>0.0</td>\n",
       "      <td>1.0</td>\n",
       "      <td>0.0</td>\n",
       "      <td>1.0</td>\n",
       "    </tr>\n",
       "    <tr>\n",
       "      <th>AL_01_2012</th>\n",
       "      <td>1</td>\n",
       "      <td>AL</td>\n",
       "      <td>2012</td>\n",
       "      <td>republican</td>\n",
       "      <td>196374.0</td>\n",
       "      <td>200676.0</td>\n",
       "      <td>Jo Bonner</td>\n",
       "      <td>1.988304</td>\n",
       "      <td>republican</td>\n",
       "      <td>0.021438</td>\n",
       "      <td>0.978562</td>\n",
       "      <td>-0.957125</td>\n",
       "      <td>0.021907</td>\n",
       "      <td>0.957125</td>\n",
       "      <td>45.647141</td>\n",
       "      <td>0.0</td>\n",
       "      <td>1.0</td>\n",
       "      <td>0.0</td>\n",
       "      <td>1.0</td>\n",
       "    </tr>\n",
       "    <tr>\n",
       "      <th>AL_02_2012</th>\n",
       "      <td>2</td>\n",
       "      <td>AL</td>\n",
       "      <td>2012</td>\n",
       "      <td>republican</td>\n",
       "      <td>180591.0</td>\n",
       "      <td>283953.0</td>\n",
       "      <td>Martha Roby</td>\n",
       "      <td>1.988304</td>\n",
       "      <td>republican</td>\n",
       "      <td>0.363060</td>\n",
       "      <td>0.635989</td>\n",
       "      <td>-0.272929</td>\n",
       "      <td>0.570859</td>\n",
       "      <td>0.272929</td>\n",
       "      <td>1.751746</td>\n",
       "      <td>0.0</td>\n",
       "      <td>1.0</td>\n",
       "      <td>0.0</td>\n",
       "      <td>1.0</td>\n",
       "    </tr>\n",
       "    <tr>\n",
       "      <th>AL_03_2012</th>\n",
       "      <td>3</td>\n",
       "      <td>AL</td>\n",
       "      <td>2012</td>\n",
       "      <td>republican</td>\n",
       "      <td>175306.0</td>\n",
       "      <td>273930.0</td>\n",
       "      <td>Mike Rogers</td>\n",
       "      <td>1.988304</td>\n",
       "      <td>republican</td>\n",
       "      <td>0.358270</td>\n",
       "      <td>0.639966</td>\n",
       "      <td>-0.281696</td>\n",
       "      <td>0.559827</td>\n",
       "      <td>0.281696</td>\n",
       "      <td>1.786267</td>\n",
       "      <td>0.0</td>\n",
       "      <td>1.0</td>\n",
       "      <td>0.0</td>\n",
       "      <td>1.0</td>\n",
       "    </tr>\n",
       "    <tr>\n",
       "      <th>AL_04_2012</th>\n",
       "      <td>4</td>\n",
       "      <td>AL</td>\n",
       "      <td>2012</td>\n",
       "      <td>republican</td>\n",
       "      <td>199071.0</td>\n",
       "      <td>269118.0</td>\n",
       "      <td>Robert B. Aderholt</td>\n",
       "      <td>1.988304</td>\n",
       "      <td>republican</td>\n",
       "      <td>0.259016</td>\n",
       "      <td>0.739716</td>\n",
       "      <td>-0.480700</td>\n",
       "      <td>0.350156</td>\n",
       "      <td>0.480700</td>\n",
       "      <td>2.855866</td>\n",
       "      <td>0.0</td>\n",
       "      <td>1.0</td>\n",
       "      <td>0.0</td>\n",
       "      <td>1.0</td>\n",
       "    </tr>\n",
       "  </tbody>\n",
       "</table>\n",
       "</div>"
      ],
      "text/plain": [
       "            district state  year       party  candidatevotes  totalvotes  \\\n",
       "AK_01_2012         1    AK  2012  republican        185296.0    289804.0   \n",
       "AL_01_2012         1    AL  2012  republican        196374.0    200676.0   \n",
       "AL_02_2012         2    AL  2012  republican        180591.0    283953.0   \n",
       "AL_03_2012         3    AL  2012  republican        175306.0    273930.0   \n",
       "AL_04_2012         4    AL  2012  republican        199071.0    269118.0   \n",
       "\n",
       "                     candidate  national_poll previous_party  \\\n",
       "AK_01_2012           Don Young       1.988304     republican   \n",
       "AL_01_2012           Jo Bonner       1.988304     republican   \n",
       "AL_02_2012         Martha Roby       1.988304     republican   \n",
       "AL_03_2012         Mike Rogers       1.988304     republican   \n",
       "AL_04_2012  Robert B. Aderholt       1.988304     republican   \n",
       "\n",
       "            dem_win_margin_prev  rep_win_margin_prev  \\\n",
       "AK_01_2012             0.286149             0.639384   \n",
       "AL_01_2012             0.021438             0.978562   \n",
       "AL_02_2012             0.363060             0.635989   \n",
       "AL_03_2012             0.358270             0.639966   \n",
       "AL_04_2012             0.259016             0.739716   \n",
       "\n",
       "            margin_signed_minus_prev  margin_signed_divide_prev  \\\n",
       "AK_01_2012                 -0.353235                   0.447538   \n",
       "AL_01_2012                 -0.957125                   0.021907   \n",
       "AL_02_2012                 -0.272929                   0.570859   \n",
       "AL_03_2012                 -0.281696                   0.559827   \n",
       "AL_04_2012                 -0.480700                   0.350156   \n",
       "\n",
       "            margin_unsigned_minus_prev  margin_unsigned_divide_prev  \\\n",
       "AK_01_2012                    0.353235                     2.234447   \n",
       "AL_01_2012                    0.957125                    45.647141   \n",
       "AL_02_2012                    0.272929                     1.751746   \n",
       "AL_03_2012                    0.281696                     1.786267   \n",
       "AL_04_2012                    0.480700                     2.855866   \n",
       "\n",
       "            dem_win_prev  rep_win_prev  dem_win  rep_win  \n",
       "AK_01_2012           0.0           1.0      0.0      1.0  \n",
       "AL_01_2012           0.0           1.0      0.0      1.0  \n",
       "AL_02_2012           0.0           1.0      0.0      1.0  \n",
       "AL_03_2012           0.0           1.0      0.0      1.0  \n",
       "AL_04_2012           0.0           1.0      0.0      1.0  "
      ]
     },
     "execution_count": 15,
     "metadata": {},
     "output_type": "execute_result"
    }
   ],
   "source": [
    "data.head()"
   ]
  },
  {
   "cell_type": "code",
   "execution_count": 16,
   "metadata": {},
   "outputs": [
    {
     "data": {
      "text/html": [
       "<div>\n",
       "<style scoped>\n",
       "    .dataframe tbody tr th:only-of-type {\n",
       "        vertical-align: middle;\n",
       "    }\n",
       "\n",
       "    .dataframe tbody tr th {\n",
       "        vertical-align: top;\n",
       "    }\n",
       "\n",
       "    .dataframe thead th {\n",
       "        text-align: right;\n",
       "    }\n",
       "</style>\n",
       "<table border=\"1\" class=\"dataframe\">\n",
       "  <thead>\n",
       "    <tr style=\"text-align: right;\">\n",
       "      <th></th>\n",
       "      <th>district</th>\n",
       "      <th>state</th>\n",
       "      <th>year</th>\n",
       "      <th>party</th>\n",
       "      <th>candidatevotes</th>\n",
       "      <th>totalvotes</th>\n",
       "      <th>candidate</th>\n",
       "      <th>national_poll</th>\n",
       "      <th>previous_party</th>\n",
       "      <th>dem_win_margin_prev</th>\n",
       "      <th>rep_win_margin_prev</th>\n",
       "      <th>margin_signed_minus_prev</th>\n",
       "      <th>margin_signed_divide_prev</th>\n",
       "      <th>margin_unsigned_minus_prev</th>\n",
       "      <th>margin_unsigned_divide_prev</th>\n",
       "      <th>dem_win_prev</th>\n",
       "      <th>rep_win_prev</th>\n",
       "      <th>dem_win</th>\n",
       "      <th>rep_win</th>\n",
       "    </tr>\n",
       "  </thead>\n",
       "  <tbody>\n",
       "    <tr>\n",
       "      <th>AK_01_2014</th>\n",
       "      <td>1</td>\n",
       "      <td>AK</td>\n",
       "      <td>2014</td>\n",
       "      <td>republican</td>\n",
       "      <td>142572.0</td>\n",
       "      <td>279741.0</td>\n",
       "      <td>Don Young</td>\n",
       "      <td>1.459459</td>\n",
       "      <td>republican</td>\n",
       "      <td>0.409672</td>\n",
       "      <td>0.509657</td>\n",
       "      <td>-0.099985</td>\n",
       "      <td>0.803818</td>\n",
       "      <td>0.099985</td>\n",
       "      <td>1.244062</td>\n",
       "      <td>0.0</td>\n",
       "      <td>1.0</td>\n",
       "      <td>0.0</td>\n",
       "      <td>1.0</td>\n",
       "    </tr>\n",
       "  </tbody>\n",
       "</table>\n",
       "</div>"
      ],
      "text/plain": [
       "            district state  year       party  candidatevotes  totalvotes  \\\n",
       "AK_01_2014         1    AK  2014  republican        142572.0    279741.0   \n",
       "\n",
       "            candidate  national_poll previous_party  dem_win_margin_prev  \\\n",
       "AK_01_2014  Don Young       1.459459     republican             0.409672   \n",
       "\n",
       "            rep_win_margin_prev  margin_signed_minus_prev  \\\n",
       "AK_01_2014             0.509657                 -0.099985   \n",
       "\n",
       "            margin_signed_divide_prev  margin_unsigned_minus_prev  \\\n",
       "AK_01_2014                   0.803818                    0.099985   \n",
       "\n",
       "            margin_unsigned_divide_prev  dem_win_prev  rep_win_prev  dem_win  \\\n",
       "AK_01_2014                     1.244062           0.0           1.0      0.0   \n",
       "\n",
       "            rep_win  \n",
       "AK_01_2014      1.0  "
      ]
     },
     "execution_count": 16,
     "metadata": {},
     "output_type": "execute_result"
    }
   ],
   "source": [
    "data[data.index == 'AK_01_2014']"
   ]
  },
  {
   "cell_type": "code",
   "execution_count": 17,
   "metadata": {},
   "outputs": [],
   "source": [
    "# #hfunc.fetch_index(winners_df, save=True, load=False)"
   ]
  },
  {
   "cell_type": "code",
   "execution_count": 18,
   "metadata": {},
   "outputs": [],
   "source": [
    "# pickle.dump(data, open('Datasets/data.p', 'wb'))"
   ]
  },
  {
   "cell_type": "code",
   "execution_count": 19,
   "metadata": {},
   "outputs": [],
   "source": [
    "import pandas as pd\n",
    "import numpy as np\n",
    "from functions import houseFunctions as hfunc\n",
    "import pickle\n",
    "dataset = pickle.load(open('Datasets/data.p', 'rb'))"
   ]
  },
  {
   "cell_type": "code",
   "execution_count": 20,
   "metadata": {},
   "outputs": [
    {
     "data": {
      "text/plain": [
       "Index(['dem_win', 'dem_win_prev', 'margin_unsigned_minus_prev',\n",
       "       'national_poll'],\n",
       "      dtype='object')"
      ]
     },
     "execution_count": 20,
     "metadata": {},
     "output_type": "execute_result"
    }
   ],
   "source": [
    "dataset = dataset.loc[:,['dem_win', 'dem_win_prev', 'margin_unsigned_minus_prev', 'national_poll']]\n",
    "dataset.columns"
   ]
  },
  {
   "cell_type": "code",
   "execution_count": 21,
   "metadata": {},
   "outputs": [
    {
     "data": {
      "text/plain": [
       "Index(['AK_01_2012', 'AL_01_2012', 'AL_02_2012', 'AL_03_2012', 'AL_04_2012',\n",
       "       'AL_05_2012', 'AL_06_2012', 'AL_07_2012', 'AR_01_2012', 'AR_02_2012',\n",
       "       ...\n",
       "       'WI_03_2016', 'WI_04_2016', 'WI_05_2016', 'WI_06_2016', 'WI_07_2016',\n",
       "       'WI_08_2016', 'WV_01_2016', 'WV_02_2016', 'WV_03_2016', 'WY_01_2016'],\n",
       "      dtype='object', length=1269)"
      ]
     },
     "execution_count": 21,
     "metadata": {},
     "output_type": "execute_result"
    }
   ],
   "source": [
    "dataset.index"
   ]
  },
  {
   "cell_type": "code",
   "execution_count": 22,
   "metadata": {},
   "outputs": [
    {
     "data": {
      "text/html": [
       "<div>\n",
       "<style scoped>\n",
       "    .dataframe tbody tr th:only-of-type {\n",
       "        vertical-align: middle;\n",
       "    }\n",
       "\n",
       "    .dataframe tbody tr th {\n",
       "        vertical-align: top;\n",
       "    }\n",
       "\n",
       "    .dataframe thead th {\n",
       "        text-align: right;\n",
       "    }\n",
       "</style>\n",
       "<table border=\"1\" class=\"dataframe\">\n",
       "  <thead>\n",
       "    <tr style=\"text-align: right;\">\n",
       "      <th></th>\n",
       "      <th>dem_win</th>\n",
       "      <th>dem_win_prev</th>\n",
       "      <th>margin_unsigned_minus_prev</th>\n",
       "      <th>national_poll</th>\n",
       "    </tr>\n",
       "  </thead>\n",
       "  <tbody>\n",
       "    <tr>\n",
       "      <th>AK_01_2014</th>\n",
       "      <td>0.0</td>\n",
       "      <td>0.0</td>\n",
       "      <td>0.353235</td>\n",
       "      <td>1.459459</td>\n",
       "    </tr>\n",
       "  </tbody>\n",
       "</table>\n",
       "</div>"
      ],
      "text/plain": [
       "            dem_win  dem_win_prev  margin_unsigned_minus_prev  national_poll\n",
       "AK_01_2014      0.0           0.0                    0.353235       1.459459"
      ]
     },
     "execution_count": 22,
     "metadata": {},
     "output_type": "execute_result"
    }
   ],
   "source": [
    "dataset[dataset.index == 'AK_01_2014']"
   ]
  },
  {
   "cell_type": "code",
   "execution_count": null,
   "metadata": {},
   "outputs": [],
   "source": [
    "%reset"
   ]
  }
 ],
 "metadata": {
  "kernelspec": {
   "display_name": "Python 3",
   "language": "python",
   "name": "python3"
  },
  "language_info": {
   "codemirror_mode": {
    "name": "ipython",
    "version": 3
   },
   "file_extension": ".py",
   "mimetype": "text/x-python",
   "name": "python",
   "nbconvert_exporter": "python",
   "pygments_lexer": "ipython3",
   "version": "3.7.0"
  }
 },
 "nbformat": 4,
 "nbformat_minor": 2
}
