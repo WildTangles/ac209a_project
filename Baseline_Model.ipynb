{
 "cells": [
  {
   "cell_type": "code",
   "execution_count": 47,
   "metadata": {},
   "outputs": [],
   "source": [
    "#\n",
    "import numpy as np\n",
    "import matplotlib.pyplot as plt\n",
    "import matplotlib.image as mpimg\n",
    "import numpy as np\n",
    "import pandas as pd\n",
    "import pickle\n",
    "from sklearn.linear_model import LogisticRegression\n",
    "from sklearn.linear_model import LogisticRegressionCV\n",
    "from sklearn.model_selection import train_test_split\n",
    "from sklearn.metrics import accuracy_score\n",
    "from sklearn.ensemble import RandomForestClassifier\n",
    "from sklearn.metrics import confusion_matrix\n",
    "from sklearn.neighbors import KNeighborsClassifier\n",
    "\n",
    "%matplotlib inline"
   ]
  },
  {
   "cell_type": "code",
   "execution_count": 48,
   "metadata": {},
   "outputs": [
    {
     "data": {
      "text/html": [
       "<div>\n",
       "<style scoped>\n",
       "    .dataframe tbody tr th:only-of-type {\n",
       "        vertical-align: middle;\n",
       "    }\n",
       "\n",
       "    .dataframe tbody tr th {\n",
       "        vertical-align: top;\n",
       "    }\n",
       "\n",
       "    .dataframe thead th {\n",
       "        text-align: right;\n",
       "    }\n",
       "</style>\n",
       "<table border=\"1\" class=\"dataframe\">\n",
       "  <thead>\n",
       "    <tr style=\"text-align: right;\">\n",
       "      <th></th>\n",
       "      <th>district</th>\n",
       "      <th>state</th>\n",
       "      <th>year</th>\n",
       "      <th>party</th>\n",
       "      <th>candidatevotes</th>\n",
       "      <th>totalvotes</th>\n",
       "      <th>candidate</th>\n",
       "      <th>national_poll</th>\n",
       "      <th>national_poll_prior</th>\n",
       "      <th>national_poll_delta_sub</th>\n",
       "      <th>...</th>\n",
       "      <th>prior_win_dem_percent</th>\n",
       "      <th>prior_win_rep_percent</th>\n",
       "      <th>prior_margin_unsigned_divide</th>\n",
       "      <th>prior_margin_unsigned_minus</th>\n",
       "      <th>prior_margin_signed_divide</th>\n",
       "      <th>prior_margin_signed_minus</th>\n",
       "      <th>prior_win_dem</th>\n",
       "      <th>prior_win_rep</th>\n",
       "      <th>curr_win_dem</th>\n",
       "      <th>curr_win_rep</th>\n",
       "    </tr>\n",
       "  </thead>\n",
       "  <tbody>\n",
       "    <tr>\n",
       "      <th>AK_01_2012</th>\n",
       "      <td>1</td>\n",
       "      <td>AK</td>\n",
       "      <td>2012</td>\n",
       "      <td>republican</td>\n",
       "      <td>185296.0</td>\n",
       "      <td>289804.0</td>\n",
       "      <td>Don Young</td>\n",
       "      <td>1.988304</td>\n",
       "      <td>-2.622642</td>\n",
       "      <td>4.610946</td>\n",
       "      <td>...</td>\n",
       "      <td>0.310421</td>\n",
       "      <td>0.689579</td>\n",
       "      <td>2.221428</td>\n",
       "      <td>0.379157</td>\n",
       "      <td>0.450161</td>\n",
       "      <td>-0.379157</td>\n",
       "      <td>0.0</td>\n",
       "      <td>1.0</td>\n",
       "      <td>0.0</td>\n",
       "      <td>1.0</td>\n",
       "    </tr>\n",
       "    <tr>\n",
       "      <th>AL_01_2012</th>\n",
       "      <td>1</td>\n",
       "      <td>AL</td>\n",
       "      <td>2012</td>\n",
       "      <td>republican</td>\n",
       "      <td>196374.0</td>\n",
       "      <td>200676.0</td>\n",
       "      <td>Jo Bonner</td>\n",
       "      <td>1.988304</td>\n",
       "      <td>-2.622642</td>\n",
       "      <td>4.610946</td>\n",
       "      <td>...</td>\n",
       "      <td>0.174161</td>\n",
       "      <td>0.825839</td>\n",
       "      <td>4.741825</td>\n",
       "      <td>0.651679</td>\n",
       "      <td>0.210889</td>\n",
       "      <td>-0.651679</td>\n",
       "      <td>0.0</td>\n",
       "      <td>1.0</td>\n",
       "      <td>0.0</td>\n",
       "      <td>1.0</td>\n",
       "    </tr>\n",
       "    <tr>\n",
       "      <th>AL_02_2012</th>\n",
       "      <td>2</td>\n",
       "      <td>AL</td>\n",
       "      <td>2012</td>\n",
       "      <td>republican</td>\n",
       "      <td>180591.0</td>\n",
       "      <td>283953.0</td>\n",
       "      <td>Martha Roby</td>\n",
       "      <td>1.988304</td>\n",
       "      <td>-2.622642</td>\n",
       "      <td>4.610946</td>\n",
       "      <td>...</td>\n",
       "      <td>0.490271</td>\n",
       "      <td>0.509729</td>\n",
       "      <td>1.039690</td>\n",
       "      <td>0.019459</td>\n",
       "      <td>0.961825</td>\n",
       "      <td>-0.019459</td>\n",
       "      <td>0.0</td>\n",
       "      <td>1.0</td>\n",
       "      <td>0.0</td>\n",
       "      <td>1.0</td>\n",
       "    </tr>\n",
       "    <tr>\n",
       "      <th>AL_03_2012</th>\n",
       "      <td>3</td>\n",
       "      <td>AL</td>\n",
       "      <td>2012</td>\n",
       "      <td>republican</td>\n",
       "      <td>175306.0</td>\n",
       "      <td>273930.0</td>\n",
       "      <td>Mike Rogers</td>\n",
       "      <td>1.988304</td>\n",
       "      <td>-2.622642</td>\n",
       "      <td>4.610946</td>\n",
       "      <td>...</td>\n",
       "      <td>0.405791</td>\n",
       "      <td>0.594209</td>\n",
       "      <td>1.464323</td>\n",
       "      <td>0.188418</td>\n",
       "      <td>0.682909</td>\n",
       "      <td>-0.188418</td>\n",
       "      <td>0.0</td>\n",
       "      <td>1.0</td>\n",
       "      <td>0.0</td>\n",
       "      <td>1.0</td>\n",
       "    </tr>\n",
       "    <tr>\n",
       "      <th>AL_04_2012</th>\n",
       "      <td>4</td>\n",
       "      <td>AL</td>\n",
       "      <td>2012</td>\n",
       "      <td>republican</td>\n",
       "      <td>199071.0</td>\n",
       "      <td>269118.0</td>\n",
       "      <td>Robert B. Aderholt</td>\n",
       "      <td>1.988304</td>\n",
       "      <td>-2.622642</td>\n",
       "      <td>4.610946</td>\n",
       "      <td>...</td>\n",
       "      <td>0.011825</td>\n",
       "      <td>0.988175</td>\n",
       "      <td>83.564524</td>\n",
       "      <td>0.976349</td>\n",
       "      <td>0.011967</td>\n",
       "      <td>-0.976349</td>\n",
       "      <td>0.0</td>\n",
       "      <td>1.0</td>\n",
       "      <td>0.0</td>\n",
       "      <td>1.0</td>\n",
       "    </tr>\n",
       "  </tbody>\n",
       "</table>\n",
       "<p>5 rows × 22 columns</p>\n",
       "</div>"
      ],
      "text/plain": [
       "            district state  year       party  candidatevotes  totalvotes  \\\n",
       "AK_01_2012         1    AK  2012  republican        185296.0    289804.0   \n",
       "AL_01_2012         1    AL  2012  republican        196374.0    200676.0   \n",
       "AL_02_2012         2    AL  2012  republican        180591.0    283953.0   \n",
       "AL_03_2012         3    AL  2012  republican        175306.0    273930.0   \n",
       "AL_04_2012         4    AL  2012  republican        199071.0    269118.0   \n",
       "\n",
       "                     candidate  national_poll  national_poll_prior  \\\n",
       "AK_01_2012           Don Young       1.988304            -2.622642   \n",
       "AL_01_2012           Jo Bonner       1.988304            -2.622642   \n",
       "AL_02_2012         Martha Roby       1.988304            -2.622642   \n",
       "AL_03_2012         Mike Rogers       1.988304            -2.622642   \n",
       "AL_04_2012  Robert B. Aderholt       1.988304            -2.622642   \n",
       "\n",
       "            national_poll_delta_sub      ...       prior_win_dem_percent  \\\n",
       "AK_01_2012                 4.610946      ...                    0.310421   \n",
       "AL_01_2012                 4.610946      ...                    0.174161   \n",
       "AL_02_2012                 4.610946      ...                    0.490271   \n",
       "AL_03_2012                 4.610946      ...                    0.405791   \n",
       "AL_04_2012                 4.610946      ...                    0.011825   \n",
       "\n",
       "           prior_win_rep_percent  prior_margin_unsigned_divide  \\\n",
       "AK_01_2012              0.689579                      2.221428   \n",
       "AL_01_2012              0.825839                      4.741825   \n",
       "AL_02_2012              0.509729                      1.039690   \n",
       "AL_03_2012              0.594209                      1.464323   \n",
       "AL_04_2012              0.988175                     83.564524   \n",
       "\n",
       "            prior_margin_unsigned_minus  prior_margin_signed_divide  \\\n",
       "AK_01_2012                     0.379157                    0.450161   \n",
       "AL_01_2012                     0.651679                    0.210889   \n",
       "AL_02_2012                     0.019459                    0.961825   \n",
       "AL_03_2012                     0.188418                    0.682909   \n",
       "AL_04_2012                     0.976349                    0.011967   \n",
       "\n",
       "            prior_margin_signed_minus  prior_win_dem  prior_win_rep  \\\n",
       "AK_01_2012                  -0.379157            0.0            1.0   \n",
       "AL_01_2012                  -0.651679            0.0            1.0   \n",
       "AL_02_2012                  -0.019459            0.0            1.0   \n",
       "AL_03_2012                  -0.188418            0.0            1.0   \n",
       "AL_04_2012                  -0.976349            0.0            1.0   \n",
       "\n",
       "            curr_win_dem  curr_win_rep  \n",
       "AK_01_2012           0.0           1.0  \n",
       "AL_01_2012           0.0           1.0  \n",
       "AL_02_2012           0.0           1.0  \n",
       "AL_03_2012           0.0           1.0  \n",
       "AL_04_2012           0.0           1.0  \n",
       "\n",
       "[5 rows x 22 columns]"
      ]
     },
     "execution_count": 48,
     "metadata": {},
     "output_type": "execute_result"
    }
   ],
   "source": [
    "#read in FEC data\n",
    "full_dataset = pickle.load(open('Datasets/training_set.p', 'rb'))\n",
    "full_dataset.head()"
   ]
  },
  {
   "cell_type": "code",
   "execution_count": 49,
   "metadata": {},
   "outputs": [
    {
     "name": "stdout",
     "output_type": "stream",
     "text": [
      "(1269, 52)\n"
     ]
    },
    {
     "name": "stderr",
     "output_type": "stream",
     "text": [
      "/anaconda3/lib/python3.6/site-packages/ipykernel_launcher.py:10: SettingWithCopyWarning: \n",
      "A value is trying to be set on a copy of a slice from a DataFrame.\n",
      "Try using .loc[row_indexer,col_indexer] = value instead\n",
      "\n",
      "See the caveats in the documentation: http://pandas.pydata.org/pandas-docs/stable/indexing.html#indexing-view-versus-copy\n",
      "  # Remove the CWD from sys.path while we load stuff.\n"
     ]
    },
    {
     "data": {
      "text/html": [
       "<div>\n",
       "<style scoped>\n",
       "    .dataframe tbody tr th:only-of-type {\n",
       "        vertical-align: middle;\n",
       "    }\n",
       "\n",
       "    .dataframe tbody tr th {\n",
       "        vertical-align: top;\n",
       "    }\n",
       "\n",
       "    .dataframe thead th {\n",
       "        text-align: right;\n",
       "    }\n",
       "</style>\n",
       "<table border=\"1\" class=\"dataframe\">\n",
       "  <thead>\n",
       "    <tr style=\"text-align: right;\">\n",
       "      <th></th>\n",
       "      <th>curr_win_dem</th>\n",
       "      <th>prior_win_dem</th>\n",
       "      <th>party_flip</th>\n",
       "      <th>state_AL</th>\n",
       "      <th>state_AR</th>\n",
       "      <th>state_AZ</th>\n",
       "      <th>state_CA</th>\n",
       "      <th>state_CO</th>\n",
       "      <th>state_CT</th>\n",
       "      <th>state_DE</th>\n",
       "      <th>...</th>\n",
       "      <th>state_SD</th>\n",
       "      <th>state_TN</th>\n",
       "      <th>state_TX</th>\n",
       "      <th>state_UT</th>\n",
       "      <th>state_VA</th>\n",
       "      <th>state_VT</th>\n",
       "      <th>state_WA</th>\n",
       "      <th>state_WI</th>\n",
       "      <th>state_WV</th>\n",
       "      <th>state_WY</th>\n",
       "    </tr>\n",
       "  </thead>\n",
       "  <tbody>\n",
       "    <tr>\n",
       "      <th>AK_01_2012</th>\n",
       "      <td>0.0</td>\n",
       "      <td>0.0</td>\n",
       "      <td>0</td>\n",
       "      <td>0</td>\n",
       "      <td>0</td>\n",
       "      <td>0</td>\n",
       "      <td>0</td>\n",
       "      <td>0</td>\n",
       "      <td>0</td>\n",
       "      <td>0</td>\n",
       "      <td>...</td>\n",
       "      <td>0</td>\n",
       "      <td>0</td>\n",
       "      <td>0</td>\n",
       "      <td>0</td>\n",
       "      <td>0</td>\n",
       "      <td>0</td>\n",
       "      <td>0</td>\n",
       "      <td>0</td>\n",
       "      <td>0</td>\n",
       "      <td>0</td>\n",
       "    </tr>\n",
       "    <tr>\n",
       "      <th>AL_01_2012</th>\n",
       "      <td>0.0</td>\n",
       "      <td>0.0</td>\n",
       "      <td>0</td>\n",
       "      <td>1</td>\n",
       "      <td>0</td>\n",
       "      <td>0</td>\n",
       "      <td>0</td>\n",
       "      <td>0</td>\n",
       "      <td>0</td>\n",
       "      <td>0</td>\n",
       "      <td>...</td>\n",
       "      <td>0</td>\n",
       "      <td>0</td>\n",
       "      <td>0</td>\n",
       "      <td>0</td>\n",
       "      <td>0</td>\n",
       "      <td>0</td>\n",
       "      <td>0</td>\n",
       "      <td>0</td>\n",
       "      <td>0</td>\n",
       "      <td>0</td>\n",
       "    </tr>\n",
       "    <tr>\n",
       "      <th>AL_02_2012</th>\n",
       "      <td>0.0</td>\n",
       "      <td>0.0</td>\n",
       "      <td>0</td>\n",
       "      <td>1</td>\n",
       "      <td>0</td>\n",
       "      <td>0</td>\n",
       "      <td>0</td>\n",
       "      <td>0</td>\n",
       "      <td>0</td>\n",
       "      <td>0</td>\n",
       "      <td>...</td>\n",
       "      <td>0</td>\n",
       "      <td>0</td>\n",
       "      <td>0</td>\n",
       "      <td>0</td>\n",
       "      <td>0</td>\n",
       "      <td>0</td>\n",
       "      <td>0</td>\n",
       "      <td>0</td>\n",
       "      <td>0</td>\n",
       "      <td>0</td>\n",
       "    </tr>\n",
       "    <tr>\n",
       "      <th>AL_03_2012</th>\n",
       "      <td>0.0</td>\n",
       "      <td>0.0</td>\n",
       "      <td>0</td>\n",
       "      <td>1</td>\n",
       "      <td>0</td>\n",
       "      <td>0</td>\n",
       "      <td>0</td>\n",
       "      <td>0</td>\n",
       "      <td>0</td>\n",
       "      <td>0</td>\n",
       "      <td>...</td>\n",
       "      <td>0</td>\n",
       "      <td>0</td>\n",
       "      <td>0</td>\n",
       "      <td>0</td>\n",
       "      <td>0</td>\n",
       "      <td>0</td>\n",
       "      <td>0</td>\n",
       "      <td>0</td>\n",
       "      <td>0</td>\n",
       "      <td>0</td>\n",
       "    </tr>\n",
       "    <tr>\n",
       "      <th>AL_04_2012</th>\n",
       "      <td>0.0</td>\n",
       "      <td>0.0</td>\n",
       "      <td>0</td>\n",
       "      <td>1</td>\n",
       "      <td>0</td>\n",
       "      <td>0</td>\n",
       "      <td>0</td>\n",
       "      <td>0</td>\n",
       "      <td>0</td>\n",
       "      <td>0</td>\n",
       "      <td>...</td>\n",
       "      <td>0</td>\n",
       "      <td>0</td>\n",
       "      <td>0</td>\n",
       "      <td>0</td>\n",
       "      <td>0</td>\n",
       "      <td>0</td>\n",
       "      <td>0</td>\n",
       "      <td>0</td>\n",
       "      <td>0</td>\n",
       "      <td>0</td>\n",
       "    </tr>\n",
       "  </tbody>\n",
       "</table>\n",
       "<p>5 rows × 52 columns</p>\n",
       "</div>"
      ],
      "text/plain": [
       "            curr_win_dem  prior_win_dem  party_flip  state_AL  state_AR  \\\n",
       "AK_01_2012           0.0            0.0           0         0         0   \n",
       "AL_01_2012           0.0            0.0           0         1         0   \n",
       "AL_02_2012           0.0            0.0           0         1         0   \n",
       "AL_03_2012           0.0            0.0           0         1         0   \n",
       "AL_04_2012           0.0            0.0           0         1         0   \n",
       "\n",
       "            state_AZ  state_CA  state_CO  state_CT  state_DE    ...     \\\n",
       "AK_01_2012         0         0         0         0         0    ...      \n",
       "AL_01_2012         0         0         0         0         0    ...      \n",
       "AL_02_2012         0         0         0         0         0    ...      \n",
       "AL_03_2012         0         0         0         0         0    ...      \n",
       "AL_04_2012         0         0         0         0         0    ...      \n",
       "\n",
       "            state_SD  state_TN  state_TX  state_UT  state_VA  state_VT  \\\n",
       "AK_01_2012         0         0         0         0         0         0   \n",
       "AL_01_2012         0         0         0         0         0         0   \n",
       "AL_02_2012         0         0         0         0         0         0   \n",
       "AL_03_2012         0         0         0         0         0         0   \n",
       "AL_04_2012         0         0         0         0         0         0   \n",
       "\n",
       "            state_WA  state_WI  state_WV  state_WY  \n",
       "AK_01_2012         0         0         0         0  \n",
       "AL_01_2012         0         0         0         0  \n",
       "AL_02_2012         0         0         0         0  \n",
       "AL_03_2012         0         0         0         0  \n",
       "AL_04_2012         0         0         0         0  \n",
       "\n",
       "[5 rows x 52 columns]"
      ]
     },
     "execution_count": 49,
     "metadata": {},
     "output_type": "execute_result"
    }
   ],
   "source": [
    "#1 =democratic party\n",
    "# additional features to try: \n",
    "#\"prior_margin_unsigned_minus\",\"national_poll\",\"national_poll_prior\"]\n",
    "\n",
    "#select cols from main dataset\n",
    "cols_to_use =[\"curr_win_dem\",\"prior_win_dem\",\"state\"]\n",
    "small_dataset =full_dataset[cols_to_use]\n",
    "\n",
    "#add column to indicate a party flip\n",
    "small_dataset['party_flip']= (small_dataset.prior_win_dem!=small_dataset.curr_win_dem)*1\n",
    "\n",
    "#add one hot encoder for states (with or without dropping first)\n",
    "small_dataset = pd.get_dummies(small_dataset,'state',drop_first=True)\n",
    "\n",
    "print(small_dataset.shape)\n",
    "small_dataset.head()"
   ]
  },
  {
   "cell_type": "code",
   "execution_count": 50,
   "metadata": {},
   "outputs": [
    {
     "data": {
      "image/png": "[encoded data removed]",
      "text/plain": [
       "<Figure size 432x288 with 1 Axes>"
      ]
     },
     "metadata": {
      "needs_background": "light"
     },
     "output_type": "display_data"
    }
   ],
   "source": [
    "plt.title('Proportion of districts that chage party in consecutive elections')\n",
    "plt.ylabel('frequency')\n",
    "plt.xlabel('Party Change')\n",
    "small_dataset.party_flip.value_counts().plot(kind='bar')\n",
    "\n",
    "#proportion of districts on the full data that do not flip\n",
    "small_dataset.groupby('party_flip')['party_flip'].count().plot.bar()\n",
    "plt.title('Proportion of Party Flips on Full Dataset')\n",
    "\n",
    "for name, group in (small_dataset.groupby('party_flip')['party_flip']):\n",
    "    plt.text(int(name)+.25, group.count() + .25, \\\n",
    "    '{0:.2f}'.format(group.count()/small_dataset.shape[0]*100)+'%', color='blue', fontweight='bold')\n",
    " "
   ]
  },
  {
   "cell_type": "code",
   "execution_count": 51,
   "metadata": {},
   "outputs": [],
   "source": [
    "#split data into train and test\n",
    "train_data, test_data = train_test_split(small_dataset, test_size=.2, \\\n",
    "                        stratify=small_dataset.party_flip,random_state=209)\n",
    "\n",
    "#response variable\n",
    "y_train=train_data[\"curr_win_dem\"]\n",
    "y_test = test_data[\"curr_win_dem\"]\n",
    "\n",
    "#predictors\n",
    "X_train=train_data[small_dataset.columns.difference([\"curr_win_dem\"])]\n",
    "X_test=test_data[small_dataset.columns.difference([\"curr_win_dem\"])]"
   ]
  },
  {
   "cell_type": "code",
   "execution_count": 52,
   "metadata": {},
   "outputs": [
    {
     "data": {
      "image/png": "[encoded data removed]",
      "text/plain": [
       "<Figure size 576x288 with 2 Axes>"
      ]
     },
     "metadata": {
      "needs_background": "light"
     },
     "output_type": "display_data"
    }
   ],
   "source": [
    "#View the distribution of flips in train and test set\n",
    "\n",
    "fig, ax = plt.subplots(1,2, figsize=(8,4))\n",
    "X_train.groupby('party_flip')['party_flip'].count().plot.bar(ax=ax[0])\n",
    "X_test.groupby('party_flip')['party_flip'].count().plot.bar(ax=ax[1])\n",
    "\n",
    "#add title and axis\n",
    "ax[0].set_title(\"Proportion of Party Flips on Training Data\")\n",
    "ax[0].set_ylabel(\"frequency\")\n",
    "ax[1].set_title(\"Proportion of Party Flips on Test Data\")\n",
    "\n",
    "\n",
    "#add bar numbers on training data plot\n",
    "for name, group in (X_train.groupby('party_flip')['party_flip']):\n",
    "    ax[0].text(int(name)+.25, group.count() + .25, \\\n",
    "    '{0:.2f}'.format(group.count()/X_train.shape[0]*100)+'%', color='blue', fontweight='bold')\n",
    "    \n",
    "#add bar numbers on test data plot\n",
    "for name, group in (X_test.groupby('party_flip')['party_flip']):\n",
    "    ax[1].text(int(name)+.25, group.count() + .25, \\\n",
    "    '{0:.2f}'.format(group.count()/X_test.shape[0]*100)+'%', color='blue', fontweight='bold')"
   ]
  },
  {
   "cell_type": "code",
   "execution_count": 53,
   "metadata": {},
   "outputs": [
    {
     "name": "stdout",
     "output_type": "stream",
     "text": [
      "Model R2 score:  0.9251231527093596\n",
      "Test Accuracy:  0.9251968503937008\n"
     ]
    },
    {
     "data": {
      "text/plain": [
       "array([[131,  11],\n",
       "       [  8, 104]])"
      ]
     },
     "execution_count": 53,
     "metadata": {},
     "output_type": "execute_result"
    }
   ],
   "source": [
    "#model  LOGISTIC\n",
    "lr_model = LogisticRegressionCV(cv=5,random_state=209,multi_class='ovr',n_jobs=4)\n",
    "lr_model.fit(X_train,y_train)\n",
    "print(\"Model R2 score: \",lr_model.score(X_train,y_train))\n",
    "\n",
    "#predict on test set\n",
    "y_pred_test = lr_model.predict(X_test,)\n",
    "print(\"Test Accuracy: \",accuracy_score(y_test,y_pred_test))\n",
    "\n",
    "#confusion metrics\n",
    "confusion_matrix(y_test,y_pred_test)"
   ]
  },
  {
   "cell_type": "code",
   "execution_count": 8,
   "metadata": {},
   "outputs": [
    {
     "data": {
      "image/png": "[encoded data removed]",
      "text/plain": [
       "<Figure size 720x288 with 2 Axes>"
      ]
     },
     "metadata": {
      "needs_background": "light"
     },
     "output_type": "display_data"
    }
   ],
   "source": [
    "#looking at the missclassifications \n",
    "\n",
    "miss_class_df = X_test[y_test != y_pred_test]\n",
    "good_class_df = X_test[y_test == y_pred_test]\n",
    "\n",
    "#plot the flips and non flips for each dat\n",
    "fig, ax = plt.subplots(1,2, figsize=(10,4))\n",
    "ax[0].set_title('Well classified data proportion of party flips')\n",
    "ax[1].set_title('Missclassified data proportion of party flips')\n",
    "\n",
    "good_class_df.groupby('party_flip')['party_flip'].count().plot.bar(ax=ax[0])\n",
    "miss_class_df.groupby('party_flip')['party_flip'].count().plot.bar(ax=ax[1])\n",
    "\n",
    "for name, group in (good_class_df.groupby('party_flip')['party_flip']):\n",
    "    ax[0].text(int(name)+.25, group.count() + .25, \\\n",
    "    '{0:.2f}'.format(group.count()/good_class_df.shape[0]*100)+'%', color='blue', fontweight='bold')\n",
    "\n",
    "for name, group in (miss_class_df.groupby('party_flip')['party_flip']):\n",
    "    ax[1].text(int(name)+.15, group.count() + .25, \\\n",
    "    '{0:.2f}'.format(group.count()/miss_class_df.shape[0]*100)+'%', color='blue', fontweight='bold')\n",
    "  \n"
   ]
  },
  {
   "cell_type": "code",
   "execution_count": 9,
   "metadata": {},
   "outputs": [
    {
     "name": "stdout",
     "output_type": "stream",
     "text": [
      "Bootstrapped Model R2 score:  0.734375\n",
      "Bootstrapped Model Test Accuracy:  0.73\n"
     ]
    },
    {
     "data": {
      "text/plain": [
       "array([[170,  68],\n",
       "       [ 40, 122]])"
      ]
     },
     "execution_count": 9,
     "metadata": {},
     "output_type": "execute_result"
    }
   ],
   "source": [
    "#Over-sampling minority class and under-sampling majority class\n",
    "#https://www.cs.cmu.edu/afs/cs/project/jair/pub/volume16/chawla02a-html/chawla2002.html\n",
    "\n",
    "N=1000\n",
    "bootstrapped_df_flip = small_dataset[small_dataset['party_flip']==1].\\\n",
    "                        sample(N, replace=True,random_state=209)\n",
    "bootstrapped_df_no_flip = small_dataset[small_dataset['party_flip']!=1].\\\n",
    "                        sample(N,replace=True,random_state=209)\n",
    "bootstrapped_df = pd.concat([bootstrapped_df_flip,bootstrapped_df_no_flip])\n",
    "bootstrapped_df =pd.DataFrame(bootstrapped_df)\n",
    "bootstrapped_df.shape\n",
    "\n",
    "\n",
    "#split data into train and test\n",
    "train_data, test_data = train_test_split(bootstrapped_df, test_size=.2, \\\n",
    "                        stratify=bootstrapped_df.party_flip,random_state=209)\n",
    "y_train=train_data[\"curr_win_dem\"]\n",
    "y_test = test_data[\"curr_win_dem\"]\n",
    "X_train=train_data[bootstrapped_df.columns.difference([\"curr_win_dem\"])]\n",
    "X_test=test_data[bootstrapped_df.columns.difference([\"curr_win_dem\"])]\n",
    "\n",
    "\n",
    "#train\n",
    "#model  LOGISTIC\n",
    "lr_model = LogisticRegressionCV(cv=5,random_state=42,multi_class='ovr',n_jobs=4)\n",
    "lr_model.fit(X_train,y_train)\n",
    "print(\"Bootstrapped Model R2 score: \",lr_model.score(X_train,y_train))\n",
    "\n",
    "#predict on test set\n",
    "y_pred_test = lr_model.predict(X_test)\n",
    "print(\"Bootstrapped Model Test Accuracy: \",accuracy_score(y_test,y_pred_test))\n",
    "\n",
    "#confusion metrics\n",
    "confusion_matrix(y_test,y_pred_test)\n"
   ]
  },
  {
   "cell_type": "code",
   "execution_count": 10,
   "metadata": {},
   "outputs": [
    {
     "data": {
      "image/png": "[encoded data removed]",
      "text/plain": [
       "<Figure size 720x288 with 2 Axes>"
      ]
     },
     "metadata": {
      "needs_background": "light"
     },
     "output_type": "display_data"
    }
   ],
   "source": [
    "#looking at the missclassifications on bootstrapped data\n",
    "\n",
    "miss_class_df = X_test[y_test != y_pred_test]\n",
    "good_class_df = X_test[y_test == y_pred_test]\n",
    "\n",
    "#plot the flips and non flips for each dat\n",
    "fig, ax = plt.subplots(1,2, figsize=(10,4),sharey=True)\n",
    "ax[0].set_title('Proportion of Party Flips on Well Classified Bootstrapped Data', fontsize=8)\n",
    "ax[1].set_title('Proportion of Party Flips on Missclassified Bootstrapped Data', fontsize=8)\n",
    "ax[0].set_ylabel(\"Frequency\")\n",
    "\n",
    "good_class_df.groupby('party_flip')['party_flip'].count().plot.bar(ax=ax[0])\n",
    "miss_class_df.groupby('party_flip')['party_flip'].count().plot.bar(ax=ax[1])\n",
    "\n",
    "for name, group in (good_class_df.groupby('party_flip')['party_flip']):\n",
    "    ax[0].text(int(name)+.25, group.count() + .25, \\\n",
    "    '{0:.2f}'.format(group.count()/good_class_df.shape[0]*100)+'%', color='blue', fontweight='bold')\n",
    "\n",
    "for name, group in (miss_class_df.groupby('party_flip')['party_flip']):\n",
    "    ax[1].text(int(name)+.15, group.count() + .25, \\\n",
    "    '{0:.2f}'.format(group.count()/miss_class_df.shape[0]*100)+'%', color='blue', fontweight='bold')\n"
   ]
  },
  {
   "cell_type": "code",
   "execution_count": 11,
   "metadata": {},
   "outputs": [
    {
     "name": "stdout",
     "output_type": "stream",
     "text": [
      "(108, 51) (292, 51)\n"
     ]
    },
    {
     "data": {
      "image/png": "[encoded data removed]",
      "text/plain": [
       "<Figure size 720x288 with 2 Axes>"
      ]
     },
     "metadata": {
      "needs_background": "light"
     },
     "output_type": "display_data"
    }
   ],
   "source": [
    "#looking at the missclassifications \n",
    "\n",
    "miss_class_df = X_test[y_test != y_pred_test]\n",
    "good_class_df = X_test[y_test == y_pred_test]\n",
    "\n",
    "print(miss_class_df.shape, good_class_df.shape)\n",
    "\n",
    "#plot the flips and non flips for each dat\n",
    "fig, ax = plt.subplots(1,2, figsize=(10,4))\n",
    "ax[0].set_title('Well classified data proportion of party flips')\n",
    "ax[1].set_title('Missclassified data proportion of party flips')\n",
    "\n",
    "good_class_df.groupby('party_flip')['party_flip'].count().plot.bar(ax=ax[0])\n",
    "miss_class_df.groupby('party_flip')['party_flip'].count().plot.bar(ax=ax[1])\n",
    "\n",
    "for name, group in (good_class_df.groupby('party_flip')['party_flip']):\n",
    "    ax[0].text(int(name)+.25, group.count() + .25, \\\n",
    "    '{0:.2f}'.format(group.count()/good_class_df.shape[0]*100)+'%', color='blue', fontweight='bold')\n",
    "\n",
    "#for name, group in (miss_class_df.groupby('party_flip')['party_flip']):\n",
    "    ax[1].text(int(name)+.15, group.count() + .25, \\\n",
    "    '{0:.2f}'.format(group.count()/miss_class_df.shape[0]*100)+'%', color='blue', fontweight='bold')\n",
    "  \n",
    "\n"
   ]
  },
  {
   "cell_type": "code",
   "execution_count": 59,
   "metadata": {},
   "outputs": [],
   "source": [
    "#Try KNN\n",
    "k_values =[1,3,5,10,25,100,500]\n",
    "k_score = []\n",
    "k_test_accuracy =[]\n",
    "\n",
    "for i in k_values:\n",
    "    knn_model = KNeighborsClassifier(n_neighbors=i,n_jobs=4)\n",
    "    knn_model.fit(X_train,y_train)\n",
    "    k_score.append(knn_model.score(X_train,y_train))\n",
    "    y_pred_test = knn_model.predict(X_test)\n",
    "    k_test_accuracy.append(accuracy_score(y_test,y_pred_test))"
   ]
  },
  {
   "cell_type": "code",
   "execution_count": 61,
   "metadata": {},
   "outputs": [
    {
     "data": {
      "text/plain": [
       "Text(0, 0.5, 'Test Accuracy')"
      ]
     },
     "execution_count": 61,
     "metadata": {},
     "output_type": "execute_result"
    },
    {
     "data": {
      "image/png": "[encoded data removed]",
      "text/plain": [
       "<Figure size 720x288 with 2 Axes>"
      ]
     },
     "metadata": {
      "needs_background": "light"
     },
     "output_type": "display_data"
    }
   ],
   "source": [
    "fig, ax = plt.subplots(1,2, figsize=(10,4))\n",
    "ax[0].scatter(k_values,k_score)\n",
    "ax[1].scatter(k_values,k_test_accuracy)\n",
    "#ax[0].set_xticklabels(k_values)\n",
    "\n",
    "ax[0].set_title(\"R2score vs. K\")\n",
    "ax[1].set_title(\"Test Accuracy vs. K\")\n",
    "\n",
    "ax[0].set_xlabel(\"K values\")\n",
    "ax[0].set_ylabel(\"r2_score Accuracy\")\n",
    "ax[1].set_xlabel(\"K values\")\n",
    "ax[1].set_ylabel(\"Test Accuracy\")"
   ]
  },
  {
   "cell_type": "code",
   "execution_count": 56,
   "metadata": {},
   "outputs": [
    {
     "name": "stdout",
     "output_type": "stream",
     "text": [
      "1 KNN R2score : 1.0\n",
      "1 knn Test Accuracy:  0.9724409448818898\n"
     ]
    }
   ],
   "source": [
    "print(\"1 KNN R2score :\",k_score[0])\n",
    "print(\"1 knn Test Accuracy: \",k_test_accuracy[0])"
   ]
  },
  {
   "cell_type": "markdown",
   "metadata": {},
   "source": [
    "Try out another model , Random Forest, shows we get same results"
   ]
  },
  {
   "cell_type": "code",
   "execution_count": 63,
   "metadata": {},
   "outputs": [
    {
     "name": "stdout",
     "output_type": "stream",
     "text": [
      "RF Model Score:  1.0\n",
      "RF Accuracy :  1.0\n"
     ]
    },
    {
     "name": "stderr",
     "output_type": "stream",
     "text": [
      "/anaconda3/lib/python3.6/site-packages/sklearn/ensemble/forest.py:248: FutureWarning: The default value of n_estimators will change from 10 in version 0.20 to 100 in 0.22.\n",
      "  \"10 in version 0.20 to 100 in 0.22.\", FutureWarning)\n"
     ]
    }
   ],
   "source": [
    "rf_model = RandomForestClassifier()\n",
    "rf_model.fit(X_train,y_train)\n",
    "print(\"RF Model Score: \",rf_model.score(X_train,y_train))\n",
    "y_pred_test = rf_model.predict(X_test,)\n",
    "print(\"RF Accuracy : \",accuracy_score(y_test,y_pred_test))"
   ]
  },
  {
   "cell_type": "markdown",
   "metadata": {},
   "source": [
    "Next:\n",
    "Concentrate on improving the states that flip to a different party between elections\n",
    "Add the state information as a predictor\n",
    "Increase size of data\n",
    "Potentially take into account redistricting\n",
    "Potentially add demographics data"
   ]
  },
  {
   "cell_type": "markdown",
   "metadata": {},
   "source": [
    "#Try another methods maybe the classification is non-linear\n",
    "#Try lda qda\n",
    "#non-linear boundaries\n",
    "#quadratic terms\n",
    "#knn ?\n"
   ]
  },
  {
   "cell_type": "code",
   "execution_count": 14,
   "metadata": {},
   "outputs": [],
   "source": [
    "#try KNN "
   ]
  }
 ],
 "metadata": {
  "kernelspec": {
   "display_name": "Python 3",
   "language": "python",
   "name": "python3"
  },
  "language_info": {
   "codemirror_mode": {
    "name": "ipython",
    "version": 3
   },
   "file_extension": ".py",
   "mimetype": "text/x-python",
   "name": "python",
   "nbconvert_exporter": "python",
   "pygments_lexer": "ipython3",
   "version": "3.6.6"
  }
 },
 "nbformat": 4,
 "nbformat_minor": 2
}
