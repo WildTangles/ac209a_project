{
 "cells": [
  {
   "cell_type": "code",
   "execution_count": 82,
   "metadata": {
    "scrolled": true
   },
   "outputs": [],
   "source": [
    "import pandas as pd\n",
    "import numpy as np\n",
    "from functions import houseFunctions as hfunc\n",
    "import pickle\n",
    "\n",
    "pd.set_option('display.max_rows', 500)\n",
    "pd.set_option('display.max_columns', 500)\n",
    "pd.set_option('display.width', 1000)"
   ]
  },
  {
   "cell_type": "code",
   "execution_count": 2,
   "metadata": {},
   "outputs": [],
   "source": [
    "houseResFile = \"Datasets/fec/1976-2016-house.csv\""
   ]
  },
  {
   "cell_type": "code",
   "execution_count": 3,
   "metadata": {
    "scrolled": false
   },
   "outputs": [
    {
     "name": "stderr",
     "output_type": "stream",
     "text": [
      "C:\\ProgramData\\Anaconda3\\lib\\site-packages\\pandas\\core\\indexing.py:543: SettingWithCopyWarning: \n",
      "A value is trying to be set on a copy of a slice from a DataFrame.\n",
      "Try using .loc[row_indexer,col_indexer] = value instead\n",
      "\n",
      "See the caveats in the documentation: http://pandas.pydata.org/pandas-docs/stable/indexing.html#indexing-view-versus-copy\n",
      "  self.obj[item] = s\n",
      "C:\\ProgramData\\Anaconda3\\lib\\site-packages\\pandas\\core\\indexing.py:362: SettingWithCopyWarning: \n",
      "A value is trying to be set on a copy of a slice from a DataFrame.\n",
      "Try using .loc[row_indexer,col_indexer] = value instead\n",
      "\n",
      "See the caveats in the documentation: http://pandas.pydata.org/pandas-docs/stable/indexing.html#indexing-view-versus-copy\n",
      "  self.obj[key] = _infer_fill_value(value)\n"
     ]
    }
   ],
   "source": [
    "winners_df, winners2_df  = hfunc.load_data(houseResFile, minYear=2002)\n",
    "winners_df, winners2_df = hfunc.clean_index(winners_df), hfunc.clean_index(winners2_df)\n",
    "data = hfunc.fetch_trimmed_data(winners_df, winners2_df, minYear=2004)"
   ]
  },
  {
   "cell_type": "code",
   "execution_count": 4,
   "metadata": {},
   "outputs": [
    {
     "data": {
      "text/html": [
       "<div>\n",
       "<style scoped>\n",
       "    .dataframe tbody tr th:only-of-type {\n",
       "        vertical-align: middle;\n",
       "    }\n",
       "\n",
       "    .dataframe tbody tr th {\n",
       "        vertical-align: top;\n",
       "    }\n",
       "\n",
       "    .dataframe thead th {\n",
       "        text-align: right;\n",
       "    }\n",
       "</style>\n",
       "<table border=\"1\" class=\"dataframe\">\n",
       "  <thead>\n",
       "    <tr style=\"text-align: right;\">\n",
       "      <th></th>\n",
       "      <th>district</th>\n",
       "      <th>state</th>\n",
       "      <th>year</th>\n",
       "      <th>party</th>\n",
       "      <th>candidatevotes</th>\n",
       "      <th>totalvotes</th>\n",
       "      <th>candidate</th>\n",
       "      <th>national_poll</th>\n",
       "      <th>national_poll_prev</th>\n",
       "      <th>national_poll_delta_subtract</th>\n",
       "      <th>...</th>\n",
       "      <th>dem_win_margin_prev</th>\n",
       "      <th>rep_win_margin_prev</th>\n",
       "      <th>margin_signed_minus_prev</th>\n",
       "      <th>margin_signed_divide_prev</th>\n",
       "      <th>margin_unsigned_minus_prev</th>\n",
       "      <th>margin_unsigned_divide_prev</th>\n",
       "      <th>dem_win_prev</th>\n",
       "      <th>rep_win_prev</th>\n",
       "      <th>dem_win</th>\n",
       "      <th>rep_win</th>\n",
       "    </tr>\n",
       "  </thead>\n",
       "  <tbody>\n",
       "    <tr>\n",
       "      <th>AK_01_2004</th>\n",
       "      <td>1</td>\n",
       "      <td>AK</td>\n",
       "      <td>2004</td>\n",
       "      <td>republican</td>\n",
       "      <td>213216.0</td>\n",
       "      <td>299996.0</td>\n",
       "      <td>Don Young</td>\n",
       "      <td>3.680556</td>\n",
       "      <td>-0.989011</td>\n",
       "      <td>4.669567</td>\n",
       "      <td>...</td>\n",
       "      <td>0.172827</td>\n",
       "      <td>0.745131</td>\n",
       "      <td>-0.572304</td>\n",
       "      <td>0.231942</td>\n",
       "      <td>0.572304</td>\n",
       "      <td>4.311431</td>\n",
       "      <td>0.0</td>\n",
       "      <td>1.0</td>\n",
       "      <td>0.0</td>\n",
       "      <td>1.0</td>\n",
       "    </tr>\n",
       "    <tr>\n",
       "      <th>AL_01_2004</th>\n",
       "      <td>1</td>\n",
       "      <td>AL</td>\n",
       "      <td>2004</td>\n",
       "      <td>republican</td>\n",
       "      <td>161067.0</td>\n",
       "      <td>255164.0</td>\n",
       "      <td>Jo Bonner</td>\n",
       "      <td>3.680556</td>\n",
       "      <td>-0.989011</td>\n",
       "      <td>4.669567</td>\n",
       "      <td>...</td>\n",
       "      <td>0.377795</td>\n",
       "      <td>0.604980</td>\n",
       "      <td>-0.227185</td>\n",
       "      <td>0.624475</td>\n",
       "      <td>0.227185</td>\n",
       "      <td>1.601345</td>\n",
       "      <td>0.0</td>\n",
       "      <td>1.0</td>\n",
       "      <td>0.0</td>\n",
       "      <td>1.0</td>\n",
       "    </tr>\n",
       "    <tr>\n",
       "      <th>AL_02_2004</th>\n",
       "      <td>2</td>\n",
       "      <td>AL</td>\n",
       "      <td>2004</td>\n",
       "      <td>republican</td>\n",
       "      <td>177086.0</td>\n",
       "      <td>247947.0</td>\n",
       "      <td>Terry Everett</td>\n",
       "      <td>3.680556</td>\n",
       "      <td>-0.989011</td>\n",
       "      <td>4.669567</td>\n",
       "      <td>...</td>\n",
       "      <td>0.295241</td>\n",
       "      <td>0.687538</td>\n",
       "      <td>-0.392296</td>\n",
       "      <td>0.429418</td>\n",
       "      <td>0.392296</td>\n",
       "      <td>2.328732</td>\n",
       "      <td>0.0</td>\n",
       "      <td>1.0</td>\n",
       "      <td>0.0</td>\n",
       "      <td>1.0</td>\n",
       "    </tr>\n",
       "    <tr>\n",
       "      <th>AL_03_2004</th>\n",
       "      <td>3</td>\n",
       "      <td>AL</td>\n",
       "      <td>2004</td>\n",
       "      <td>republican</td>\n",
       "      <td>150411.0</td>\n",
       "      <td>245784.0</td>\n",
       "      <td>Mike Rogers</td>\n",
       "      <td>3.680556</td>\n",
       "      <td>-0.989011</td>\n",
       "      <td>4.669567</td>\n",
       "      <td>...</td>\n",
       "      <td>0.482008</td>\n",
       "      <td>0.503076</td>\n",
       "      <td>-0.021068</td>\n",
       "      <td>0.958122</td>\n",
       "      <td>0.021068</td>\n",
       "      <td>1.043709</td>\n",
       "      <td>0.0</td>\n",
       "      <td>1.0</td>\n",
       "      <td>0.0</td>\n",
       "      <td>1.0</td>\n",
       "    </tr>\n",
       "    <tr>\n",
       "      <th>AL_04_2004</th>\n",
       "      <td>4</td>\n",
       "      <td>AL</td>\n",
       "      <td>2004</td>\n",
       "      <td>republican</td>\n",
       "      <td>191110.0</td>\n",
       "      <td>255724.0</td>\n",
       "      <td>Robert B. Aderholt</td>\n",
       "      <td>3.680556</td>\n",
       "      <td>-0.989011</td>\n",
       "      <td>4.669567</td>\n",
       "      <td>...</td>\n",
       "      <td>0.129472</td>\n",
       "      <td>0.867189</td>\n",
       "      <td>-0.737717</td>\n",
       "      <td>0.149300</td>\n",
       "      <td>0.737717</td>\n",
       "      <td>6.697910</td>\n",
       "      <td>0.0</td>\n",
       "      <td>1.0</td>\n",
       "      <td>0.0</td>\n",
       "      <td>1.0</td>\n",
       "    </tr>\n",
       "  </tbody>\n",
       "</table>\n",
       "<p>5 rows × 22 columns</p>\n",
       "</div>"
      ],
      "text/plain": [
       "            district state  year       party  candidatevotes  totalvotes  \\\n",
       "AK_01_2004         1    AK  2004  republican        213216.0    299996.0   \n",
       "AL_01_2004         1    AL  2004  republican        161067.0    255164.0   \n",
       "AL_02_2004         2    AL  2004  republican        177086.0    247947.0   \n",
       "AL_03_2004         3    AL  2004  republican        150411.0    245784.0   \n",
       "AL_04_2004         4    AL  2004  republican        191110.0    255724.0   \n",
       "\n",
       "                     candidate  national_poll  national_poll_prev  \\\n",
       "AK_01_2004           Don Young       3.680556           -0.989011   \n",
       "AL_01_2004           Jo Bonner       3.680556           -0.989011   \n",
       "AL_02_2004       Terry Everett       3.680556           -0.989011   \n",
       "AL_03_2004         Mike Rogers       3.680556           -0.989011   \n",
       "AL_04_2004  Robert B. Aderholt       3.680556           -0.989011   \n",
       "\n",
       "            national_poll_delta_subtract   ...     dem_win_margin_prev  \\\n",
       "AK_01_2004                      4.669567   ...                0.172827   \n",
       "AL_01_2004                      4.669567   ...                0.377795   \n",
       "AL_02_2004                      4.669567   ...                0.295241   \n",
       "AL_03_2004                      4.669567   ...                0.482008   \n",
       "AL_04_2004                      4.669567   ...                0.129472   \n",
       "\n",
       "           rep_win_margin_prev  margin_signed_minus_prev  \\\n",
       "AK_01_2004            0.745131                 -0.572304   \n",
       "AL_01_2004            0.604980                 -0.227185   \n",
       "AL_02_2004            0.687538                 -0.392296   \n",
       "AL_03_2004            0.503076                 -0.021068   \n",
       "AL_04_2004            0.867189                 -0.737717   \n",
       "\n",
       "            margin_signed_divide_prev  margin_unsigned_minus_prev  \\\n",
       "AK_01_2004                   0.231942                    0.572304   \n",
       "AL_01_2004                   0.624475                    0.227185   \n",
       "AL_02_2004                   0.429418                    0.392296   \n",
       "AL_03_2004                   0.958122                    0.021068   \n",
       "AL_04_2004                   0.149300                    0.737717   \n",
       "\n",
       "            margin_unsigned_divide_prev  dem_win_prev  rep_win_prev  dem_win  \\\n",
       "AK_01_2004                     4.311431           0.0           1.0      0.0   \n",
       "AL_01_2004                     1.601345           0.0           1.0      0.0   \n",
       "AL_02_2004                     2.328732           0.0           1.0      0.0   \n",
       "AL_03_2004                     1.043709           0.0           1.0      0.0   \n",
       "AL_04_2004                     6.697910           0.0           1.0      0.0   \n",
       "\n",
       "            rep_win  \n",
       "AK_01_2004      1.0  \n",
       "AL_01_2004      1.0  \n",
       "AL_02_2004      1.0  \n",
       "AL_03_2004      1.0  \n",
       "AL_04_2004      1.0  \n",
       "\n",
       "[5 rows x 22 columns]"
      ]
     },
     "execution_count": 4,
     "metadata": {},
     "output_type": "execute_result"
    }
   ],
   "source": [
    "data.head()"
   ]
  },
  {
   "cell_type": "code",
   "execution_count": 10,
   "metadata": {},
   "outputs": [
    {
     "data": {
      "text/plain": [
       "{2004, 2006, 2008, 2010, 2012, 2014, 2016}"
      ]
     },
     "execution_count": 10,
     "metadata": {},
     "output_type": "execute_result"
    }
   ],
   "source": [
    "set(data['year'].values)"
   ]
  },
  {
   "cell_type": "code",
   "execution_count": 5,
   "metadata": {},
   "outputs": [],
   "source": [
    "# #hfunc.fetch_index(winners_df, save=True, load=False)"
   ]
  },
  {
   "cell_type": "code",
   "execution_count": 69,
   "metadata": {},
   "outputs": [
    {
     "data": {
      "text/html": [
       "<div>\n",
       "<style scoped>\n",
       "    .dataframe tbody tr th:only-of-type {\n",
       "        vertical-align: middle;\n",
       "    }\n",
       "\n",
       "    .dataframe tbody tr th {\n",
       "        vertical-align: top;\n",
       "    }\n",
       "\n",
       "    .dataframe thead th {\n",
       "        text-align: right;\n",
       "    }\n",
       "</style>\n",
       "<table border=\"1\" class=\"dataframe\">\n",
       "  <thead>\n",
       "    <tr style=\"text-align: right;\">\n",
       "      <th></th>\n",
       "      <th>location</th>\n",
       "      <th>representative</th>\n",
       "      <th>party</th>\n",
       "      <th>results</th>\n",
       "      <th>candidates</th>\n",
       "    </tr>\n",
       "  </thead>\n",
       "  <tbody>\n",
       "    <tr>\n",
       "      <th>0</th>\n",
       "      <td>Alabama 1</td>\n",
       "      <td>Bradley Byrne</td>\n",
       "      <td>Republican</td>\n",
       "      <td>Incumbent re-elected.</td>\n",
       "      <td>√ Bradley Byrne (Republican) 63.3%[64]</td>\n",
       "    </tr>\n",
       "    <tr>\n",
       "      <th>2</th>\n",
       "      <td>Alabama 2</td>\n",
       "      <td>Martha Roby</td>\n",
       "      <td>Republican</td>\n",
       "      <td>Incumbent re-elected.</td>\n",
       "      <td>√ Martha Roby (Republican) 61.5%[64]</td>\n",
       "    </tr>\n",
       "    <tr>\n",
       "      <th>4</th>\n",
       "      <td>Alabama 3</td>\n",
       "      <td>Mike Rogers</td>\n",
       "      <td>Republican</td>\n",
       "      <td>Incumbent re-elected.</td>\n",
       "      <td>√ Mike Rogers (Republican) 63.8%[64]</td>\n",
       "    </tr>\n",
       "    <tr>\n",
       "      <th>6</th>\n",
       "      <td>Alabama 4</td>\n",
       "      <td>Robert Aderholt</td>\n",
       "      <td>Republican</td>\n",
       "      <td>Incumbent re-elected.</td>\n",
       "      <td>√ Robert Aderholt (Republican) 79.9%[64]</td>\n",
       "    </tr>\n",
       "    <tr>\n",
       "      <th>8</th>\n",
       "      <td>Alabama 5</td>\n",
       "      <td>Mo Brooks</td>\n",
       "      <td>Republican</td>\n",
       "      <td>Incumbent re-elected.</td>\n",
       "      <td>√ Mo Brooks (Republican) 61.1%[64]</td>\n",
       "    </tr>\n",
       "  </tbody>\n",
       "</table>\n",
       "</div>"
      ],
      "text/plain": [
       "    location   representative       party                results  \\\n",
       "0  Alabama 1    Bradley Byrne  Republican  Incumbent re-elected.   \n",
       "2  Alabama 2      Martha Roby  Republican  Incumbent re-elected.   \n",
       "4  Alabama 3      Mike Rogers  Republican  Incumbent re-elected.   \n",
       "6  Alabama 4  Robert Aderholt  Republican  Incumbent re-elected.   \n",
       "8  Alabama 5        Mo Brooks  Republican  Incumbent re-elected.   \n",
       "\n",
       "                                 candidates  \n",
       "0    √ Bradley Byrne (Republican) 63.3%[64]  \n",
       "2      √ Martha Roby (Republican) 61.5%[64]  \n",
       "4      √ Mike Rogers (Republican) 63.8%[64]  \n",
       "6  √ Robert Aderholt (Republican) 79.9%[64]  \n",
       "8        √ Mo Brooks (Republican) 61.1%[64]  "
      ]
     },
     "execution_count": 69,
     "metadata": {},
     "output_type": "execute_result"
    }
   ],
   "source": [
    "houseResFile = \"Datasets/fec/2018wiki-12072018.csv\"\n",
    "wiki2018 = pd.read_csv(houseResFile, header=None)\n",
    "wiki2018.columns = ['location', 'PVI', 'representative', 'party', 'first_elected', 'results', 'candidates']\n",
    "wiki2018 = wiki2018[['location', 'representative', 'party', 'results', 'candidates']]\n",
    "wiki2018 = wiki2018[~(pd.isnull(wiki2018['location']))]\n",
    "wiki2018.head()"
   ]
  },
  {
   "cell_type": "code",
   "execution_count": 70,
   "metadata": {},
   "outputs": [],
   "source": [
    "state_names = np.array(['ALABAMA', 'ALASKA', 'ARIZONA', 'ARKANSAS',\n",
    "'CALIFORNIA',\n",
    "               'COLORADO', 'CONNECTICUT', 'DELAWARE', 'FLORIDA', 'GEORGIA',\n",
    "               'HAWAII', 'IDAHO', 'ILLINOIS', 'INDIANA', 'IOWA', 'KANSAS',\n",
    "               'KENTUCKY', 'LOUISIANA', 'MAINE', 'MARYLAND', 'MASSACHUSETTS',\n",
    "               'MICHIGAN', 'MINNESOTA', 'MISSISSIPPI', 'MISSOURI', 'MONTANA',\n",
    "               'NEBRASKA', 'NEVADA', 'NEW HAMPSHIRE', 'NEW JERSEY',\n",
    "'NEW MEXICO',\n",
    "               'NEW YORK', 'NORTH CAROLINA', 'NORTH DAKOTA', 'OHIO',\n",
    "'OKLAHOMA',\n",
    "               'OREGON', 'PENNSYLVANIA', 'RHODE ISLAND', 'SOUTH CAROLINA',\n",
    "               'SOUTH DAKOTA', 'TENNESSEE', 'TEXAS', 'UTAH', 'VERMONT',\n",
    "               'VIRGINIA', 'WASHINGTON', 'WEST VIRGINIA', 'WISCONSIN',\n",
    "'WYOMING'])\n",
    "\n",
    "state_abbrs = np.array(['AL','AK','AZ','AR','CA','CO','CT','DE','FL','GA','HI','ID','IL',\n",
    "              'IN','IA','KS','KY','LA','ME','MD','MA','MI','MN','MS','MO','MT',\n",
    "              'NE','NV','NH','NJ','NM','NY','NC','ND','OH','OK','OR','PA','RI',\n",
    "              'SC','SD','TN','TX','UT','VT','VA','WA','WV','WI','WY'])"
   ]
  },
  {
   "cell_type": "code",
   "execution_count": 78,
   "metadata": {},
   "outputs": [
    {
     "data": {
      "text/plain": [
       "{'Democratic', 'Republican', nan}"
      ]
     },
     "execution_count": 78,
     "metadata": {},
     "output_type": "execute_result"
    }
   ],
   "source": [
    "def clean_location(row):\n",
    "    index_0_string = 'at-large'\n",
    "    if row['location'][-len(index_0_string):] == index_0_string:\n",
    "        row['district'] = 1\n",
    "        row['state_po'] = row['location'][:-len(index_0_string)].strip()\n",
    "    else:\n",
    "        index = None\n",
    "        for cursor, char in enumerate(row['location'][::-1]):\n",
    "            if not char.isnumeric():\n",
    "                index = cursor\n",
    "        row['district'] = row['location'][index-1:].strip()\n",
    "        row['state_po'] = row['location'][:index-1].strip()\n",
    "\n",
    "    row['state_po'] = state_abbrs[np.where(state_names == row['state_po'].upper())][0]\n",
    "    row['year'] = 2018\n",
    "    \n",
    "    return row\n",
    "set(wiki2018.apply(clean_location, axis=1).drop('location', axis=1)['party'].values)"
   ]
  },
  {
   "cell_type": "code",
   "execution_count": 84,
   "metadata": {},
   "outputs": [
    {
     "data": {
      "text/html": [
       "<div>\n",
       "<style scoped>\n",
       "    .dataframe tbody tr th:only-of-type {\n",
       "        vertical-align: middle;\n",
       "    }\n",
       "\n",
       "    .dataframe tbody tr th {\n",
       "        vertical-align: top;\n",
       "    }\n",
       "\n",
       "    .dataframe thead th {\n",
       "        text-align: right;\n",
       "    }\n",
       "</style>\n",
       "<table border=\"1\" class=\"dataframe\">\n",
       "  <thead>\n",
       "    <tr style=\"text-align: right;\">\n",
       "      <th></th>\n",
       "      <th>location</th>\n",
       "      <th>party</th>\n",
       "      <th>results</th>\n",
       "    </tr>\n",
       "  </thead>\n",
       "  <tbody>\n",
       "    <tr>\n",
       "      <th>209</th>\n",
       "      <td>Florida 6</td>\n",
       "      <td>NaN</td>\n",
       "      <td>Rep. Ron DeSantis (R) resigned after the filin...</td>\n",
       "    </tr>\n",
       "    <tr>\n",
       "      <th>527</th>\n",
       "      <td>Michigan 13</td>\n",
       "      <td>NaN</td>\n",
       "      <td>Predecessor, John Conyers (D) resigned Decembe...</td>\n",
       "    </tr>\n",
       "    <tr>\n",
       "      <th>824</th>\n",
       "      <td>Oklahoma 1</td>\n",
       "      <td>NaN</td>\n",
       "      <td>Rep. Jim Bridenstine (R) resigned after the fi...</td>\n",
       "    </tr>\n",
       "    <tr>\n",
       "      <th>866</th>\n",
       "      <td>Pennsylvania 4</td>\n",
       "      <td>NaN</td>\n",
       "      <td>Incumbent ran in the 10th district.</td>\n",
       "    </tr>\n",
       "    <tr>\n",
       "      <th>869</th>\n",
       "      <td>Pennsylvania 5</td>\n",
       "      <td>NaN</td>\n",
       "      <td>Rep. Pat Meehan (R) resigned April 27, 2018 af...</td>\n",
       "    </tr>\n",
       "    <tr>\n",
       "      <th>875</th>\n",
       "      <td>Pennsylvania 7</td>\n",
       "      <td>NaN</td>\n",
       "      <td>Rep. Charlie Dent (R) resigned May 12, 2018 af...</td>\n",
       "    </tr>\n",
       "    <tr>\n",
       "      <th>894</th>\n",
       "      <td>Pennsylvania 14</td>\n",
       "      <td>NaN</td>\n",
       "      <td>Incumbent ran in the 17th district.</td>\n",
       "    </tr>\n",
       "    <tr>\n",
       "      <th>1149</th>\n",
       "      <td>West Virginia 3</td>\n",
       "      <td>NaN</td>\n",
       "      <td>Rep. Evan Jenkins (R) resigned after the filin...</td>\n",
       "    </tr>\n",
       "  </tbody>\n",
       "</table>\n",
       "</div>"
      ],
      "text/plain": [
       "             location party                                            results\n",
       "209         Florida 6   NaN  Rep. Ron DeSantis (R) resigned after the filin...\n",
       "527       Michigan 13   NaN  Predecessor, John Conyers (D) resigned Decembe...\n",
       "824        Oklahoma 1   NaN  Rep. Jim Bridenstine (R) resigned after the fi...\n",
       "866    Pennsylvania 4   NaN                Incumbent ran in the 10th district.\n",
       "869    Pennsylvania 5   NaN  Rep. Pat Meehan (R) resigned April 27, 2018 af...\n",
       "875    Pennsylvania 7   NaN  Rep. Charlie Dent (R) resigned May 12, 2018 af...\n",
       "894   Pennsylvania 14   NaN                Incumbent ran in the 17th district.\n",
       "1149  West Virginia 3   NaN  Rep. Evan Jenkins (R) resigned after the filin..."
      ]
     },
     "execution_count": 84,
     "metadata": {},
     "output_type": "execute_result"
    }
   ],
   "source": [
    "wiki2018[pd.isnull(wiki2018.apply(clean_location, axis=1).drop('location', axis=1)['party'])][['location','party','results']]"
   ]
  },
  {
   "cell_type": "code",
   "execution_count": 31,
   "metadata": {},
   "outputs": [
    {
     "name": "stdout",
     "output_type": "stream",
     "text": [
      "(0, location                                       Alabama 1\n",
      "representative                             Bradley Byrne\n",
      "party                                         Republican\n",
      "results                            Incumbent re-elected.\n",
      "candidates        √ Bradley Byrne (Republican) 63.3%[64]\n",
      "Name: 0, dtype: object)\n",
      "<class 'tuple'>\n",
      "2\n"
     ]
    },
    {
     "ename": "AttributeError",
     "evalue": "'tuple' object has no attribute 'shape'",
     "output_type": "error",
     "traceback": [
      "\u001b[1;31m---------------------------------------------------------------------------\u001b[0m",
      "\u001b[1;31mAttributeError\u001b[0m                            Traceback (most recent call last)",
      "\u001b[1;32m<ipython-input-31-620da2e057a1>\u001b[0m in \u001b[0;36m<module>\u001b[1;34m()\u001b[0m\n\u001b[0;32m      3\u001b[0m     \u001b[0mprint\u001b[0m\u001b[1;33m(\u001b[0m\u001b[0mtype\u001b[0m\u001b[1;33m(\u001b[0m\u001b[0mrow\u001b[0m\u001b[1;33m)\u001b[0m\u001b[1;33m)\u001b[0m\u001b[1;33m\u001b[0m\u001b[0m\n\u001b[0;32m      4\u001b[0m     \u001b[0mprint\u001b[0m\u001b[1;33m(\u001b[0m\u001b[0mlen\u001b[0m\u001b[1;33m(\u001b[0m\u001b[0mrow\u001b[0m\u001b[1;33m)\u001b[0m\u001b[1;33m)\u001b[0m\u001b[1;33m\u001b[0m\u001b[0m\n\u001b[1;32m----> 5\u001b[1;33m     \u001b[0mprint\u001b[0m\u001b[1;33m(\u001b[0m\u001b[0mrow\u001b[0m\u001b[1;33m.\u001b[0m\u001b[0mshape\u001b[0m\u001b[1;33m)\u001b[0m\u001b[1;33m\u001b[0m\u001b[0m\n\u001b[0m\u001b[0;32m      6\u001b[0m     \u001b[1;32mraise\u001b[0m \u001b[0mValueError\u001b[0m\u001b[1;33m\u001b[0m\u001b[0m\n",
      "\u001b[1;31mAttributeError\u001b[0m: 'tuple' object has no attribute 'shape'"
     ]
    }
   ],
   "source": [
    "for index, row in wiki2018.iterrows():\n",
    "    wiki2018"
   ]
  },
  {
   "cell_type": "code",
   "execution_count": 6,
   "metadata": {},
   "outputs": [],
   "source": [
    "pickle.dump(data, open('Datasets/data.p', 'wb'))"
   ]
  },
  {
   "cell_type": "code",
   "execution_count": 7,
   "metadata": {},
   "outputs": [],
   "source": [
    "import pandas as pd\n",
    "import numpy as np\n",
    "from functions import houseFunctions as hfunc\n",
    "import pickle\n",
    "dataset = pickle.load(open('Datasets/data.p', 'rb'))"
   ]
  },
  {
   "cell_type": "code",
   "execution_count": 8,
   "metadata": {},
   "outputs": [
    {
     "data": {
      "text/plain": [
       "Index(['dem_win', 'dem_win_prev', 'margin_signed_minus_prev', 'national_poll'], dtype='object')"
      ]
     },
     "execution_count": 8,
     "metadata": {},
     "output_type": "execute_result"
    }
   ],
   "source": [
    "dataset = dataset.loc[:,['dem_win', 'dem_win_prev', 'margin_signed_minus_prev', 'national_poll']]\n",
    "dataset.columns"
   ]
  },
  {
   "cell_type": "code",
   "execution_count": 9,
   "metadata": {},
   "outputs": [
    {
     "name": "stdout",
     "output_type": "stream",
     "text": [
      "Once deleted, variables cannot be recovered. Proceed (y/[n])? n\n",
      "Nothing done.\n"
     ]
    }
   ],
   "source": [
    "%reset"
   ]
  },
  {
   "cell_type": "code",
   "execution_count": null,
   "metadata": {},
   "outputs": [],
   "source": []
  },
  {
   "cell_type": "code",
   "execution_count": null,
   "metadata": {},
   "outputs": [],
   "source": []
  }
 ],
 "metadata": {
  "kernelspec": {
   "display_name": "Python 3",
   "language": "python",
   "name": "python3"
  },
  "language_info": {
   "codemirror_mode": {
    "name": "ipython",
    "version": 3
   },
   "file_extension": ".py",
   "mimetype": "text/x-python",
   "name": "python",
   "nbconvert_exporter": "python",
   "pygments_lexer": "ipython3",
   "version": "3.7.0"
  }
 },
 "nbformat": 4,
 "nbformat_minor": 2
}
